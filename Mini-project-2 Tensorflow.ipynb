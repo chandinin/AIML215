{
 "cells": [
  {
   "cell_type": "code",
   "execution_count": 1,
   "metadata": {},
   "outputs": [
    {
     "name": "stderr",
     "output_type": "stream",
     "text": [
      "/anaconda3/lib/python3.6/site-packages/h5py/__init__.py:36: FutureWarning: Conversion of the second argument of issubdtype from `float` to `np.floating` is deprecated. In future, it will be treated as `np.float64 == np.dtype(float).type`.\n",
      "  from ._conv import register_converters as _register_converters\n",
      "Using TensorFlow backend.\n",
      "/anaconda3/lib/python3.6/importlib/_bootstrap.py:219: RuntimeWarning: compiletime version 3.5 of module 'tensorflow.python.framework.fast_tensor_util' does not match runtime version 3.6\n",
      "  return f(*args, **kwds)\n"
     ]
    }
   ],
   "source": [
    "# import all libraries\n",
    "\n",
    "import json\n",
    "import csv\n",
    "import pandas as pd\n",
    "import numpy as np\n",
    "import scipy as sci\n",
    "from keras.models import Sequential\n",
    "from keras.layers.core import Dense, Activation\n",
    "from keras.callbacks import EarlyStopping\n",
    "import io\n",
    "import requests\n",
    "import tensorflow as tf\n",
    "from scipy import sparse\n",
    "from sklearn.model_selection import train_test_split\n",
    "import sklearn.feature_extraction.text as sk_text\n",
    "from sklearn.linear_model import LinearRegression\n",
    "from sklearn.linear_model import LogisticRegression\n",
    "from sklearn.naive_bayes import MultinomialNB\n",
    "from sklearn.svm import SVC\n",
    "from sklearn.neighbors import KNeighborsClassifier\n",
    "from sklearn import preprocessing\n",
    "from sklearn.metrics import mean_squared_error, r2_score\n",
    "from sklearn.metrics import accuracy_score\n",
    "import collections\n",
    "from sklearn import preprocessing\n",
    "import matplotlib.pyplot as plt\n",
    "import shutil\n",
    "import os"
   ]
  },
  {
   "cell_type": "code",
   "execution_count": 2,
   "metadata": {},
   "outputs": [],
   "source": [
    "# functions given in the lab\n",
    "\n",
    "# Encode text values to dummy variables(i.e. [1,0,0],[0,1,0],[0,0,1] for red,green,blue)\n",
    "def encode_text_dummy(df, name):\n",
    "    dummies = pd.get_dummies(df[name])\n",
    "    for x in dummies.columns:\n",
    "        dummy_name = \"{}-{}\".format(name, x)\n",
    "        df[dummy_name] = dummies[x]\n",
    "    df.drop(name, axis=1, inplace=True)\n",
    "\n",
    "\n",
    "\n",
    "# Encode text values to indexes(i.e. [1],[2],[3] for red,green,blue).\n",
    "def encode_text_index(df, name):\n",
    "    le = preprocessing.LabelEncoder()\n",
    "    df[name] = le.fit_transform(df[name])\n",
    "    return le.classes_\n",
    "\n",
    "\n",
    "# Encode a numeric column as zscores\n",
    "def encode_numeric_zscore(df, name, mean=None, sd=None):\n",
    "    if mean is None:\n",
    "        mean = df[name].mean()\n",
    "\n",
    "    if sd is None:\n",
    "        sd = df[name].std()\n",
    "\n",
    "    df[name] = (df[name] - mean) / sd\n",
    "\n",
    "\n",
    "# Convert all missing values in the specified column to the median\n",
    "def missing_median(df, name):\n",
    "    med = df[name].median()\n",
    "    df[name] = df[name].fillna(med)\n",
    "\n",
    "\n",
    "# Convert all missing values in the specified column to the default\n",
    "def missing_default(df, name, default_value):\n",
    "    df[name] = df[name].fillna(default_value)\n",
    "\n",
    "\n",
    "# Convert a Pandas dataframe to the x,y inputs that TensorFlow needs\n",
    "def to_xy(df, target):\n",
    "    result = []\n",
    "    for x in df.columns:\n",
    "        if x != target:\n",
    "            result.append(x)\n",
    "    # find out the type of the target column. \n",
    "    target_type = df[target].dtypes\n",
    "    target_type = target_type[0] if isinstance(target_type, collections.Sequence) else target_type\n",
    "    # Encode to int for classification, float otherwise. TensorFlow likes 32 bits.\n",
    "    if target_type in (np.int64, np.int32):\n",
    "        # Classification\n",
    "        dummies = pd.get_dummies(df[target])\n",
    "        return df[result].values.astype(np.float32), dummies.values.astype(np.float32)\n",
    "    else:\n",
    "        # Regression\n",
    "        return df[result].values.astype(np.float32), df[target].values.astype(np.float32)\n",
    "\n",
    "# Nicely formatted time string\n",
    "def hms_string(sec_elapsed):\n",
    "    h = int(sec_elapsed / (60 * 60))\n",
    "    m = int((sec_elapsed % (60 * 60)) / 60)\n",
    "    s = sec_elapsed % 60\n",
    "    return \"{}:{:>02}:{:>05.2f}\".format(h, m, s)\n",
    "\n",
    "\n",
    "# Regression chart.\n",
    "def chart_regression(pred,y,sort=True):\n",
    "    t = pd.DataFrame({'pred' : pred, 'y' : y.flatten()})\n",
    "    if sort:\n",
    "        t.sort_values(by=['y'],inplace=True)\n",
    "    a = plt.plot(t['y'].tolist(),label='expected')\n",
    "    b = plt.plot(t['pred'].tolist(),label='prediction')\n",
    "    plt.ylabel('output')\n",
    "    plt.legend()\n",
    "    plt.show()\n",
    "\n",
    "# Remove all rows where the specified column is +/- sd standard deviations\n",
    "def remove_outliers(df, name, sd):\n",
    "    drop_rows = df.index[(np.abs(df[name] - df[name].mean()) >= (sd * df[name].std()))]\n",
    "    df.drop(drop_rows, axis=0, inplace=True)\n",
    "\n",
    "\n",
    "# Encode a column to a range between normalized_low and normalized_high.\n",
    "def encode_numeric_range(df, name, normalized_low=-1, normalized_high=1,\n",
    "                         data_low=None, data_high=None):\n",
    "    if data_low is None:\n",
    "        data_low = min(df[name])\n",
    "        data_high = max(df[name])\n",
    "\n",
    "    df[name] = ((df[name] - data_low) / (data_high - data_low)) \\\n",
    "               * (normalized_high - normalized_low) + normalized_low"
   ]
  },
  {
   "cell_type": "code",
   "execution_count": 3,
   "metadata": {},
   "outputs": [
    {
     "name": "stdout",
     "output_type": "stream",
     "text": [
      "business_id      object\n",
      "categories       object\n",
      "stars           float64\n",
      "review_count      int64\n",
      "postal code      object\n",
      "all_reviews      object\n",
      "dtype: object\n",
      "(188593, 6)\n",
      "business_id      object\n",
      "categories       object\n",
      "stars           float64\n",
      "review_count      int64\n",
      "postal code      object\n",
      "all_reviews      object\n",
      "dtype: object\n",
      "(10000, 6)\n"
     ]
    }
   ],
   "source": [
    "# Create dataframes and creating merge_df file\n",
    "\n",
    "business_df= pd.read_csv('business_postal.tsv', delimiter =\"\\t\")\n",
    "review_df= pd.read_csv('review_stars.tsv', delimiter =\"\\t\")\n",
    "review_agg_df = review_df.groupby('business_id')['text'].sum()\n",
    "df_ready_for_sklearn = pd.DataFrame({'business_id': review_agg_df.index, 'all_reviews': review_agg_df.values})\n",
    "merge_df = pd.merge(business_df, df_ready_for_sklearn, on='business_id')\n",
    "print(merge_df.dtypes)\n",
    "print(merge_df.shape)\n",
    "merge_df = merge_df[0:10000]\n",
    "print(merge_df.dtypes)\n",
    "print(merge_df.shape)"
   ]
  },
  {
   "cell_type": "code",
   "execution_count": 4,
   "metadata": {},
   "outputs": [],
   "source": [
    "merge_df.to_csv('merge_df.tsv', sep='\\t', encoding='utf-8')"
   ]
  },
  {
   "cell_type": "code",
   "execution_count": 5,
   "metadata": {},
   "outputs": [
    {
     "data": {
      "text/html": [
       "<div>\n",
       "<style scoped>\n",
       "    .dataframe tbody tr th:only-of-type {\n",
       "        vertical-align: middle;\n",
       "    }\n",
       "\n",
       "    .dataframe tbody tr th {\n",
       "        vertical-align: top;\n",
       "    }\n",
       "\n",
       "    .dataframe thead th {\n",
       "        text-align: right;\n",
       "    }\n",
       "</style>\n",
       "<table border=\"1\" class=\"dataframe\">\n",
       "  <thead>\n",
       "    <tr style=\"text-align: right;\">\n",
       "      <th></th>\n",
       "      <th>business_id</th>\n",
       "      <th>categories</th>\n",
       "      <th>stars</th>\n",
       "      <th>review_count</th>\n",
       "      <th>postal code</th>\n",
       "      <th>all_reviews</th>\n",
       "    </tr>\n",
       "  </thead>\n",
       "  <tbody>\n",
       "    <tr>\n",
       "      <th>0</th>\n",
       "      <td>Apn5Q_b6Nz61Tq4XzPdf9A</td>\n",
       "      <td>Tours, Breweries, Pizza, Restaurants, Food, Ho...</td>\n",
       "      <td>4.0</td>\n",
       "      <td>24</td>\n",
       "      <td>T2E 6L6</td>\n",
       "      <td>b'Great place. Major flaw is how early it clos...</td>\n",
       "    </tr>\n",
       "    <tr>\n",
       "      <th>1</th>\n",
       "      <td>AjEbIBw6ZFfln7ePHha9PA</td>\n",
       "      <td>Chicken Wings, Burgers, Caterers, Street Vendo...</td>\n",
       "      <td>4.5</td>\n",
       "      <td>3</td>\n",
       "      <td>89002</td>\n",
       "      <td>b\"CK's BBQ is off the charts best BBQ I have E...</td>\n",
       "    </tr>\n",
       "    <tr>\n",
       "      <th>2</th>\n",
       "      <td>O8S5hYJ1SMc8fA4QBtVujA</td>\n",
       "      <td>Breakfast &amp; Brunch, Restaurants, French, Sandw...</td>\n",
       "      <td>4.0</td>\n",
       "      <td>5</td>\n",
       "      <td>H2G 1K7</td>\n",
       "      <td>b\"La nourriture est excellente, le service Imp...</td>\n",
       "    </tr>\n",
       "    <tr>\n",
       "      <th>3</th>\n",
       "      <td>bFzdJJ3wp3PZssNEsyU23g</td>\n",
       "      <td>Insurance, Financial Services</td>\n",
       "      <td>1.5</td>\n",
       "      <td>8</td>\n",
       "      <td>85003</td>\n",
       "      <td>b'GEICO for auto is great! But they are really...</td>\n",
       "    </tr>\n",
       "    <tr>\n",
       "      <th>4</th>\n",
       "      <td>8USyCYqpScwiNEb58Bt6CA</td>\n",
       "      <td>Home &amp; Garden, Nurseries &amp; Gardening, Shopping...</td>\n",
       "      <td>2.0</td>\n",
       "      <td>4</td>\n",
       "      <td>T2H 0N5</td>\n",
       "      <td>b\"This listing was originally under gardening ...</td>\n",
       "    </tr>\n",
       "  </tbody>\n",
       "</table>\n",
       "</div>"
      ],
      "text/plain": [
       "              business_id                                         categories  \\\n",
       "0  Apn5Q_b6Nz61Tq4XzPdf9A  Tours, Breweries, Pizza, Restaurants, Food, Ho...   \n",
       "1  AjEbIBw6ZFfln7ePHha9PA  Chicken Wings, Burgers, Caterers, Street Vendo...   \n",
       "2  O8S5hYJ1SMc8fA4QBtVujA  Breakfast & Brunch, Restaurants, French, Sandw...   \n",
       "3  bFzdJJ3wp3PZssNEsyU23g                      Insurance, Financial Services   \n",
       "4  8USyCYqpScwiNEb58Bt6CA  Home & Garden, Nurseries & Gardening, Shopping...   \n",
       "\n",
       "   stars  review_count postal code  \\\n",
       "0    4.0            24     T2E 6L6   \n",
       "1    4.5             3       89002   \n",
       "2    4.0             5     H2G 1K7   \n",
       "3    1.5             8       85003   \n",
       "4    2.0             4     T2H 0N5   \n",
       "\n",
       "                                         all_reviews  \n",
       "0  b'Great place. Major flaw is how early it clos...  \n",
       "1  b\"CK's BBQ is off the charts best BBQ I have E...  \n",
       "2  b\"La nourriture est excellente, le service Imp...  \n",
       "3  b'GEICO for auto is great! But they are really...  \n",
       "4  b\"This listing was originally under gardening ...  "
      ]
     },
     "execution_count": 5,
     "metadata": {},
     "output_type": "execute_result"
    }
   ],
   "source": [
    "merge_df.head()"
   ]
  },
  {
   "cell_type": "code",
   "execution_count": 6,
   "metadata": {},
   "outputs": [],
   "source": [
    "#Normalization of review count field so it becomes comparable and remove bias\n",
    "merge_df.insert(3,'normalized_count',((merge_df['review_count'] - merge_df['review_count'].min()) / (merge_df['review_count'].max() - merge_df['review_count'].min())).astype(float))\n",
    "merge_df.drop('review_count', axis=1, inplace=True)"
   ]
  },
  {
   "cell_type": "code",
   "execution_count": 7,
   "metadata": {},
   "outputs": [
    {
     "data": {
      "text/html": [
       "<div>\n",
       "<style scoped>\n",
       "    .dataframe tbody tr th:only-of-type {\n",
       "        vertical-align: middle;\n",
       "    }\n",
       "\n",
       "    .dataframe tbody tr th {\n",
       "        vertical-align: top;\n",
       "    }\n",
       "\n",
       "    .dataframe thead th {\n",
       "        text-align: right;\n",
       "    }\n",
       "</style>\n",
       "<table border=\"1\" class=\"dataframe\">\n",
       "  <thead>\n",
       "    <tr style=\"text-align: right;\">\n",
       "      <th></th>\n",
       "      <th>business_id</th>\n",
       "      <th>categories</th>\n",
       "      <th>stars</th>\n",
       "      <th>normalized_count</th>\n",
       "      <th>postal code</th>\n",
       "      <th>all_reviews</th>\n",
       "    </tr>\n",
       "  </thead>\n",
       "  <tbody>\n",
       "    <tr>\n",
       "      <th>0</th>\n",
       "      <td>Apn5Q_b6Nz61Tq4XzPdf9A</td>\n",
       "      <td>Tours, Breweries, Pizza, Restaurants, Food, Ho...</td>\n",
       "      <td>4.0</td>\n",
       "      <td>0.007460</td>\n",
       "      <td>T2E 6L6</td>\n",
       "      <td>b'Great place. Major flaw is how early it clos...</td>\n",
       "    </tr>\n",
       "    <tr>\n",
       "      <th>1</th>\n",
       "      <td>AjEbIBw6ZFfln7ePHha9PA</td>\n",
       "      <td>Chicken Wings, Burgers, Caterers, Street Vendo...</td>\n",
       "      <td>4.5</td>\n",
       "      <td>0.000000</td>\n",
       "      <td>89002</td>\n",
       "      <td>b\"CK's BBQ is off the charts best BBQ I have E...</td>\n",
       "    </tr>\n",
       "    <tr>\n",
       "      <th>2</th>\n",
       "      <td>O8S5hYJ1SMc8fA4QBtVujA</td>\n",
       "      <td>Breakfast &amp; Brunch, Restaurants, French, Sandw...</td>\n",
       "      <td>4.0</td>\n",
       "      <td>0.000710</td>\n",
       "      <td>H2G 1K7</td>\n",
       "      <td>b\"La nourriture est excellente, le service Imp...</td>\n",
       "    </tr>\n",
       "    <tr>\n",
       "      <th>3</th>\n",
       "      <td>bFzdJJ3wp3PZssNEsyU23g</td>\n",
       "      <td>Insurance, Financial Services</td>\n",
       "      <td>1.5</td>\n",
       "      <td>0.001776</td>\n",
       "      <td>85003</td>\n",
       "      <td>b'GEICO for auto is great! But they are really...</td>\n",
       "    </tr>\n",
       "    <tr>\n",
       "      <th>4</th>\n",
       "      <td>8USyCYqpScwiNEb58Bt6CA</td>\n",
       "      <td>Home &amp; Garden, Nurseries &amp; Gardening, Shopping...</td>\n",
       "      <td>2.0</td>\n",
       "      <td>0.000355</td>\n",
       "      <td>T2H 0N5</td>\n",
       "      <td>b\"This listing was originally under gardening ...</td>\n",
       "    </tr>\n",
       "  </tbody>\n",
       "</table>\n",
       "</div>"
      ],
      "text/plain": [
       "              business_id                                         categories  \\\n",
       "0  Apn5Q_b6Nz61Tq4XzPdf9A  Tours, Breweries, Pizza, Restaurants, Food, Ho...   \n",
       "1  AjEbIBw6ZFfln7ePHha9PA  Chicken Wings, Burgers, Caterers, Street Vendo...   \n",
       "2  O8S5hYJ1SMc8fA4QBtVujA  Breakfast & Brunch, Restaurants, French, Sandw...   \n",
       "3  bFzdJJ3wp3PZssNEsyU23g                      Insurance, Financial Services   \n",
       "4  8USyCYqpScwiNEb58Bt6CA  Home & Garden, Nurseries & Gardening, Shopping...   \n",
       "\n",
       "   stars  normalized_count postal code  \\\n",
       "0    4.0          0.007460     T2E 6L6   \n",
       "1    4.5          0.000000       89002   \n",
       "2    4.0          0.000710     H2G 1K7   \n",
       "3    1.5          0.001776       85003   \n",
       "4    2.0          0.000355     T2H 0N5   \n",
       "\n",
       "                                         all_reviews  \n",
       "0  b'Great place. Major flaw is how early it clos...  \n",
       "1  b\"CK's BBQ is off the charts best BBQ I have E...  \n",
       "2  b\"La nourriture est excellente, le service Imp...  \n",
       "3  b'GEICO for auto is great! But they are really...  \n",
       "4  b\"This listing was originally under gardening ...  "
      ]
     },
     "execution_count": 7,
     "metadata": {},
     "output_type": "execute_result"
    }
   ],
   "source": [
    "merge_df.head()"
   ]
  },
  {
   "cell_type": "code",
   "execution_count": 8,
   "metadata": {},
   "outputs": [
    {
     "name": "stdout",
     "output_type": "stream",
     "text": [
      "float64\n"
     ]
    }
   ],
   "source": [
    "#TF-IDF calculation\n",
    "\n",
    "tfidf = sk_text.TfidfVectorizer(max_features=1000, lowercase=True, analyzer='word',\n",
    " stop_words= 'english',ngram_range=(1,1))\n",
    "\n",
    "# Fit the reviews column with TFIDFvectorizer\n",
    "tfidf_matrix = tfidf.fit_transform(merge_df['all_reviews'])\n",
    "matrix = tfidf_matrix.toarray()\n",
    "\n",
    "# We are adding the normalized count to the original matrix with TFIDFvectorizer\n",
    "x_matrix=np.column_stack((matrix, merge_df['normalized_count']))\n",
    "\n",
    "print(x_matrix.dtype)"
   ]
  },
  {
   "cell_type": "code",
   "execution_count": 9,
   "metadata": {},
   "outputs": [
    {
     "data": {
      "text/plain": [
       "(10000, 1001)"
      ]
     },
     "execution_count": 9,
     "metadata": {},
     "output_type": "execute_result"
    }
   ],
   "source": [
    "x_matrix.shape"
   ]
  },
  {
   "cell_type": "code",
   "execution_count": 10,
   "metadata": {},
   "outputs": [],
   "source": [
    "y_stars = merge_df['stars'].values.astype(np.float32)"
   ]
  },
  {
   "cell_type": "code",
   "execution_count": 11,
   "metadata": {},
   "outputs": [
    {
     "data": {
      "text/plain": [
       "(10000,)"
      ]
     },
     "execution_count": 11,
     "metadata": {},
     "output_type": "execute_result"
    }
   ],
   "source": [
    "y_stars.shape"
   ]
  },
  {
   "cell_type": "code",
   "execution_count": 12,
   "metadata": {},
   "outputs": [],
   "source": [
    "#stars need to be encoded for all the models we are going to train\n",
    "le = preprocessing.LabelEncoder()\n",
    "merge_df['encoded_stars'] = le.fit_transform(merge_df['stars'])\n",
    "\n",
    "# one-hot cooding of postal codes \n",
    "\n",
    "hotcoded_stars_df = pd.get_dummies(merge_df['encoded_stars'], sparse = 'true')"
   ]
  },
  {
   "cell_type": "code",
   "execution_count": 13,
   "metadata": {},
   "outputs": [
    {
     "name": "stdout",
     "output_type": "stream",
     "text": [
      "   0  1  2  3  4  5  6  7  8\n",
      "0  0  0  0  0  0  0  1  0  0\n",
      "1  0  0  0  0  0  0  0  1  0\n",
      "2  0  0  0  0  0  0  1  0  0\n",
      "3  0  1  0  0  0  0  0  0  0\n",
      "4  0  0  1  0  0  0  0  0  0\n",
      "(10000, 9)\n"
     ]
    }
   ],
   "source": [
    "print(hotcoded_stars_df.head())\n",
    "print(hotcoded_stars_df.shape)"
   ]
  },
  {
   "cell_type": "code",
   "execution_count": 14,
   "metadata": {},
   "outputs": [],
   "source": [
    "y_stars_encoded = hotcoded_stars_df.values.astype(np.float32)"
   ]
  },
  {
   "cell_type": "code",
   "execution_count": 15,
   "metadata": {},
   "outputs": [
    {
     "data": {
      "text/plain": [
       "9"
      ]
     },
     "execution_count": 15,
     "metadata": {},
     "output_type": "execute_result"
    }
   ],
   "source": [
    "y_stars_encoded.shape[1]"
   ]
  },
  {
   "cell_type": "code",
   "execution_count": 16,
   "metadata": {},
   "outputs": [
    {
     "data": {
      "text/html": [
       "<div>\n",
       "<style scoped>\n",
       "    .dataframe tbody tr th:only-of-type {\n",
       "        vertical-align: middle;\n",
       "    }\n",
       "\n",
       "    .dataframe tbody tr th {\n",
       "        vertical-align: top;\n",
       "    }\n",
       "\n",
       "    .dataframe thead th {\n",
       "        text-align: right;\n",
       "    }\n",
       "</style>\n",
       "<table border=\"1\" class=\"dataframe\">\n",
       "  <thead>\n",
       "    <tr style=\"text-align: right;\">\n",
       "      <th></th>\n",
       "      <th>business_id</th>\n",
       "      <th>categories</th>\n",
       "      <th>stars</th>\n",
       "      <th>normalized_count</th>\n",
       "      <th>postal code</th>\n",
       "      <th>all_reviews</th>\n",
       "      <th>encoded_stars</th>\n",
       "    </tr>\n",
       "  </thead>\n",
       "  <tbody>\n",
       "    <tr>\n",
       "      <th>0</th>\n",
       "      <td>Apn5Q_b6Nz61Tq4XzPdf9A</td>\n",
       "      <td>Tours, Breweries, Pizza, Restaurants, Food, Ho...</td>\n",
       "      <td>4.0</td>\n",
       "      <td>0.007460</td>\n",
       "      <td>T2E 6L6</td>\n",
       "      <td>b'Great place. Major flaw is how early it clos...</td>\n",
       "      <td>6</td>\n",
       "    </tr>\n",
       "    <tr>\n",
       "      <th>1</th>\n",
       "      <td>AjEbIBw6ZFfln7ePHha9PA</td>\n",
       "      <td>Chicken Wings, Burgers, Caterers, Street Vendo...</td>\n",
       "      <td>4.5</td>\n",
       "      <td>0.000000</td>\n",
       "      <td>89002</td>\n",
       "      <td>b\"CK's BBQ is off the charts best BBQ I have E...</td>\n",
       "      <td>7</td>\n",
       "    </tr>\n",
       "    <tr>\n",
       "      <th>2</th>\n",
       "      <td>O8S5hYJ1SMc8fA4QBtVujA</td>\n",
       "      <td>Breakfast &amp; Brunch, Restaurants, French, Sandw...</td>\n",
       "      <td>4.0</td>\n",
       "      <td>0.000710</td>\n",
       "      <td>H2G 1K7</td>\n",
       "      <td>b\"La nourriture est excellente, le service Imp...</td>\n",
       "      <td>6</td>\n",
       "    </tr>\n",
       "    <tr>\n",
       "      <th>3</th>\n",
       "      <td>bFzdJJ3wp3PZssNEsyU23g</td>\n",
       "      <td>Insurance, Financial Services</td>\n",
       "      <td>1.5</td>\n",
       "      <td>0.001776</td>\n",
       "      <td>85003</td>\n",
       "      <td>b'GEICO for auto is great! But they are really...</td>\n",
       "      <td>1</td>\n",
       "    </tr>\n",
       "    <tr>\n",
       "      <th>4</th>\n",
       "      <td>8USyCYqpScwiNEb58Bt6CA</td>\n",
       "      <td>Home &amp; Garden, Nurseries &amp; Gardening, Shopping...</td>\n",
       "      <td>2.0</td>\n",
       "      <td>0.000355</td>\n",
       "      <td>T2H 0N5</td>\n",
       "      <td>b\"This listing was originally under gardening ...</td>\n",
       "      <td>2</td>\n",
       "    </tr>\n",
       "  </tbody>\n",
       "</table>\n",
       "</div>"
      ],
      "text/plain": [
       "              business_id                                         categories  \\\n",
       "0  Apn5Q_b6Nz61Tq4XzPdf9A  Tours, Breweries, Pizza, Restaurants, Food, Ho...   \n",
       "1  AjEbIBw6ZFfln7ePHha9PA  Chicken Wings, Burgers, Caterers, Street Vendo...   \n",
       "2  O8S5hYJ1SMc8fA4QBtVujA  Breakfast & Brunch, Restaurants, French, Sandw...   \n",
       "3  bFzdJJ3wp3PZssNEsyU23g                      Insurance, Financial Services   \n",
       "4  8USyCYqpScwiNEb58Bt6CA  Home & Garden, Nurseries & Gardening, Shopping...   \n",
       "\n",
       "   stars  normalized_count postal code  \\\n",
       "0    4.0          0.007460     T2E 6L6   \n",
       "1    4.5          0.000000       89002   \n",
       "2    4.0          0.000710     H2G 1K7   \n",
       "3    1.5          0.001776       85003   \n",
       "4    2.0          0.000355     T2H 0N5   \n",
       "\n",
       "                                         all_reviews  encoded_stars  \n",
       "0  b'Great place. Major flaw is how early it clos...              6  \n",
       "1  b\"CK's BBQ is off the charts best BBQ I have E...              7  \n",
       "2  b\"La nourriture est excellente, le service Imp...              6  \n",
       "3  b'GEICO for auto is great! But they are really...              1  \n",
       "4  b\"This listing was originally under gardening ...              2  "
      ]
     },
     "execution_count": 16,
     "metadata": {},
     "output_type": "execute_result"
    }
   ],
   "source": [
    "merge_df.head()"
   ]
  },
  {
   "cell_type": "code",
   "execution_count": 17,
   "metadata": {},
   "outputs": [],
   "source": [
    "#train test data for linear regression\n",
    "\n",
    "x_cont_train, x_cont_test, y_cont_train, y_cont_test = train_test_split(x_matrix, y_stars , test_size=0.2)\n",
    "\n",
    "# train test dat afor other models\n",
    "\n",
    "x_enc_train, x_enc_test, y_enc_train, y_enc_test = train_test_split(x_matrix, y_stars_encoded , test_size=0.2)"
   ]
  },
  {
   "cell_type": "code",
   "execution_count": 18,
   "metadata": {},
   "outputs": [
    {
     "name": "stdout",
     "output_type": "stream",
     "text": [
      "X Train size \n",
      "(8000, 1001)\n",
      "X Test size \n",
      "(2000, 1001)\n",
      "y Train size \n",
      "(8000,)\n",
      "y Test size \n",
      "(2000,)\n",
      "X Train size \n",
      "(8000, 1001)\n",
      "X Test size \n",
      "(2000, 1001)\n",
      "y Train size \n",
      "(8000, 9)\n",
      "y Test size \n",
      "(2000, 9)\n"
     ]
    }
   ],
   "source": [
    "print(\"X Train size \")\n",
    "print(x_cont_train.shape)\n",
    "print(\"X Test size \")\n",
    "print(x_cont_test.shape)\n",
    "print(\"y Train size \")\n",
    "print(y_cont_train.shape)\n",
    "print(\"y Test size \")\n",
    "print(y_cont_test.shape)\n",
    "print(\"X Train size \")\n",
    "print(x_enc_train.shape)\n",
    "print(\"X Test size \")\n",
    "print(x_enc_test.shape)\n",
    "print(\"y Train size \")\n",
    "print(y_enc_train.shape)\n",
    "print(\"y Test size \")\n",
    "print(y_enc_test.shape)"
   ]
  },
  {
   "cell_type": "code",
   "execution_count": 19,
   "metadata": {},
   "outputs": [
    {
     "name": "stdout",
     "output_type": "stream",
     "text": [
      "Epoch 1/100\n",
      " - 0s - loss: 3.1350\n",
      "Epoch 2/100\n",
      " - 0s - loss: 0.5167\n",
      "Epoch 3/100\n",
      " - 0s - loss: 0.3431\n",
      "Epoch 4/100\n",
      " - 0s - loss: 0.2869\n",
      "Epoch 5/100\n",
      " - 0s - loss: 0.2587\n",
      "Epoch 6/100\n",
      " - 0s - loss: 0.2450\n",
      "Epoch 7/100\n",
      " - 0s - loss: 0.2299\n",
      "Epoch 8/100\n",
      " - 0s - loss: 0.2133\n",
      "Epoch 9/100\n",
      " - 0s - loss: 0.1950\n",
      "Epoch 10/100\n",
      " - 0s - loss: 0.1819\n",
      "Epoch 11/100\n",
      " - 0s - loss: 0.1674\n",
      "Epoch 12/100\n",
      " - 0s - loss: 0.1531\n",
      "Epoch 13/100\n",
      " - 0s - loss: 0.1407\n",
      "Epoch 14/100\n",
      " - 0s - loss: 0.1296\n",
      "Epoch 15/100\n",
      " - 0s - loss: 0.1195\n",
      "Epoch 16/100\n",
      " - 0s - loss: 0.1104\n",
      "Epoch 17/100\n",
      " - 0s - loss: 0.1023\n",
      "Epoch 18/100\n",
      " - 0s - loss: 0.0951\n",
      "Epoch 19/100\n",
      " - 0s - loss: 0.0870\n",
      "Epoch 20/100\n",
      " - 0s - loss: 0.0813\n",
      "Epoch 21/100\n",
      " - 0s - loss: 0.0753\n",
      "Epoch 22/100\n",
      " - 0s - loss: 0.0697\n",
      "Epoch 23/100\n",
      " - 0s - loss: 0.0653\n",
      "Epoch 24/100\n",
      " - 0s - loss: 0.0613\n",
      "Epoch 25/100\n",
      " - 0s - loss: 0.0567\n",
      "Epoch 26/100\n",
      " - 0s - loss: 0.0530\n",
      "Epoch 27/100\n",
      " - 0s - loss: 0.0492\n",
      "Epoch 28/100\n",
      " - 0s - loss: 0.0462\n",
      "Epoch 29/100\n",
      " - 0s - loss: 0.0435\n",
      "Epoch 30/100\n",
      " - 0s - loss: 0.0415\n",
      "Epoch 31/100\n",
      " - 0s - loss: 0.0397\n",
      "Epoch 32/100\n",
      " - 0s - loss: 0.0373\n",
      "Epoch 33/100\n",
      " - 0s - loss: 0.0355\n",
      "Epoch 34/100\n",
      " - 0s - loss: 0.0328\n",
      "Epoch 35/100\n",
      " - 0s - loss: 0.0312\n",
      "Epoch 36/100\n",
      " - 0s - loss: 0.0298\n",
      "Epoch 37/100\n",
      " - 0s - loss: 0.0288\n",
      "Epoch 38/100\n",
      " - 0s - loss: 0.0269\n",
      "Epoch 39/100\n",
      " - 0s - loss: 0.0263\n",
      "Epoch 40/100\n",
      " - 0s - loss: 0.0259\n",
      "Epoch 41/100\n",
      " - 0s - loss: 0.0242\n",
      "Epoch 42/100\n",
      " - 0s - loss: 0.0226\n",
      "Epoch 43/100\n",
      " - 0s - loss: 0.0219\n",
      "Epoch 44/100\n",
      " - 0s - loss: 0.0213\n",
      "Epoch 45/100\n",
      " - 0s - loss: 0.0209\n",
      "Epoch 46/100\n",
      " - 0s - loss: 0.0198\n",
      "Epoch 47/100\n",
      " - 0s - loss: 0.0194\n",
      "Epoch 48/100\n",
      " - 0s - loss: 0.0192\n",
      "Epoch 49/100\n",
      " - 0s - loss: 0.0184\n",
      "Epoch 50/100\n",
      " - 0s - loss: 0.0179\n",
      "Epoch 51/100\n",
      " - 0s - loss: 0.0171\n",
      "Epoch 52/100\n",
      " - 0s - loss: 0.0166\n",
      "Epoch 53/100\n",
      " - 0s - loss: 0.0162\n",
      "Epoch 54/100\n",
      " - 0s - loss: 0.0158\n",
      "Epoch 55/100\n",
      " - 0s - loss: 0.0162\n",
      "Epoch 56/100\n",
      " - 0s - loss: 0.0160\n",
      "Epoch 57/100\n",
      " - 0s - loss: 0.0156\n",
      "Epoch 58/100\n",
      " - 0s - loss: 0.0150\n",
      "Epoch 59/100\n",
      " - 0s - loss: 0.0147\n",
      "Epoch 60/100\n",
      " - 0s - loss: 0.0142\n",
      "Epoch 61/100\n",
      " - 0s - loss: 0.0132\n",
      "Epoch 62/100\n",
      " - 0s - loss: 0.0131\n",
      "Epoch 63/100\n",
      " - 0s - loss: 0.0128\n",
      "Epoch 64/100\n",
      " - 0s - loss: 0.0127\n",
      "Epoch 65/100\n",
      " - 0s - loss: 0.0125\n",
      "Epoch 66/100\n",
      " - 0s - loss: 0.0122\n",
      "Epoch 67/100\n",
      " - 0s - loss: 0.0130\n",
      "Epoch 68/100\n",
      " - 0s - loss: 0.0130\n",
      "Epoch 69/100\n",
      " - 0s - loss: 0.0119\n",
      "Epoch 70/100\n",
      " - 0s - loss: 0.0119\n",
      "Epoch 71/100\n",
      " - 0s - loss: 0.0112\n",
      "Epoch 72/100\n",
      " - 0s - loss: 0.0111\n",
      "Epoch 73/100\n",
      " - 0s - loss: 0.0104\n",
      "Epoch 74/100\n",
      " - 0s - loss: 0.0105\n",
      "Epoch 75/100\n",
      " - 0s - loss: 0.0105\n",
      "Epoch 76/100\n",
      " - 0s - loss: 0.0107\n",
      "Epoch 77/100\n",
      " - 0s - loss: 0.0100\n",
      "Epoch 78/100\n",
      " - 0s - loss: 0.0109\n",
      "Epoch 79/100\n",
      " - 0s - loss: 0.0100\n",
      "Epoch 80/100\n",
      " - 0s - loss: 0.0095\n",
      "Epoch 81/100\n",
      " - 0s - loss: 0.0092\n",
      "Epoch 82/100\n",
      " - 0s - loss: 0.0091\n",
      "Epoch 83/100\n",
      " - 0s - loss: 0.0099\n",
      "Epoch 84/100\n",
      " - 0s - loss: 0.0100\n",
      "Epoch 85/100\n",
      " - 0s - loss: 0.0095\n",
      "Epoch 86/100\n",
      " - 0s - loss: 0.0091\n",
      "Epoch 87/100\n",
      " - 0s - loss: 0.0089\n",
      "Epoch 88/100\n",
      " - 0s - loss: 0.0091\n",
      "Epoch 89/100\n",
      " - 0s - loss: 0.0086\n",
      "Epoch 90/100\n",
      " - 0s - loss: 0.0085\n",
      "Epoch 91/100\n",
      " - 0s - loss: 0.0083\n",
      "Epoch 92/100\n",
      " - 0s - loss: 0.0082\n",
      "Epoch 93/100\n",
      " - 0s - loss: 0.0084\n",
      "Epoch 94/100\n",
      " - 0s - loss: 0.0084\n",
      "Epoch 95/100\n",
      " - 0s - loss: 0.0088\n",
      "Epoch 96/100\n",
      " - 0s - loss: 0.0087\n",
      "Epoch 97/100\n",
      " - 0s - loss: 0.0082\n",
      "Epoch 98/100\n",
      " - 0s - loss: 0.0083\n",
      "Epoch 99/100\n",
      " - 0s - loss: 0.0080\n",
      "Epoch 100/100\n",
      " - 0s - loss: 0.0077\n"
     ]
    },
    {
     "data": {
      "text/plain": [
       "<keras.callbacks.History at 0x1a36962b00>"
      ]
     },
     "execution_count": 19,
     "metadata": {},
     "output_type": "execute_result"
    }
   ],
   "source": [
    "# Tensorflow model for Regression\n",
    "\n",
    "model_reg = Sequential()\n",
    "\n",
    "model_reg.add(Dense(25, input_dim=x_cont_train.shape[1], activation='relu')) # Hidden 1     #  why input_dim=x.shape[1]?  \n",
    "model_reg.add(Dense(10, activation='relu')) # Hidden 2\n",
    "model_reg.add(Dense(1)) # Output\n",
    "\n",
    "model_reg.compile(loss='mean_squared_error', optimizer='adam')\n",
    "\n",
    "model_reg.fit(x_cont_train,y_cont_train,verbose=2,epochs=100)    # Verbosity mode. 0 = silent, 1 = progress bar, 2 = one line per epoch."
   ]
  },
  {
   "cell_type": "code",
   "execution_count": 20,
   "metadata": {},
   "outputs": [
    {
     "name": "stdout",
     "output_type": "stream",
     "text": [
      "Shape: (2000, 1)\n",
      "[[4.850715 ]\n",
      " [2.1252685]\n",
      " [4.2748528]\n",
      " ...\n",
      " [3.9607763]\n",
      " [3.5385027]\n",
      " [3.512504 ]]\n"
     ]
    }
   ],
   "source": [
    "pred_reg = model_reg.predict(x_cont_test)\n",
    "print(\"Shape: {}\".format(pred_reg.shape))\n",
    "print(pred_reg)"
   ]
  },
  {
   "cell_type": "code",
   "execution_count": 21,
   "metadata": {},
   "outputs": [
    {
     "name": "stdout",
     "output_type": "stream",
     "text": [
      "1. Business ID: diaiQrxYFU1V5qxrFnW9fg, Actual Stars: 4.5, predicted Stars: [4.850715]\n",
      "2. Business ID: TDTASGFy_aGp6vy0i23mDA, Actual Stars: 2.0, predicted Stars: [2.1252685]\n",
      "3. Business ID: VuKJ2s_JP8weQ54NfsXJXQ, Actual Stars: 4.0, predicted Stars: [4.2748528]\n",
      "4. Business ID: aGiBg2WKOpXS5-1DRnBiAQ, Actual Stars: 5.0, predicted Stars: [5.4278674]\n",
      "5. Business ID: ZMmgFw2P4LWsFXNn1ZGc1g, Actual Stars: 5.0, predicted Stars: [4.880444]\n",
      "6. Business ID: sEKFq5u8P_s0-2mAZnx0JQ, Actual Stars: 5.0, predicted Stars: [3.4978328]\n",
      "7. Business ID: rYziPPEILDXJ_F5uKR--YQ, Actual Stars: 5.0, predicted Stars: [5.199805]\n",
      "8. Business ID: Swm_uMOWNcJDZz5lXWyzKA, Actual Stars: 2.0, predicted Stars: [2.0109236]\n",
      "9. Business ID: 6nGnVP7M4qQRiclXxeqXSQ, Actual Stars: 3.0, predicted Stars: [2.920682]\n",
      "10. Business ID: Tc24GX9-ZPr4_SHU0nJZZA, Actual Stars: 5.0, predicted Stars: [5.457784]\n"
     ]
    }
   ],
   "source": [
    "for i in range(10):\n",
    "    print(\"{}. Business ID: {}, Actual Stars: {}, predicted Stars: {}\".format(i+1,merge_df['business_id'][2000+i],y_cont_test[i],pred_reg[i]))"
   ]
  },
  {
   "cell_type": "code",
   "execution_count": 22,
   "metadata": {},
   "outputs": [
    {
     "name": "stdout",
     "output_type": "stream",
     "text": [
      "Final score (RMSE): 0.45890554785728455\n",
      "R2 score: 0.56\n"
     ]
    }
   ],
   "source": [
    "# Measure RMSE error.  RMSE is common for regression.\n",
    "score = mean_squared_error(y_cont_test,pred_reg)\n",
    "print(\"Final score (RMSE): {}\".format(score))\n",
    "print('R2 score: %.2f' % r2_score(y_cont_test, pred_reg))"
   ]
  },
  {
   "cell_type": "code",
   "execution_count": 23,
   "metadata": {},
   "outputs": [
    {
     "data": {
      "text/plain": [
       "9"
      ]
     },
     "execution_count": 23,
     "metadata": {},
     "output_type": "execute_result"
    }
   ],
   "source": [
    "len(set(merge_df['encoded_stars']))"
   ]
  },
  {
   "cell_type": "code",
   "execution_count": 24,
   "metadata": {},
   "outputs": [
    {
     "name": "stdout",
     "output_type": "stream",
     "text": [
      "Epoch 1/50\n",
      " - 1s - loss: 1.7991\n",
      "Epoch 2/50\n",
      " - 0s - loss: 1.3247\n",
      "Epoch 3/50\n",
      " - 0s - loss: 1.1865\n",
      "Epoch 4/50\n",
      " - 0s - loss: 1.1080\n",
      "Epoch 5/50\n",
      " - 0s - loss: 1.0540\n",
      "Epoch 6/50\n",
      " - 0s - loss: 1.0076\n",
      "Epoch 7/50\n",
      " - 0s - loss: 0.9669\n",
      "Epoch 8/50\n",
      " - 0s - loss: 0.9241\n",
      "Epoch 9/50\n",
      " - 0s - loss: 0.8861\n",
      "Epoch 10/50\n",
      " - 0s - loss: 0.8474\n",
      "Epoch 11/50\n",
      " - 0s - loss: 0.8105\n",
      "Epoch 12/50\n",
      " - 0s - loss: 0.7720\n",
      "Epoch 13/50\n",
      " - 0s - loss: 0.7422\n",
      "Epoch 14/50\n",
      " - 0s - loss: 0.7043\n",
      "Epoch 15/50\n",
      " - 0s - loss: 0.6727\n",
      "Epoch 16/50\n",
      " - 0s - loss: 0.6434\n",
      "Epoch 17/50\n",
      " - 0s - loss: 0.6133\n",
      "Epoch 18/50\n",
      " - 0s - loss: 0.5835\n",
      "Epoch 19/50\n",
      " - 0s - loss: 0.5523\n",
      "Epoch 20/50\n",
      " - 0s - loss: 0.5261\n",
      "Epoch 21/50\n",
      " - 0s - loss: 0.4978\n",
      "Epoch 22/50\n",
      " - 0s - loss: 0.4747\n",
      "Epoch 23/50\n",
      " - 0s - loss: 0.4471\n",
      "Epoch 24/50\n",
      " - 0s - loss: 0.4248\n",
      "Epoch 25/50\n",
      " - 0s - loss: 0.3977\n",
      "Epoch 26/50\n",
      " - 0s - loss: 0.3769\n",
      "Epoch 27/50\n",
      " - 0s - loss: 0.3521\n",
      "Epoch 28/50\n",
      " - 0s - loss: 0.3309\n",
      "Epoch 29/50\n",
      " - 0s - loss: 0.3104\n",
      "Epoch 30/50\n",
      " - 0s - loss: 0.2919\n",
      "Epoch 31/50\n",
      " - 0s - loss: 0.2709\n",
      "Epoch 32/50\n",
      " - 0s - loss: 0.2519\n",
      "Epoch 33/50\n",
      " - 0s - loss: 0.2330\n",
      "Epoch 34/50\n",
      " - 0s - loss: 0.2159\n",
      "Epoch 35/50\n",
      " - 0s - loss: 0.2014\n",
      "Epoch 36/50\n",
      " - 0s - loss: 0.1843\n",
      "Epoch 37/50\n",
      " - 0s - loss: 0.1714\n",
      "Epoch 38/50\n",
      " - 0s - loss: 0.1570\n",
      "Epoch 39/50\n",
      " - 0s - loss: 0.1439\n",
      "Epoch 40/50\n",
      " - 0s - loss: 0.1312\n",
      "Epoch 41/50\n",
      " - 0s - loss: 0.1213\n",
      "Epoch 42/50\n",
      " - 0s - loss: 0.1078\n",
      "Epoch 43/50\n",
      " - 0s - loss: 0.0984\n",
      "Epoch 44/50\n",
      " - 0s - loss: 0.0894\n",
      "Epoch 45/50\n",
      " - 0s - loss: 0.0809\n",
      "Epoch 46/50\n",
      " - 0s - loss: 0.0739\n",
      "Epoch 47/50\n",
      " - 0s - loss: 0.0664\n",
      "Epoch 48/50\n",
      " - 0s - loss: 0.0592\n",
      "Epoch 49/50\n",
      " - 0s - loss: 0.0551\n",
      "Epoch 50/50\n",
      " - 0s - loss: 0.0498\n"
     ]
    },
    {
     "data": {
      "text/plain": [
       "<keras.callbacks.History at 0x1a36df8e48>"
      ]
     },
     "execution_count": 24,
     "metadata": {},
     "output_type": "execute_result"
    }
   ],
   "source": [
    "model_class = Sequential()\n",
    "model_class.add(Dense(50, input_dim=x_enc_train.shape[1], activation='relu')) # Hidden 1\n",
    "model_class.add(Dense(25, activation='relu')) # Hidden 2\n",
    "model_class.add(Dense(y_enc_train.shape[1], activation='softmax')) # Output\n",
    "\n",
    "model_class.compile(loss='categorical_crossentropy', optimizer='adam')\n",
    "\n",
    "model_class.fit(x_enc_train,y_enc_train,verbose=2,epochs=50)"
   ]
  },
  {
   "cell_type": "code",
   "execution_count": 25,
   "metadata": {},
   "outputs": [
    {
     "name": "stdout",
     "output_type": "stream",
     "text": [
      "Shape: (2000, 9)\n",
      "[[0.0000000e+00 4.5518748e-37 5.3521235e-27 ... 9.7654447e-06\n",
      "  9.9999022e-01 1.1772310e-09]\n",
      " [4.1460404e-09 5.0428814e-01 3.8865968e-03 ... 1.1962131e-10\n",
      "  2.5601523e-18 1.5076463e-31]\n",
      " [1.6670578e-36 5.9537167e-24 6.2205917e-14 ... 1.0819730e-03\n",
      "  5.5364674e-10 1.8966091e-25]\n",
      " ...\n",
      " [7.5712188e-24 6.3547556e-14 1.2210292e-10 ... 4.7959540e-02\n",
      "  3.4433888e-05 2.2911469e-10]\n",
      " [1.4829564e-18 8.4137775e-13 1.9501337e-08 ... 5.1903585e-04\n",
      "  8.6011421e-03 1.3421769e-07]\n",
      " [6.2380689e-01 9.1008907e-03 3.6709225e-01 ... 5.3968596e-12\n",
      "  2.4221688e-17 4.1818059e-28]]\n"
     ]
    }
   ],
   "source": [
    "pred_class = model_class.predict(x_enc_test)\n",
    "print(\"Shape: {}\".format(pred_class.shape))\n",
    "print(pred_class)"
   ]
  },
  {
   "cell_type": "code",
   "execution_count": 26,
   "metadata": {},
   "outputs": [],
   "source": [
    "predict_stars = np.argmax(pred_class,axis=1)\n",
    "\n",
    "true_stars = np.argmax(y_enc_test,axis=1)"
   ]
  },
  {
   "cell_type": "code",
   "execution_count": 27,
   "metadata": {},
   "outputs": [
    {
     "name": "stdout",
     "output_type": "stream",
     "text": [
      "1. Business ID: diaiQrxYFU1V5qxrFnW9fg, Actual Stars: 6, predicted Stars: 7\n",
      "2. Business ID: TDTASGFy_aGp6vy0i23mDA, Actual Stars: 3, predicted Stars: 1\n",
      "3. Business ID: VuKJ2s_JP8weQ54NfsXJXQ, Actual Stars: 6, predicted Stars: 5\n",
      "4. Business ID: aGiBg2WKOpXS5-1DRnBiAQ, Actual Stars: 8, predicted Stars: 8\n",
      "5. Business ID: ZMmgFw2P4LWsFXNn1ZGc1g, Actual Stars: 6, predicted Stars: 6\n",
      "6. Business ID: sEKFq5u8P_s0-2mAZnx0JQ, Actual Stars: 3, predicted Stars: 4\n",
      "7. Business ID: rYziPPEILDXJ_F5uKR--YQ, Actual Stars: 4, predicted Stars: 2\n",
      "8. Business ID: Swm_uMOWNcJDZz5lXWyzKA, Actual Stars: 5, predicted Stars: 3\n",
      "9. Business ID: 6nGnVP7M4qQRiclXxeqXSQ, Actual Stars: 8, predicted Stars: 8\n",
      "10. Business ID: Tc24GX9-ZPr4_SHU0nJZZA, Actual Stars: 5, predicted Stars: 6\n"
     ]
    }
   ],
   "source": [
    "for i in range(10):\n",
    "    print(\"{}. Business ID: {}, Actual Stars: {}, predicted Stars: {}\".format(i+1,merge_df['business_id'][2000+i],true_stars[i],predict_stars[i]))"
   ]
  },
  {
   "cell_type": "code",
   "execution_count": 28,
   "metadata": {},
   "outputs": [
    {
     "name": "stdout",
     "output_type": "stream",
     "text": [
      "Accuracy: 0.43\n"
     ]
    }
   ],
   "source": [
    "#accuracy  \n",
    "\n",
    "correct = accuracy_score(true_stars, predict_stars)\n",
    "print(\"Accuracy: {}\".format(correct))"
   ]
  },
  {
   "cell_type": "code",
   "execution_count": null,
   "metadata": {},
   "outputs": [],
   "source": []
  }
 ],
 "metadata": {
  "kernelspec": {
   "display_name": "Python 3",
   "language": "python",
   "name": "python3"
  },
  "language_info": {
   "codemirror_mode": {
    "name": "ipython",
    "version": 3
   },
   "file_extension": ".py",
   "mimetype": "text/x-python",
   "name": "python",
   "nbconvert_exporter": "python",
   "pygments_lexer": "ipython3",
   "version": "3.6.5"
  }
 },
 "nbformat": 4,
 "nbformat_minor": 2
}
