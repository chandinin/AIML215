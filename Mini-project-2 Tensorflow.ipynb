{
 "cells": [
  {
   "cell_type": "code",
   "execution_count": 1,
   "metadata": {},
   "outputs": [
    {
     "data": {
      "text/html": [
       "<style>.container { width:100% !important; }</style>"
      ],
      "text/plain": [
       "<IPython.core.display.HTML object>"
      ]
     },
     "metadata": {},
     "output_type": "display_data"
    }
   ],
   "source": [
    "from IPython.core.display import display, HTML\n",
    "display(HTML(\"<style>.container { width:100% !important; }</style>\"))"
   ]
  },
  {
   "cell_type": "code",
   "execution_count": 2,
   "metadata": {},
   "outputs": [
    {
     "name": "stderr",
     "output_type": "stream",
     "text": [
      "/anaconda3/lib/python3.6/site-packages/h5py/__init__.py:36: FutureWarning: Conversion of the second argument of issubdtype from `float` to `np.floating` is deprecated. In future, it will be treated as `np.float64 == np.dtype(float).type`.\n",
      "  from ._conv import register_converters as _register_converters\n",
      "Using TensorFlow backend.\n",
      "/anaconda3/lib/python3.6/importlib/_bootstrap.py:219: RuntimeWarning: compiletime version 3.5 of module 'tensorflow.python.framework.fast_tensor_util' does not match runtime version 3.6\n",
      "  return f(*args, **kwds)\n"
     ]
    }
   ],
   "source": [
    "# import all libraries\n",
    "\n",
    "import json\n",
    "import csv\n",
    "import pandas as pd\n",
    "import numpy as np\n",
    "import scipy as sci\n",
    "from keras.models import Sequential\n",
    "from keras.layers.core import Dense, Activation\n",
    "from keras.callbacks import EarlyStopping, ModelCheckpoint\n",
    "import io\n",
    "import requests\n",
    "import tensorflow as tf\n",
    "from scipy import sparse\n",
    "from sklearn.model_selection import train_test_split\n",
    "import sklearn.feature_extraction.text as sk_text\n",
    "from sklearn.linear_model import LinearRegression\n",
    "from sklearn.linear_model import LogisticRegression\n",
    "from sklearn.naive_bayes import MultinomialNB\n",
    "from sklearn.svm import SVC\n",
    "from sklearn.neighbors import KNeighborsClassifier\n",
    "from sklearn import preprocessing\n",
    "from sklearn.metrics import mean_squared_error, r2_score\n",
    "from sklearn.metrics import accuracy_score\n",
    "import collections\n",
    "from sklearn import preprocessing\n",
    "import matplotlib.pyplot as plt\n",
    "import shutil\n",
    "import os"
   ]
  },
  {
   "cell_type": "code",
   "execution_count": 3,
   "metadata": {},
   "outputs": [],
   "source": [
    "# functions given in the lab\n",
    "\n",
    "# Encode text values to dummy variables(i.e. [1,0,0],[0,1,0],[0,0,1] for red,green,blue)\n",
    "def encode_text_dummy(df, name):\n",
    "    dummies = pd.get_dummies(df[name])\n",
    "    for x in dummies.columns:\n",
    "        dummy_name = \"{}-{}\".format(name, x)\n",
    "        df[dummy_name] = dummies[x]\n",
    "    df.drop(name, axis=1, inplace=True)\n",
    "\n",
    "\n",
    "\n",
    "# Encode text values to indexes(i.e. [1],[2],[3] for red,green,blue).\n",
    "def encode_text_index(df, name):\n",
    "    le = preprocessing.LabelEncoder()\n",
    "    df[name] = le.fit_transform(df[name])\n",
    "    return le.classes_\n",
    "\n",
    "\n",
    "# Encode a numeric column as zscores\n",
    "def encode_numeric_zscore(df, name, mean=None, sd=None):\n",
    "    if mean is None:\n",
    "        mean = df[name].mean()\n",
    "\n",
    "    if sd is None:\n",
    "        sd = df[name].std()\n",
    "\n",
    "    df[name] = (df[name] - mean) / sd\n",
    "\n",
    "\n",
    "# Convert all missing values in the specified column to the median\n",
    "def missing_median(df, name):\n",
    "    med = df[name].median()\n",
    "    df[name] = df[name].fillna(med)\n",
    "\n",
    "\n",
    "# Convert all missing values in the specified column to the default\n",
    "def missing_default(df, name, default_value):\n",
    "    df[name] = df[name].fillna(default_value)\n",
    "\n",
    "\n",
    "# Convert a Pandas dataframe to the x,y inputs that TensorFlow needs\n",
    "def to_xy(df, target):\n",
    "    result = []\n",
    "    for x in df.columns:\n",
    "        if x != target:\n",
    "            result.append(x)\n",
    "    # find out the type of the target column. \n",
    "    target_type = df[target].dtypes\n",
    "    target_type = target_type[0] if isinstance(target_type, collections.Sequence) else target_type\n",
    "    # Encode to int for classification, float otherwise. TensorFlow likes 32 bits.\n",
    "    if target_type in (np.int64, np.int32):\n",
    "        # Classification\n",
    "        dummies = pd.get_dummies(df[target])\n",
    "        return df[result].values.astype(np.float32), dummies.values.astype(np.float32)\n",
    "    else:\n",
    "        # Regression\n",
    "        return df[result].values.astype(np.float32), df[target].values.astype(np.float32)\n",
    "\n",
    "# Nicely formatted time string\n",
    "def hms_string(sec_elapsed):\n",
    "    h = int(sec_elapsed / (60 * 60))\n",
    "    m = int((sec_elapsed % (60 * 60)) / 60)\n",
    "    s = sec_elapsed % 60\n",
    "    return \"{}:{:>02}:{:>05.2f}\".format(h, m, s)\n",
    "\n",
    "\n",
    "# Regression chart.\n",
    "def chart_regression(pred,y,sort=True):\n",
    "    t = pd.DataFrame({'pred' : pred, 'y' : y.flatten()})\n",
    "    if sort:\n",
    "        t.sort_values(by=['y'],inplace=True)\n",
    "    a = plt.plot(t['y'].tolist(),label='expected')\n",
    "    b = plt.plot(t['pred'].tolist(),label='prediction')\n",
    "    plt.ylabel('output')\n",
    "    plt.legend()\n",
    "    plt.show()\n",
    "\n",
    "# Remove all rows where the specified column is +/- sd standard deviations\n",
    "def remove_outliers(df, name, sd):\n",
    "    drop_rows = df.index[(np.abs(df[name] - df[name].mean()) >= (sd * df[name].std()))]\n",
    "    df.drop(drop_rows, axis=0, inplace=True)\n",
    "\n",
    "\n",
    "# Encode a column to a range between normalized_low and normalized_high.\n",
    "def encode_numeric_range(df, name, normalized_low=-1, normalized_high=1,\n",
    "                         data_low=None, data_high=None):\n",
    "    if data_low is None:\n",
    "        data_low = min(df[name])\n",
    "        data_high = max(df[name])\n",
    "\n",
    "    df[name] = ((df[name] - data_low) / (data_high - data_low)) \\\n",
    "               * (normalized_high - normalized_low) + normalized_low"
   ]
  },
  {
   "cell_type": "code",
   "execution_count": 4,
   "metadata": {},
   "outputs": [
    {
     "name": "stdout",
     "output_type": "stream",
     "text": [
      "business_id      object\n",
      "categories       object\n",
      "stars           float64\n",
      "review_count      int64\n",
      "postal code      object\n",
      "all_reviews      object\n",
      "dtype: object\n",
      "(188593, 6)\n",
      "business_id      object\n",
      "categories       object\n",
      "stars           float64\n",
      "review_count      int64\n",
      "postal code      object\n",
      "all_reviews      object\n",
      "dtype: object\n",
      "(188593, 6)\n"
     ]
    }
   ],
   "source": [
    "# Create dataframes and creating merge_df file\n",
    "\n",
    "business_df= pd.read_csv('business_postal.tsv', delimiter =\"\\t\")\n",
    "review_df= pd.read_csv('review_stars.tsv', delimiter =\"\\t\")\n",
    "review_agg_df = review_df.groupby('business_id')['text'].sum()\n",
    "df_ready_for_sklearn = pd.DataFrame({'business_id': review_agg_df.index, 'all_reviews': review_agg_df.values})\n",
    "merge_df = pd.merge(business_df, df_ready_for_sklearn, on='business_id')\n",
    "print(merge_df.dtypes)\n",
    "print(merge_df.shape)\n",
    "#merge_df = merge_df[0:10000]\n",
    "print(merge_df.dtypes)\n",
    "print(merge_df.shape)"
   ]
  },
  {
   "cell_type": "code",
   "execution_count": 5,
   "metadata": {},
   "outputs": [],
   "source": [
    "# removing NaN categories\n",
    "\n",
    "merge_df = merge_df[merge_df['categories'].notnull()]"
   ]
  },
  {
   "cell_type": "code",
   "execution_count": 6,
   "metadata": {},
   "outputs": [
    {
     "data": {
      "text/plain": [
       "(188052, 6)"
      ]
     },
     "execution_count": 6,
     "metadata": {},
     "output_type": "execute_result"
    }
   ],
   "source": [
    "merge_df.shape"
   ]
  },
  {
   "cell_type": "code",
   "execution_count": 7,
   "metadata": {},
   "outputs": [],
   "source": [
    "merge_df.to_csv('merge_df.tsv', sep='\\t', encoding='utf-8')"
   ]
  },
  {
   "cell_type": "code",
   "execution_count": 8,
   "metadata": {},
   "outputs": [
    {
     "data": {
      "text/html": [
       "<div>\n",
       "<style scoped>\n",
       "    .dataframe tbody tr th:only-of-type {\n",
       "        vertical-align: middle;\n",
       "    }\n",
       "\n",
       "    .dataframe tbody tr th {\n",
       "        vertical-align: top;\n",
       "    }\n",
       "\n",
       "    .dataframe thead th {\n",
       "        text-align: right;\n",
       "    }\n",
       "</style>\n",
       "<table border=\"1\" class=\"dataframe\">\n",
       "  <thead>\n",
       "    <tr style=\"text-align: right;\">\n",
       "      <th></th>\n",
       "      <th>business_id</th>\n",
       "      <th>categories</th>\n",
       "      <th>stars</th>\n",
       "      <th>review_count</th>\n",
       "      <th>postal code</th>\n",
       "      <th>all_reviews</th>\n",
       "    </tr>\n",
       "  </thead>\n",
       "  <tbody>\n",
       "    <tr>\n",
       "      <th>0</th>\n",
       "      <td>Apn5Q_b6Nz61Tq4XzPdf9A</td>\n",
       "      <td>Tours, Breweries, Pizza, Restaurants, Food, Ho...</td>\n",
       "      <td>4.0</td>\n",
       "      <td>24</td>\n",
       "      <td>T2E 6L6</td>\n",
       "      <td>b'Great place. Major flaw is how early it clos...</td>\n",
       "    </tr>\n",
       "    <tr>\n",
       "      <th>1</th>\n",
       "      <td>AjEbIBw6ZFfln7ePHha9PA</td>\n",
       "      <td>Chicken Wings, Burgers, Caterers, Street Vendo...</td>\n",
       "      <td>4.5</td>\n",
       "      <td>3</td>\n",
       "      <td>89002</td>\n",
       "      <td>b\"CK's BBQ is off the charts best BBQ I have E...</td>\n",
       "    </tr>\n",
       "    <tr>\n",
       "      <th>2</th>\n",
       "      <td>O8S5hYJ1SMc8fA4QBtVujA</td>\n",
       "      <td>Breakfast &amp; Brunch, Restaurants, French, Sandw...</td>\n",
       "      <td>4.0</td>\n",
       "      <td>5</td>\n",
       "      <td>H2G 1K7</td>\n",
       "      <td>b\"La nourriture est excellente, le service Imp...</td>\n",
       "    </tr>\n",
       "    <tr>\n",
       "      <th>3</th>\n",
       "      <td>bFzdJJ3wp3PZssNEsyU23g</td>\n",
       "      <td>Insurance, Financial Services</td>\n",
       "      <td>1.5</td>\n",
       "      <td>8</td>\n",
       "      <td>85003</td>\n",
       "      <td>b'GEICO for auto is great! But they are really...</td>\n",
       "    </tr>\n",
       "    <tr>\n",
       "      <th>4</th>\n",
       "      <td>8USyCYqpScwiNEb58Bt6CA</td>\n",
       "      <td>Home &amp; Garden, Nurseries &amp; Gardening, Shopping...</td>\n",
       "      <td>2.0</td>\n",
       "      <td>4</td>\n",
       "      <td>T2H 0N5</td>\n",
       "      <td>b\"This listing was originally under gardening ...</td>\n",
       "    </tr>\n",
       "  </tbody>\n",
       "</table>\n",
       "</div>"
      ],
      "text/plain": [
       "              business_id                                         categories  \\\n",
       "0  Apn5Q_b6Nz61Tq4XzPdf9A  Tours, Breweries, Pizza, Restaurants, Food, Ho...   \n",
       "1  AjEbIBw6ZFfln7ePHha9PA  Chicken Wings, Burgers, Caterers, Street Vendo...   \n",
       "2  O8S5hYJ1SMc8fA4QBtVujA  Breakfast & Brunch, Restaurants, French, Sandw...   \n",
       "3  bFzdJJ3wp3PZssNEsyU23g                      Insurance, Financial Services   \n",
       "4  8USyCYqpScwiNEb58Bt6CA  Home & Garden, Nurseries & Gardening, Shopping...   \n",
       "\n",
       "   stars  review_count postal code  \\\n",
       "0    4.0            24     T2E 6L6   \n",
       "1    4.5             3       89002   \n",
       "2    4.0             5     H2G 1K7   \n",
       "3    1.5             8       85003   \n",
       "4    2.0             4     T2H 0N5   \n",
       "\n",
       "                                         all_reviews  \n",
       "0  b'Great place. Major flaw is how early it clos...  \n",
       "1  b\"CK's BBQ is off the charts best BBQ I have E...  \n",
       "2  b\"La nourriture est excellente, le service Imp...  \n",
       "3  b'GEICO for auto is great! But they are really...  \n",
       "4  b\"This listing was originally under gardening ...  "
      ]
     },
     "execution_count": 8,
     "metadata": {},
     "output_type": "execute_result"
    }
   ],
   "source": [
    "merge_df.head()"
   ]
  },
  {
   "cell_type": "code",
   "execution_count": 9,
   "metadata": {},
   "outputs": [],
   "source": [
    "#Normalization of review count field so it becomes comparable and remove bias\n",
    "merge_df.insert(3,'normalized_count',((merge_df['review_count'] - merge_df['review_count'].min()) / (merge_df['review_count'].max() - merge_df['review_count'].min())).astype(float))\n",
    "merge_df.drop('review_count', axis=1, inplace=True)"
   ]
  },
  {
   "cell_type": "code",
   "execution_count": 10,
   "metadata": {},
   "outputs": [
    {
     "data": {
      "text/html": [
       "<div>\n",
       "<style scoped>\n",
       "    .dataframe tbody tr th:only-of-type {\n",
       "        vertical-align: middle;\n",
       "    }\n",
       "\n",
       "    .dataframe tbody tr th {\n",
       "        vertical-align: top;\n",
       "    }\n",
       "\n",
       "    .dataframe thead th {\n",
       "        text-align: right;\n",
       "    }\n",
       "</style>\n",
       "<table border=\"1\" class=\"dataframe\">\n",
       "  <thead>\n",
       "    <tr style=\"text-align: right;\">\n",
       "      <th></th>\n",
       "      <th>business_id</th>\n",
       "      <th>categories</th>\n",
       "      <th>stars</th>\n",
       "      <th>normalized_count</th>\n",
       "      <th>postal code</th>\n",
       "      <th>all_reviews</th>\n",
       "    </tr>\n",
       "  </thead>\n",
       "  <tbody>\n",
       "    <tr>\n",
       "      <th>0</th>\n",
       "      <td>Apn5Q_b6Nz61Tq4XzPdf9A</td>\n",
       "      <td>Tours, Breweries, Pizza, Restaurants, Food, Ho...</td>\n",
       "      <td>4.0</td>\n",
       "      <td>0.002637</td>\n",
       "      <td>T2E 6L6</td>\n",
       "      <td>b'Great place. Major flaw is how early it clos...</td>\n",
       "    </tr>\n",
       "    <tr>\n",
       "      <th>1</th>\n",
       "      <td>AjEbIBw6ZFfln7ePHha9PA</td>\n",
       "      <td>Chicken Wings, Burgers, Caterers, Street Vendo...</td>\n",
       "      <td>4.5</td>\n",
       "      <td>0.000000</td>\n",
       "      <td>89002</td>\n",
       "      <td>b\"CK's BBQ is off the charts best BBQ I have E...</td>\n",
       "    </tr>\n",
       "    <tr>\n",
       "      <th>2</th>\n",
       "      <td>O8S5hYJ1SMc8fA4QBtVujA</td>\n",
       "      <td>Breakfast &amp; Brunch, Restaurants, French, Sandw...</td>\n",
       "      <td>4.0</td>\n",
       "      <td>0.000251</td>\n",
       "      <td>H2G 1K7</td>\n",
       "      <td>b\"La nourriture est excellente, le service Imp...</td>\n",
       "    </tr>\n",
       "    <tr>\n",
       "      <th>3</th>\n",
       "      <td>bFzdJJ3wp3PZssNEsyU23g</td>\n",
       "      <td>Insurance, Financial Services</td>\n",
       "      <td>1.5</td>\n",
       "      <td>0.000628</td>\n",
       "      <td>85003</td>\n",
       "      <td>b'GEICO for auto is great! But they are really...</td>\n",
       "    </tr>\n",
       "    <tr>\n",
       "      <th>4</th>\n",
       "      <td>8USyCYqpScwiNEb58Bt6CA</td>\n",
       "      <td>Home &amp; Garden, Nurseries &amp; Gardening, Shopping...</td>\n",
       "      <td>2.0</td>\n",
       "      <td>0.000126</td>\n",
       "      <td>T2H 0N5</td>\n",
       "      <td>b\"This listing was originally under gardening ...</td>\n",
       "    </tr>\n",
       "  </tbody>\n",
       "</table>\n",
       "</div>"
      ],
      "text/plain": [
       "              business_id                                         categories  \\\n",
       "0  Apn5Q_b6Nz61Tq4XzPdf9A  Tours, Breweries, Pizza, Restaurants, Food, Ho...   \n",
       "1  AjEbIBw6ZFfln7ePHha9PA  Chicken Wings, Burgers, Caterers, Street Vendo...   \n",
       "2  O8S5hYJ1SMc8fA4QBtVujA  Breakfast & Brunch, Restaurants, French, Sandw...   \n",
       "3  bFzdJJ3wp3PZssNEsyU23g                      Insurance, Financial Services   \n",
       "4  8USyCYqpScwiNEb58Bt6CA  Home & Garden, Nurseries & Gardening, Shopping...   \n",
       "\n",
       "   stars  normalized_count postal code  \\\n",
       "0    4.0          0.002637     T2E 6L6   \n",
       "1    4.5          0.000000       89002   \n",
       "2    4.0          0.000251     H2G 1K7   \n",
       "3    1.5          0.000628       85003   \n",
       "4    2.0          0.000126     T2H 0N5   \n",
       "\n",
       "                                         all_reviews  \n",
       "0  b'Great place. Major flaw is how early it clos...  \n",
       "1  b\"CK's BBQ is off the charts best BBQ I have E...  \n",
       "2  b\"La nourriture est excellente, le service Imp...  \n",
       "3  b'GEICO for auto is great! But they are really...  \n",
       "4  b\"This listing was originally under gardening ...  "
      ]
     },
     "execution_count": 10,
     "metadata": {},
     "output_type": "execute_result"
    }
   ],
   "source": [
    "merge_df.head()"
   ]
  },
  {
   "cell_type": "code",
   "execution_count": 11,
   "metadata": {},
   "outputs": [
    {
     "name": "stdout",
     "output_type": "stream",
     "text": [
      "float64\n"
     ]
    }
   ],
   "source": [
    "#TF-IDF calculation\n",
    "\n",
    "tfidf = sk_text.TfidfVectorizer(max_features=1000, lowercase=True, analyzer='word',\n",
    " stop_words= 'english',ngram_range=(1,1))\n",
    "\n",
    "# Fit the reviews column with TFIDFvectorizer\n",
    "tfidf_matrix = tfidf.fit_transform(merge_df['all_reviews'])\n",
    "matrix = tfidf_matrix.toarray()\n",
    "\n",
    "# We are adding the normalized count to the original matrix with TFIDFvectorizer\n",
    "x_matrix=np.column_stack((matrix, merge_df['normalized_count']))\n",
    "\n",
    "print(x_matrix.dtype)"
   ]
  },
  {
   "cell_type": "code",
   "execution_count": 12,
   "metadata": {},
   "outputs": [
    {
     "data": {
      "text/plain": [
       "(188052, 1001)"
      ]
     },
     "execution_count": 12,
     "metadata": {},
     "output_type": "execute_result"
    }
   ],
   "source": [
    "x_matrix.shape"
   ]
  },
  {
   "cell_type": "code",
   "execution_count": 13,
   "metadata": {},
   "outputs": [],
   "source": [
    "y_stars = merge_df['stars'].values.astype(np.float32)"
   ]
  },
  {
   "cell_type": "code",
   "execution_count": 14,
   "metadata": {},
   "outputs": [
    {
     "data": {
      "text/plain": [
       "(188052,)"
      ]
     },
     "execution_count": 14,
     "metadata": {},
     "output_type": "execute_result"
    }
   ],
   "source": [
    "y_stars.shape"
   ]
  },
  {
   "cell_type": "code",
   "execution_count": 15,
   "metadata": {},
   "outputs": [],
   "source": [
    "#stars need to be encoded for all the models we are going to train\n",
    "le = preprocessing.LabelEncoder()\n",
    "merge_df['encoded_stars'] = le.fit_transform(merge_df['stars'])\n",
    "\n",
    "# one-hot cooding of postal codes \n",
    "\n",
    "hotcoded_stars_df = pd.get_dummies(merge_df['encoded_stars'], sparse = 'true')"
   ]
  },
  {
   "cell_type": "code",
   "execution_count": 16,
   "metadata": {},
   "outputs": [
    {
     "name": "stdout",
     "output_type": "stream",
     "text": [
      "   0  1  2  3  4  5  6  7  8\n",
      "0  0  0  0  0  0  0  1  0  0\n",
      "1  0  0  0  0  0  0  0  1  0\n",
      "2  0  0  0  0  0  0  1  0  0\n",
      "3  0  1  0  0  0  0  0  0  0\n",
      "4  0  0  1  0  0  0  0  0  0\n",
      "(188052, 9)\n"
     ]
    }
   ],
   "source": [
    "print(hotcoded_stars_df.head())\n",
    "print(hotcoded_stars_df.shape)"
   ]
  },
  {
   "cell_type": "code",
   "execution_count": 17,
   "metadata": {},
   "outputs": [],
   "source": [
    "y_stars_encoded = hotcoded_stars_df.values.astype(np.float32)"
   ]
  },
  {
   "cell_type": "code",
   "execution_count": 18,
   "metadata": {},
   "outputs": [
    {
     "data": {
      "text/plain": [
       "9"
      ]
     },
     "execution_count": 18,
     "metadata": {},
     "output_type": "execute_result"
    }
   ],
   "source": [
    "y_stars_encoded.shape[1]"
   ]
  },
  {
   "cell_type": "code",
   "execution_count": 19,
   "metadata": {},
   "outputs": [
    {
     "data": {
      "text/html": [
       "<div>\n",
       "<style scoped>\n",
       "    .dataframe tbody tr th:only-of-type {\n",
       "        vertical-align: middle;\n",
       "    }\n",
       "\n",
       "    .dataframe tbody tr th {\n",
       "        vertical-align: top;\n",
       "    }\n",
       "\n",
       "    .dataframe thead th {\n",
       "        text-align: right;\n",
       "    }\n",
       "</style>\n",
       "<table border=\"1\" class=\"dataframe\">\n",
       "  <thead>\n",
       "    <tr style=\"text-align: right;\">\n",
       "      <th></th>\n",
       "      <th>business_id</th>\n",
       "      <th>categories</th>\n",
       "      <th>stars</th>\n",
       "      <th>normalized_count</th>\n",
       "      <th>postal code</th>\n",
       "      <th>all_reviews</th>\n",
       "      <th>encoded_stars</th>\n",
       "    </tr>\n",
       "  </thead>\n",
       "  <tbody>\n",
       "    <tr>\n",
       "      <th>0</th>\n",
       "      <td>Apn5Q_b6Nz61Tq4XzPdf9A</td>\n",
       "      <td>Tours, Breweries, Pizza, Restaurants, Food, Ho...</td>\n",
       "      <td>4.0</td>\n",
       "      <td>0.002637</td>\n",
       "      <td>T2E 6L6</td>\n",
       "      <td>b'Great place. Major flaw is how early it clos...</td>\n",
       "      <td>6</td>\n",
       "    </tr>\n",
       "    <tr>\n",
       "      <th>1</th>\n",
       "      <td>AjEbIBw6ZFfln7ePHha9PA</td>\n",
       "      <td>Chicken Wings, Burgers, Caterers, Street Vendo...</td>\n",
       "      <td>4.5</td>\n",
       "      <td>0.000000</td>\n",
       "      <td>89002</td>\n",
       "      <td>b\"CK's BBQ is off the charts best BBQ I have E...</td>\n",
       "      <td>7</td>\n",
       "    </tr>\n",
       "    <tr>\n",
       "      <th>2</th>\n",
       "      <td>O8S5hYJ1SMc8fA4QBtVujA</td>\n",
       "      <td>Breakfast &amp; Brunch, Restaurants, French, Sandw...</td>\n",
       "      <td>4.0</td>\n",
       "      <td>0.000251</td>\n",
       "      <td>H2G 1K7</td>\n",
       "      <td>b\"La nourriture est excellente, le service Imp...</td>\n",
       "      <td>6</td>\n",
       "    </tr>\n",
       "    <tr>\n",
       "      <th>3</th>\n",
       "      <td>bFzdJJ3wp3PZssNEsyU23g</td>\n",
       "      <td>Insurance, Financial Services</td>\n",
       "      <td>1.5</td>\n",
       "      <td>0.000628</td>\n",
       "      <td>85003</td>\n",
       "      <td>b'GEICO for auto is great! But they are really...</td>\n",
       "      <td>1</td>\n",
       "    </tr>\n",
       "    <tr>\n",
       "      <th>4</th>\n",
       "      <td>8USyCYqpScwiNEb58Bt6CA</td>\n",
       "      <td>Home &amp; Garden, Nurseries &amp; Gardening, Shopping...</td>\n",
       "      <td>2.0</td>\n",
       "      <td>0.000126</td>\n",
       "      <td>T2H 0N5</td>\n",
       "      <td>b\"This listing was originally under gardening ...</td>\n",
       "      <td>2</td>\n",
       "    </tr>\n",
       "  </tbody>\n",
       "</table>\n",
       "</div>"
      ],
      "text/plain": [
       "              business_id                                         categories  \\\n",
       "0  Apn5Q_b6Nz61Tq4XzPdf9A  Tours, Breweries, Pizza, Restaurants, Food, Ho...   \n",
       "1  AjEbIBw6ZFfln7ePHha9PA  Chicken Wings, Burgers, Caterers, Street Vendo...   \n",
       "2  O8S5hYJ1SMc8fA4QBtVujA  Breakfast & Brunch, Restaurants, French, Sandw...   \n",
       "3  bFzdJJ3wp3PZssNEsyU23g                      Insurance, Financial Services   \n",
       "4  8USyCYqpScwiNEb58Bt6CA  Home & Garden, Nurseries & Gardening, Shopping...   \n",
       "\n",
       "   stars  normalized_count postal code  \\\n",
       "0    4.0          0.002637     T2E 6L6   \n",
       "1    4.5          0.000000       89002   \n",
       "2    4.0          0.000251     H2G 1K7   \n",
       "3    1.5          0.000628       85003   \n",
       "4    2.0          0.000126     T2H 0N5   \n",
       "\n",
       "                                         all_reviews  encoded_stars  \n",
       "0  b'Great place. Major flaw is how early it clos...              6  \n",
       "1  b\"CK's BBQ is off the charts best BBQ I have E...              7  \n",
       "2  b\"La nourriture est excellente, le service Imp...              6  \n",
       "3  b'GEICO for auto is great! But they are really...              1  \n",
       "4  b\"This listing was originally under gardening ...              2  "
      ]
     },
     "execution_count": 19,
     "metadata": {},
     "output_type": "execute_result"
    }
   ],
   "source": [
    "merge_df.head()"
   ]
  },
  {
   "cell_type": "code",
   "execution_count": 20,
   "metadata": {},
   "outputs": [],
   "source": [
    "#train test data for linear regression\n",
    "\n",
    "x_cont_train, x_cont_test, y_cont_train, y_cont_test = train_test_split(x_matrix, y_stars , test_size=0.2)\n",
    "\n",
    "# train test dat afor other models\n",
    "\n",
    "x_enc_train, x_enc_test, y_enc_train, y_enc_test = train_test_split(x_matrix, y_stars_encoded , test_size=0.2)"
   ]
  },
  {
   "cell_type": "code",
   "execution_count": 21,
   "metadata": {},
   "outputs": [
    {
     "name": "stdout",
     "output_type": "stream",
     "text": [
      "X Train size \n",
      "(150441, 1001)\n",
      "X Test size \n",
      "(37611, 1001)\n",
      "y Train size \n",
      "(150441,)\n",
      "y Test size \n",
      "(37611,)\n",
      "X Train size \n",
      "(150441, 1001)\n",
      "X Test size \n",
      "(37611, 1001)\n",
      "y Train size \n",
      "(150441, 9)\n",
      "y Test size \n",
      "(37611, 9)\n"
     ]
    }
   ],
   "source": [
    "print(\"X Train size \")\n",
    "print(x_cont_train.shape)\n",
    "print(\"X Test size \")\n",
    "print(x_cont_test.shape)\n",
    "print(\"y Train size \")\n",
    "print(y_cont_train.shape)\n",
    "print(\"y Test size \")\n",
    "print(y_cont_test.shape)\n",
    "print(\"X Train size \")\n",
    "print(x_enc_train.shape)\n",
    "print(\"X Test size \")\n",
    "print(x_enc_test.shape)\n",
    "print(\"y Train size \")\n",
    "print(y_enc_train.shape)\n",
    "print(\"y Test size \")\n",
    "print(y_enc_test.shape)"
   ]
  },
  {
   "cell_type": "code",
   "execution_count": 22,
   "metadata": {},
   "outputs": [],
   "source": [
    "# setup early stopping monitor\n",
    "\n",
    "monitor = EarlyStopping(monitor='val_loss', min_delta=1e-3, patience=5, verbose=1, mode='auto')"
   ]
  },
  {
   "cell_type": "markdown",
   "metadata": {},
   "source": [
    "# # Tensorflow model for Regression, Activation -ReLu"
   ]
  },
  {
   "cell_type": "code",
   "execution_count": 23,
   "metadata": {},
   "outputs": [
    {
     "name": "stdout",
     "output_type": "stream",
     "text": [
      "Train on 150441 samples, validate on 37611 samples\n",
      "Epoch 1/100\n",
      "150441/150441 [==============================] - 7s 47us/step - loss: 0.4432 - mean_absolute_error: 0.4469 - val_loss: 0.2145 - val_mean_absolute_error: 0.3468\n",
      "\n",
      "Epoch 00001: val_loss improved from inf to 0.21450, saving model to ./best_weights_relu.hdf5\n",
      "Epoch 2/100\n",
      "150441/150441 [==============================] - 5s 31us/step - loss: 0.2125 - mean_absolute_error: 0.3464 - val_loss: 0.2074 - val_mean_absolute_error: 0.3407\n",
      "\n",
      "Epoch 00002: val_loss improved from 0.21450 to 0.20743, saving model to ./best_weights_relu.hdf5\n",
      "Epoch 3/100\n",
      "150441/150441 [==============================] - 5s 30us/step - loss: 0.2033 - mean_absolute_error: 0.3385 - val_loss: 0.2070 - val_mean_absolute_error: 0.3410\n",
      "\n",
      "Epoch 00003: val_loss improved from 0.20743 to 0.20701, saving model to ./best_weights_relu.hdf5\n",
      "Epoch 4/100\n",
      "150441/150441 [==============================] - 5s 30us/step - loss: 0.1967 - mean_absolute_error: 0.3331 - val_loss: 0.2108 - val_mean_absolute_error: 0.3467\n",
      "\n",
      "Epoch 00004: val_loss did not improve from 0.20701\n",
      "Epoch 5/100\n",
      "150441/150441 [==============================] - 5s 30us/step - loss: 0.1905 - mean_absolute_error: 0.3281 - val_loss: 0.2069 - val_mean_absolute_error: 0.3388\n",
      "\n",
      "Epoch 00005: val_loss improved from 0.20701 to 0.20688, saving model to ./best_weights_relu.hdf5\n",
      "Epoch 6/100\n",
      "150441/150441 [==============================] - 5s 30us/step - loss: 0.1852 - mean_absolute_error: 0.3239 - val_loss: 0.2094 - val_mean_absolute_error: 0.3399\n",
      "\n",
      "Epoch 00006: val_loss did not improve from 0.20688\n",
      "Epoch 7/100\n",
      "150441/150441 [==============================] - 5s 30us/step - loss: 0.1806 - mean_absolute_error: 0.3200 - val_loss: 0.2139 - val_mean_absolute_error: 0.3428\n",
      "\n",
      "Epoch 00007: val_loss did not improve from 0.20688\n",
      "Epoch 00007: early stopping\n",
      "Train on 150441 samples, validate on 37611 samples\n",
      "Epoch 1/100\n",
      "150441/150441 [==============================] - 5s 33us/step - loss: 0.1768 - mean_absolute_error: 0.3175 - val_loss: 0.2115 - val_mean_absolute_error: 0.3413\n",
      "\n",
      "Epoch 00001: val_loss did not improve from 0.20688\n",
      "Epoch 2/100\n",
      "150441/150441 [==============================] - 5s 33us/step - loss: 0.1732 - mean_absolute_error: 0.3142 - val_loss: 0.2210 - val_mean_absolute_error: 0.3474\n",
      "\n",
      "Epoch 00002: val_loss did not improve from 0.20688\n",
      "Epoch 3/100\n",
      "150441/150441 [==============================] - 5s 34us/step - loss: 0.1702 - mean_absolute_error: 0.3119 - val_loss: 0.2201 - val_mean_absolute_error: 0.3465\n",
      "\n",
      "Epoch 00003: val_loss did not improve from 0.20688\n",
      "Epoch 4/100\n",
      "150441/150441 [==============================] - 5s 31us/step - loss: 0.1676 - mean_absolute_error: 0.3097 - val_loss: 0.2181 - val_mean_absolute_error: 0.3460\n",
      "\n",
      "Epoch 00004: val_loss did not improve from 0.20688\n",
      "Epoch 5/100\n",
      "150441/150441 [==============================] - 5s 31us/step - loss: 0.1649 - mean_absolute_error: 0.3075 - val_loss: 0.2194 - val_mean_absolute_error: 0.3454\n",
      "\n",
      "Epoch 00005: val_loss did not improve from 0.20688\n",
      "Epoch 6/100\n",
      "150441/150441 [==============================] - 5s 31us/step - loss: 0.1629 - mean_absolute_error: 0.3057 - val_loss: 0.2235 - val_mean_absolute_error: 0.3474\n",
      "\n",
      "Epoch 00006: val_loss did not improve from 0.20688\n",
      "Epoch 00006: early stopping\n",
      "Train on 150441 samples, validate on 37611 samples\n",
      "Epoch 1/100\n",
      "150441/150441 [==============================] - 5s 34us/step - loss: 0.1613 - mean_absolute_error: 0.3045 - val_loss: 0.2256 - val_mean_absolute_error: 0.3481\n",
      "\n",
      "Epoch 00001: val_loss did not improve from 0.20688\n",
      "Epoch 2/100\n",
      "150441/150441 [==============================] - 5s 32us/step - loss: 0.1594 - mean_absolute_error: 0.3027 - val_loss: 0.2223 - val_mean_absolute_error: 0.3479\n",
      "\n",
      "Epoch 00002: val_loss did not improve from 0.20688\n",
      "Epoch 3/100\n",
      "150441/150441 [==============================] - 6s 38us/step - loss: 0.1576 - mean_absolute_error: 0.3008 - val_loss: 0.2238 - val_mean_absolute_error: 0.3472\n",
      "\n",
      "Epoch 00003: val_loss did not improve from 0.20688\n",
      "Epoch 4/100\n",
      "150441/150441 [==============================] - 5s 32us/step - loss: 0.1556 - mean_absolute_error: 0.2995 - val_loss: 0.2293 - val_mean_absolute_error: 0.3508\n",
      "\n",
      "Epoch 00004: val_loss did not improve from 0.20688\n",
      "Epoch 5/100\n",
      "150441/150441 [==============================] - 5s 31us/step - loss: 0.1542 - mean_absolute_error: 0.2979 - val_loss: 0.2275 - val_mean_absolute_error: 0.3497\n",
      "\n",
      "Epoch 00005: val_loss did not improve from 0.20688\n",
      "Epoch 6/100\n",
      "150441/150441 [==============================] - 5s 31us/step - loss: 0.1522 - mean_absolute_error: 0.2960 - val_loss: 0.2284 - val_mean_absolute_error: 0.3519\n",
      "\n",
      "Epoch 00006: val_loss did not improve from 0.20688\n",
      "Epoch 7/100\n",
      "150441/150441 [==============================] - 5s 32us/step - loss: 0.1507 - mean_absolute_error: 0.2941 - val_loss: 0.2338 - val_mean_absolute_error: 0.3525\n",
      "\n",
      "Epoch 00007: val_loss did not improve from 0.20688\n",
      "Epoch 00007: early stopping\n",
      "Train on 150441 samples, validate on 37611 samples\n",
      "Epoch 1/100\n",
      "150441/150441 [==============================] - 5s 34us/step - loss: 0.1490 - mean_absolute_error: 0.2921 - val_loss: 0.2305 - val_mean_absolute_error: 0.3507\n",
      "\n",
      "Epoch 00001: val_loss did not improve from 0.20688\n",
      "Epoch 2/100\n",
      "150441/150441 [==============================] - 5s 32us/step - loss: 0.1472 - mean_absolute_error: 0.2901 - val_loss: 0.2312 - val_mean_absolute_error: 0.3482\n",
      "\n",
      "Epoch 00002: val_loss did not improve from 0.20688\n",
      "Epoch 3/100\n",
      "150441/150441 [==============================] - 5s 31us/step - loss: 0.1458 - mean_absolute_error: 0.2885 - val_loss: 0.2326 - val_mean_absolute_error: 0.3489\n",
      "\n",
      "Epoch 00003: val_loss did not improve from 0.20688\n",
      "Epoch 4/100\n",
      "150441/150441 [==============================] - 5s 31us/step - loss: 0.1444 - mean_absolute_error: 0.2871 - val_loss: 0.2344 - val_mean_absolute_error: 0.3499\n",
      "\n",
      "Epoch 00004: val_loss did not improve from 0.20688\n",
      "Epoch 5/100\n",
      "150441/150441 [==============================] - 5s 36us/step - loss: 0.1432 - mean_absolute_error: 0.2856 - val_loss: 0.2384 - val_mean_absolute_error: 0.3511\n",
      "\n",
      "Epoch 00005: val_loss did not improve from 0.20688\n",
      "Epoch 6/100\n",
      "150441/150441 [==============================] - 5s 31us/step - loss: 0.1418 - mean_absolute_error: 0.2843 - val_loss: 0.2338 - val_mean_absolute_error: 0.3513\n",
      "\n",
      "Epoch 00006: val_loss did not improve from 0.20688\n",
      "Epoch 00006: early stopping\n",
      "Train on 150441 samples, validate on 37611 samples\n",
      "Epoch 1/100\n",
      "150441/150441 [==============================] - 5s 33us/step - loss: 0.1413 - mean_absolute_error: 0.2843 - val_loss: 0.2343 - val_mean_absolute_error: 0.3505\n",
      "\n",
      "Epoch 00001: val_loss did not improve from 0.20688\n",
      "Epoch 2/100\n",
      "150441/150441 [==============================] - 5s 31us/step - loss: 0.1401 - mean_absolute_error: 0.2830 - val_loss: 0.2364 - val_mean_absolute_error: 0.3537\n",
      "\n",
      "Epoch 00002: val_loss did not improve from 0.20688\n",
      "Epoch 3/100\n",
      "150441/150441 [==============================] - 5s 35us/step - loss: 0.1389 - mean_absolute_error: 0.2818 - val_loss: 0.2370 - val_mean_absolute_error: 0.3542\n",
      "\n",
      "Epoch 00003: val_loss did not improve from 0.20688\n",
      "Epoch 4/100\n",
      "150441/150441 [==============================] - 5s 32us/step - loss: 0.1382 - mean_absolute_error: 0.2812 - val_loss: 0.2426 - val_mean_absolute_error: 0.3534\n",
      "\n",
      "Epoch 00004: val_loss did not improve from 0.20688\n",
      "Epoch 5/100\n",
      "150441/150441 [==============================] - 5s 33us/step - loss: 0.1372 - mean_absolute_error: 0.2802 - val_loss: 0.2452 - val_mean_absolute_error: 0.3581\n",
      "\n",
      "Epoch 00005: val_loss did not improve from 0.20688\n",
      "Epoch 6/100\n",
      "150441/150441 [==============================] - 5s 32us/step - loss: 0.1364 - mean_absolute_error: 0.2795 - val_loss: 0.2403 - val_mean_absolute_error: 0.3531\n",
      "\n",
      "Epoch 00006: val_loss did not improve from 0.20688\n",
      "Epoch 00006: early stopping\n",
      "Train on 150441 samples, validate on 37611 samples\n",
      "Epoch 1/100\n",
      "150441/150441 [==============================] - 5s 36us/step - loss: 0.1360 - mean_absolute_error: 0.2791 - val_loss: 0.2415 - val_mean_absolute_error: 0.3556\n",
      "\n",
      "Epoch 00001: val_loss did not improve from 0.20688\n",
      "Epoch 2/100\n",
      "150441/150441 [==============================] - 5s 33us/step - loss: 0.1350 - mean_absolute_error: 0.2780 - val_loss: 0.2447 - val_mean_absolute_error: 0.3542\n",
      "\n",
      "Epoch 00002: val_loss did not improve from 0.20688\n",
      "Epoch 3/100\n"
     ]
    },
    {
     "name": "stdout",
     "output_type": "stream",
     "text": [
      "150441/150441 [==============================] - 5s 32us/step - loss: 0.1340 - mean_absolute_error: 0.2773 - val_loss: 0.2435 - val_mean_absolute_error: 0.3549\n",
      "\n",
      "Epoch 00003: val_loss did not improve from 0.20688\n",
      "Epoch 4/100\n",
      "150441/150441 [==============================] - 5s 35us/step - loss: 0.1333 - mean_absolute_error: 0.2763 - val_loss: 0.2441 - val_mean_absolute_error: 0.3555\n",
      "\n",
      "Epoch 00004: val_loss did not improve from 0.20688\n",
      "Epoch 5/100\n",
      "150441/150441 [==============================] - 5s 32us/step - loss: 0.1328 - mean_absolute_error: 0.2760 - val_loss: 0.2496 - val_mean_absolute_error: 0.3577\n",
      "\n",
      "Epoch 00005: val_loss did not improve from 0.20688\n",
      "Epoch 6/100\n",
      "150441/150441 [==============================] - 5s 32us/step - loss: 0.1322 - mean_absolute_error: 0.2755 - val_loss: 0.2467 - val_mean_absolute_error: 0.3613\n",
      "\n",
      "Epoch 00006: val_loss did not improve from 0.20688\n",
      "Epoch 00006: early stopping\n",
      "Train on 150441 samples, validate on 37611 samples\n",
      "Epoch 1/100\n",
      "150441/150441 [==============================] - 5s 35us/step - loss: 0.1319 - mean_absolute_error: 0.2752 - val_loss: 0.2468 - val_mean_absolute_error: 0.3560\n",
      "\n",
      "Epoch 00001: val_loss did not improve from 0.20688\n",
      "Epoch 2/100\n",
      "150441/150441 [==============================] - 5s 33us/step - loss: 0.1312 - mean_absolute_error: 0.2745 - val_loss: 0.2480 - val_mean_absolute_error: 0.3583\n",
      "\n",
      "Epoch 00002: val_loss did not improve from 0.20688\n",
      "Epoch 3/100\n",
      "150441/150441 [==============================] - 5s 33us/step - loss: 0.1307 - mean_absolute_error: 0.2742 - val_loss: 0.2507 - val_mean_absolute_error: 0.3632\n",
      "\n",
      "Epoch 00003: val_loss did not improve from 0.20688\n",
      "Epoch 4/100\n",
      "150441/150441 [==============================] - 5s 34us/step - loss: 0.1300 - mean_absolute_error: 0.2734 - val_loss: 0.2523 - val_mean_absolute_error: 0.3610\n",
      "\n",
      "Epoch 00004: val_loss did not improve from 0.20688\n",
      "Epoch 5/100\n",
      "150441/150441 [==============================] - 5s 34us/step - loss: 0.1295 - mean_absolute_error: 0.2728 - val_loss: 0.2496 - val_mean_absolute_error: 0.3592\n",
      "\n",
      "Epoch 00005: val_loss did not improve from 0.20688\n",
      "Epoch 6/100\n",
      "150441/150441 [==============================] - 5s 33us/step - loss: 0.1291 - mean_absolute_error: 0.2725 - val_loss: 0.2511 - val_mean_absolute_error: 0.3614\n",
      "\n",
      "Epoch 00006: val_loss did not improve from 0.20688\n",
      "Epoch 00006: early stopping\n",
      "Train on 150441 samples, validate on 37611 samples\n",
      "Epoch 1/100\n",
      "150441/150441 [==============================] - 5s 36us/step - loss: 0.1290 - mean_absolute_error: 0.2725 - val_loss: 0.2510 - val_mean_absolute_error: 0.3619\n",
      "\n",
      "Epoch 00001: val_loss did not improve from 0.20688\n",
      "Epoch 2/100\n",
      "150441/150441 [==============================] - 5s 33us/step - loss: 0.1280 - mean_absolute_error: 0.2714 - val_loss: 0.2558 - val_mean_absolute_error: 0.3684\n",
      "\n",
      "Epoch 00002: val_loss did not improve from 0.20688\n",
      "Epoch 3/100\n",
      "150441/150441 [==============================] - 5s 33us/step - loss: 0.1278 - mean_absolute_error: 0.2714 - val_loss: 0.2517 - val_mean_absolute_error: 0.3591\n",
      "\n",
      "Epoch 00003: val_loss did not improve from 0.20688\n",
      "Epoch 4/100\n",
      "150441/150441 [==============================] - 5s 33us/step - loss: 0.1274 - mean_absolute_error: 0.2707 - val_loss: 0.2542 - val_mean_absolute_error: 0.3597\n",
      "\n",
      "Epoch 00004: val_loss did not improve from 0.20688\n",
      "Epoch 5/100\n",
      "150441/150441 [==============================] - 5s 34us/step - loss: 0.1270 - mean_absolute_error: 0.2707 - val_loss: 0.2551 - val_mean_absolute_error: 0.3608\n",
      "\n",
      "Epoch 00005: val_loss did not improve from 0.20688\n",
      "Epoch 6/100\n",
      "150441/150441 [==============================] - 5s 33us/step - loss: 0.1267 - mean_absolute_error: 0.2703 - val_loss: 0.2587 - val_mean_absolute_error: 0.3633\n",
      "\n",
      "Epoch 00006: val_loss did not improve from 0.20688\n",
      "Epoch 00006: early stopping\n",
      "Train on 150441 samples, validate on 37611 samples\n",
      "Epoch 1/100\n",
      "150441/150441 [==============================] - 5s 37us/step - loss: 0.1264 - mean_absolute_error: 0.2701 - val_loss: 0.2556 - val_mean_absolute_error: 0.3660\n",
      "\n",
      "Epoch 00001: val_loss did not improve from 0.20688\n",
      "Epoch 2/100\n",
      "150441/150441 [==============================] - 5s 34us/step - loss: 0.1259 - mean_absolute_error: 0.2694 - val_loss: 0.2562 - val_mean_absolute_error: 0.3622\n",
      "\n",
      "Epoch 00002: val_loss did not improve from 0.20688\n",
      "Epoch 3/100\n",
      "150441/150441 [==============================] - 5s 34us/step - loss: 0.1255 - mean_absolute_error: 0.2690 - val_loss: 0.2549 - val_mean_absolute_error: 0.3611\n",
      "\n",
      "Epoch 00003: val_loss did not improve from 0.20688\n",
      "Epoch 4/100\n",
      "150441/150441 [==============================] - 5s 33us/step - loss: 0.1252 - mean_absolute_error: 0.2688 - val_loss: 0.2586 - val_mean_absolute_error: 0.3636\n",
      "\n",
      "Epoch 00004: val_loss did not improve from 0.20688\n",
      "Epoch 5/100\n",
      "150441/150441 [==============================] - 5s 34us/step - loss: 0.1249 - mean_absolute_error: 0.2683 - val_loss: 0.2571 - val_mean_absolute_error: 0.3686\n",
      "\n",
      "Epoch 00005: val_loss did not improve from 0.20688\n",
      "Epoch 6/100\n",
      "150441/150441 [==============================] - 5s 34us/step - loss: 0.1244 - mean_absolute_error: 0.2678 - val_loss: 0.2573 - val_mean_absolute_error: 0.3616\n",
      "\n",
      "Epoch 00006: val_loss did not improve from 0.20688\n",
      "Epoch 00006: early stopping\n",
      "Train on 150441 samples, validate on 37611 samples\n",
      "Epoch 1/100\n",
      "150441/150441 [==============================] - 5s 36us/step - loss: 0.1245 - mean_absolute_error: 0.2682 - val_loss: 0.2570 - val_mean_absolute_error: 0.3639\n",
      "\n",
      "Epoch 00001: val_loss did not improve from 0.20688\n",
      "Epoch 2/100\n",
      "150441/150441 [==============================] - 5s 33us/step - loss: 0.1239 - mean_absolute_error: 0.2674 - val_loss: 0.2592 - val_mean_absolute_error: 0.3627\n",
      "\n",
      "Epoch 00002: val_loss did not improve from 0.20688\n",
      "Epoch 3/100\n",
      "150441/150441 [==============================] - 5s 33us/step - loss: 0.1238 - mean_absolute_error: 0.2674 - val_loss: 0.2632 - val_mean_absolute_error: 0.3639\n",
      "\n",
      "Epoch 00003: val_loss did not improve from 0.20688\n",
      "Epoch 4/100\n",
      "150441/150441 [==============================] - 5s 33us/step - loss: 0.1233 - mean_absolute_error: 0.2668 - val_loss: 0.2596 - val_mean_absolute_error: 0.3644\n",
      "\n",
      "Epoch 00004: val_loss did not improve from 0.20688\n",
      "Epoch 5/100\n",
      "150441/150441 [==============================] - 5s 33us/step - loss: 0.1233 - mean_absolute_error: 0.2668 - val_loss: 0.2629 - val_mean_absolute_error: 0.3707\n",
      "\n",
      "Epoch 00005: val_loss did not improve from 0.20688\n",
      "Epoch 6/100\n",
      "150441/150441 [==============================] - 5s 33us/step - loss: 0.1230 - mean_absolute_error: 0.2665 - val_loss: 0.2619 - val_mean_absolute_error: 0.3662\n",
      "\n",
      "Epoch 00006: val_loss did not improve from 0.20688\n",
      "Epoch 00006: early stopping\n"
     ]
    }
   ],
   "source": [
    "# Tensorflow model for Regression\n",
    "\n",
    "model_reg_relu = Sequential()\n",
    "\n",
    "model_reg_relu.add(Dense(25, input_dim=x_cont_train.shape[1], activation='relu')) # Hidden 1     #  why input_dim=x.shape[1]?  \n",
    "model_reg_relu.add(Dense(10, activation='relu')) # Hidden 2\n",
    "model_reg_relu.add(Dense(1)) # Output\n",
    "\n",
    "# set up checkpointer\n",
    "checkpointer = ModelCheckpoint(filepath=\"./best_weights_relu.hdf5\", verbose=1, save_best_only=True)\n",
    "\n",
    "for i in range(10):\n",
    "    model_reg_relu.compile(loss='mean_squared_error', optimizer='adam', metrics=['mae'])\n",
    "    model_reg_relu.fit(x_cont_train,y_cont_train,validation_data=(x_cont_test,y_cont_test),callbacks=[monitor,checkpointer],verbose=1,epochs=100) \n",
    "\n",
    "model_reg_relu.load_weights('./best_weights_relu.hdf5')"
   ]
  },
  {
   "cell_type": "code",
   "execution_count": 24,
   "metadata": {
    "scrolled": true
   },
   "outputs": [
    {
     "name": "stdout",
     "output_type": "stream",
     "text": [
      "Shape: (37611, 1)\n",
      "[[3.92646  ]\n",
      " [3.3934653]\n",
      " [4.483278 ]\n",
      " ...\n",
      " [3.9256923]\n",
      " [4.0380645]\n",
      " [4.014315 ]]\n"
     ]
    }
   ],
   "source": [
    "pred_reg_relu = model_reg_relu.predict(x_cont_test)\n",
    "print(\"Shape: {}\".format(pred_reg_relu.shape))\n",
    "print(pred_reg_relu)"
   ]
  },
  {
   "cell_type": "code",
   "execution_count": 25,
   "metadata": {
    "scrolled": true
   },
   "outputs": [
    {
     "name": "stdout",
     "output_type": "stream",
     "text": [
      "1. Business ID: diaiQrxYFU1V5qxrFnW9fg, Actual Stars: 4.5, predicted Stars: [3.92646]\n",
      "2. Business ID: TDTASGFy_aGp6vy0i23mDA, Actual Stars: 3.5, predicted Stars: [3.3934653]\n",
      "3. Business ID: VuKJ2s_JP8weQ54NfsXJXQ, Actual Stars: 4.5, predicted Stars: [4.483278]\n",
      "4. Business ID: aGiBg2WKOpXS5-1DRnBiAQ, Actual Stars: 4.5, predicted Stars: [4.816037]\n",
      "5. Business ID: ZMmgFw2P4LWsFXNn1ZGc1g, Actual Stars: 3.0, predicted Stars: [2.6938899]\n",
      "6. Business ID: sEKFq5u8P_s0-2mAZnx0JQ, Actual Stars: 3.0, predicted Stars: [2.9509478]\n",
      "7. Business ID: rYziPPEILDXJ_F5uKR--YQ, Actual Stars: 4.5, predicted Stars: [3.6861687]\n",
      "8. Business ID: Swm_uMOWNcJDZz5lXWyzKA, Actual Stars: 3.5, predicted Stars: [3.7589426]\n",
      "9. Business ID: 6nGnVP7M4qQRiclXxeqXSQ, Actual Stars: 3.5, predicted Stars: [3.0025063]\n",
      "10. Business ID: Tc24GX9-ZPr4_SHU0nJZZA, Actual Stars: 2.5, predicted Stars: [2.6642344]\n"
     ]
    }
   ],
   "source": [
    "for i in range(10):\n",
    "    print(\"{}. Business ID: {}, Actual Stars: {}, predicted Stars: {}\".format(i+1,merge_df['business_id'][2000+i],y_cont_test[i],pred_reg_relu[i]))"
   ]
  },
  {
   "cell_type": "code",
   "execution_count": 26,
   "metadata": {
    "scrolled": true
   },
   "outputs": [
    {
     "name": "stdout",
     "output_type": "stream",
     "text": [
      "Final score (RMSE): 0.45483526587486267\n",
      "R2 score: 0.80\n"
     ]
    }
   ],
   "source": [
    "# Measure RMSE error.  RMSE is common for regression.\n",
    "score = np.sqrt(mean_squared_error(y_cont_test,pred_reg_relu))\n",
    "print(\"Final score (RMSE): {}\".format(score))\n",
    "print('R2 score: %.2f' % r2_score(y_cont_test, pred_reg_relu))"
   ]
  },
  {
   "cell_type": "markdown",
   "metadata": {},
   "source": [
    "# # Tensorflow model for Regression, Activation -  Sigmoid"
   ]
  },
  {
   "cell_type": "code",
   "execution_count": 27,
   "metadata": {},
   "outputs": [
    {
     "name": "stdout",
     "output_type": "stream",
     "text": [
      "Epoch 1/100\n",
      " - 5s - loss: 0.4835\n",
      "Epoch 2/100\n",
      " - 4s - loss: 0.2190\n",
      "Epoch 3/100\n",
      " - 4s - loss: 0.2095\n",
      "Epoch 4/100\n",
      " - 4s - loss: 0.2043\n",
      "Epoch 5/100\n",
      " - 4s - loss: 0.2008\n",
      "Epoch 6/100\n",
      " - 4s - loss: 0.1982\n",
      "Epoch 7/100\n",
      " - 4s - loss: 0.1964\n",
      "Epoch 8/100\n",
      " - 4s - loss: 0.1949\n",
      "Epoch 9/100\n",
      " - 4s - loss: 0.1938\n",
      "Epoch 10/100\n",
      " - 4s - loss: 0.1928\n",
      "Epoch 11/100\n",
      " - 4s - loss: 0.1920\n",
      "Epoch 12/100\n",
      " - 4s - loss: 0.1914\n",
      "Epoch 13/100\n",
      " - 4s - loss: 0.1908\n",
      "Epoch 14/100\n",
      " - 4s - loss: 0.1901\n",
      "Epoch 15/100\n",
      " - 4s - loss: 0.1895\n",
      "Epoch 16/100\n",
      " - 4s - loss: 0.1888\n",
      "Epoch 17/100\n",
      " - 4s - loss: 0.1881\n",
      "Epoch 18/100\n",
      " - 4s - loss: 0.1872\n",
      "Epoch 19/100\n",
      " - 4s - loss: 0.1865\n",
      "Epoch 20/100\n",
      " - 4s - loss: 0.1856\n",
      "Epoch 21/100\n",
      " - 4s - loss: 0.1848\n",
      "Epoch 22/100\n",
      " - 4s - loss: 0.1841\n",
      "Epoch 23/100\n",
      " - 4s - loss: 0.1832\n",
      "Epoch 24/100\n",
      " - 4s - loss: 0.1824\n",
      "Epoch 25/100\n",
      " - 4s - loss: 0.1816\n",
      "Epoch 26/100\n",
      " - 4s - loss: 0.1809\n",
      "Epoch 27/100\n",
      " - 4s - loss: 0.1800\n",
      "Epoch 28/100\n",
      " - 4s - loss: 0.1795\n",
      "Epoch 29/100\n",
      " - 4s - loss: 0.1787\n",
      "Epoch 30/100\n",
      " - 4s - loss: 0.1779\n",
      "Epoch 31/100\n",
      " - 4s - loss: 0.1771\n",
      "Epoch 32/100\n",
      " - 4s - loss: 0.1765\n",
      "Epoch 33/100\n",
      " - 4s - loss: 0.1758\n",
      "Epoch 34/100\n",
      " - 4s - loss: 0.1751\n",
      "Epoch 35/100\n",
      " - 4s - loss: 0.1743\n",
      "Epoch 36/100\n",
      " - 4s - loss: 0.1736\n",
      "Epoch 37/100\n",
      " - 4s - loss: 0.1729\n",
      "Epoch 38/100\n",
      " - 4s - loss: 0.1723\n",
      "Epoch 39/100\n",
      " - 4s - loss: 0.1716\n",
      "Epoch 40/100\n",
      " - 4s - loss: 0.1709\n",
      "Epoch 41/100\n",
      " - 4s - loss: 0.1701\n",
      "Epoch 42/100\n",
      " - 4s - loss: 0.1695\n",
      "Epoch 43/100\n",
      " - 4s - loss: 0.1687\n",
      "Epoch 44/100\n",
      " - 4s - loss: 0.1681\n",
      "Epoch 45/100\n",
      " - 4s - loss: 0.1674\n",
      "Epoch 46/100\n",
      " - 4s - loss: 0.1667\n",
      "Epoch 47/100\n",
      " - 4s - loss: 0.1660\n",
      "Epoch 48/100\n",
      " - 4s - loss: 0.1652\n",
      "Epoch 49/100\n",
      " - 4s - loss: 0.1645\n",
      "Epoch 50/100\n",
      " - 4s - loss: 0.1638\n",
      "Epoch 51/100\n",
      " - 4s - loss: 0.1631\n",
      "Epoch 52/100\n",
      " - 4s - loss: 0.1625\n",
      "Epoch 53/100\n",
      " - 4s - loss: 0.1616\n",
      "Epoch 54/100\n",
      " - 4s - loss: 0.1609\n",
      "Epoch 55/100\n",
      " - 4s - loss: 0.1602\n",
      "Epoch 56/100\n",
      " - 4s - loss: 0.1595\n",
      "Epoch 57/100\n",
      " - 4s - loss: 0.1588\n",
      "Epoch 58/100\n",
      " - 4s - loss: 0.1580\n",
      "Epoch 59/100\n",
      " - 4s - loss: 0.1574\n",
      "Epoch 60/100\n",
      " - 4s - loss: 0.1566\n",
      "Epoch 61/100\n",
      " - 4s - loss: 0.1560\n",
      "Epoch 62/100\n",
      " - 4s - loss: 0.1552\n",
      "Epoch 63/100\n",
      " - 4s - loss: 0.1545\n",
      "Epoch 64/100\n",
      " - 4s - loss: 0.1539\n",
      "Epoch 65/100\n",
      " - 4s - loss: 0.1531\n",
      "Epoch 66/100\n",
      " - 4s - loss: 0.1525\n",
      "Epoch 67/100\n",
      " - 4s - loss: 0.1517\n",
      "Epoch 68/100\n",
      " - 4s - loss: 0.1511\n",
      "Epoch 69/100\n",
      " - 4s - loss: 0.1504\n",
      "Epoch 70/100\n",
      " - 4s - loss: 0.1498\n",
      "Epoch 71/100\n",
      " - 4s - loss: 0.1492\n",
      "Epoch 72/100\n",
      " - 4s - loss: 0.1484\n",
      "Epoch 73/100\n",
      " - 4s - loss: 0.1479\n",
      "Epoch 74/100\n",
      " - 4s - loss: 0.1473\n",
      "Epoch 75/100\n",
      " - 4s - loss: 0.1467\n",
      "Epoch 76/100\n",
      " - 4s - loss: 0.1460\n",
      "Epoch 77/100\n",
      " - 4s - loss: 0.1453\n",
      "Epoch 78/100\n",
      " - 4s - loss: 0.1447\n",
      "Epoch 79/100\n",
      " - 4s - loss: 0.1441\n",
      "Epoch 80/100\n",
      " - 4s - loss: 0.1436\n",
      "Epoch 81/100\n",
      " - 4s - loss: 0.1430\n",
      "Epoch 82/100\n",
      " - 4s - loss: 0.1424\n",
      "Epoch 83/100\n",
      " - 4s - loss: 0.1420\n",
      "Epoch 84/100\n",
      " - 4s - loss: 0.1414\n",
      "Epoch 85/100\n",
      " - 4s - loss: 0.1409\n",
      "Epoch 86/100\n",
      " - 4s - loss: 0.1403\n",
      "Epoch 87/100\n",
      " - 4s - loss: 0.1398\n",
      "Epoch 88/100\n",
      " - 4s - loss: 0.1393\n",
      "Epoch 89/100\n",
      " - 4s - loss: 0.1389\n",
      "Epoch 90/100\n",
      " - 4s - loss: 0.1384\n",
      "Epoch 91/100\n",
      " - 4s - loss: 0.1379\n",
      "Epoch 92/100\n",
      " - 4s - loss: 0.1374\n",
      "Epoch 93/100\n",
      " - 4s - loss: 0.1369\n",
      "Epoch 94/100\n",
      " - 4s - loss: 0.1365\n",
      "Epoch 95/100\n",
      " - 4s - loss: 0.1361\n",
      "Epoch 96/100\n",
      " - 4s - loss: 0.1355\n",
      "Epoch 97/100\n",
      " - 4s - loss: 0.1352\n",
      "Epoch 98/100\n",
      " - 4s - loss: 0.1347\n",
      "Epoch 99/100\n",
      " - 4s - loss: 0.1343\n",
      "Epoch 100/100\n",
      " - 4s - loss: 0.1339\n"
     ]
    },
    {
     "data": {
      "text/plain": [
       "<keras.callbacks.History at 0x1a9b67cc18>"
      ]
     },
     "execution_count": 27,
     "metadata": {},
     "output_type": "execute_result"
    }
   ],
   "source": [
    "\n",
    "\n",
    "model_reg_sig = Sequential()\n",
    "\n",
    "model_reg_sig.add(Dense(25, input_dim=x_cont_train.shape[1], activation='sigmoid')) # Hidden 1     #  why input_dim=x.shape[1]?  \n",
    "model_reg_sig.add(Dense(10, activation='sigmoid')) # Hidden 2\n",
    "model_reg_sig.add(Dense(1)) # Output\n",
    "\n",
    "model_reg_sig.compile(loss='mean_squared_error', optimizer='adam')\n",
    "\n",
    "model_reg_sig.fit(x_cont_train,y_cont_train,verbose=2,epochs=100)    # Verbosity mode. 0 = silent, 1 = progress bar, 2 = one line per epoch."
   ]
  },
  {
   "cell_type": "code",
   "execution_count": 28,
   "metadata": {},
   "outputs": [
    {
     "name": "stdout",
     "output_type": "stream",
     "text": [
      "Shape: (37611, 1)\n",
      "[[4.0453157]\n",
      " [3.4327214]\n",
      " [4.647158 ]\n",
      " ...\n",
      " [3.5709999]\n",
      " [3.8430572]\n",
      " [3.138085 ]]\n"
     ]
    }
   ],
   "source": [
    "pred_reg_sig = model_reg_sig.predict(x_cont_test)\n",
    "print(\"Shape: {}\".format(pred_reg_sig.shape))\n",
    "print(pred_reg_sig)"
   ]
  },
  {
   "cell_type": "code",
   "execution_count": 29,
   "metadata": {},
   "outputs": [
    {
     "name": "stdout",
     "output_type": "stream",
     "text": [
      "1. Business ID: diaiQrxYFU1V5qxrFnW9fg, Actual Stars: 4.5, predicted Stars: [4.0453157]\n",
      "2. Business ID: TDTASGFy_aGp6vy0i23mDA, Actual Stars: 3.5, predicted Stars: [3.4327214]\n",
      "3. Business ID: VuKJ2s_JP8weQ54NfsXJXQ, Actual Stars: 4.5, predicted Stars: [4.647158]\n",
      "4. Business ID: aGiBg2WKOpXS5-1DRnBiAQ, Actual Stars: 4.5, predicted Stars: [4.883079]\n",
      "5. Business ID: ZMmgFw2P4LWsFXNn1ZGc1g, Actual Stars: 3.0, predicted Stars: [2.6510696]\n",
      "6. Business ID: sEKFq5u8P_s0-2mAZnx0JQ, Actual Stars: 3.0, predicted Stars: [2.634763]\n",
      "7. Business ID: rYziPPEILDXJ_F5uKR--YQ, Actual Stars: 4.5, predicted Stars: [4.069232]\n",
      "8. Business ID: Swm_uMOWNcJDZz5lXWyzKA, Actual Stars: 3.5, predicted Stars: [3.528416]\n",
      "9. Business ID: 6nGnVP7M4qQRiclXxeqXSQ, Actual Stars: 3.5, predicted Stars: [2.6707253]\n",
      "10. Business ID: Tc24GX9-ZPr4_SHU0nJZZA, Actual Stars: 2.5, predicted Stars: [3.1336753]\n"
     ]
    }
   ],
   "source": [
    "for i in range(10):\n",
    "    print(\"{}. Business ID: {}, Actual Stars: {}, predicted Stars: {}\".format(i+1,merge_df['business_id'][2000+i],y_cont_test[i],pred_reg_sig[i]))"
   ]
  },
  {
   "cell_type": "code",
   "execution_count": 30,
   "metadata": {},
   "outputs": [
    {
     "name": "stdout",
     "output_type": "stream",
     "text": [
      "Final score (RMSE): 0.4749263823032379\n",
      "R2 score: 0.78\n"
     ]
    }
   ],
   "source": [
    "# Measure RMSE error.  RMSE is common for regression.\n",
    "score = np.sqrt(mean_squared_error(y_cont_test,pred_reg_sig))\n",
    "print(\"Final score (RMSE): {}\".format(score))\n",
    "print('R2 score: %.2f' % r2_score(y_cont_test, pred_reg_sig))"
   ]
  },
  {
   "cell_type": "markdown",
   "metadata": {},
   "source": [
    "# #  Tensorflow model for Regression, Activation -  Tanh"
   ]
  },
  {
   "cell_type": "code",
   "execution_count": 31,
   "metadata": {},
   "outputs": [
    {
     "name": "stdout",
     "output_type": "stream",
     "text": [
      "Epoch 1/100\n",
      " - 5s - loss: 0.3254\n",
      "Epoch 2/100\n",
      " - 4s - loss: 0.2046\n",
      "Epoch 3/100\n",
      " - 4s - loss: 0.1991\n",
      "Epoch 4/100\n",
      " - 4s - loss: 0.1960\n",
      "Epoch 5/100\n",
      " - 4s - loss: 0.1938\n",
      "Epoch 6/100\n",
      " - 4s - loss: 0.1919\n",
      "Epoch 7/100\n",
      " - 4s - loss: 0.1904\n",
      "Epoch 8/100\n",
      " - 4s - loss: 0.1891\n",
      "Epoch 9/100\n",
      " - 4s - loss: 0.1878\n",
      "Epoch 10/100\n",
      " - 4s - loss: 0.1865\n",
      "Epoch 11/100\n",
      " - 4s - loss: 0.1854\n",
      "Epoch 12/100\n",
      " - 4s - loss: 0.1840\n",
      "Epoch 13/100\n",
      " - 4s - loss: 0.1827\n",
      "Epoch 14/100\n",
      " - 4s - loss: 0.1815\n",
      "Epoch 15/100\n",
      " - 4s - loss: 0.1798\n",
      "Epoch 16/100\n",
      " - 4s - loss: 0.1784\n",
      "Epoch 17/100\n",
      " - 4s - loss: 0.1771\n",
      "Epoch 18/100\n",
      " - 4s - loss: 0.1755\n",
      "Epoch 19/100\n",
      " - 4s - loss: 0.1741\n",
      "Epoch 20/100\n",
      " - 4s - loss: 0.1726\n",
      "Epoch 21/100\n",
      " - 4s - loss: 0.1711\n",
      "Epoch 22/100\n",
      " - 4s - loss: 0.1696\n",
      "Epoch 23/100\n",
      " - 4s - loss: 0.1681\n",
      "Epoch 24/100\n",
      " - 4s - loss: 0.1666\n",
      "Epoch 25/100\n",
      " - 4s - loss: 0.1650\n",
      "Epoch 26/100\n",
      " - 4s - loss: 0.1635\n",
      "Epoch 27/100\n",
      " - 4s - loss: 0.1622\n",
      "Epoch 28/100\n",
      " - 4s - loss: 0.1609\n",
      "Epoch 29/100\n",
      " - 4s - loss: 0.1592\n",
      "Epoch 30/100\n",
      " - 4s - loss: 0.1580\n",
      "Epoch 31/100\n",
      " - 4s - loss: 0.1566\n",
      "Epoch 32/100\n",
      " - 4s - loss: 0.1553\n",
      "Epoch 33/100\n",
      " - 4s - loss: 0.1540\n",
      "Epoch 34/100\n",
      " - 4s - loss: 0.1530\n",
      "Epoch 35/100\n",
      " - 4s - loss: 0.1517\n",
      "Epoch 36/100\n",
      " - 4s - loss: 0.1507\n",
      "Epoch 37/100\n",
      " - 4s - loss: 0.1496\n",
      "Epoch 38/100\n",
      " - 4s - loss: 0.1483\n",
      "Epoch 39/100\n",
      " - 4s - loss: 0.1474\n",
      "Epoch 40/100\n",
      " - 4s - loss: 0.1463\n",
      "Epoch 41/100\n",
      " - 4s - loss: 0.1452\n",
      "Epoch 42/100\n",
      " - 4s - loss: 0.1442\n",
      "Epoch 43/100\n",
      " - 4s - loss: 0.1434\n",
      "Epoch 44/100\n",
      " - 4s - loss: 0.1426\n",
      "Epoch 45/100\n",
      " - 4s - loss: 0.1417\n",
      "Epoch 46/100\n",
      " - 4s - loss: 0.1409\n",
      "Epoch 47/100\n",
      " - 4s - loss: 0.1400\n",
      "Epoch 48/100\n",
      " - 4s - loss: 0.1391\n",
      "Epoch 49/100\n",
      " - 4s - loss: 0.1384\n",
      "Epoch 50/100\n",
      " - 4s - loss: 0.1376\n",
      "Epoch 51/100\n",
      " - 4s - loss: 0.1368\n",
      "Epoch 52/100\n",
      " - 4s - loss: 0.1361\n",
      "Epoch 53/100\n",
      " - 5s - loss: 0.1354\n",
      "Epoch 54/100\n",
      " - 4s - loss: 0.1347\n",
      "Epoch 55/100\n",
      " - 4s - loss: 0.1342\n",
      "Epoch 56/100\n",
      " - 4s - loss: 0.1335\n",
      "Epoch 57/100\n",
      " - 4s - loss: 0.1329\n",
      "Epoch 58/100\n",
      " - 5s - loss: 0.1324\n",
      "Epoch 59/100\n",
      " - 4s - loss: 0.1317\n",
      "Epoch 60/100\n",
      " - 4s - loss: 0.1312\n",
      "Epoch 61/100\n",
      " - 4s - loss: 0.1306\n",
      "Epoch 62/100\n",
      " - 4s - loss: 0.1300\n",
      "Epoch 63/100\n",
      " - 4s - loss: 0.1296\n",
      "Epoch 64/100\n",
      " - 4s - loss: 0.1290\n",
      "Epoch 65/100\n",
      " - 4s - loss: 0.1284\n",
      "Epoch 66/100\n",
      " - 4s - loss: 0.1281\n",
      "Epoch 67/100\n",
      " - 4s - loss: 0.1277\n",
      "Epoch 68/100\n",
      " - 4s - loss: 0.1271\n",
      "Epoch 69/100\n",
      " - 4s - loss: 0.1266\n",
      "Epoch 70/100\n",
      " - 4s - loss: 0.1262\n",
      "Epoch 71/100\n",
      " - 4s - loss: 0.1258\n",
      "Epoch 72/100\n",
      " - 4s - loss: 0.1254\n",
      "Epoch 73/100\n",
      " - 4s - loss: 0.1250\n",
      "Epoch 74/100\n",
      " - 4s - loss: 0.1245\n",
      "Epoch 75/100\n",
      " - 4s - loss: 0.1242\n",
      "Epoch 76/100\n",
      " - 4s - loss: 0.1238\n",
      "Epoch 77/100\n",
      " - 4s - loss: 0.1234\n",
      "Epoch 78/100\n",
      " - 4s - loss: 0.1230\n",
      "Epoch 79/100\n",
      " - 4s - loss: 0.1227\n",
      "Epoch 80/100\n",
      " - 4s - loss: 0.1224\n",
      "Epoch 81/100\n",
      " - 4s - loss: 0.1220\n",
      "Epoch 82/100\n",
      " - 4s - loss: 0.1217\n",
      "Epoch 83/100\n",
      " - 4s - loss: 0.1214\n",
      "Epoch 84/100\n",
      " - 4s - loss: 0.1210\n",
      "Epoch 85/100\n",
      " - 4s - loss: 0.1207\n",
      "Epoch 86/100\n",
      " - 4s - loss: 0.1205\n",
      "Epoch 87/100\n",
      " - 4s - loss: 0.1201\n",
      "Epoch 88/100\n",
      " - 4s - loss: 0.1198\n",
      "Epoch 89/100\n",
      " - 4s - loss: 0.1196\n",
      "Epoch 90/100\n",
      " - 4s - loss: 0.1192\n",
      "Epoch 91/100\n",
      " - 4s - loss: 0.1190\n",
      "Epoch 92/100\n",
      " - 4s - loss: 0.1187\n",
      "Epoch 93/100\n",
      " - 4s - loss: 0.1185\n",
      "Epoch 94/100\n",
      " - 4s - loss: 0.1182\n",
      "Epoch 95/100\n",
      " - 4s - loss: 0.1179\n",
      "Epoch 96/100\n",
      " - 4s - loss: 0.1177\n",
      "Epoch 97/100\n",
      " - 4s - loss: 0.1174\n",
      "Epoch 98/100\n",
      " - 4s - loss: 0.1171\n",
      "Epoch 99/100\n",
      " - 5s - loss: 0.1169\n",
      "Epoch 100/100\n",
      " - 4s - loss: 0.1168\n"
     ]
    },
    {
     "data": {
      "text/plain": [
       "<keras.callbacks.History at 0x1a38b2b908>"
      ]
     },
     "execution_count": 31,
     "metadata": {},
     "output_type": "execute_result"
    }
   ],
   "source": [
    "\n",
    "\n",
    "model_reg_tanh = Sequential()\n",
    "\n",
    "model_reg_tanh.add(Dense(25, input_dim=x_cont_train.shape[1], activation='tanh')) # Hidden 1     #  why input_dim=x.shape[1]?  \n",
    "model_reg_tanh.add(Dense(10, activation='tanh')) # Hidden 2\n",
    "model_reg_tanh.add(Dense(1)) # Output\n",
    "\n",
    "model_reg_tanh.compile(loss='mean_squared_error', optimizer='adam')\n",
    "\n",
    "model_reg_tanh.fit(x_cont_train,y_cont_train,verbose=2,epochs=100)    # Verbosity mode. 0 = silent, 1 = progress bar, 2 = one line per epoch."
   ]
  },
  {
   "cell_type": "code",
   "execution_count": 32,
   "metadata": {},
   "outputs": [
    {
     "name": "stdout",
     "output_type": "stream",
     "text": [
      "Shape: (37611, 1)\n",
      "[[4.4487305]\n",
      " [3.3607907]\n",
      " [4.5103235]\n",
      " ...\n",
      " [3.6535573]\n",
      " [3.7582762]\n",
      " [3.7692714]]\n"
     ]
    }
   ],
   "source": [
    "pred_reg_tanh = model_reg_tanh.predict(x_cont_test)\n",
    "print(\"Shape: {}\".format(pred_reg_tanh.shape))\n",
    "print(pred_reg_tanh)"
   ]
  },
  {
   "cell_type": "code",
   "execution_count": 33,
   "metadata": {},
   "outputs": [
    {
     "name": "stdout",
     "output_type": "stream",
     "text": [
      "1. Business ID: diaiQrxYFU1V5qxrFnW9fg, Actual Stars: 4.5, predicted Stars: [4.4487305]\n",
      "2. Business ID: TDTASGFy_aGp6vy0i23mDA, Actual Stars: 3.5, predicted Stars: [3.3607907]\n",
      "3. Business ID: VuKJ2s_JP8weQ54NfsXJXQ, Actual Stars: 4.5, predicted Stars: [4.5103235]\n",
      "4. Business ID: aGiBg2WKOpXS5-1DRnBiAQ, Actual Stars: 4.5, predicted Stars: [4.8939233]\n",
      "5. Business ID: ZMmgFw2P4LWsFXNn1ZGc1g, Actual Stars: 3.0, predicted Stars: [2.620066]\n",
      "6. Business ID: sEKFq5u8P_s0-2mAZnx0JQ, Actual Stars: 3.0, predicted Stars: [2.890732]\n",
      "7. Business ID: rYziPPEILDXJ_F5uKR--YQ, Actual Stars: 4.5, predicted Stars: [3.1466634]\n",
      "8. Business ID: Swm_uMOWNcJDZz5lXWyzKA, Actual Stars: 3.5, predicted Stars: [3.691975]\n",
      "9. Business ID: 6nGnVP7M4qQRiclXxeqXSQ, Actual Stars: 3.5, predicted Stars: [2.8360512]\n",
      "10. Business ID: Tc24GX9-ZPr4_SHU0nJZZA, Actual Stars: 2.5, predicted Stars: [2.6974099]\n"
     ]
    }
   ],
   "source": [
    "for i in range(10):\n",
    "    print(\"{}. Business ID: {}, Actual Stars: {}, predicted Stars: {}\".format(i+1,merge_df['business_id'][2000+i],y_cont_test[i],pred_reg_tanh[i]))"
   ]
  },
  {
   "cell_type": "code",
   "execution_count": 34,
   "metadata": {},
   "outputs": [
    {
     "name": "stdout",
     "output_type": "stream",
     "text": [
      "Final score (RMSE): 0.5123431086540222\n",
      "R2 score: 0.74\n"
     ]
    }
   ],
   "source": [
    "# Measure RMSE error.  RMSE is common for regression.\n",
    "score = np.sqrt(mean_squared_error(y_cont_test,pred_reg_tanh))\n",
    "print(\"Final score (RMSE): {}\".format(score))\n",
    "print('R2 score: %.2f' % r2_score(y_cont_test, pred_reg_tanh))"
   ]
  },
  {
   "cell_type": "code",
   "execution_count": null,
   "metadata": {},
   "outputs": [],
   "source": []
  },
  {
   "cell_type": "code",
   "execution_count": null,
   "metadata": {},
   "outputs": [],
   "source": []
  },
  {
   "cell_type": "code",
   "execution_count": null,
   "metadata": {},
   "outputs": [],
   "source": []
  },
  {
   "cell_type": "code",
   "execution_count": null,
   "metadata": {},
   "outputs": [],
   "source": []
  },
  {
   "cell_type": "markdown",
   "metadata": {},
   "source": [
    "# tensorflow model for classfication "
   ]
  },
  {
   "cell_type": "code",
   "execution_count": 35,
   "metadata": {},
   "outputs": [
    {
     "name": "stdout",
     "output_type": "stream",
     "text": [
      "Epoch 1/50\n",
      " - 8s - loss: 1.2157\n",
      "Epoch 2/50\n",
      " - 6s - loss: 1.1173\n",
      "Epoch 3/50\n",
      " - 6s - loss: 1.0888\n",
      "Epoch 4/50\n",
      " - 6s - loss: 1.0660\n",
      "Epoch 5/50\n",
      " - 6s - loss: 1.0463\n",
      "Epoch 6/50\n",
      " - 6s - loss: 1.0275\n",
      "Epoch 7/50\n",
      " - 6s - loss: 1.0109\n",
      "Epoch 8/50\n",
      " - 6s - loss: 0.9951\n",
      "Epoch 9/50\n",
      " - 6s - loss: 0.9806\n",
      "Epoch 10/50\n",
      " - 6s - loss: 0.9670\n",
      "Epoch 11/50\n",
      " - 6s - loss: 0.9553\n",
      "Epoch 12/50\n",
      " - 6s - loss: 0.9435\n",
      "Epoch 13/50\n",
      " - 6s - loss: 0.9333\n",
      "Epoch 14/50\n",
      " - 6s - loss: 0.9226\n",
      "Epoch 15/50\n",
      " - 6s - loss: 0.9130\n",
      "Epoch 16/50\n",
      " - 6s - loss: 0.9042\n",
      "Epoch 17/50\n",
      " - 6s - loss: 0.8964\n",
      "Epoch 18/50\n",
      " - 6s - loss: 0.8879\n",
      "Epoch 19/50\n",
      " - 6s - loss: 0.8810\n",
      "Epoch 20/50\n",
      " - 6s - loss: 0.8739\n",
      "Epoch 21/50\n",
      " - 6s - loss: 0.8674\n",
      "Epoch 22/50\n",
      " - 6s - loss: 0.8611\n",
      "Epoch 23/50\n",
      " - 6s - loss: 0.8551\n",
      "Epoch 24/50\n",
      " - 6s - loss: 0.8495\n",
      "Epoch 25/50\n",
      " - 6s - loss: 0.8441\n",
      "Epoch 26/50\n",
      " - 6s - loss: 0.8387\n",
      "Epoch 27/50\n",
      " - 6s - loss: 0.8345\n",
      "Epoch 28/50\n",
      " - 6s - loss: 0.8293\n",
      "Epoch 29/50\n",
      " - 6s - loss: 0.8255\n",
      "Epoch 30/50\n",
      " - 6s - loss: 0.8210\n",
      "Epoch 31/50\n",
      " - 6s - loss: 0.8172\n",
      "Epoch 32/50\n",
      " - 6s - loss: 0.8127\n",
      "Epoch 33/50\n",
      " - 6s - loss: 0.8090\n",
      "Epoch 34/50\n",
      " - 6s - loss: 0.8057\n",
      "Epoch 35/50\n",
      " - 6s - loss: 0.8026\n",
      "Epoch 36/50\n",
      " - 6s - loss: 0.7983\n",
      "Epoch 37/50\n",
      " - 6s - loss: 0.7964\n",
      "Epoch 38/50\n",
      " - 6s - loss: 0.7926\n",
      "Epoch 39/50\n",
      " - 6s - loss: 0.7894\n",
      "Epoch 40/50\n",
      " - 6s - loss: 0.7868\n",
      "Epoch 41/50\n",
      " - 6s - loss: 0.7835\n",
      "Epoch 42/50\n",
      " - 6s - loss: 0.7809\n",
      "Epoch 43/50\n",
      " - 6s - loss: 0.7784\n",
      "Epoch 44/50\n",
      " - 6s - loss: 0.7756\n",
      "Epoch 45/50\n",
      " - 6s - loss: 0.7723\n",
      "Epoch 46/50\n",
      " - 6s - loss: 0.7699\n",
      "Epoch 47/50\n",
      " - 6s - loss: 0.7675\n",
      "Epoch 48/50\n",
      " - 6s - loss: 0.7649\n",
      "Epoch 49/50\n",
      " - 6s - loss: 0.7629\n",
      "Epoch 50/50\n",
      " - 6s - loss: 0.7613\n"
     ]
    },
    {
     "data": {
      "text/plain": [
       "<keras.callbacks.History at 0x1a9637f518>"
      ]
     },
     "execution_count": 35,
     "metadata": {},
     "output_type": "execute_result"
    }
   ],
   "source": [
    "\n",
    "\n",
    "model_class = Sequential()\n",
    "model_class.add(Dense(50, input_dim=x_enc_train.shape[1], activation='relu')) # Hidden 1\n",
    "model_class.add(Dense(25, activation='relu')) # Hidden 2\n",
    "model_class.add(Dense(y_enc_train.shape[1], activation='softmax')) # Output\n",
    "\n",
    "model_class.compile(loss='categorical_crossentropy', optimizer='adam')\n",
    "\n",
    "model_class.fit(x_enc_train,y_enc_train,verbose=2,epochs=50)"
   ]
  },
  {
   "cell_type": "code",
   "execution_count": 36,
   "metadata": {},
   "outputs": [
    {
     "name": "stdout",
     "output_type": "stream",
     "text": [
      "Shape: (37611, 9)\n",
      "[[2.3819180e-02 7.2993851e-01 2.1101871e-01 ... 4.1254225e-07\n",
      "  6.7608347e-10 2.5387077e-08]\n",
      " [3.3448377e-21 9.2503116e-09 1.9095463e-04 ... 4.1523003e-03\n",
      "  2.2881670e-02 9.6084440e-01]\n",
      " [2.1823317e-25 4.6439821e-14 1.7447835e-08 ... 1.0430585e-01\n",
      "  8.8899524e-04 4.8610818e-06]\n",
      " ...\n",
      " [1.2070042e-06 2.0124778e-04 7.2015047e-02 ... 7.3818028e-02\n",
      "  8.9805136e-03 2.1195053e-03]\n",
      " [9.8673350e-01 1.1884475e-02 1.3730186e-03 ... 1.5880167e-12\n",
      "  1.4802675e-16 2.3539783e-13]\n",
      " [0.0000000e+00 1.4064186e-34 2.8391910e-19 ... 3.4787111e-02\n",
      "  8.4511524e-01 1.2008743e-01]]\n"
     ]
    }
   ],
   "source": [
    "pred_class = model_class.predict(x_enc_test)\n",
    "print(\"Shape: {}\".format(pred_class.shape))\n",
    "print(pred_class)"
   ]
  },
  {
   "cell_type": "code",
   "execution_count": 37,
   "metadata": {},
   "outputs": [],
   "source": [
    "predict_stars = np.argmax(pred_class,axis=1)\n",
    "\n",
    "true_stars = np.argmax(y_enc_test,axis=1)"
   ]
  },
  {
   "cell_type": "code",
   "execution_count": 38,
   "metadata": {},
   "outputs": [
    {
     "name": "stdout",
     "output_type": "stream",
     "text": [
      "1. Business ID: diaiQrxYFU1V5qxrFnW9fg, Actual Stars: 3, predicted Stars: 1\n",
      "2. Business ID: TDTASGFy_aGp6vy0i23mDA, Actual Stars: 7, predicted Stars: 8\n",
      "3. Business ID: VuKJ2s_JP8weQ54NfsXJXQ, Actual Stars: 4, predicted Stars: 5\n",
      "4. Business ID: aGiBg2WKOpXS5-1DRnBiAQ, Actual Stars: 6, predicted Stars: 6\n",
      "5. Business ID: ZMmgFw2P4LWsFXNn1ZGc1g, Actual Stars: 3, predicted Stars: 4\n",
      "6. Business ID: sEKFq5u8P_s0-2mAZnx0JQ, Actual Stars: 8, predicted Stars: 7\n",
      "7. Business ID: rYziPPEILDXJ_F5uKR--YQ, Actual Stars: 8, predicted Stars: 8\n",
      "8. Business ID: Swm_uMOWNcJDZz5lXWyzKA, Actual Stars: 6, predicted Stars: 6\n",
      "9. Business ID: 6nGnVP7M4qQRiclXxeqXSQ, Actual Stars: 6, predicted Stars: 7\n",
      "10. Business ID: Tc24GX9-ZPr4_SHU0nJZZA, Actual Stars: 6, predicted Stars: 7\n"
     ]
    }
   ],
   "source": [
    "for i in range(10):\n",
    "    print(\"{}. Business ID: {}, Actual Stars: {}, predicted Stars: {}\".format(i+1,merge_df['business_id'][2000+i],true_stars[i],predict_stars[i]))"
   ]
  },
  {
   "cell_type": "code",
   "execution_count": 39,
   "metadata": {},
   "outputs": [
    {
     "name": "stdout",
     "output_type": "stream",
     "text": [
      "Accuracy: 0.49466911275956504\n"
     ]
    }
   ],
   "source": [
    "#accuracy  \n",
    "\n",
    "correct = accuracy_score(true_stars, predict_stars)\n",
    "print(\"Accuracy: {}\".format(correct))"
   ]
  },
  {
   "cell_type": "markdown",
   "metadata": {},
   "source": [
    "# Additional Features"
   ]
  },
  {
   "cell_type": "markdown",
   "metadata": {},
   "source": [
    "** Categories **"
   ]
  },
  {
   "cell_type": "code",
   "execution_count": 40,
   "metadata": {},
   "outputs": [
    {
     "data": {
      "text/plain": [
       "(188052, 1001)"
      ]
     },
     "execution_count": 40,
     "metadata": {},
     "output_type": "execute_result"
    }
   ],
   "source": [
    "x_matrix.shape"
   ]
  },
  {
   "cell_type": "code",
   "execution_count": 41,
   "metadata": {},
   "outputs": [],
   "source": [
    "# Extracting categories\n",
    "\n",
    "from sklearn.preprocessing import MultiLabelBinarizer\n",
    "encoded_categories = MultiLabelBinarizer()\n",
    "category_matrix = encoded_categories.fit_transform(merge_df['categories'].str.split(','))"
   ]
  },
  {
   "cell_type": "code",
   "execution_count": null,
   "metadata": {},
   "outputs": [],
   "source": [
    "category_matrix.head()"
   ]
  },
  {
   "cell_type": "code",
   "execution_count": 43,
   "metadata": {},
   "outputs": [
    {
     "name": "stdout",
     "output_type": "stream",
     "text": [
      "(188052, 3465)\n"
     ]
    }
   ],
   "source": [
    "x_matrix_cat=np.column_stack((x_matrix, category_matrix))\n",
    "print(x_matrix_cat.shape)"
   ]
  },
  {
   "cell_type": "code",
   "execution_count": 44,
   "metadata": {},
   "outputs": [],
   "source": [
    "x_cont_train1, x_cont_test1, y_cont_train1, y_cont_test1 = train_test_split(x_matrix_cat, y_stars , test_size=0.2)"
   ]
  },
  {
   "cell_type": "code",
   "execution_count": null,
   "metadata": {},
   "outputs": [],
   "source": []
  },
  {
   "cell_type": "code",
   "execution_count": 45,
   "metadata": {},
   "outputs": [
    {
     "name": "stdout",
     "output_type": "stream",
     "text": [
      "Epoch 00012: early stopping\n",
      "Epoch 00006: early stopping\n",
      "Epoch 00006: early stopping\n",
      "Epoch 00006: early stopping\n",
      "Epoch 00006: early stopping\n",
      "Epoch 00007: early stopping\n",
      "Epoch 00006: early stopping\n",
      "Epoch 00006: early stopping\n",
      "Epoch 00009: early stopping\n",
      "Epoch 00007: early stopping\n"
     ]
    }
   ],
   "source": [
    "# Tensorflow model for Regression\n",
    "\n",
    "model_reg_relu1 = Sequential()\n",
    "\n",
    "model_reg_relu1.add(Dense(25, input_dim=x_cont_train1.shape[1], activation='relu')) # Hidden 1     #  why input_dim=x.shape[1]?  \n",
    "model_reg_relu1.add(Dense(10, activation='relu')) # Hidden 2\n",
    "model_reg_relu1.add(Dense(1)) # Output\n",
    "\n",
    "# set up checkpointer\n",
    "checkpointer1 = ModelCheckpoint(filepath=\"./best_weights_relu1.hdf5\", verbose=0, save_best_only=True)\n",
    "\n",
    "for i in range(10):\n",
    "    model_reg_relu1.compile(loss='mean_squared_error', optimizer='adam', metrics=['mae'])\n",
    "    model_reg_relu1.fit(x_cont_train1,y_cont_train1,validation_data=(x_cont_test1,y_cont_test1),callbacks=[monitor,checkpointer1],verbose=0,epochs=100) \n",
    "\n",
    "model_reg_relu1.load_weights('./best_weights_relu1.hdf5')"
   ]
  },
  {
   "cell_type": "code",
   "execution_count": 46,
   "metadata": {
    "scrolled": true
   },
   "outputs": [
    {
     "name": "stdout",
     "output_type": "stream",
     "text": [
      "Shape: (37611, 1)\n",
      "[[3.810142 ]\n",
      " [4.3475647]\n",
      " [1.2961597]\n",
      " ...\n",
      " [3.3238962]\n",
      " [3.4066894]\n",
      " [4.4033914]]\n"
     ]
    }
   ],
   "source": [
    "pred_reg_relu1 = model_reg_relu1.predict(x_cont_test1)\n",
    "print(\"Shape: {}\".format(pred_reg_relu1.shape))\n",
    "print(pred_reg_relu1)"
   ]
  },
  {
   "cell_type": "code",
   "execution_count": 47,
   "metadata": {
    "scrolled": true
   },
   "outputs": [
    {
     "name": "stdout",
     "output_type": "stream",
     "text": [
      "1. Business ID: diaiQrxYFU1V5qxrFnW9fg, Actual Stars: 4.0, predicted Stars: [3.810142]\n",
      "2. Business ID: TDTASGFy_aGp6vy0i23mDA, Actual Stars: 3.5, predicted Stars: [4.3475647]\n",
      "3. Business ID: VuKJ2s_JP8weQ54NfsXJXQ, Actual Stars: 1.0, predicted Stars: [1.2961597]\n",
      "4. Business ID: aGiBg2WKOpXS5-1DRnBiAQ, Actual Stars: 4.5, predicted Stars: [4.4692106]\n",
      "5. Business ID: ZMmgFw2P4LWsFXNn1ZGc1g, Actual Stars: 5.0, predicted Stars: [4.91114]\n",
      "6. Business ID: sEKFq5u8P_s0-2mAZnx0JQ, Actual Stars: 4.5, predicted Stars: [4.169408]\n",
      "7. Business ID: rYziPPEILDXJ_F5uKR--YQ, Actual Stars: 4.5, predicted Stars: [4.3694396]\n",
      "8. Business ID: Swm_uMOWNcJDZz5lXWyzKA, Actual Stars: 3.5, predicted Stars: [3.837064]\n",
      "9. Business ID: 6nGnVP7M4qQRiclXxeqXSQ, Actual Stars: 3.5, predicted Stars: [3.799996]\n",
      "10. Business ID: Tc24GX9-ZPr4_SHU0nJZZA, Actual Stars: 3.5, predicted Stars: [3.6079605]\n"
     ]
    }
   ],
   "source": [
    "for i in range(10):\n",
    "    print(\"{}. Business ID: {}, Actual Stars: {}, predicted Stars: {}\".format(i+1,merge_df['business_id'][2000+i],y_cont_test1[i],pred_reg_relu1[i]))"
   ]
  },
  {
   "cell_type": "code",
   "execution_count": 48,
   "metadata": {
    "scrolled": true
   },
   "outputs": [
    {
     "name": "stdout",
     "output_type": "stream",
     "text": [
      "Final score (RMSE): 0.4577174484729767\n",
      "R2 score: 0.80\n"
     ]
    }
   ],
   "source": [
    "# Measure RMSE error.  RMSE is common for regression.\n",
    "score = np.sqrt(mean_squared_error(y_cont_test1,pred_reg_relu1))\n",
    "print(\"Final score (RMSE): {}\".format(score))\n",
    "print('R2 score: %.2f' % r2_score(y_cont_test1, pred_reg_relu1))"
   ]
  },
  {
   "cell_type": "code",
   "execution_count": null,
   "metadata": {},
   "outputs": [],
   "source": []
  }
 ],
 "metadata": {
  "kernelspec": {
   "display_name": "Python 3",
   "language": "python",
   "name": "python3"
  },
  "language_info": {
   "codemirror_mode": {
    "name": "ipython",
    "version": 3
   },
   "file_extension": ".py",
   "mimetype": "text/x-python",
   "name": "python",
   "nbconvert_exporter": "python",
   "pygments_lexer": "ipython3",
   "version": "3.6.5"
  }
 },
 "nbformat": 4,
 "nbformat_minor": 2
}
