{
 "cells": [
  {
   "cell_type": "code",
   "execution_count": 22,
   "metadata": {},
   "outputs": [],
   "source": [
    "import json\n",
    "import csv\n",
    "import pandas as pd\n",
    "import numpy as np\n",
    "import scipy as sci\n",
    "import keras\n",
    "from keras.models import Sequential\n",
    "from keras import regularizers\n",
    "from keras.layers.core import Dense, Activation\n",
    "from keras.layers import Dropout, Flatten\n",
    "from keras.layers import Conv2D, MaxPooling2D\n",
    "from keras.callbacks import EarlyStopping, ModelCheckpoint\n",
    "import io\n",
    "import requests\n",
    "import tensorflow as tf\n",
    "from scipy import sparse\n",
    "from sklearn.model_selection import train_test_split\n",
    "import sklearn.feature_extraction.text as sk_text\n",
    "from sklearn.linear_model import LinearRegression\n",
    "from sklearn.linear_model import LogisticRegression\n",
    "from sklearn.naive_bayes import MultinomialNB\n",
    "from sklearn.svm import SVC\n",
    "from sklearn.neighbors import KNeighborsClassifier\n",
    "from sklearn import preprocessing\n",
    "from sklearn.metrics import mean_squared_error, r2_score\n",
    "from sklearn.metrics import accuracy_score, precision_score, f1_score\n",
    "from sklearn.metrics import roc_curve, auc\n",
    "from sklearn.metrics import confusion_matrix, classification_report\n",
    "import collections\n",
    "from sklearn import preprocessing\n",
    "import matplotlib.pyplot as plt\n",
    "import shutil\n",
    "import os"
   ]
  },
  {
   "cell_type": "markdown",
   "metadata": {},
   "source": [
    "# Necessary Functions"
   ]
  },
  {
   "cell_type": "code",
   "execution_count": 23,
   "metadata": {},
   "outputs": [],
   "source": [
    "# Encode text values to dummy variables(i.e. [1,0,0],[0,1,0],[0,0,1] for red,green,blue)\n",
    "def encode_text_dummy(df, name):\n",
    "    dummies = pd.get_dummies(df[name])\n",
    "    for x in dummies.columns:\n",
    "        dummy_name = \"{}-{}\".format(name, x)\n",
    "        df[dummy_name] = dummies[x]\n",
    "    df.drop(name, axis=1, inplace=True)\n",
    "\n",
    "\n",
    "# Encode text values to indexes(i.e. [1],[2],[3] for red,green,blue).\n",
    "def encode_text_index(df, name):\n",
    "    le = preprocessing.LabelEncoder()\n",
    "    df[name] = le.fit_transform(df[name])\n",
    "    return le.classes_\n",
    "\n",
    "\n",
    "# Encode a numeric column as zscores\n",
    "def encode_numeric_zscore(df, name, mean=None, sd=None):\n",
    "    if mean is None:\n",
    "        mean = df[name].mean()\n",
    "\n",
    "    if sd is None:\n",
    "        sd = df[name].std()\n",
    "\n",
    "    df[name] = (df[name] - mean) / sd\n",
    "\n",
    "\n",
    "# Convert all missing values in the specified column to the median\n",
    "def missing_median(df, name):\n",
    "    med = df[name].median()\n",
    "    df[name] = df[name].fillna(med)\n",
    "\n",
    "\n",
    "# Convert all missing values in the specified column to the default\n",
    "def missing_default(df, name, default_value):\n",
    "    df[name] = df[name].fillna(default_value)\n",
    "\n",
    "\n",
    "# Convert a Pandas dataframe to the x,y inputs that TensorFlow needs\n",
    "def to_xy(df, target):\n",
    "    result = []\n",
    "    for x in df.columns:\n",
    "        if x != target:\n",
    "            result.append(x)\n",
    "    # find out the type of the target column. \n",
    "    target_type = df[target].dtypes\n",
    "    target_type = target_type[0] if isinstance(target_type, collections.Sequence) else target_type\n",
    "    # Encode to int for classification, float otherwise. TensorFlow likes 32 bits.\n",
    "    if target_type in (np.int64, np.int32):\n",
    "        # Classification\n",
    "        dummies = pd.get_dummies(df[target])\n",
    "        return df[result].values.astype(np.float32), dummies.values.astype(np.float32)\n",
    "    else:\n",
    "        # Regression\n",
    "        return df[result].values.astype(np.float32), df[target].values.astype(np.float32)\n",
    "\n",
    "# Nicely formatted time string\n",
    "def hms_string(sec_elapsed):\n",
    "    h = int(sec_elapsed / (60 * 60))\n",
    "    m = int((sec_elapsed % (60 * 60)) / 60)\n",
    "    s = sec_elapsed % 60\n",
    "    return \"{}:{:>02}:{:>05.2f}\".format(h, m, s)\n",
    "\n",
    "\n",
    "# Regression chart.\n",
    "def chart_regression(pred,y,sort=True):\n",
    "    t = pd.DataFrame({'pred' : pred, 'y' : y.flatten()})\n",
    "    if sort:\n",
    "        t.sort_values(by=['y'],inplace=True)\n",
    "    a = plt.plot(t['y'].tolist(),label='expected')\n",
    "    b = plt.plot(t['pred'].tolist(),label='prediction')\n",
    "    plt.ylabel('output')\n",
    "    plt.legend()\n",
    "    plt.show()\n",
    "\n",
    "# Remove all rows where the specified column is +/- sd standard deviations\n",
    "def remove_outliers(df, name, sd):\n",
    "    drop_rows = df.index[(np.abs(df[name] - df[name].mean()) >= (sd * df[name].std()))]\n",
    "    df.drop(drop_rows, axis=0, inplace=True)\n",
    "\n",
    "\n",
    "# Encode a column to a range between normalized_low and normalized_high.\n",
    "def encode_numeric_range(df, name, normalized_low=-1, normalized_high=1,\n",
    "                         data_low=None, data_high=None):\n",
    "    if data_low is None:\n",
    "        data_low = min(df[name])\n",
    "        data_high = max(df[name])\n",
    "\n",
    "    df[name] = ((df[name] - data_low) / (data_high - data_low)) \\\n",
    "               * (normalized_high - normalized_low) + normalized_low\n",
    "    \n",
    "\n",
    "# Plot a confusion matrix.\n",
    "# cm is the confusion matrix, names are the names of the classes.\n",
    "def plot_confusion_matrix(cm, names, title='Confusion matrix', cmap=plt.cm.Blues):\n",
    "    plt.imshow(cm, interpolation='nearest', cmap=cmap)\n",
    "    plt.title(title)\n",
    "    plt.colorbar()\n",
    "    tick_marks = np.arange(len(names))\n",
    "    plt.xticks(tick_marks, names, rotation=45)\n",
    "    plt.yticks(tick_marks, names)\n",
    "    plt.tight_layout()\n",
    "    plt.ylabel('True label')\n",
    "    plt.xlabel('Predicted label')\n",
    "    \n",
    "\n",
    "# Plot an ROC. pred - the predictions, y - the expected output.\n",
    "def plot_roc(pred,y):\n",
    "    fpr, tpr, thresholds = roc_curve(y, pred)\n",
    "    roc_auc = auc(fpr, tpr)\n",
    "\n",
    "    plt.figure()\n",
    "    plt.plot(fpr, tpr, label='ROC curve (area = %0.2f)' % roc_auc)\n",
    "    plt.plot([0, 1], [0, 1], 'k--')\n",
    "    plt.xlim([0.0, 1.0])\n",
    "    plt.ylim([0.0, 1.05])\n",
    "    plt.xlabel('False Positive Rate')\n",
    "    plt.ylabel('True Positive Rate')\n",
    "    plt.title('Receiver Operating Characteristic (ROC)')\n",
    "    plt.legend(loc=\"lower right\")\n",
    "    plt.show()"
   ]
  },
  {
   "cell_type": "markdown",
   "metadata": {},
   "source": [
    "# Data Processing "
   ]
  },
  {
   "cell_type": "code",
   "execution_count": 60,
   "metadata": {},
   "outputs": [],
   "source": [
    "network_df= pd.read_csv('network_intrusion_data.csv', delimiter =\",\")"
   ]
  },
  {
   "cell_type": "code",
   "execution_count": 61,
   "metadata": {},
   "outputs": [],
   "source": [
    "network_df.columns = [\n",
    "'duration',\n",
    "'protocol_type',\n",
    "'service',\n",
    "'flag',\n",
    "'src_bytes',\n",
    "'dst_bytes',\n",
    "'land',\n",
    "'wrong_fragment',\n",
    "'urgent',\n",
    "'hot',\n",
    "'num_failed_logins',\n",
    "'logged_in',\n",
    "'num_compromised',\n",
    "'root_shell',\n",
    "'su_attempted',\n",
    "'num_root',\n",
    "'num_file_creations',\n",
    "'num_shells',\n",
    "'num_access_files',\n",
    "'num_outbound_cmds',\n",
    "'is_host_login',\n",
    "'is_guest_login',\n",
    "'count',\n",
    "'srv_count',\n",
    "'serror_rate',\n",
    "'srv_serror_rate',\n",
    "'rerror_rate',\n",
    "'srv_rerror_rate',\n",
    "'same_srv_rate',\n",
    "'diff_srv_rate',\n",
    "'srv_diff_host_rate',\n",
    "'dst_host_count',\n",
    "'dst_host_srv_count',\n",
    "'dst_host_same_srv_rate',\n",
    "'dst_host_diff_srv_rate',\n",
    "'dst_host_same_src_port_rate',\n",
    "'dst_host_srv_diff_host_rate',\n",
    "'dst_host_serror_rate',\n",
    "'dst_host_srv_serror_rate',\n",
    "'dst_host_rerror_rate',\n",
    "'dst_host_srv_rerror_rate',\n",
    "'outcome'\n",
    "]"
   ]
  },
  {
   "cell_type": "code",
   "execution_count": 62,
   "metadata": {},
   "outputs": [
    {
     "data": {
      "text/html": [
       "<div>\n",
       "<style scoped>\n",
       "    .dataframe tbody tr th:only-of-type {\n",
       "        vertical-align: middle;\n",
       "    }\n",
       "\n",
       "    .dataframe tbody tr th {\n",
       "        vertical-align: top;\n",
       "    }\n",
       "\n",
       "    .dataframe thead th {\n",
       "        text-align: right;\n",
       "    }\n",
       "</style>\n",
       "<table border=\"1\" class=\"dataframe\">\n",
       "  <thead>\n",
       "    <tr style=\"text-align: right;\">\n",
       "      <th></th>\n",
       "      <th>duration</th>\n",
       "      <th>protocol_type</th>\n",
       "      <th>service</th>\n",
       "      <th>flag</th>\n",
       "      <th>src_bytes</th>\n",
       "      <th>dst_bytes</th>\n",
       "      <th>land</th>\n",
       "      <th>wrong_fragment</th>\n",
       "      <th>urgent</th>\n",
       "      <th>hot</th>\n",
       "      <th>...</th>\n",
       "      <th>dst_host_srv_count</th>\n",
       "      <th>dst_host_same_srv_rate</th>\n",
       "      <th>dst_host_diff_srv_rate</th>\n",
       "      <th>dst_host_same_src_port_rate</th>\n",
       "      <th>dst_host_srv_diff_host_rate</th>\n",
       "      <th>dst_host_serror_rate</th>\n",
       "      <th>dst_host_srv_serror_rate</th>\n",
       "      <th>dst_host_rerror_rate</th>\n",
       "      <th>dst_host_srv_rerror_rate</th>\n",
       "      <th>outcome</th>\n",
       "    </tr>\n",
       "  </thead>\n",
       "  <tbody>\n",
       "    <tr>\n",
       "      <th>0</th>\n",
       "      <td>0</td>\n",
       "      <td>tcp</td>\n",
       "      <td>http</td>\n",
       "      <td>SF</td>\n",
       "      <td>239</td>\n",
       "      <td>486</td>\n",
       "      <td>0</td>\n",
       "      <td>0</td>\n",
       "      <td>0</td>\n",
       "      <td>0</td>\n",
       "      <td>...</td>\n",
       "      <td>19</td>\n",
       "      <td>1.0</td>\n",
       "      <td>0.0</td>\n",
       "      <td>0.05</td>\n",
       "      <td>0.0</td>\n",
       "      <td>0.0</td>\n",
       "      <td>0.0</td>\n",
       "      <td>0.0</td>\n",
       "      <td>0.0</td>\n",
       "      <td>normal.</td>\n",
       "    </tr>\n",
       "    <tr>\n",
       "      <th>1</th>\n",
       "      <td>0</td>\n",
       "      <td>tcp</td>\n",
       "      <td>http</td>\n",
       "      <td>SF</td>\n",
       "      <td>235</td>\n",
       "      <td>1337</td>\n",
       "      <td>0</td>\n",
       "      <td>0</td>\n",
       "      <td>0</td>\n",
       "      <td>0</td>\n",
       "      <td>...</td>\n",
       "      <td>29</td>\n",
       "      <td>1.0</td>\n",
       "      <td>0.0</td>\n",
       "      <td>0.03</td>\n",
       "      <td>0.0</td>\n",
       "      <td>0.0</td>\n",
       "      <td>0.0</td>\n",
       "      <td>0.0</td>\n",
       "      <td>0.0</td>\n",
       "      <td>normal.</td>\n",
       "    </tr>\n",
       "    <tr>\n",
       "      <th>2</th>\n",
       "      <td>0</td>\n",
       "      <td>tcp</td>\n",
       "      <td>http</td>\n",
       "      <td>SF</td>\n",
       "      <td>219</td>\n",
       "      <td>1337</td>\n",
       "      <td>0</td>\n",
       "      <td>0</td>\n",
       "      <td>0</td>\n",
       "      <td>0</td>\n",
       "      <td>...</td>\n",
       "      <td>39</td>\n",
       "      <td>1.0</td>\n",
       "      <td>0.0</td>\n",
       "      <td>0.03</td>\n",
       "      <td>0.0</td>\n",
       "      <td>0.0</td>\n",
       "      <td>0.0</td>\n",
       "      <td>0.0</td>\n",
       "      <td>0.0</td>\n",
       "      <td>normal.</td>\n",
       "    </tr>\n",
       "    <tr>\n",
       "      <th>3</th>\n",
       "      <td>0</td>\n",
       "      <td>tcp</td>\n",
       "      <td>http</td>\n",
       "      <td>SF</td>\n",
       "      <td>217</td>\n",
       "      <td>2032</td>\n",
       "      <td>0</td>\n",
       "      <td>0</td>\n",
       "      <td>0</td>\n",
       "      <td>0</td>\n",
       "      <td>...</td>\n",
       "      <td>49</td>\n",
       "      <td>1.0</td>\n",
       "      <td>0.0</td>\n",
       "      <td>0.02</td>\n",
       "      <td>0.0</td>\n",
       "      <td>0.0</td>\n",
       "      <td>0.0</td>\n",
       "      <td>0.0</td>\n",
       "      <td>0.0</td>\n",
       "      <td>normal.</td>\n",
       "    </tr>\n",
       "    <tr>\n",
       "      <th>4</th>\n",
       "      <td>0</td>\n",
       "      <td>tcp</td>\n",
       "      <td>http</td>\n",
       "      <td>SF</td>\n",
       "      <td>217</td>\n",
       "      <td>2032</td>\n",
       "      <td>0</td>\n",
       "      <td>0</td>\n",
       "      <td>0</td>\n",
       "      <td>0</td>\n",
       "      <td>...</td>\n",
       "      <td>59</td>\n",
       "      <td>1.0</td>\n",
       "      <td>0.0</td>\n",
       "      <td>0.02</td>\n",
       "      <td>0.0</td>\n",
       "      <td>0.0</td>\n",
       "      <td>0.0</td>\n",
       "      <td>0.0</td>\n",
       "      <td>0.0</td>\n",
       "      <td>normal.</td>\n",
       "    </tr>\n",
       "  </tbody>\n",
       "</table>\n",
       "<p>5 rows × 42 columns</p>\n",
       "</div>"
      ],
      "text/plain": [
       "   duration protocol_type service flag  src_bytes  dst_bytes  land  \\\n",
       "0         0           tcp    http   SF        239        486     0   \n",
       "1         0           tcp    http   SF        235       1337     0   \n",
       "2         0           tcp    http   SF        219       1337     0   \n",
       "3         0           tcp    http   SF        217       2032     0   \n",
       "4         0           tcp    http   SF        217       2032     0   \n",
       "\n",
       "   wrong_fragment  urgent  hot   ...     dst_host_srv_count  \\\n",
       "0               0       0    0   ...                     19   \n",
       "1               0       0    0   ...                     29   \n",
       "2               0       0    0   ...                     39   \n",
       "3               0       0    0   ...                     49   \n",
       "4               0       0    0   ...                     59   \n",
       "\n",
       "   dst_host_same_srv_rate  dst_host_diff_srv_rate  \\\n",
       "0                     1.0                     0.0   \n",
       "1                     1.0                     0.0   \n",
       "2                     1.0                     0.0   \n",
       "3                     1.0                     0.0   \n",
       "4                     1.0                     0.0   \n",
       "\n",
       "   dst_host_same_src_port_rate  dst_host_srv_diff_host_rate  \\\n",
       "0                         0.05                          0.0   \n",
       "1                         0.03                          0.0   \n",
       "2                         0.03                          0.0   \n",
       "3                         0.02                          0.0   \n",
       "4                         0.02                          0.0   \n",
       "\n",
       "   dst_host_serror_rate  dst_host_srv_serror_rate  dst_host_rerror_rate  \\\n",
       "0                   0.0                       0.0                   0.0   \n",
       "1                   0.0                       0.0                   0.0   \n",
       "2                   0.0                       0.0                   0.0   \n",
       "3                   0.0                       0.0                   0.0   \n",
       "4                   0.0                       0.0                   0.0   \n",
       "\n",
       "   dst_host_srv_rerror_rate  outcome  \n",
       "0                       0.0  normal.  \n",
       "1                       0.0  normal.  \n",
       "2                       0.0  normal.  \n",
       "3                       0.0  normal.  \n",
       "4                       0.0  normal.  \n",
       "\n",
       "[5 rows x 42 columns]"
      ]
     },
     "execution_count": 62,
     "metadata": {},
     "output_type": "execute_result"
    }
   ],
   "source": [
    "network_df.head()"
   ]
  },
  {
   "cell_type": "code",
   "execution_count": 63,
   "metadata": {},
   "outputs": [
    {
     "data": {
      "text/plain": [
       "(494020, 42)"
      ]
     },
     "execution_count": 63,
     "metadata": {},
     "output_type": "execute_result"
    }
   ],
   "source": [
    "network_df.shape"
   ]
  },
  {
   "cell_type": "code",
   "execution_count": 64,
   "metadata": {},
   "outputs": [],
   "source": [
    "network_df.drop_duplicates(keep='first', inplace=True)"
   ]
  },
  {
   "cell_type": "code",
   "execution_count": 65,
   "metadata": {},
   "outputs": [
    {
     "data": {
      "text/plain": [
       "(145585, 42)"
      ]
     },
     "execution_count": 65,
     "metadata": {},
     "output_type": "execute_result"
    }
   ],
   "source": [
    "network_df.shape"
   ]
  },
  {
   "cell_type": "code",
   "execution_count": 66,
   "metadata": {},
   "outputs": [
    {
     "data": {
      "text/plain": [
       "duration                         int64\n",
       "protocol_type                   object\n",
       "service                         object\n",
       "flag                            object\n",
       "src_bytes                        int64\n",
       "dst_bytes                        int64\n",
       "land                             int64\n",
       "wrong_fragment                   int64\n",
       "urgent                           int64\n",
       "hot                              int64\n",
       "num_failed_logins                int64\n",
       "logged_in                        int64\n",
       "num_compromised                  int64\n",
       "root_shell                       int64\n",
       "su_attempted                     int64\n",
       "num_root                         int64\n",
       "num_file_creations               int64\n",
       "num_shells                       int64\n",
       "num_access_files                 int64\n",
       "num_outbound_cmds                int64\n",
       "is_host_login                    int64\n",
       "is_guest_login                   int64\n",
       "count                            int64\n",
       "srv_count                        int64\n",
       "serror_rate                    float64\n",
       "srv_serror_rate                float64\n",
       "rerror_rate                    float64\n",
       "srv_rerror_rate                float64\n",
       "same_srv_rate                  float64\n",
       "diff_srv_rate                  float64\n",
       "srv_diff_host_rate             float64\n",
       "dst_host_count                   int64\n",
       "dst_host_srv_count               int64\n",
       "dst_host_same_srv_rate         float64\n",
       "dst_host_diff_srv_rate         float64\n",
       "dst_host_same_src_port_rate    float64\n",
       "dst_host_srv_diff_host_rate    float64\n",
       "dst_host_serror_rate           float64\n",
       "dst_host_srv_serror_rate       float64\n",
       "dst_host_rerror_rate           float64\n",
       "dst_host_srv_rerror_rate       float64\n",
       "outcome                         object\n",
       "dtype: object"
      ]
     },
     "execution_count": 66,
     "metadata": {},
     "output_type": "execute_result"
    }
   ],
   "source": [
    "network_df.dtypes"
   ]
  },
  {
   "cell_type": "code",
   "execution_count": 67,
   "metadata": {},
   "outputs": [],
   "source": [
    "#Normalize numeric features\n",
    "\n",
    "def normalize_numeric_minmax(df, name):\n",
    "    if(df[name].max() > 0):\n",
    "        df[name] = ((df[name] - df[name].min()) / (df[name].max() - df[name].min())).astype(np.float32)\n",
    "    else:\n",
    "        df[name] = df[name].astype(np.float32)\n",
    "\n",
    "normalize_numeric_minmax(network_df,\"duration\")\n",
    "encode_text_dummy(network_df,\"protocol_type\") \n",
    "encode_text_dummy(network_df,\"service\") \n",
    "encode_text_dummy(network_df,\"flag\")\n",
    "normalize_numeric_minmax(network_df,\"src_bytes\") \n",
    "normalize_numeric_minmax(network_df,\"dst_bytes\")\n",
    "encode_text_dummy(network_df,\"land\")\n",
    "normalize_numeric_minmax(network_df,\"wrong_fragment\") \n",
    "normalize_numeric_minmax(network_df,\"urgent\")\n",
    "normalize_numeric_minmax(network_df,\"hot\")\n",
    "normalize_numeric_minmax(network_df,\"num_failed_logins\")\n",
    "encode_text_dummy(network_df,\"logged_in\")\n",
    "normalize_numeric_minmax(network_df,\"num_compromised\")\n",
    "normalize_numeric_minmax(network_df,\"root_shell\")\n",
    "normalize_numeric_minmax(network_df,\"su_attempted\")\n",
    "normalize_numeric_minmax(network_df,\"num_root\")\n",
    "normalize_numeric_minmax(network_df,\"num_file_creations\")\n",
    "normalize_numeric_minmax(network_df,\"num_shells\")\n",
    "normalize_numeric_minmax(network_df,\"num_access_files\")\n",
    "normalize_numeric_minmax(network_df,\"num_outbound_cmds\")\n",
    "encode_text_dummy(network_df,\"is_host_login\")\n",
    "encode_text_dummy(network_df,\"is_guest_login\")\n",
    "normalize_numeric_minmax(network_df,\"count\") \n",
    "normalize_numeric_minmax(network_df,\"srv_count\") \n",
    "normalize_numeric_minmax(network_df,\"serror_rate\") \n",
    "normalize_numeric_minmax(network_df,\"srv_serror_rate\") \n",
    "normalize_numeric_minmax(network_df,\"rerror_rate\") \n",
    "normalize_numeric_minmax(network_df,\"srv_rerror_rate\") \n",
    "normalize_numeric_minmax(network_df,\"same_srv_rate\") \n",
    "normalize_numeric_minmax(network_df,\"diff_srv_rate\") \n",
    "normalize_numeric_minmax(network_df,\"srv_diff_host_rate\") \n",
    "normalize_numeric_minmax(network_df,\"dst_host_count\") \n",
    "normalize_numeric_minmax(network_df,\"dst_host_srv_count\") \n",
    "normalize_numeric_minmax(network_df,\"dst_host_same_srv_rate\") \n",
    "normalize_numeric_minmax(network_df,\"dst_host_diff_srv_rate\") \n",
    "normalize_numeric_minmax(network_df,\"dst_host_same_src_port_rate\") \n",
    "normalize_numeric_minmax(network_df,\"dst_host_srv_diff_host_rate\") \n",
    "normalize_numeric_minmax(network_df,\"dst_host_serror_rate\") \n",
    "normalize_numeric_minmax(network_df,\"dst_host_srv_serror_rate\") \n",
    "normalize_numeric_minmax(network_df,\"dst_host_rerror_rate\") \n",
    "normalize_numeric_minmax(network_df,\"dst_host_srv_rerror_rate\") "
   ]
  },
  {
   "cell_type": "code",
   "execution_count": 68,
   "metadata": {},
   "outputs": [
    {
     "data": {
      "text/plain": [
       "duration                       float32\n",
       "src_bytes                      float32\n",
       "dst_bytes                      float32\n",
       "wrong_fragment                 float32\n",
       "urgent                         float32\n",
       "hot                            float32\n",
       "num_failed_logins              float32\n",
       "num_compromised                float32\n",
       "root_shell                     float32\n",
       "su_attempted                   float32\n",
       "num_root                       float32\n",
       "num_file_creations             float32\n",
       "num_shells                     float32\n",
       "num_access_files               float32\n",
       "num_outbound_cmds              float32\n",
       "count                          float32\n",
       "srv_count                      float32\n",
       "serror_rate                    float32\n",
       "srv_serror_rate                float32\n",
       "rerror_rate                    float32\n",
       "srv_rerror_rate                float32\n",
       "same_srv_rate                  float32\n",
       "diff_srv_rate                  float32\n",
       "srv_diff_host_rate             float32\n",
       "dst_host_count                 float32\n",
       "dst_host_srv_count             float32\n",
       "dst_host_same_srv_rate         float32\n",
       "dst_host_diff_srv_rate         float32\n",
       "dst_host_same_src_port_rate    float32\n",
       "dst_host_srv_diff_host_rate    float32\n",
       "                                ...   \n",
       "service-supdup                   uint8\n",
       "service-systat                   uint8\n",
       "service-telnet                   uint8\n",
       "service-tftp_u                   uint8\n",
       "service-tim_i                    uint8\n",
       "service-time                     uint8\n",
       "service-urh_i                    uint8\n",
       "service-urp_i                    uint8\n",
       "service-uucp                     uint8\n",
       "service-uucp_path                uint8\n",
       "service-vmnet                    uint8\n",
       "service-whois                    uint8\n",
       "flag-OTH                         uint8\n",
       "flag-REJ                         uint8\n",
       "flag-RSTO                        uint8\n",
       "flag-RSTOS0                      uint8\n",
       "flag-RSTR                        uint8\n",
       "flag-S0                          uint8\n",
       "flag-S1                          uint8\n",
       "flag-S2                          uint8\n",
       "flag-S3                          uint8\n",
       "flag-SF                          uint8\n",
       "flag-SH                          uint8\n",
       "land-0                           uint8\n",
       "land-1                           uint8\n",
       "logged_in-0                      uint8\n",
       "logged_in-1                      uint8\n",
       "is_host_login-0                  uint8\n",
       "is_guest_login-0                 uint8\n",
       "is_guest_login-1                 uint8\n",
       "Length: 122, dtype: object"
      ]
     },
     "execution_count": 68,
     "metadata": {},
     "output_type": "execute_result"
    }
   ],
   "source": [
    "network_df.dtypes"
   ]
  },
  {
   "cell_type": "code",
   "execution_count": 69,
   "metadata": {},
   "outputs": [],
   "source": [
    "# create a function called encodeLabelBinarizer\n",
    "\n",
    "encodeLabelBinary = lambda x: 0 if x == 'normal.' else 1"
   ]
  },
  {
   "cell_type": "code",
   "execution_count": 70,
   "metadata": {},
   "outputs": [],
   "source": [
    "network_df['outcome'] = network_df['outcome'].apply(encodeLabelBinary)"
   ]
  },
  {
   "cell_type": "code",
   "execution_count": 71,
   "metadata": {},
   "outputs": [
    {
     "data": {
      "text/html": [
       "<div>\n",
       "<style scoped>\n",
       "    .dataframe tbody tr th:only-of-type {\n",
       "        vertical-align: middle;\n",
       "    }\n",
       "\n",
       "    .dataframe tbody tr th {\n",
       "        vertical-align: top;\n",
       "    }\n",
       "\n",
       "    .dataframe thead th {\n",
       "        text-align: right;\n",
       "    }\n",
       "</style>\n",
       "<table border=\"1\" class=\"dataframe\">\n",
       "  <thead>\n",
       "    <tr style=\"text-align: right;\">\n",
       "      <th></th>\n",
       "      <th>duration</th>\n",
       "      <th>src_bytes</th>\n",
       "      <th>dst_bytes</th>\n",
       "      <th>wrong_fragment</th>\n",
       "      <th>urgent</th>\n",
       "      <th>hot</th>\n",
       "      <th>num_failed_logins</th>\n",
       "      <th>num_compromised</th>\n",
       "      <th>root_shell</th>\n",
       "      <th>su_attempted</th>\n",
       "      <th>...</th>\n",
       "      <th>flag-S3</th>\n",
       "      <th>flag-SF</th>\n",
       "      <th>flag-SH</th>\n",
       "      <th>land-0</th>\n",
       "      <th>land-1</th>\n",
       "      <th>logged_in-0</th>\n",
       "      <th>logged_in-1</th>\n",
       "      <th>is_host_login-0</th>\n",
       "      <th>is_guest_login-0</th>\n",
       "      <th>is_guest_login-1</th>\n",
       "    </tr>\n",
       "  </thead>\n",
       "  <tbody>\n",
       "    <tr>\n",
       "      <th>0</th>\n",
       "      <td>0.0</td>\n",
       "      <td>3.446905e-07</td>\n",
       "      <td>0.000094</td>\n",
       "      <td>0.0</td>\n",
       "      <td>0.0</td>\n",
       "      <td>0.0</td>\n",
       "      <td>0.0</td>\n",
       "      <td>0.0</td>\n",
       "      <td>0.0</td>\n",
       "      <td>0.0</td>\n",
       "      <td>...</td>\n",
       "      <td>0</td>\n",
       "      <td>1</td>\n",
       "      <td>0</td>\n",
       "      <td>1</td>\n",
       "      <td>0</td>\n",
       "      <td>0</td>\n",
       "      <td>1</td>\n",
       "      <td>1</td>\n",
       "      <td>1</td>\n",
       "      <td>0</td>\n",
       "    </tr>\n",
       "    <tr>\n",
       "      <th>1</th>\n",
       "      <td>0.0</td>\n",
       "      <td>3.389216e-07</td>\n",
       "      <td>0.000259</td>\n",
       "      <td>0.0</td>\n",
       "      <td>0.0</td>\n",
       "      <td>0.0</td>\n",
       "      <td>0.0</td>\n",
       "      <td>0.0</td>\n",
       "      <td>0.0</td>\n",
       "      <td>0.0</td>\n",
       "      <td>...</td>\n",
       "      <td>0</td>\n",
       "      <td>1</td>\n",
       "      <td>0</td>\n",
       "      <td>1</td>\n",
       "      <td>0</td>\n",
       "      <td>0</td>\n",
       "      <td>1</td>\n",
       "      <td>1</td>\n",
       "      <td>1</td>\n",
       "      <td>0</td>\n",
       "    </tr>\n",
       "    <tr>\n",
       "      <th>2</th>\n",
       "      <td>0.0</td>\n",
       "      <td>3.158461e-07</td>\n",
       "      <td>0.000259</td>\n",
       "      <td>0.0</td>\n",
       "      <td>0.0</td>\n",
       "      <td>0.0</td>\n",
       "      <td>0.0</td>\n",
       "      <td>0.0</td>\n",
       "      <td>0.0</td>\n",
       "      <td>0.0</td>\n",
       "      <td>...</td>\n",
       "      <td>0</td>\n",
       "      <td>1</td>\n",
       "      <td>0</td>\n",
       "      <td>1</td>\n",
       "      <td>0</td>\n",
       "      <td>0</td>\n",
       "      <td>1</td>\n",
       "      <td>1</td>\n",
       "      <td>1</td>\n",
       "      <td>0</td>\n",
       "    </tr>\n",
       "    <tr>\n",
       "      <th>3</th>\n",
       "      <td>0.0</td>\n",
       "      <td>3.129617e-07</td>\n",
       "      <td>0.000394</td>\n",
       "      <td>0.0</td>\n",
       "      <td>0.0</td>\n",
       "      <td>0.0</td>\n",
       "      <td>0.0</td>\n",
       "      <td>0.0</td>\n",
       "      <td>0.0</td>\n",
       "      <td>0.0</td>\n",
       "      <td>...</td>\n",
       "      <td>0</td>\n",
       "      <td>1</td>\n",
       "      <td>0</td>\n",
       "      <td>1</td>\n",
       "      <td>0</td>\n",
       "      <td>0</td>\n",
       "      <td>1</td>\n",
       "      <td>1</td>\n",
       "      <td>1</td>\n",
       "      <td>0</td>\n",
       "    </tr>\n",
       "    <tr>\n",
       "      <th>4</th>\n",
       "      <td>0.0</td>\n",
       "      <td>3.129617e-07</td>\n",
       "      <td>0.000394</td>\n",
       "      <td>0.0</td>\n",
       "      <td>0.0</td>\n",
       "      <td>0.0</td>\n",
       "      <td>0.0</td>\n",
       "      <td>0.0</td>\n",
       "      <td>0.0</td>\n",
       "      <td>0.0</td>\n",
       "      <td>...</td>\n",
       "      <td>0</td>\n",
       "      <td>1</td>\n",
       "      <td>0</td>\n",
       "      <td>1</td>\n",
       "      <td>0</td>\n",
       "      <td>0</td>\n",
       "      <td>1</td>\n",
       "      <td>1</td>\n",
       "      <td>1</td>\n",
       "      <td>0</td>\n",
       "    </tr>\n",
       "  </tbody>\n",
       "</table>\n",
       "<p>5 rows × 122 columns</p>\n",
       "</div>"
      ],
      "text/plain": [
       "   duration     src_bytes  dst_bytes  wrong_fragment  urgent  hot  \\\n",
       "0       0.0  3.446905e-07   0.000094             0.0     0.0  0.0   \n",
       "1       0.0  3.389216e-07   0.000259             0.0     0.0  0.0   \n",
       "2       0.0  3.158461e-07   0.000259             0.0     0.0  0.0   \n",
       "3       0.0  3.129617e-07   0.000394             0.0     0.0  0.0   \n",
       "4       0.0  3.129617e-07   0.000394             0.0     0.0  0.0   \n",
       "\n",
       "   num_failed_logins  num_compromised  root_shell  su_attempted  \\\n",
       "0                0.0              0.0         0.0           0.0   \n",
       "1                0.0              0.0         0.0           0.0   \n",
       "2                0.0              0.0         0.0           0.0   \n",
       "3                0.0              0.0         0.0           0.0   \n",
       "4                0.0              0.0         0.0           0.0   \n",
       "\n",
       "         ...         flag-S3  flag-SF  flag-SH  land-0  land-1  logged_in-0  \\\n",
       "0        ...               0        1        0       1       0            0   \n",
       "1        ...               0        1        0       1       0            0   \n",
       "2        ...               0        1        0       1       0            0   \n",
       "3        ...               0        1        0       1       0            0   \n",
       "4        ...               0        1        0       1       0            0   \n",
       "\n",
       "   logged_in-1  is_host_login-0  is_guest_login-0  is_guest_login-1  \n",
       "0            1                1                 1                 0  \n",
       "1            1                1                 1                 0  \n",
       "2            1                1                 1                 0  \n",
       "3            1                1                 1                 0  \n",
       "4            1                1                 1                 0  \n",
       "\n",
       "[5 rows x 122 columns]"
      ]
     },
     "execution_count": 71,
     "metadata": {},
     "output_type": "execute_result"
    }
   ],
   "source": [
    "network_df.head()"
   ]
  },
  {
   "cell_type": "code",
   "execution_count": 72,
   "metadata": {},
   "outputs": [],
   "source": [
    "x,y=to_xy(network_df,\"outcome\")"
   ]
  },
  {
   "cell_type": "code",
   "execution_count": 73,
   "metadata": {},
   "outputs": [
    {
     "data": {
      "text/plain": [
       "(145585, 121)"
      ]
     },
     "execution_count": 73,
     "metadata": {},
     "output_type": "execute_result"
    }
   ],
   "source": [
    "x.shape"
   ]
  },
  {
   "cell_type": "code",
   "execution_count": 74,
   "metadata": {},
   "outputs": [
    {
     "data": {
      "text/plain": [
       "(145585, 2)"
      ]
     },
     "execution_count": 74,
     "metadata": {},
     "output_type": "execute_result"
    }
   ],
   "source": [
    "y.shape"
   ]
  },
  {
   "cell_type": "markdown",
   "metadata": {
    "heading_collapsed": true
   },
   "source": [
    "# Neural Network"
   ]
  },
  {
   "cell_type": "code",
   "execution_count": 75,
   "metadata": {
    "hidden": true
   },
   "outputs": [],
   "source": [
    "x_train_nn, x_test_nn, y_train_nn, y_test_nn = train_test_split(x,y, test_size=0.2, random_state=42)"
   ]
  },
  {
   "cell_type": "code",
   "execution_count": 76,
   "metadata": {
    "hidden": true
   },
   "outputs": [
    {
     "name": "stdout",
     "output_type": "stream",
     "text": [
      "Train on 116468 samples, validate on 29117 samples\n",
      "Epoch 1/1000\n",
      " - 4s - loss: 0.0438 - val_loss: 0.0146\n",
      "Epoch 2/1000\n",
      " - 4s - loss: 0.0121 - val_loss: 0.0097\n",
      "Epoch 3/1000\n",
      " - 4s - loss: 0.0093 - val_loss: 0.0068\n",
      "Epoch 4/1000\n",
      " - 4s - loss: 0.0085 - val_loss: 0.0080\n",
      "Epoch 5/1000\n",
      " - 4s - loss: 0.0078 - val_loss: 0.0096\n",
      "Epoch 6/1000\n",
      " - 4s - loss: 0.0076 - val_loss: 0.0072\n",
      "Epoch 7/1000\n",
      " - 4s - loss: 0.0070 - val_loss: 0.0077\n",
      "Epoch 8/1000\n",
      " - 4s - loss: 0.0069 - val_loss: 0.0059\n",
      "Epoch 00008: early stopping\n"
     ]
    },
    {
     "data": {
      "text/plain": [
       "<keras.callbacks.History at 0x1a48c53160>"
      ]
     },
     "execution_count": 76,
     "metadata": {},
     "output_type": "execute_result"
    }
   ],
   "source": [
    "model = Sequential()\n",
    "model.add(Dense(10, input_dim=x_train_nn.shape[1], activation='relu'))\n",
    "model.add(Dense(50, activation='relu'))\n",
    "model.add(Dense(10, activation='relu'))\n",
    "model.add(Dense(1))\n",
    "model.add(Dense(y.shape[1],activation='softmax'))\n",
    "model.compile(loss='categorical_crossentropy', optimizer='adam')\n",
    "monitor = EarlyStopping(monitor='val_loss', min_delta=1e-3, patience=5, verbose=1, mode='auto')\n",
    "model.fit(x_train_nn,y_train_nn,validation_data=(x_test_nn,y_test_nn),callbacks=[monitor],verbose=2,epochs=1000)"
   ]
  },
  {
   "cell_type": "code",
   "execution_count": 77,
   "metadata": {
    "hidden": true
   },
   "outputs": [
    {
     "name": "stdout",
     "output_type": "stream",
     "text": [
      "Validation score: 0.9985231995054435\n"
     ]
    }
   ],
   "source": [
    "# Measure accuracy\n",
    "pred_nn = model.predict(x_test_nn)\n",
    "pred_nn = np.argmax(pred_nn,axis=1)\n",
    "y_eval = np.argmax(y_test_nn,axis=1)\n",
    "score_nn = accuracy_score(y_eval, pred_nn)\n",
    "print(\"Validation score: {}\".format(score_nn))"
   ]
  },
  {
   "cell_type": "markdown",
   "metadata": {
    "heading_collapsed": true
   },
   "source": [
    "# CNN"
   ]
  },
  {
   "cell_type": "code",
   "execution_count": 78,
   "metadata": {
    "hidden": true
   },
   "outputs": [],
   "source": [
    "x_train, x_test, y_train, y_test = train_test_split(x,y, test_size=0.2, random_state=42)"
   ]
  },
  {
   "cell_type": "code",
   "execution_count": 79,
   "metadata": {
    "hidden": true
   },
   "outputs": [
    {
     "data": {
      "text/plain": [
       "(116468, 121)"
      ]
     },
     "execution_count": 79,
     "metadata": {},
     "output_type": "execute_result"
    }
   ],
   "source": [
    "x_train.shape"
   ]
  },
  {
   "cell_type": "code",
   "execution_count": 80,
   "metadata": {
    "hidden": true
   },
   "outputs": [
    {
     "data": {
      "text/plain": [
       "(116468, 2)"
      ]
     },
     "execution_count": 80,
     "metadata": {},
     "output_type": "execute_result"
    }
   ],
   "source": [
    "y_train.shape"
   ]
  },
  {
   "cell_type": "code",
   "execution_count": 81,
   "metadata": {
    "hidden": true
   },
   "outputs": [
    {
     "data": {
      "text/plain": [
       "(29117, 121)"
      ]
     },
     "execution_count": 81,
     "metadata": {},
     "output_type": "execute_result"
    }
   ],
   "source": [
    "x_test.shape"
   ]
  },
  {
   "cell_type": "code",
   "execution_count": 82,
   "metadata": {
    "hidden": true
   },
   "outputs": [
    {
     "data": {
      "text/plain": [
       "(29117, 2)"
      ]
     },
     "execution_count": 82,
     "metadata": {},
     "output_type": "execute_result"
    }
   ],
   "source": [
    "y_test.shape"
   ]
  },
  {
   "cell_type": "code",
   "execution_count": 83,
   "metadata": {
    "hidden": true
   },
   "outputs": [],
   "source": [
    "# we now reshape the x_train and x_test to image form used in CNN 2D\n",
    "x_train = x_train.reshape(x_train.shape[0], 1, 121, 1)\n",
    "x_test = x_test.reshape(x_test.shape[0], 1, 121, 1)"
   ]
  },
  {
   "cell_type": "code",
   "execution_count": 84,
   "metadata": {
    "hidden": true
   },
   "outputs": [
    {
     "data": {
      "text/plain": [
       "(116468, 1, 121, 1)"
      ]
     },
     "execution_count": 84,
     "metadata": {},
     "output_type": "execute_result"
    }
   ],
   "source": [
    "x_train.shape"
   ]
  },
  {
   "cell_type": "code",
   "execution_count": 85,
   "metadata": {
    "hidden": true
   },
   "outputs": [
    {
     "data": {
      "text/plain": [
       "(29117, 1, 121, 1)"
      ]
     },
     "execution_count": 85,
     "metadata": {},
     "output_type": "execute_result"
    }
   ],
   "source": [
    "x_test.shape"
   ]
  },
  {
   "cell_type": "code",
   "execution_count": 86,
   "metadata": {
    "hidden": true
   },
   "outputs": [
    {
     "data": {
      "text/plain": [
       "array([[[[0.0000000e+00],\n",
       "         [2.9853948e-07],\n",
       "         [1.4954996e-04],\n",
       "         [0.0000000e+00],\n",
       "         [0.0000000e+00],\n",
       "         [0.0000000e+00],\n",
       "         [0.0000000e+00],\n",
       "         [0.0000000e+00],\n",
       "         [0.0000000e+00],\n",
       "         [0.0000000e+00],\n",
       "         [0.0000000e+00],\n",
       "         [0.0000000e+00],\n",
       "         [0.0000000e+00],\n",
       "         [0.0000000e+00],\n",
       "         [0.0000000e+00],\n",
       "         [2.7397260e-02],\n",
       "         [3.1311154e-02],\n",
       "         [0.0000000e+00],\n",
       "         [0.0000000e+00],\n",
       "         [0.0000000e+00],\n",
       "         [0.0000000e+00],\n",
       "         [1.0000000e+00],\n",
       "         [0.0000000e+00],\n",
       "         [1.2000000e-01],\n",
       "         [6.1176473e-01],\n",
       "         [1.0000000e+00],\n",
       "         [1.0000000e+00],\n",
       "         [0.0000000e+00],\n",
       "         [9.9999998e-03],\n",
       "         [2.0000000e-02],\n",
       "         [9.9999998e-03],\n",
       "         [0.0000000e+00],\n",
       "         [0.0000000e+00],\n",
       "         [0.0000000e+00],\n",
       "         [0.0000000e+00],\n",
       "         [1.0000000e+00],\n",
       "         [0.0000000e+00],\n",
       "         [0.0000000e+00],\n",
       "         [0.0000000e+00],\n",
       "         [0.0000000e+00],\n",
       "         [0.0000000e+00],\n",
       "         [0.0000000e+00],\n",
       "         [0.0000000e+00],\n",
       "         [0.0000000e+00],\n",
       "         [0.0000000e+00],\n",
       "         [0.0000000e+00],\n",
       "         [0.0000000e+00],\n",
       "         [0.0000000e+00],\n",
       "         [0.0000000e+00],\n",
       "         [0.0000000e+00],\n",
       "         [0.0000000e+00],\n",
       "         [0.0000000e+00],\n",
       "         [0.0000000e+00],\n",
       "         [0.0000000e+00],\n",
       "         [0.0000000e+00],\n",
       "         [0.0000000e+00],\n",
       "         [0.0000000e+00],\n",
       "         [0.0000000e+00],\n",
       "         [0.0000000e+00],\n",
       "         [1.0000000e+00],\n",
       "         [0.0000000e+00],\n",
       "         [0.0000000e+00],\n",
       "         [0.0000000e+00],\n",
       "         [0.0000000e+00],\n",
       "         [0.0000000e+00],\n",
       "         [0.0000000e+00],\n",
       "         [0.0000000e+00],\n",
       "         [0.0000000e+00],\n",
       "         [0.0000000e+00],\n",
       "         [0.0000000e+00],\n",
       "         [0.0000000e+00],\n",
       "         [0.0000000e+00],\n",
       "         [0.0000000e+00],\n",
       "         [0.0000000e+00],\n",
       "         [0.0000000e+00],\n",
       "         [0.0000000e+00],\n",
       "         [0.0000000e+00],\n",
       "         [0.0000000e+00],\n",
       "         [0.0000000e+00],\n",
       "         [0.0000000e+00],\n",
       "         [0.0000000e+00],\n",
       "         [0.0000000e+00],\n",
       "         [0.0000000e+00],\n",
       "         [0.0000000e+00],\n",
       "         [0.0000000e+00],\n",
       "         [0.0000000e+00],\n",
       "         [0.0000000e+00],\n",
       "         [0.0000000e+00],\n",
       "         [0.0000000e+00],\n",
       "         [0.0000000e+00],\n",
       "         [0.0000000e+00],\n",
       "         [0.0000000e+00],\n",
       "         [0.0000000e+00],\n",
       "         [0.0000000e+00],\n",
       "         [0.0000000e+00],\n",
       "         [0.0000000e+00],\n",
       "         [0.0000000e+00],\n",
       "         [0.0000000e+00],\n",
       "         [0.0000000e+00],\n",
       "         [0.0000000e+00],\n",
       "         [0.0000000e+00],\n",
       "         [0.0000000e+00],\n",
       "         [0.0000000e+00],\n",
       "         [0.0000000e+00],\n",
       "         [0.0000000e+00],\n",
       "         [0.0000000e+00],\n",
       "         [0.0000000e+00],\n",
       "         [0.0000000e+00],\n",
       "         [0.0000000e+00],\n",
       "         [0.0000000e+00],\n",
       "         [0.0000000e+00],\n",
       "         [0.0000000e+00],\n",
       "         [1.0000000e+00],\n",
       "         [0.0000000e+00],\n",
       "         [1.0000000e+00],\n",
       "         [0.0000000e+00],\n",
       "         [0.0000000e+00],\n",
       "         [1.0000000e+00],\n",
       "         [1.0000000e+00],\n",
       "         [1.0000000e+00],\n",
       "         [0.0000000e+00]]],\n",
       "\n",
       "\n",
       "       [[[0.0000000e+00],\n",
       "         [0.0000000e+00],\n",
       "         [0.0000000e+00],\n",
       "         [0.0000000e+00],\n",
       "         [0.0000000e+00],\n",
       "         [0.0000000e+00],\n",
       "         [0.0000000e+00],\n",
       "         [0.0000000e+00],\n",
       "         [0.0000000e+00],\n",
       "         [0.0000000e+00],\n",
       "         [0.0000000e+00],\n",
       "         [0.0000000e+00],\n",
       "         [0.0000000e+00],\n",
       "         [0.0000000e+00],\n",
       "         [0.0000000e+00],\n",
       "         [5.0097847e-01],\n",
       "         [7.8277886e-03],\n",
       "         [0.0000000e+00],\n",
       "         [0.0000000e+00],\n",
       "         [1.0000000e+00],\n",
       "         [1.0000000e+00],\n",
       "         [2.0000000e-02],\n",
       "         [7.0000000e-02],\n",
       "         [0.0000000e+00],\n",
       "         [1.0000000e+00],\n",
       "         [1.5686275e-02],\n",
       "         [2.0000000e-02],\n",
       "         [7.0000000e-02],\n",
       "         [0.0000000e+00],\n",
       "         [0.0000000e+00],\n",
       "         [0.0000000e+00],\n",
       "         [0.0000000e+00],\n",
       "         [1.0000000e+00],\n",
       "         [1.0000000e+00],\n",
       "         [0.0000000e+00],\n",
       "         [1.0000000e+00],\n",
       "         [0.0000000e+00],\n",
       "         [0.0000000e+00],\n",
       "         [0.0000000e+00],\n",
       "         [0.0000000e+00],\n",
       "         [0.0000000e+00],\n",
       "         [0.0000000e+00],\n",
       "         [0.0000000e+00],\n",
       "         [0.0000000e+00],\n",
       "         [0.0000000e+00],\n",
       "         [0.0000000e+00],\n",
       "         [1.0000000e+00],\n",
       "         [0.0000000e+00],\n",
       "         [0.0000000e+00],\n",
       "         [0.0000000e+00],\n",
       "         [0.0000000e+00],\n",
       "         [0.0000000e+00],\n",
       "         [0.0000000e+00],\n",
       "         [0.0000000e+00],\n",
       "         [0.0000000e+00],\n",
       "         [0.0000000e+00],\n",
       "         [0.0000000e+00],\n",
       "         [0.0000000e+00],\n",
       "         [0.0000000e+00],\n",
       "         [0.0000000e+00],\n",
       "         [0.0000000e+00],\n",
       "         [0.0000000e+00],\n",
       "         [0.0000000e+00],\n",
       "         [0.0000000e+00],\n",
       "         [0.0000000e+00],\n",
       "         [0.0000000e+00],\n",
       "         [0.0000000e+00],\n",
       "         [0.0000000e+00],\n",
       "         [0.0000000e+00],\n",
       "         [0.0000000e+00],\n",
       "         [0.0000000e+00],\n",
       "         [0.0000000e+00],\n",
       "         [0.0000000e+00],\n",
       "         [0.0000000e+00],\n",
       "         [0.0000000e+00],\n",
       "         [0.0000000e+00],\n",
       "         [0.0000000e+00],\n",
       "         [0.0000000e+00],\n",
       "         [0.0000000e+00],\n",
       "         [0.0000000e+00],\n",
       "         [0.0000000e+00],\n",
       "         [0.0000000e+00],\n",
       "         [0.0000000e+00],\n",
       "         [0.0000000e+00],\n",
       "         [0.0000000e+00],\n",
       "         [0.0000000e+00],\n",
       "         [0.0000000e+00],\n",
       "         [0.0000000e+00],\n",
       "         [0.0000000e+00],\n",
       "         [0.0000000e+00],\n",
       "         [0.0000000e+00],\n",
       "         [0.0000000e+00],\n",
       "         [0.0000000e+00],\n",
       "         [0.0000000e+00],\n",
       "         [0.0000000e+00],\n",
       "         [0.0000000e+00],\n",
       "         [0.0000000e+00],\n",
       "         [0.0000000e+00],\n",
       "         [0.0000000e+00],\n",
       "         [0.0000000e+00],\n",
       "         [0.0000000e+00],\n",
       "         [0.0000000e+00],\n",
       "         [0.0000000e+00],\n",
       "         [0.0000000e+00],\n",
       "         [0.0000000e+00],\n",
       "         [1.0000000e+00],\n",
       "         [0.0000000e+00],\n",
       "         [0.0000000e+00],\n",
       "         [0.0000000e+00],\n",
       "         [0.0000000e+00],\n",
       "         [0.0000000e+00],\n",
       "         [0.0000000e+00],\n",
       "         [0.0000000e+00],\n",
       "         [0.0000000e+00],\n",
       "         [1.0000000e+00],\n",
       "         [0.0000000e+00],\n",
       "         [1.0000000e+00],\n",
       "         [0.0000000e+00],\n",
       "         [1.0000000e+00],\n",
       "         [1.0000000e+00],\n",
       "         [0.0000000e+00]]],\n",
       "\n",
       "\n",
       "       [[[0.0000000e+00],\n",
       "         [4.0237930e-07],\n",
       "         [1.4266407e-03],\n",
       "         [0.0000000e+00],\n",
       "         [0.0000000e+00],\n",
       "         [0.0000000e+00],\n",
       "         [0.0000000e+00],\n",
       "         [0.0000000e+00],\n",
       "         [0.0000000e+00],\n",
       "         [0.0000000e+00],\n",
       "         [0.0000000e+00],\n",
       "         [0.0000000e+00],\n",
       "         [0.0000000e+00],\n",
       "         [0.0000000e+00],\n",
       "         [0.0000000e+00],\n",
       "         [1.1741683e-02],\n",
       "         [1.7612524e-02],\n",
       "         [0.0000000e+00],\n",
       "         [0.0000000e+00],\n",
       "         [0.0000000e+00],\n",
       "         [0.0000000e+00],\n",
       "         [1.0000000e+00],\n",
       "         [0.0000000e+00],\n",
       "         [2.2000000e-01],\n",
       "         [8.4705883e-01],\n",
       "         [1.0000000e+00],\n",
       "         [1.0000000e+00],\n",
       "         [0.0000000e+00],\n",
       "         [0.0000000e+00],\n",
       "         [2.0000000e-02],\n",
       "         [0.0000000e+00],\n",
       "         [0.0000000e+00],\n",
       "         [0.0000000e+00],\n",
       "         [0.0000000e+00],\n",
       "         [0.0000000e+00],\n",
       "         [1.0000000e+00],\n",
       "         [0.0000000e+00],\n",
       "         [0.0000000e+00],\n",
       "         [0.0000000e+00],\n",
       "         [0.0000000e+00],\n",
       "         [0.0000000e+00],\n",
       "         [0.0000000e+00],\n",
       "         [0.0000000e+00],\n",
       "         [0.0000000e+00],\n",
       "         [0.0000000e+00],\n",
       "         [0.0000000e+00],\n",
       "         [0.0000000e+00],\n",
       "         [0.0000000e+00],\n",
       "         [0.0000000e+00],\n",
       "         [0.0000000e+00],\n",
       "         [0.0000000e+00],\n",
       "         [0.0000000e+00],\n",
       "         [0.0000000e+00],\n",
       "         [0.0000000e+00],\n",
       "         [0.0000000e+00],\n",
       "         [0.0000000e+00],\n",
       "         [0.0000000e+00],\n",
       "         [0.0000000e+00],\n",
       "         [0.0000000e+00],\n",
       "         [1.0000000e+00],\n",
       "         [0.0000000e+00],\n",
       "         [0.0000000e+00],\n",
       "         [0.0000000e+00],\n",
       "         [0.0000000e+00],\n",
       "         [0.0000000e+00],\n",
       "         [0.0000000e+00],\n",
       "         [0.0000000e+00],\n",
       "         [0.0000000e+00],\n",
       "         [0.0000000e+00],\n",
       "         [0.0000000e+00],\n",
       "         [0.0000000e+00],\n",
       "         [0.0000000e+00],\n",
       "         [0.0000000e+00],\n",
       "         [0.0000000e+00],\n",
       "         [0.0000000e+00],\n",
       "         [0.0000000e+00],\n",
       "         [0.0000000e+00],\n",
       "         [0.0000000e+00],\n",
       "         [0.0000000e+00],\n",
       "         [0.0000000e+00],\n",
       "         [0.0000000e+00],\n",
       "         [0.0000000e+00],\n",
       "         [0.0000000e+00],\n",
       "         [0.0000000e+00],\n",
       "         [0.0000000e+00],\n",
       "         [0.0000000e+00],\n",
       "         [0.0000000e+00],\n",
       "         [0.0000000e+00],\n",
       "         [0.0000000e+00],\n",
       "         [0.0000000e+00],\n",
       "         [0.0000000e+00],\n",
       "         [0.0000000e+00],\n",
       "         [0.0000000e+00],\n",
       "         [0.0000000e+00],\n",
       "         [0.0000000e+00],\n",
       "         [0.0000000e+00],\n",
       "         [0.0000000e+00],\n",
       "         [0.0000000e+00],\n",
       "         [0.0000000e+00],\n",
       "         [0.0000000e+00],\n",
       "         [0.0000000e+00],\n",
       "         [0.0000000e+00],\n",
       "         [0.0000000e+00],\n",
       "         [0.0000000e+00],\n",
       "         [0.0000000e+00],\n",
       "         [0.0000000e+00],\n",
       "         [0.0000000e+00],\n",
       "         [0.0000000e+00],\n",
       "         [0.0000000e+00],\n",
       "         [0.0000000e+00],\n",
       "         [0.0000000e+00],\n",
       "         [0.0000000e+00],\n",
       "         [1.0000000e+00],\n",
       "         [0.0000000e+00],\n",
       "         [1.0000000e+00],\n",
       "         [0.0000000e+00],\n",
       "         [0.0000000e+00],\n",
       "         [1.0000000e+00],\n",
       "         [1.0000000e+00],\n",
       "         [1.0000000e+00],\n",
       "         [0.0000000e+00]]],\n",
       "\n",
       "\n",
       "       [[[0.0000000e+00],\n",
       "         [2.8411728e-07],\n",
       "         [5.4505235e-05],\n",
       "         [0.0000000e+00],\n",
       "         [0.0000000e+00],\n",
       "         [0.0000000e+00],\n",
       "         [0.0000000e+00],\n",
       "         [0.0000000e+00],\n",
       "         [0.0000000e+00],\n",
       "         [0.0000000e+00],\n",
       "         [0.0000000e+00],\n",
       "         [0.0000000e+00],\n",
       "         [0.0000000e+00],\n",
       "         [0.0000000e+00],\n",
       "         [0.0000000e+00],\n",
       "         [3.9138943e-03],\n",
       "         [1.5655577e-02],\n",
       "         [0.0000000e+00],\n",
       "         [0.0000000e+00],\n",
       "         [0.0000000e+00],\n",
       "         [0.0000000e+00],\n",
       "         [1.0000000e+00],\n",
       "         [0.0000000e+00],\n",
       "         [3.8000000e-01],\n",
       "         [7.8431375e-02],\n",
       "         [1.0000000e+00],\n",
       "         [1.0000000e+00],\n",
       "         [0.0000000e+00],\n",
       "         [5.0000001e-02],\n",
       "         [9.9999998e-03],\n",
       "         [0.0000000e+00],\n",
       "         [0.0000000e+00],\n",
       "         [0.0000000e+00],\n",
       "         [0.0000000e+00],\n",
       "         [0.0000000e+00],\n",
       "         [1.0000000e+00],\n",
       "         [0.0000000e+00],\n",
       "         [0.0000000e+00],\n",
       "         [0.0000000e+00],\n",
       "         [0.0000000e+00],\n",
       "         [0.0000000e+00],\n",
       "         [0.0000000e+00],\n",
       "         [0.0000000e+00],\n",
       "         [0.0000000e+00],\n",
       "         [0.0000000e+00],\n",
       "         [0.0000000e+00],\n",
       "         [0.0000000e+00],\n",
       "         [0.0000000e+00],\n",
       "         [0.0000000e+00],\n",
       "         [0.0000000e+00],\n",
       "         [0.0000000e+00],\n",
       "         [0.0000000e+00],\n",
       "         [0.0000000e+00],\n",
       "         [0.0000000e+00],\n",
       "         [0.0000000e+00],\n",
       "         [0.0000000e+00],\n",
       "         [0.0000000e+00],\n",
       "         [0.0000000e+00],\n",
       "         [0.0000000e+00],\n",
       "         [1.0000000e+00],\n",
       "         [0.0000000e+00],\n",
       "         [0.0000000e+00],\n",
       "         [0.0000000e+00],\n",
       "         [0.0000000e+00],\n",
       "         [0.0000000e+00],\n",
       "         [0.0000000e+00],\n",
       "         [0.0000000e+00],\n",
       "         [0.0000000e+00],\n",
       "         [0.0000000e+00],\n",
       "         [0.0000000e+00],\n",
       "         [0.0000000e+00],\n",
       "         [0.0000000e+00],\n",
       "         [0.0000000e+00],\n",
       "         [0.0000000e+00],\n",
       "         [0.0000000e+00],\n",
       "         [0.0000000e+00],\n",
       "         [0.0000000e+00],\n",
       "         [0.0000000e+00],\n",
       "         [0.0000000e+00],\n",
       "         [0.0000000e+00],\n",
       "         [0.0000000e+00],\n",
       "         [0.0000000e+00],\n",
       "         [0.0000000e+00],\n",
       "         [0.0000000e+00],\n",
       "         [0.0000000e+00],\n",
       "         [0.0000000e+00],\n",
       "         [0.0000000e+00],\n",
       "         [0.0000000e+00],\n",
       "         [0.0000000e+00],\n",
       "         [0.0000000e+00],\n",
       "         [0.0000000e+00],\n",
       "         [0.0000000e+00],\n",
       "         [0.0000000e+00],\n",
       "         [0.0000000e+00],\n",
       "         [0.0000000e+00],\n",
       "         [0.0000000e+00],\n",
       "         [0.0000000e+00],\n",
       "         [0.0000000e+00],\n",
       "         [0.0000000e+00],\n",
       "         [0.0000000e+00],\n",
       "         [0.0000000e+00],\n",
       "         [0.0000000e+00],\n",
       "         [0.0000000e+00],\n",
       "         [0.0000000e+00],\n",
       "         [0.0000000e+00],\n",
       "         [0.0000000e+00],\n",
       "         [0.0000000e+00],\n",
       "         [0.0000000e+00],\n",
       "         [0.0000000e+00],\n",
       "         [0.0000000e+00],\n",
       "         [0.0000000e+00],\n",
       "         [0.0000000e+00],\n",
       "         [1.0000000e+00],\n",
       "         [0.0000000e+00],\n",
       "         [1.0000000e+00],\n",
       "         [0.0000000e+00],\n",
       "         [0.0000000e+00],\n",
       "         [1.0000000e+00],\n",
       "         [1.0000000e+00],\n",
       "         [1.0000000e+00],\n",
       "         [0.0000000e+00]]],\n",
       "\n",
       "\n",
       "       [[[0.0000000e+00],\n",
       "         [4.7160583e-07],\n",
       "         [5.1091384e-04],\n",
       "         [0.0000000e+00],\n",
       "         [0.0000000e+00],\n",
       "         [0.0000000e+00],\n",
       "         [0.0000000e+00],\n",
       "         [0.0000000e+00],\n",
       "         [0.0000000e+00],\n",
       "         [0.0000000e+00],\n",
       "         [0.0000000e+00],\n",
       "         [0.0000000e+00],\n",
       "         [0.0000000e+00],\n",
       "         [0.0000000e+00],\n",
       "         [0.0000000e+00],\n",
       "         [1.9569471e-03],\n",
       "         [9.7847357e-03],\n",
       "         [0.0000000e+00],\n",
       "         [0.0000000e+00],\n",
       "         [0.0000000e+00],\n",
       "         [0.0000000e+00],\n",
       "         [1.0000000e+00],\n",
       "         [0.0000000e+00],\n",
       "         [4.0000001e-01],\n",
       "         [1.1764706e-02],\n",
       "         [1.0000000e+00],\n",
       "         [1.0000000e+00],\n",
       "         [0.0000000e+00],\n",
       "         [3.3000001e-01],\n",
       "         [2.9999999e-02],\n",
       "         [0.0000000e+00],\n",
       "         [0.0000000e+00],\n",
       "         [0.0000000e+00],\n",
       "         [0.0000000e+00],\n",
       "         [0.0000000e+00],\n",
       "         [1.0000000e+00],\n",
       "         [0.0000000e+00],\n",
       "         [0.0000000e+00],\n",
       "         [0.0000000e+00],\n",
       "         [0.0000000e+00],\n",
       "         [0.0000000e+00],\n",
       "         [0.0000000e+00],\n",
       "         [0.0000000e+00],\n",
       "         [0.0000000e+00],\n",
       "         [0.0000000e+00],\n",
       "         [0.0000000e+00],\n",
       "         [0.0000000e+00],\n",
       "         [0.0000000e+00],\n",
       "         [0.0000000e+00],\n",
       "         [0.0000000e+00],\n",
       "         [0.0000000e+00],\n",
       "         [0.0000000e+00],\n",
       "         [0.0000000e+00],\n",
       "         [0.0000000e+00],\n",
       "         [0.0000000e+00],\n",
       "         [0.0000000e+00],\n",
       "         [0.0000000e+00],\n",
       "         [0.0000000e+00],\n",
       "         [0.0000000e+00],\n",
       "         [1.0000000e+00],\n",
       "         [0.0000000e+00],\n",
       "         [0.0000000e+00],\n",
       "         [0.0000000e+00],\n",
       "         [0.0000000e+00],\n",
       "         [0.0000000e+00],\n",
       "         [0.0000000e+00],\n",
       "         [0.0000000e+00],\n",
       "         [0.0000000e+00],\n",
       "         [0.0000000e+00],\n",
       "         [0.0000000e+00],\n",
       "         [0.0000000e+00],\n",
       "         [0.0000000e+00],\n",
       "         [0.0000000e+00],\n",
       "         [0.0000000e+00],\n",
       "         [0.0000000e+00],\n",
       "         [0.0000000e+00],\n",
       "         [0.0000000e+00],\n",
       "         [0.0000000e+00],\n",
       "         [0.0000000e+00],\n",
       "         [0.0000000e+00],\n",
       "         [0.0000000e+00],\n",
       "         [0.0000000e+00],\n",
       "         [0.0000000e+00],\n",
       "         [0.0000000e+00],\n",
       "         [0.0000000e+00],\n",
       "         [0.0000000e+00],\n",
       "         [0.0000000e+00],\n",
       "         [0.0000000e+00],\n",
       "         [0.0000000e+00],\n",
       "         [0.0000000e+00],\n",
       "         [0.0000000e+00],\n",
       "         [0.0000000e+00],\n",
       "         [0.0000000e+00],\n",
       "         [0.0000000e+00],\n",
       "         [0.0000000e+00],\n",
       "         [0.0000000e+00],\n",
       "         [0.0000000e+00],\n",
       "         [0.0000000e+00],\n",
       "         [0.0000000e+00],\n",
       "         [0.0000000e+00],\n",
       "         [0.0000000e+00],\n",
       "         [0.0000000e+00],\n",
       "         [0.0000000e+00],\n",
       "         [0.0000000e+00],\n",
       "         [0.0000000e+00],\n",
       "         [0.0000000e+00],\n",
       "         [0.0000000e+00],\n",
       "         [0.0000000e+00],\n",
       "         [0.0000000e+00],\n",
       "         [0.0000000e+00],\n",
       "         [0.0000000e+00],\n",
       "         [0.0000000e+00],\n",
       "         [1.0000000e+00],\n",
       "         [0.0000000e+00],\n",
       "         [1.0000000e+00],\n",
       "         [0.0000000e+00],\n",
       "         [0.0000000e+00],\n",
       "         [1.0000000e+00],\n",
       "         [1.0000000e+00],\n",
       "         [1.0000000e+00],\n",
       "         [0.0000000e+00]]]], dtype=float32)"
      ]
     },
     "execution_count": 86,
     "metadata": {},
     "output_type": "execute_result"
    }
   ],
   "source": [
    "x_train[0:5]"
   ]
  },
  {
   "cell_type": "code",
   "execution_count": 103,
   "metadata": {
    "hidden": true
   },
   "outputs": [],
   "source": [
    "# finally the much avaited CNN 2D\n",
    "\n",
    "cnn = Sequential()\n",
    "\n",
    "# Conv2D layer 1\n",
    "cnn.add(Conv2D(41, kernel_size=(1, 3), strides=(1, 1), padding='valid',\n",
    "                 activation='relu',\n",
    "                 input_shape=(1,121,1)))\n",
    "\n",
    "\n"
   ]
  },
  {
   "cell_type": "code",
   "execution_count": 105,
   "metadata": {
    "hidden": true
   },
   "outputs": [],
   "source": [
    "cnn.add(Conv2D(64, (1, 3), activation='relu'))\n",
    "\n",
    "cnn.add(MaxPooling2D(pool_size=(1, 2), strides=None))\n",
    "\n",
    "cnn.add(Dropout(0.25))\n",
    "\n",
    "cnn.add(Flatten())"
   ]
  },
  {
   "cell_type": "code",
   "execution_count": 106,
   "metadata": {
    "hidden": true
   },
   "outputs": [],
   "source": [
    "cnn.add(Dense(128, activation='relu'))\n",
    "\n",
    "cnn.add(Dropout(0.5))\n",
    "\n",
    "cnn.add(Dense(2, activation='softmax'))"
   ]
  },
  {
   "cell_type": "code",
   "execution_count": 107,
   "metadata": {
    "hidden": true
   },
   "outputs": [
    {
     "name": "stdout",
     "output_type": "stream",
     "text": [
      "_________________________________________________________________\n",
      "Layer (type)                 Output Shape              Param #   \n",
      "=================================================================\n",
      "conv2d_7 (Conv2D)            (None, 1, 119, 41)        164       \n",
      "_________________________________________________________________\n",
      "conv2d_8 (Conv2D)            (None, 1, 117, 64)        7936      \n",
      "_________________________________________________________________\n",
      "max_pooling2d_4 (MaxPooling2 (None, 1, 58, 64)         0         \n",
      "_________________________________________________________________\n",
      "dropout_7 (Dropout)          (None, 1, 58, 64)         0         \n",
      "_________________________________________________________________\n",
      "conv2d_9 (Conv2D)            (None, 1, 56, 64)         12352     \n",
      "_________________________________________________________________\n",
      "max_pooling2d_5 (MaxPooling2 (None, 1, 28, 64)         0         \n",
      "_________________________________________________________________\n",
      "dropout_8 (Dropout)          (None, 1, 28, 64)         0         \n",
      "_________________________________________________________________\n",
      "flatten_2 (Flatten)          (None, 1792)              0         \n",
      "_________________________________________________________________\n",
      "dense_12 (Dense)             (None, 128)               229504    \n",
      "_________________________________________________________________\n",
      "dropout_9 (Dropout)          (None, 128)               0         \n",
      "_________________________________________________________________\n",
      "dense_13 (Dense)             (None, 2)                 258       \n",
      "=================================================================\n",
      "Total params: 250,214\n",
      "Trainable params: 250,214\n",
      "Non-trainable params: 0\n",
      "_________________________________________________________________\n"
     ]
    }
   ],
   "source": [
    "cnn.summary()"
   ]
  },
  {
   "cell_type": "code",
   "execution_count": 108,
   "metadata": {
    "hidden": true
   },
   "outputs": [],
   "source": [
    "cnn.compile(loss='categorical_crossentropy', optimizer='adam', metrics=['accuracy'])\n"
   ]
  },
  {
   "cell_type": "code",
   "execution_count": 109,
   "metadata": {
    "hidden": true
   },
   "outputs": [
    {
     "name": "stdout",
     "output_type": "stream",
     "text": [
      "Train on 116468 samples, validate on 29117 samples\n",
      "Epoch 1/10\n",
      " - 31s - loss: 0.0401 - acc: 0.9881 - val_loss: 0.0107 - val_acc: 0.9964\n",
      "Epoch 2/10\n",
      " - 31s - loss: 0.0144 - acc: 0.9956 - val_loss: 0.0082 - val_acc: 0.9976\n",
      "Epoch 3/10\n",
      " - 30s - loss: 0.0114 - acc: 0.9966 - val_loss: 0.0071 - val_acc: 0.9980\n",
      "Epoch 4/10\n",
      " - 33s - loss: 0.0102 - acc: 0.9971 - val_loss: 0.0061 - val_acc: 0.9979\n",
      "Epoch 5/10\n",
      " - 35s - loss: 0.0088 - acc: 0.9973 - val_loss: 0.0061 - val_acc: 0.9979\n",
      "Epoch 6/10\n",
      " - 31s - loss: 0.0086 - acc: 0.9975 - val_loss: 0.0054 - val_acc: 0.9984\n",
      "Epoch 7/10\n",
      " - 32s - loss: 0.0076 - acc: 0.9978 - val_loss: 0.0045 - val_acc: 0.9986\n",
      "Epoch 8/10\n",
      " - 30s - loss: 0.0074 - acc: 0.9978 - val_loss: 0.0049 - val_acc: 0.9985\n",
      "Epoch 9/10\n",
      " - 31s - loss: 0.0070 - acc: 0.9979 - val_loss: 0.0040 - val_acc: 0.9987\n",
      "Epoch 10/10\n",
      " - 30s - loss: 0.0071 - acc: 0.9979 - val_loss: 0.0050 - val_acc: 0.9984\n"
     ]
    },
    {
     "data": {
      "text/plain": [
       "<keras.callbacks.History at 0x1173d0860>"
      ]
     },
     "execution_count": 109,
     "metadata": {},
     "output_type": "execute_result"
    }
   ],
   "source": [
    "cnn.fit(x_train, y_train,     \n",
    "          batch_size=128,\n",
    "          epochs=10,\n",
    "          verbose=2,\n",
    "          validation_data=(x_test, y_test))"
   ]
  },
  {
   "cell_type": "code",
   "execution_count": 110,
   "metadata": {
    "hidden": true
   },
   "outputs": [
    {
     "data": {
      "text/plain": [
       "[0.00503477076572647, 0.9984201669128001]"
      ]
     },
     "execution_count": 110,
     "metadata": {},
     "output_type": "execute_result"
    }
   ],
   "source": [
    "# Evaluate Accuracy in Keras\n",
    "score = cnn.evaluate(x_test, y_test, verbose=0)\n",
    "score"
   ]
  },
  {
   "cell_type": "code",
   "execution_count": 111,
   "metadata": {
    "hidden": true,
    "scrolled": true
   },
   "outputs": [
    {
     "name": "stdout",
     "output_type": "stream",
     "text": [
      "Test loss: 0.00503477076572647\n",
      "Test accuracy: 0.9984201669128001\n"
     ]
    }
   ],
   "source": [
    "print('Test loss: {}'.format(score[0]))\n",
    "print('Test accuracy: {}'.format(score[1]))"
   ]
  },
  {
   "cell_type": "code",
   "execution_count": 112,
   "metadata": {
    "hidden": true
   },
   "outputs": [],
   "source": [
    "pred = cnn.predict(x_test)\n",
    "pred = np.argmax(pred,axis=1)"
   ]
  },
  {
   "cell_type": "code",
   "execution_count": 113,
   "metadata": {
    "hidden": true
   },
   "outputs": [
    {
     "data": {
      "text/plain": [
       "array([0, 1, 0, ..., 1, 1, 1])"
      ]
     },
     "execution_count": 113,
     "metadata": {},
     "output_type": "execute_result"
    }
   ],
   "source": [
    "pred"
   ]
  },
  {
   "cell_type": "code",
   "execution_count": 114,
   "metadata": {
    "hidden": true
   },
   "outputs": [
    {
     "data": {
      "text/plain": [
       "array([0, 1, 0, ..., 1, 1, 1])"
      ]
     },
     "execution_count": 114,
     "metadata": {},
     "output_type": "execute_result"
    }
   ],
   "source": [
    "\n",
    "y_true = np.argmax(y_test,axis=1)\n",
    "y_true"
   ]
  },
  {
   "cell_type": "code",
   "execution_count": 115,
   "metadata": {
    "hidden": true,
    "scrolled": true
   },
   "outputs": [
    {
     "name": "stdout",
     "output_type": "stream",
     "text": [
      "[[17573    16]\n",
      " [   30 11498]]\n"
     ]
    }
   ],
   "source": [
    "cm_cnn = confusion_matrix(y_true, pred)\n",
    "print(cm_cnn)"
   ]
  },
  {
   "cell_type": "code",
   "execution_count": 116,
   "metadata": {
    "hidden": true
   },
   "outputs": [],
   "source": [
    "outcome = encode_text_index(network_df,'outcome')"
   ]
  },
  {
   "cell_type": "code",
   "execution_count": 117,
   "metadata": {
    "hidden": true
   },
   "outputs": [
    {
     "name": "stdout",
     "output_type": "stream",
     "text": [
      "Plotting confusion matrix\n"
     ]
    },
    {
     "data": {
      "image/png": "[encoded data removed]",
      "text/plain": [
       "<Figure size 432x288 with 2 Axes>"
      ]
     },
     "metadata": {},
     "output_type": "display_data"
    }
   ],
   "source": [
    "print('Plotting confusion matrix')\n",
    "\n",
    "plt.figure()\n",
    "plot_confusion_matrix(cm_cnn, outcome)\n",
    "plt.show()"
   ]
  },
  {
   "cell_type": "code",
   "execution_count": 118,
   "metadata": {
    "hidden": true
   },
   "outputs": [
    {
     "name": "stdout",
     "output_type": "stream",
     "text": [
      "             precision    recall  f1-score   support\n",
      "\n",
      "          0       1.00      1.00      1.00     17589\n",
      "          1       1.00      1.00      1.00     11528\n",
      "\n",
      "avg / total       1.00      1.00      1.00     29117\n",
      "\n"
     ]
    }
   ],
   "source": [
    "print(classification_report(y_true, pred))"
   ]
  },
  {
   "cell_type": "code",
   "execution_count": 119,
   "metadata": {
    "hidden": true
   },
   "outputs": [
    {
     "data": {
      "image/png": "[encoded data removed]",
      "text/plain": [
       "<Figure size 432x288 with 1 Axes>"
      ]
     },
     "metadata": {},
     "output_type": "display_data"
    }
   ],
   "source": [
    "pred = cnn.predict(x_test)\n",
    "pred = pred[:,1]\n",
    "plot_roc(pred,y_true)"
   ]
  },
  {
   "cell_type": "markdown",
   "metadata": {},
   "source": [
    "# CNN with all attacks"
   ]
  },
  {
   "cell_type": "code",
   "execution_count": 186,
   "metadata": {},
   "outputs": [],
   "source": [
    "network_cnn_df= pd.read_csv('network_intrusion_data.csv', delimiter =\",\")"
   ]
  },
  {
   "cell_type": "code",
   "execution_count": 187,
   "metadata": {},
   "outputs": [],
   "source": [
    "network_cnn_df.columns = [\n",
    "'duration',\n",
    "'protocol_type',\n",
    "'service',\n",
    "'flag',\n",
    "'src_bytes',\n",
    "'dst_bytes',\n",
    "'land',\n",
    "'wrong_fragment',\n",
    "'urgent',\n",
    "'hot',\n",
    "'num_failed_logins',\n",
    "'logged_in',\n",
    "'num_compromised',\n",
    "'root_shell',\n",
    "'su_attempted',\n",
    "'num_root',\n",
    "'num_file_creations',\n",
    "'num_shells',\n",
    "'num_access_files',\n",
    "'num_outbound_cmds',\n",
    "'is_host_login',\n",
    "'is_guest_login',\n",
    "'count',\n",
    "'srv_count',\n",
    "'serror_rate',\n",
    "'srv_serror_rate',\n",
    "'rerror_rate',\n",
    "'srv_rerror_rate',\n",
    "'same_srv_rate',\n",
    "'diff_srv_rate',\n",
    "'srv_diff_host_rate',\n",
    "'dst_host_count',\n",
    "'dst_host_srv_count',\n",
    "'dst_host_same_srv_rate',\n",
    "'dst_host_diff_srv_rate',\n",
    "'dst_host_same_src_port_rate',\n",
    "'dst_host_srv_diff_host_rate',\n",
    "'dst_host_serror_rate',\n",
    "'dst_host_srv_serror_rate',\n",
    "'dst_host_rerror_rate',\n",
    "'dst_host_srv_rerror_rate',\n",
    "'outcome'\n",
    "]"
   ]
  },
  {
   "cell_type": "code",
   "execution_count": 188,
   "metadata": {},
   "outputs": [],
   "source": [
    "normalize_numeric_minmax(network_cnn_df,\"duration\")\n",
    "encode_text_dummy(network_cnn_df,\"protocol_type\") \n",
    "encode_text_dummy(network_cnn_df,\"service\") \n",
    "encode_text_dummy(network_cnn_df,\"flag\")\n",
    "normalize_numeric_minmax(network_cnn_df,\"src_bytes\") \n",
    "normalize_numeric_minmax(network_cnn_df,\"dst_bytes\")\n",
    "encode_text_dummy(network_cnn_df,\"land\")\n",
    "normalize_numeric_minmax(network_cnn_df,\"wrong_fragment\") \n",
    "normalize_numeric_minmax(network_cnn_df,\"urgent\")\n",
    "normalize_numeric_minmax(network_cnn_df,\"hot\")\n",
    "normalize_numeric_minmax(network_cnn_df,\"num_failed_logins\")\n",
    "encode_text_dummy(network_cnn_df,\"logged_in\")\n",
    "normalize_numeric_minmax(network_cnn_df,\"num_compromised\")\n",
    "normalize_numeric_minmax(network_cnn_df,\"root_shell\")\n",
    "normalize_numeric_minmax(network_cnn_df,\"su_attempted\")\n",
    "normalize_numeric_minmax(network_cnn_df,\"num_root\")\n",
    "normalize_numeric_minmax(network_cnn_df,\"num_file_creations\")\n",
    "normalize_numeric_minmax(network_cnn_df,\"num_shells\")\n",
    "normalize_numeric_minmax(network_cnn_df,\"num_access_files\")\n",
    "normalize_numeric_minmax(network_cnn_df,\"num_outbound_cmds\")\n",
    "encode_text_dummy(network_cnn_df,\"is_host_login\")\n",
    "encode_text_dummy(network_cnn_df,\"is_guest_login\")\n",
    "normalize_numeric_minmax(network_cnn_df,\"count\") \n",
    "normalize_numeric_minmax(network_cnn_df,\"srv_count\") \n",
    "normalize_numeric_minmax(network_cnn_df,\"serror_rate\") \n",
    "normalize_numeric_minmax(network_cnn_df,\"srv_serror_rate\") \n",
    "normalize_numeric_minmax(network_cnn_df,\"rerror_rate\") \n",
    "normalize_numeric_minmax(network_cnn_df,\"srv_rerror_rate\") \n",
    "normalize_numeric_minmax(network_cnn_df,\"same_srv_rate\") \n",
    "normalize_numeric_minmax(network_cnn_df,\"diff_srv_rate\") \n",
    "normalize_numeric_minmax(network_cnn_df,\"srv_diff_host_rate\") \n",
    "normalize_numeric_minmax(network_cnn_df,\"dst_host_count\") \n",
    "normalize_numeric_minmax(network_cnn_df,\"dst_host_srv_count\") \n",
    "normalize_numeric_minmax(network_cnn_df,\"dst_host_same_srv_rate\") \n",
    "normalize_numeric_minmax(network_cnn_df,\"dst_host_diff_srv_rate\") \n",
    "normalize_numeric_minmax(network_cnn_df,\"dst_host_same_src_port_rate\") \n",
    "normalize_numeric_minmax(network_cnn_df,\"dst_host_srv_diff_host_rate\") \n",
    "normalize_numeric_minmax(network_cnn_df,\"dst_host_serror_rate\") \n",
    "normalize_numeric_minmax(network_cnn_df,\"dst_host_srv_serror_rate\") \n",
    "normalize_numeric_minmax(network_cnn_df,\"dst_host_rerror_rate\") \n",
    "normalize_numeric_minmax(network_cnn_df,\"dst_host_srv_rerror_rate\") "
   ]
  },
  {
   "cell_type": "code",
   "execution_count": 189,
   "metadata": {},
   "outputs": [],
   "source": [
    "network_cnn_df.drop_duplicates(keep='first', inplace=True)"
   ]
  },
  {
   "cell_type": "code",
   "execution_count": 190,
   "metadata": {},
   "outputs": [],
   "source": [
    "outcome_all = encode_text_index(network_cnn_df, 'outcome')"
   ]
  },
  {
   "cell_type": "code",
   "execution_count": 191,
   "metadata": {},
   "outputs": [],
   "source": [
    "x_all,y_all = to_xy(network_cnn_df,'outcome')"
   ]
  },
  {
   "cell_type": "code",
   "execution_count": 192,
   "metadata": {},
   "outputs": [
    {
     "data": {
      "text/plain": [
       "(145585, 121)"
      ]
     },
     "execution_count": 192,
     "metadata": {},
     "output_type": "execute_result"
    }
   ],
   "source": [
    "x_all.shape"
   ]
  },
  {
   "cell_type": "code",
   "execution_count": 193,
   "metadata": {},
   "outputs": [
    {
     "data": {
      "text/plain": [
       "(145585, 23)"
      ]
     },
     "execution_count": 193,
     "metadata": {},
     "output_type": "execute_result"
    }
   ],
   "source": [
    "y_all.shape"
   ]
  },
  {
   "cell_type": "code",
   "execution_count": 194,
   "metadata": {},
   "outputs": [],
   "source": [
    "x_all = x_all.reshape(x_all.shape[0], 1, 121, 1)"
   ]
  },
  {
   "cell_type": "code",
   "execution_count": 195,
   "metadata": {},
   "outputs": [
    {
     "data": {
      "text/plain": [
       "(145585, 1, 121, 1)"
      ]
     },
     "execution_count": 195,
     "metadata": {},
     "output_type": "execute_result"
    }
   ],
   "source": [
    "x_all.shape"
   ]
  },
  {
   "cell_type": "code",
   "execution_count": 196,
   "metadata": {},
   "outputs": [],
   "source": [
    "x_train_all, x_test_all, y_train_all, y_test_all = train_test_split(x_all,y_all, test_size=0.2, random_state=42)"
   ]
  },
  {
   "cell_type": "code",
   "execution_count": 197,
   "metadata": {},
   "outputs": [
    {
     "data": {
      "text/plain": [
       "(116468, 1, 121, 1)"
      ]
     },
     "execution_count": 197,
     "metadata": {},
     "output_type": "execute_result"
    }
   ],
   "source": [
    "x_train_all.shape"
   ]
  },
  {
   "cell_type": "code",
   "execution_count": null,
   "metadata": {},
   "outputs": [],
   "source": []
  },
  {
   "cell_type": "code",
   "execution_count": 198,
   "metadata": {},
   "outputs": [],
   "source": [
    "# finally the much avaited CNN 2D\n",
    "\n",
    "cnn_all = Sequential()\n",
    "\n",
    "# Conv2D layer 1\n",
    "cnn_all.add(Conv2D(41, kernel_size=(1, 3), strides=(1, 1), padding='valid',\n",
    "                 activation='relu',\n",
    "                 input_shape=(1,121,1)))\n",
    "\n",
    "\n"
   ]
  },
  {
   "cell_type": "code",
   "execution_count": 199,
   "metadata": {},
   "outputs": [],
   "source": [
    "cnn_all.add(Conv2D(64, (1, 3), activation='relu'))\n",
    "\n",
    "cnn_all.add(MaxPooling2D(pool_size=(1, 2), strides=None))\n",
    "\n",
    "cnn_all.add(Dropout(0.25))\n",
    "\n",
    "cnn_all.add(Flatten())"
   ]
  },
  {
   "cell_type": "code",
   "execution_count": 200,
   "metadata": {},
   "outputs": [],
   "source": [
    "cnn_all.add(Dense(128, activation='relu'))\n",
    "\n",
    "cnn_all.add(Dropout(0.5))\n",
    "\n",
    "cnn_all.add(Dense(23, activation='softmax'))"
   ]
  },
  {
   "cell_type": "code",
   "execution_count": 201,
   "metadata": {},
   "outputs": [
    {
     "name": "stdout",
     "output_type": "stream",
     "text": [
      "_________________________________________________________________\n",
      "Layer (type)                 Output Shape              Param #   \n",
      "=================================================================\n",
      "conv2d_14 (Conv2D)           (None, 1, 119, 41)        164       \n",
      "_________________________________________________________________\n",
      "conv2d_15 (Conv2D)           (None, 1, 117, 64)        7936      \n",
      "_________________________________________________________________\n",
      "max_pooling2d_8 (MaxPooling2 (None, 1, 58, 64)         0         \n",
      "_________________________________________________________________\n",
      "dropout_14 (Dropout)         (None, 1, 58, 64)         0         \n",
      "_________________________________________________________________\n",
      "flatten_5 (Flatten)          (None, 3712)              0         \n",
      "_________________________________________________________________\n",
      "dense_18 (Dense)             (None, 128)               475264    \n",
      "_________________________________________________________________\n",
      "dropout_15 (Dropout)         (None, 128)               0         \n",
      "_________________________________________________________________\n",
      "dense_19 (Dense)             (None, 23)                2967      \n",
      "=================================================================\n",
      "Total params: 486,331\n",
      "Trainable params: 486,331\n",
      "Non-trainable params: 0\n",
      "_________________________________________________________________\n"
     ]
    }
   ],
   "source": [
    "cnn_all.summary()"
   ]
  },
  {
   "cell_type": "code",
   "execution_count": 202,
   "metadata": {},
   "outputs": [],
   "source": [
    "cnn_all.compile(loss='categorical_crossentropy', optimizer='adam', metrics=['accuracy'])\n"
   ]
  },
  {
   "cell_type": "code",
   "execution_count": 203,
   "metadata": {},
   "outputs": [
    {
     "name": "stdout",
     "output_type": "stream",
     "text": [
      "Train on 116468 samples, validate on 29117 samples\n",
      "Epoch 1/10\n",
      " - 24s - loss: 0.0933 - acc: 0.9810 - val_loss: 0.0184 - val_acc: 0.9953\n",
      "Epoch 2/10\n",
      " - 22s - loss: 0.0235 - acc: 0.9939 - val_loss: 0.0142 - val_acc: 0.9966\n",
      "Epoch 3/10\n",
      " - 22s - loss: 0.0186 - acc: 0.9952 - val_loss: 0.0114 - val_acc: 0.9970\n",
      "Epoch 4/10\n",
      " - 23s - loss: 0.0163 - acc: 0.9960 - val_loss: 0.0100 - val_acc: 0.9976\n",
      "Epoch 5/10\n",
      " - 22s - loss: 0.0144 - acc: 0.9963 - val_loss: 0.0102 - val_acc: 0.9981\n",
      "Epoch 6/10\n",
      " - 22s - loss: 0.0136 - acc: 0.9967 - val_loss: 0.0085 - val_acc: 0.9980\n",
      "Epoch 7/10\n",
      " - 22s - loss: 0.0118 - acc: 0.9970 - val_loss: 0.0089 - val_acc: 0.9978\n",
      "Epoch 8/10\n",
      " - 22s - loss: 0.0115 - acc: 0.9971 - val_loss: 0.0084 - val_acc: 0.9980\n",
      "Epoch 9/10\n",
      " - 22s - loss: 0.0106 - acc: 0.9972 - val_loss: 0.0075 - val_acc: 0.9982\n",
      "Epoch 10/10\n",
      " - 23s - loss: 0.0103 - acc: 0.9974 - val_loss: 0.0073 - val_acc: 0.9981\n"
     ]
    },
    {
     "data": {
      "text/plain": [
       "<keras.callbacks.History at 0x118362e10>"
      ]
     },
     "execution_count": 203,
     "metadata": {},
     "output_type": "execute_result"
    }
   ],
   "source": [
    "cnn_all.fit(x_train_all, y_train_all,     \n",
    "          batch_size=128,\n",
    "          epochs=10,\n",
    "          verbose=2,\n",
    "          validation_data=(x_test_all, y_test_all))"
   ]
  },
  {
   "cell_type": "code",
   "execution_count": 204,
   "metadata": {},
   "outputs": [
    {
     "data": {
      "text/plain": [
       "[0.007278166649342729, 0.9980767249373218]"
      ]
     },
     "execution_count": 204,
     "metadata": {},
     "output_type": "execute_result"
    }
   ],
   "source": [
    "# Evaluate Accuracy in Keras\n",
    "score = cnn_all.evaluate(x_test_all, y_test_all, verbose=0)\n",
    "score"
   ]
  },
  {
   "cell_type": "code",
   "execution_count": 205,
   "metadata": {
    "scrolled": true
   },
   "outputs": [
    {
     "name": "stdout",
     "output_type": "stream",
     "text": [
      "Test loss: 0.007278166649342729\n",
      "Test accuracy: 0.9980767249373218\n"
     ]
    }
   ],
   "source": [
    "print('Test loss: {}'.format(score[0]))\n",
    "print('Test accuracy: {}'.format(score[1]))"
   ]
  },
  {
   "cell_type": "code",
   "execution_count": 206,
   "metadata": {},
   "outputs": [],
   "source": [
    "pred_all = cnn_all.predict(x_test)\n",
    "pred_all = np.argmax(pred_all,axis=1)"
   ]
  },
  {
   "cell_type": "code",
   "execution_count": 207,
   "metadata": {},
   "outputs": [
    {
     "data": {
      "text/plain": [
       "array([11, 17, 11, ..., 18,  9,  9])"
      ]
     },
     "execution_count": 207,
     "metadata": {},
     "output_type": "execute_result"
    }
   ],
   "source": [
    "pred_all"
   ]
  },
  {
   "cell_type": "code",
   "execution_count": 208,
   "metadata": {},
   "outputs": [
    {
     "data": {
      "text/plain": [
       "array([11, 17, 11, ..., 18,  9,  9])"
      ]
     },
     "execution_count": 208,
     "metadata": {},
     "output_type": "execute_result"
    }
   ],
   "source": [
    "\n",
    "y_true_all = np.argmax(y_test_all,axis=1)\n",
    "y_true_all"
   ]
  },
  {
   "cell_type": "code",
   "execution_count": 209,
   "metadata": {
    "scrolled": true
   },
   "outputs": [
    {
     "name": "stdout",
     "output_type": "stream",
     "text": [
      "[[  190     0     0     0     0     0     0     0     0     0     1     0\n",
      "      0     0     0     0     0     0     0]\n",
      " [    0     3     0     0     0     0     0     0     0     0     2     0\n",
      "      0     0     0     0     0     1     0]\n",
      " [    0     0     0     0     0     1     0     0     0     0     3     0\n",
      "      0     0     0     0     0     1     0]\n",
      " [    0     0     0    10     0     0     0     0     0     0     0     0\n",
      "      0     0     0     0     0     0     0]\n",
      " [    0     0     0     0     1     0     0     0     0     0     0     0\n",
      "      0     0     0     0     0     0     0]\n",
      " [    0     0     0     0     0   132     0     0     0     2     3     0\n",
      "      0     0     0     0     0     0     0]\n",
      " [    0     0     0     0     0     0     2     0     0     0     0     0\n",
      "      0     0     0     0     0     0     0]\n",
      " [    0     0     0     0     0     0     0     0     0     0     2     0\n",
      "      0     0     0     0     0     0     0]\n",
      " [    0     0     0     0     0     0     0     0 10357     0     0     0\n",
      "      0     0     0     0     0     0     0]\n",
      " [    0     0     0     0     0     4     0     0     0    27     4     0\n",
      "      0     0     3     0     0     0     0]\n",
      " [    1     0     0     0     0     2     0     0     0     0 17577     0\n",
      "      0     0     0     0     0     9     0]\n",
      " [    0     0     0     0     0     0     0     0     0     0     0    34\n",
      "      0     0     0     0     0     0     0]\n",
      " [    0     0     0     0     0     0     0     0     1     0     1     0\n",
      "     90     0     0     0     0     0     0]\n",
      " [    0     0     0     0     0     0     0     0     0     0     1     0\n",
      "      0     0     0     0     0     0     0]\n",
      " [    0     0     0     0     0     0     0     0     0     0     4     0\n",
      "      0     0   154     0     0     0     0]\n",
      " [    0     0     0     0     0     0     0     0     0     0     2     0\n",
      "      0     0     0   130     0     0     0]\n",
      " [    0     0     0     0     0     0     0     0     0     0     0     0\n",
      "      0     0     0     0   208     0     0]\n",
      " [    0     0     0     0     0     0     0     0     0     0     8     0\n",
      "      0     0     0     0     0   142     0]\n",
      " [    0     0     0     0     0     0     0     0     0     0     0     0\n",
      "      0     0     0     0     0     0     4]]\n"
     ]
    }
   ],
   "source": [
    "cm_cnn_all = confusion_matrix(y_true_all, pred_all)\n",
    "print(cm_cnn_all)"
   ]
  },
  {
   "cell_type": "code",
   "execution_count": 210,
   "metadata": {},
   "outputs": [],
   "source": [
    "#outcome_all = encode_text_index(network_cnn_df,'outcome')"
   ]
  },
  {
   "cell_type": "code",
   "execution_count": 211,
   "metadata": {},
   "outputs": [
    {
     "name": "stdout",
     "output_type": "stream",
     "text": [
      "Plotting confusion matrix\n"
     ]
    },
    {
     "data": {
      "image/png": "[encoded data removed]",
      "text/plain": [
       "<Figure size 432x288 with 2 Axes>"
      ]
     },
     "metadata": {},
     "output_type": "display_data"
    }
   ],
   "source": [
    "print('Plotting confusion matrix')\n",
    "\n",
    "plt.figure()\n",
    "plot_confusion_matrix(cm_cnn_all, outcome_all)\n",
    "plt.show()"
   ]
  },
  {
   "cell_type": "code",
   "execution_count": 212,
   "metadata": {},
   "outputs": [
    {
     "name": "stdout",
     "output_type": "stream",
     "text": [
      "             precision    recall  f1-score   support\n",
      "\n",
      "          0       0.99      0.99      0.99       191\n",
      "          1       1.00      0.50      0.67         6\n",
      "          2       0.00      0.00      0.00         5\n",
      "          3       1.00      1.00      1.00        10\n",
      "          4       1.00      1.00      1.00         1\n",
      "          5       0.95      0.96      0.96       137\n",
      "          6       1.00      1.00      1.00         2\n",
      "          8       0.00      0.00      0.00         2\n",
      "          9       1.00      1.00      1.00     10357\n",
      "         10       0.93      0.71      0.81        38\n",
      "         11       1.00      1.00      1.00     17589\n",
      "         14       1.00      1.00      1.00        34\n",
      "         15       1.00      0.98      0.99        92\n",
      "         16       0.00      0.00      0.00         1\n",
      "         17       0.98      0.97      0.98       158\n",
      "         18       1.00      0.98      0.99       132\n",
      "         20       1.00      1.00      1.00       208\n",
      "         21       0.93      0.95      0.94       150\n",
      "         22       1.00      1.00      1.00         4\n",
      "\n",
      "avg / total       1.00      1.00      1.00     29117\n",
      "\n"
     ]
    },
    {
     "name": "stderr",
     "output_type": "stream",
     "text": [
      "/anaconda3/lib/python3.6/site-packages/sklearn/metrics/classification.py:1135: UndefinedMetricWarning: Precision and F-score are ill-defined and being set to 0.0 in labels with no predicted samples.\n",
      "  'precision', 'predicted', average, warn_for)\n"
     ]
    }
   ],
   "source": [
    "print(classification_report(y_true_all, pred_all))"
   ]
  },
  {
   "cell_type": "code",
   "execution_count": null,
   "metadata": {},
   "outputs": [],
   "source": []
  }
 ],
 "metadata": {
  "kernelspec": {
   "display_name": "Python 3",
   "language": "python",
   "name": "python3"
  },
  "language_info": {
   "codemirror_mode": {
    "name": "ipython",
    "version": 3
   },
   "file_extension": ".py",
   "mimetype": "text/x-python",
   "name": "python",
   "nbconvert_exporter": "python",
   "pygments_lexer": "ipython3",
   "version": "3.6.5"
  }
 },
 "nbformat": 4,
 "nbformat_minor": 2
}
