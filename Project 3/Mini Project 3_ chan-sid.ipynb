{
 "cells": [
  {
   "cell_type": "code",
   "execution_count": 166,
   "metadata": {},
   "outputs": [],
   "source": [
    "import json\n",
    "import csv\n",
    "import pandas as pd\n",
    "import numpy as np\n",
    "import scipy as sci\n",
    "import keras\n",
    "from keras.models import Sequential\n",
    "from keras import regularizers\n",
    "from keras.layers.core import Dense, Activation\n",
    "from keras.layers import Dropout, Flatten\n",
    "from keras.layers import Conv2D, MaxPooling2D\n",
    "from keras.callbacks import EarlyStopping, ModelCheckpoint\n",
    "import io\n",
    "import requests\n",
    "import tensorflow as tf\n",
    "from scipy import sparse\n",
    "from sklearn.model_selection import train_test_split\n",
    "import sklearn.feature_extraction.text as sk_text\n",
    "from sklearn.linear_model import LinearRegression\n",
    "from sklearn.linear_model import LogisticRegression\n",
    "from sklearn.naive_bayes import MultinomialNB\n",
    "from sklearn.svm import SVC\n",
    "from sklearn.neighbors import KNeighborsClassifier\n",
    "from sklearn import preprocessing\n",
    "from sklearn.metrics import mean_squared_error, r2_score\n",
    "from sklearn.metrics import accuracy_score, precision_score, f1_score\n",
    "from sklearn.metrics import roc_curve, auc\n",
    "from sklearn.metrics import confusion_matrix, classification_report\n",
    "import collections\n",
    "from sklearn import preprocessing\n",
    "import matplotlib.pyplot as plt\n",
    "import shutil\n",
    "import os"
   ]
  },
  {
   "cell_type": "markdown",
   "metadata": {},
   "source": [
    "# Data PreProcessing"
   ]
  },
  {
   "cell_type": "code",
   "execution_count": 2,
   "metadata": {},
   "outputs": [],
   "source": [
    "#Read network_intrusion_data.csv file and load data into network_df dataframe \n",
    "network_df= pd.read_csv('network_intrusion_data.csv')"
   ]
  },
  {
   "cell_type": "code",
   "execution_count": 3,
   "metadata": {},
   "outputs": [],
   "source": [
    "#Drop any row with missing values\n",
    "network_df = network_df.dropna()"
   ]
  },
  {
   "cell_type": "code",
   "execution_count": 4,
   "metadata": {},
   "outputs": [],
   "source": [
    "#Add column headers to the data in the dataframe\n",
    "network_df.columns = [\n",
    "'duration',\n",
    "'protocol_type',\n",
    "'service',\n",
    "'flag',\n",
    "'src_bytes',\n",
    "'dst_bytes',\n",
    "'land',\n",
    "'wrong_fragment',\n",
    "'urgent',\n",
    "'hot',\n",
    "'num_failed_logins',\n",
    "'logged_in',\n",
    "'num_compromised',\n",
    "'root_shell',\n",
    "'su_attempted',\n",
    "'num_root',\n",
    "'num_file_creations',\n",
    "'num_shells',\n",
    "'num_access_files',\n",
    "'num_outbound_cmds',\n",
    "'is_host_login',\n",
    "'is_guest_login',\n",
    "'count',\n",
    "'srv_count',\n",
    "'serror_rate',\n",
    "'srv_serror_rate',\n",
    "'rerror_rate',\n",
    "'srv_rerror_rate',\n",
    "'same_srv_rate',\n",
    "'diff_srv_rate',\n",
    "'srv_diff_host_rate',\n",
    "'dst_host_count',\n",
    "'dst_host_srv_count',\n",
    "'dst_host_same_srv_rate',\n",
    "'dst_host_diff_srv_rate',\n",
    "'dst_host_same_src_port_rate',\n",
    "'dst_host_srv_diff_host_rate',\n",
    "'dst_host_serror_rate',\n",
    "'dst_host_srv_serror_rate',\n",
    "'dst_host_rerror_rate',\n",
    "'dst_host_srv_rerror_rate',\n",
    "'outcome'\n",
    "]"
   ]
  },
  {
   "cell_type": "code",
   "execution_count": 5,
   "metadata": {},
   "outputs": [],
   "source": [
    "#Select only relevant columns for processing\n",
    "features_df = network_df[['duration',\n",
    "'protocol_type',\n",
    "'service',\n",
    "'flag',\n",
    "'src_bytes',\n",
    "'dst_bytes',\n",
    "'land',\n",
    "'wrong_fragment',\n",
    "'urgent',\n",
    "                          \n",
    "'hot',\n",
    "'num_failed_logins',\n",
    "'logged_in',\n",
    "'num_compromised',\n",
    "'root_shell',\n",
    "'su_attempted',\n",
    "'num_root',\n",
    "'num_file_creations',\n",
    "'num_shells',\n",
    "'num_access_files',\n",
    "'num_outbound_cmds',\n",
    "'is_host_login',\n",
    "'is_guest_login',\n",
    "                          \n",
    "'count',\n",
    "'srv_count',\n",
    "'serror_rate',\n",
    "'srv_serror_rate',\n",
    "'rerror_rate',\n",
    "'srv_rerror_rate',\n",
    "'same_srv_rate',\n",
    "'diff_srv_rate',\n",
    "'srv_diff_host_rate',\n",
    "'dst_host_count',\n",
    "'dst_host_srv_count',\n",
    "'dst_host_same_srv_rate',\n",
    "'dst_host_diff_srv_rate',\n",
    "'dst_host_same_src_port_rate',\n",
    "'dst_host_srv_diff_host_rate',\n",
    "'dst_host_serror_rate',\n",
    "'dst_host_srv_serror_rate',\n",
    "'dst_host_rerror_rate',\n",
    "'dst_host_srv_rerror_rate']]"
   ]
  },
  {
   "cell_type": "code",
   "execution_count": 6,
   "metadata": {},
   "outputs": [],
   "source": [
    "label_df = network_df[['outcome']]"
   ]
  },
  {
   "cell_type": "code",
   "execution_count": 7,
   "metadata": {},
   "outputs": [
    {
     "name": "stderr",
     "output_type": "stream",
     "text": [
      "/anaconda3/lib/python3.6/site-packages/ipykernel_launcher.py:5: SettingWithCopyWarning: \n",
      "A value is trying to be set on a copy of a slice from a DataFrame.\n",
      "Try using .loc[row_indexer,col_indexer] = value instead\n",
      "\n",
      "See the caveats in the documentation: http://pandas.pydata.org/pandas-docs/stable/indexing.html#indexing-view-versus-copy\n",
      "  \"\"\"\n",
      "/anaconda3/lib/python3.6/site-packages/ipykernel_launcher.py:7: SettingWithCopyWarning: \n",
      "A value is trying to be set on a copy of a slice from a DataFrame.\n",
      "Try using .loc[row_indexer,col_indexer] = value instead\n",
      "\n",
      "See the caveats in the documentation: http://pandas.pydata.org/pandas-docs/stable/indexing.html#indexing-view-versus-copy\n",
      "  import sys\n"
     ]
    }
   ],
   "source": [
    "#Normalize numeric features\n",
    "\n",
    "def normalize_numeric_minmax(df, name):\n",
    "    if(df[name].max() > 0):\n",
    "        df[name] = ((df[name] - df[name].min()) / (df[name].max() - df[name].min())).astype(np.float32)\n",
    "    else:\n",
    "        df[name] = df[name].astype(np.float32)\n",
    "    \n",
    "normalize_numeric_minmax(features_df,\"duration\") \n",
    "normalize_numeric_minmax(features_df,\"src_bytes\") \n",
    "normalize_numeric_minmax(features_df,\"dst_bytes\") \n",
    "normalize_numeric_minmax(features_df,\"wrong_fragment\") \n",
    "normalize_numeric_minmax(features_df,\"urgent\") \n",
    "\n",
    "normalize_numeric_minmax(features_df,\"hot\") \n",
    "normalize_numeric_minmax(features_df,\"num_failed_logins\") \n",
    "normalize_numeric_minmax(features_df,\"num_compromised\") \n",
    "normalize_numeric_minmax(features_df,\"num_root\") \n",
    "normalize_numeric_minmax(features_df,\"num_file_creations\") \n",
    "normalize_numeric_minmax(features_df,\"num_shells\") \n",
    "normalize_numeric_minmax(features_df,\"num_access_files\") \n",
    "normalize_numeric_minmax(features_df,\"num_outbound_cmds\") \n",
    "\n",
    "normalize_numeric_minmax(features_df,\"count\") \n",
    "normalize_numeric_minmax(features_df,\"srv_count\") \n",
    "normalize_numeric_minmax(features_df,\"serror_rate\") \n",
    "normalize_numeric_minmax(features_df,\"srv_serror_rate\") \n",
    "normalize_numeric_minmax(features_df,\"rerror_rate\") \n",
    "normalize_numeric_minmax(features_df,\"srv_rerror_rate\")  \n",
    "normalize_numeric_minmax(features_df,\"same_srv_rate\") \n",
    "normalize_numeric_minmax(features_df,\"diff_srv_rate\") \n",
    "normalize_numeric_minmax(features_df,\"srv_diff_host_rate\") \n",
    "normalize_numeric_minmax(features_df,\"dst_host_count\") \n",
    "normalize_numeric_minmax(features_df,\"dst_host_srv_count\") \n",
    "normalize_numeric_minmax(features_df,\"dst_host_same_srv_rate\") \n",
    "normalize_numeric_minmax(features_df,\"dst_host_diff_srv_rate\") \n",
    "normalize_numeric_minmax(features_df,\"dst_host_same_src_port_rate\") \n",
    "normalize_numeric_minmax(features_df,\"dst_host_srv_diff_host_rate\") \n",
    "normalize_numeric_minmax(features_df,\"dst_host_serror_rate\") \n",
    "normalize_numeric_minmax(features_df,\"dst_host_srv_serror_rate\") \n",
    "normalize_numeric_minmax(features_df,\"dst_host_rerror_rate\") \n",
    "normalize_numeric_minmax(features_df,\"dst_host_srv_rerror_rate\") \n",
    "\n"
   ]
  },
  {
   "cell_type": "code",
   "execution_count": 20,
   "metadata": {
    "scrolled": true
   },
   "outputs": [
    {
     "ename": "KeyError",
     "evalue": "'protocol_type'",
     "output_type": "error",
     "traceback": [
      "\u001b[0;31m---------------------------------------------------------------------------\u001b[0m",
      "\u001b[0;31mKeyError\u001b[0m                                  Traceback (most recent call last)",
      "\u001b[0;32m/anaconda3/lib/python3.6/site-packages/pandas/core/indexes/base.py\u001b[0m in \u001b[0;36mget_loc\u001b[0;34m(self, key, method, tolerance)\u001b[0m\n\u001b[1;32m   3062\u001b[0m             \u001b[0;32mtry\u001b[0m\u001b[0;34m:\u001b[0m\u001b[0;34m\u001b[0m\u001b[0m\n\u001b[0;32m-> 3063\u001b[0;31m                 \u001b[0;32mreturn\u001b[0m \u001b[0mself\u001b[0m\u001b[0;34m.\u001b[0m\u001b[0m_engine\u001b[0m\u001b[0;34m.\u001b[0m\u001b[0mget_loc\u001b[0m\u001b[0;34m(\u001b[0m\u001b[0mkey\u001b[0m\u001b[0;34m)\u001b[0m\u001b[0;34m\u001b[0m\u001b[0m\n\u001b[0m\u001b[1;32m   3064\u001b[0m             \u001b[0;32mexcept\u001b[0m \u001b[0mKeyError\u001b[0m\u001b[0;34m:\u001b[0m\u001b[0;34m\u001b[0m\u001b[0m\n",
      "\u001b[0;32mpandas/_libs/index.pyx\u001b[0m in \u001b[0;36mpandas._libs.index.IndexEngine.get_loc\u001b[0;34m()\u001b[0m\n",
      "\u001b[0;32mpandas/_libs/index.pyx\u001b[0m in \u001b[0;36mpandas._libs.index.IndexEngine.get_loc\u001b[0;34m()\u001b[0m\n",
      "\u001b[0;32mpandas/_libs/hashtable_class_helper.pxi\u001b[0m in \u001b[0;36mpandas._libs.hashtable.PyObjectHashTable.get_item\u001b[0;34m()\u001b[0m\n",
      "\u001b[0;32mpandas/_libs/hashtable_class_helper.pxi\u001b[0m in \u001b[0;36mpandas._libs.hashtable.PyObjectHashTable.get_item\u001b[0;34m()\u001b[0m\n",
      "\u001b[0;31mKeyError\u001b[0m: 'protocol_type'",
      "\nDuring handling of the above exception, another exception occurred:\n",
      "\u001b[0;31mKeyError\u001b[0m                                  Traceback (most recent call last)",
      "\u001b[0;32m<ipython-input-20-4f793ad23834>\u001b[0m in \u001b[0;36m<module>\u001b[0;34m()\u001b[0m\n\u001b[1;32m      8\u001b[0m     \u001b[0mdf\u001b[0m\u001b[0;34m.\u001b[0m\u001b[0mdrop\u001b[0m\u001b[0;34m(\u001b[0m\u001b[0mname\u001b[0m\u001b[0;34m,\u001b[0m \u001b[0maxis\u001b[0m\u001b[0;34m=\u001b[0m\u001b[0;36m1\u001b[0m\u001b[0;34m,\u001b[0m \u001b[0minplace\u001b[0m\u001b[0;34m=\u001b[0m\u001b[0;32mTrue\u001b[0m\u001b[0;34m)\u001b[0m\u001b[0;34m\u001b[0m\u001b[0m\n\u001b[1;32m      9\u001b[0m \u001b[0;34m\u001b[0m\u001b[0m\n\u001b[0;32m---> 10\u001b[0;31m \u001b[0mencode_text_dummy\u001b[0m\u001b[0;34m(\u001b[0m\u001b[0mfeatures_df\u001b[0m\u001b[0;34m,\u001b[0m\u001b[0;34m\"protocol_type\"\u001b[0m\u001b[0;34m)\u001b[0m\u001b[0;34m\u001b[0m\u001b[0m\n\u001b[0m\u001b[1;32m     11\u001b[0m \u001b[0mencode_text_dummy\u001b[0m\u001b[0;34m(\u001b[0m\u001b[0mfeatures_df\u001b[0m\u001b[0;34m,\u001b[0m\u001b[0;34m\"service\"\u001b[0m\u001b[0;34m)\u001b[0m\u001b[0;34m\u001b[0m\u001b[0m\n\u001b[1;32m     12\u001b[0m \u001b[0mencode_text_dummy\u001b[0m\u001b[0;34m(\u001b[0m\u001b[0mfeatures_df\u001b[0m\u001b[0;34m,\u001b[0m\u001b[0;34m\"flag\"\u001b[0m\u001b[0;34m)\u001b[0m\u001b[0;34m\u001b[0m\u001b[0m\n",
      "\u001b[0;32m<ipython-input-20-4f793ad23834>\u001b[0m in \u001b[0;36mencode_text_dummy\u001b[0;34m(df, name)\u001b[0m\n\u001b[1;32m      2\u001b[0m \u001b[0;34m\u001b[0m\u001b[0m\n\u001b[1;32m      3\u001b[0m \u001b[0;32mdef\u001b[0m \u001b[0mencode_text_dummy\u001b[0m\u001b[0;34m(\u001b[0m\u001b[0mdf\u001b[0m\u001b[0;34m,\u001b[0m \u001b[0mname\u001b[0m\u001b[0;34m)\u001b[0m\u001b[0;34m:\u001b[0m\u001b[0;34m\u001b[0m\u001b[0m\n\u001b[0;32m----> 4\u001b[0;31m     \u001b[0mdummies\u001b[0m \u001b[0;34m=\u001b[0m \u001b[0mpd\u001b[0m\u001b[0;34m.\u001b[0m\u001b[0mget_dummies\u001b[0m\u001b[0;34m(\u001b[0m\u001b[0mdf\u001b[0m\u001b[0;34m[\u001b[0m\u001b[0mname\u001b[0m\u001b[0;34m]\u001b[0m\u001b[0;34m)\u001b[0m\u001b[0;34m.\u001b[0m\u001b[0mastype\u001b[0m\u001b[0;34m(\u001b[0m\u001b[0mnp\u001b[0m\u001b[0;34m.\u001b[0m\u001b[0mfloat32\u001b[0m\u001b[0;34m)\u001b[0m\u001b[0;34m\u001b[0m\u001b[0m\n\u001b[0m\u001b[1;32m      5\u001b[0m     \u001b[0;32mfor\u001b[0m \u001b[0mx\u001b[0m \u001b[0;32min\u001b[0m \u001b[0mdummies\u001b[0m\u001b[0;34m.\u001b[0m\u001b[0mcolumns\u001b[0m\u001b[0;34m:\u001b[0m\u001b[0;34m\u001b[0m\u001b[0m\n\u001b[1;32m      6\u001b[0m         \u001b[0mdummy_name\u001b[0m \u001b[0;34m=\u001b[0m \u001b[0;34m\"{}-{}\"\u001b[0m\u001b[0;34m.\u001b[0m\u001b[0mformat\u001b[0m\u001b[0;34m(\u001b[0m\u001b[0mname\u001b[0m\u001b[0;34m,\u001b[0m \u001b[0mx\u001b[0m\u001b[0;34m)\u001b[0m\u001b[0;34m\u001b[0m\u001b[0m\n",
      "\u001b[0;32m/anaconda3/lib/python3.6/site-packages/pandas/core/frame.py\u001b[0m in \u001b[0;36m__getitem__\u001b[0;34m(self, key)\u001b[0m\n\u001b[1;32m   2683\u001b[0m             \u001b[0;32mreturn\u001b[0m \u001b[0mself\u001b[0m\u001b[0;34m.\u001b[0m\u001b[0m_getitem_multilevel\u001b[0m\u001b[0;34m(\u001b[0m\u001b[0mkey\u001b[0m\u001b[0;34m)\u001b[0m\u001b[0;34m\u001b[0m\u001b[0m\n\u001b[1;32m   2684\u001b[0m         \u001b[0;32melse\u001b[0m\u001b[0;34m:\u001b[0m\u001b[0;34m\u001b[0m\u001b[0m\n\u001b[0;32m-> 2685\u001b[0;31m             \u001b[0;32mreturn\u001b[0m \u001b[0mself\u001b[0m\u001b[0;34m.\u001b[0m\u001b[0m_getitem_column\u001b[0m\u001b[0;34m(\u001b[0m\u001b[0mkey\u001b[0m\u001b[0;34m)\u001b[0m\u001b[0;34m\u001b[0m\u001b[0m\n\u001b[0m\u001b[1;32m   2686\u001b[0m \u001b[0;34m\u001b[0m\u001b[0m\n\u001b[1;32m   2687\u001b[0m     \u001b[0;32mdef\u001b[0m \u001b[0m_getitem_column\u001b[0m\u001b[0;34m(\u001b[0m\u001b[0mself\u001b[0m\u001b[0;34m,\u001b[0m \u001b[0mkey\u001b[0m\u001b[0;34m)\u001b[0m\u001b[0;34m:\u001b[0m\u001b[0;34m\u001b[0m\u001b[0m\n",
      "\u001b[0;32m/anaconda3/lib/python3.6/site-packages/pandas/core/frame.py\u001b[0m in \u001b[0;36m_getitem_column\u001b[0;34m(self, key)\u001b[0m\n\u001b[1;32m   2690\u001b[0m         \u001b[0;31m# get column\u001b[0m\u001b[0;34m\u001b[0m\u001b[0;34m\u001b[0m\u001b[0m\n\u001b[1;32m   2691\u001b[0m         \u001b[0;32mif\u001b[0m \u001b[0mself\u001b[0m\u001b[0;34m.\u001b[0m\u001b[0mcolumns\u001b[0m\u001b[0;34m.\u001b[0m\u001b[0mis_unique\u001b[0m\u001b[0;34m:\u001b[0m\u001b[0;34m\u001b[0m\u001b[0m\n\u001b[0;32m-> 2692\u001b[0;31m             \u001b[0;32mreturn\u001b[0m \u001b[0mself\u001b[0m\u001b[0;34m.\u001b[0m\u001b[0m_get_item_cache\u001b[0m\u001b[0;34m(\u001b[0m\u001b[0mkey\u001b[0m\u001b[0;34m)\u001b[0m\u001b[0;34m\u001b[0m\u001b[0m\n\u001b[0m\u001b[1;32m   2693\u001b[0m \u001b[0;34m\u001b[0m\u001b[0m\n\u001b[1;32m   2694\u001b[0m         \u001b[0;31m# duplicate columns & possible reduce dimensionality\u001b[0m\u001b[0;34m\u001b[0m\u001b[0;34m\u001b[0m\u001b[0m\n",
      "\u001b[0;32m/anaconda3/lib/python3.6/site-packages/pandas/core/generic.py\u001b[0m in \u001b[0;36m_get_item_cache\u001b[0;34m(self, item)\u001b[0m\n\u001b[1;32m   2484\u001b[0m         \u001b[0mres\u001b[0m \u001b[0;34m=\u001b[0m \u001b[0mcache\u001b[0m\u001b[0;34m.\u001b[0m\u001b[0mget\u001b[0m\u001b[0;34m(\u001b[0m\u001b[0mitem\u001b[0m\u001b[0;34m)\u001b[0m\u001b[0;34m\u001b[0m\u001b[0m\n\u001b[1;32m   2485\u001b[0m         \u001b[0;32mif\u001b[0m \u001b[0mres\u001b[0m \u001b[0;32mis\u001b[0m \u001b[0;32mNone\u001b[0m\u001b[0;34m:\u001b[0m\u001b[0;34m\u001b[0m\u001b[0m\n\u001b[0;32m-> 2486\u001b[0;31m             \u001b[0mvalues\u001b[0m \u001b[0;34m=\u001b[0m \u001b[0mself\u001b[0m\u001b[0;34m.\u001b[0m\u001b[0m_data\u001b[0m\u001b[0;34m.\u001b[0m\u001b[0mget\u001b[0m\u001b[0;34m(\u001b[0m\u001b[0mitem\u001b[0m\u001b[0;34m)\u001b[0m\u001b[0;34m\u001b[0m\u001b[0m\n\u001b[0m\u001b[1;32m   2487\u001b[0m             \u001b[0mres\u001b[0m \u001b[0;34m=\u001b[0m \u001b[0mself\u001b[0m\u001b[0;34m.\u001b[0m\u001b[0m_box_item_values\u001b[0m\u001b[0;34m(\u001b[0m\u001b[0mitem\u001b[0m\u001b[0;34m,\u001b[0m \u001b[0mvalues\u001b[0m\u001b[0;34m)\u001b[0m\u001b[0;34m\u001b[0m\u001b[0m\n\u001b[1;32m   2488\u001b[0m             \u001b[0mcache\u001b[0m\u001b[0;34m[\u001b[0m\u001b[0mitem\u001b[0m\u001b[0;34m]\u001b[0m \u001b[0;34m=\u001b[0m \u001b[0mres\u001b[0m\u001b[0;34m\u001b[0m\u001b[0m\n",
      "\u001b[0;32m/anaconda3/lib/python3.6/site-packages/pandas/core/internals.py\u001b[0m in \u001b[0;36mget\u001b[0;34m(self, item, fastpath)\u001b[0m\n\u001b[1;32m   4113\u001b[0m \u001b[0;34m\u001b[0m\u001b[0m\n\u001b[1;32m   4114\u001b[0m             \u001b[0;32mif\u001b[0m \u001b[0;32mnot\u001b[0m \u001b[0misna\u001b[0m\u001b[0;34m(\u001b[0m\u001b[0mitem\u001b[0m\u001b[0;34m)\u001b[0m\u001b[0;34m:\u001b[0m\u001b[0;34m\u001b[0m\u001b[0m\n\u001b[0;32m-> 4115\u001b[0;31m                 \u001b[0mloc\u001b[0m \u001b[0;34m=\u001b[0m \u001b[0mself\u001b[0m\u001b[0;34m.\u001b[0m\u001b[0mitems\u001b[0m\u001b[0;34m.\u001b[0m\u001b[0mget_loc\u001b[0m\u001b[0;34m(\u001b[0m\u001b[0mitem\u001b[0m\u001b[0;34m)\u001b[0m\u001b[0;34m\u001b[0m\u001b[0m\n\u001b[0m\u001b[1;32m   4116\u001b[0m             \u001b[0;32melse\u001b[0m\u001b[0;34m:\u001b[0m\u001b[0;34m\u001b[0m\u001b[0m\n\u001b[1;32m   4117\u001b[0m                 \u001b[0mindexer\u001b[0m \u001b[0;34m=\u001b[0m \u001b[0mnp\u001b[0m\u001b[0;34m.\u001b[0m\u001b[0marange\u001b[0m\u001b[0;34m(\u001b[0m\u001b[0mlen\u001b[0m\u001b[0;34m(\u001b[0m\u001b[0mself\u001b[0m\u001b[0;34m.\u001b[0m\u001b[0mitems\u001b[0m\u001b[0;34m)\u001b[0m\u001b[0;34m)\u001b[0m\u001b[0;34m[\u001b[0m\u001b[0misna\u001b[0m\u001b[0;34m(\u001b[0m\u001b[0mself\u001b[0m\u001b[0;34m.\u001b[0m\u001b[0mitems\u001b[0m\u001b[0;34m)\u001b[0m\u001b[0;34m]\u001b[0m\u001b[0;34m\u001b[0m\u001b[0m\n",
      "\u001b[0;32m/anaconda3/lib/python3.6/site-packages/pandas/core/indexes/base.py\u001b[0m in \u001b[0;36mget_loc\u001b[0;34m(self, key, method, tolerance)\u001b[0m\n\u001b[1;32m   3063\u001b[0m                 \u001b[0;32mreturn\u001b[0m \u001b[0mself\u001b[0m\u001b[0;34m.\u001b[0m\u001b[0m_engine\u001b[0m\u001b[0;34m.\u001b[0m\u001b[0mget_loc\u001b[0m\u001b[0;34m(\u001b[0m\u001b[0mkey\u001b[0m\u001b[0;34m)\u001b[0m\u001b[0;34m\u001b[0m\u001b[0m\n\u001b[1;32m   3064\u001b[0m             \u001b[0;32mexcept\u001b[0m \u001b[0mKeyError\u001b[0m\u001b[0;34m:\u001b[0m\u001b[0;34m\u001b[0m\u001b[0m\n\u001b[0;32m-> 3065\u001b[0;31m                 \u001b[0;32mreturn\u001b[0m \u001b[0mself\u001b[0m\u001b[0;34m.\u001b[0m\u001b[0m_engine\u001b[0m\u001b[0;34m.\u001b[0m\u001b[0mget_loc\u001b[0m\u001b[0;34m(\u001b[0m\u001b[0mself\u001b[0m\u001b[0;34m.\u001b[0m\u001b[0m_maybe_cast_indexer\u001b[0m\u001b[0;34m(\u001b[0m\u001b[0mkey\u001b[0m\u001b[0;34m)\u001b[0m\u001b[0;34m)\u001b[0m\u001b[0;34m\u001b[0m\u001b[0m\n\u001b[0m\u001b[1;32m   3066\u001b[0m \u001b[0;34m\u001b[0m\u001b[0m\n\u001b[1;32m   3067\u001b[0m         \u001b[0mindexer\u001b[0m \u001b[0;34m=\u001b[0m \u001b[0mself\u001b[0m\u001b[0;34m.\u001b[0m\u001b[0mget_indexer\u001b[0m\u001b[0;34m(\u001b[0m\u001b[0;34m[\u001b[0m\u001b[0mkey\u001b[0m\u001b[0;34m]\u001b[0m\u001b[0;34m,\u001b[0m \u001b[0mmethod\u001b[0m\u001b[0;34m=\u001b[0m\u001b[0mmethod\u001b[0m\u001b[0;34m,\u001b[0m \u001b[0mtolerance\u001b[0m\u001b[0;34m=\u001b[0m\u001b[0mtolerance\u001b[0m\u001b[0;34m)\u001b[0m\u001b[0;34m\u001b[0m\u001b[0m\n",
      "\u001b[0;32mpandas/_libs/index.pyx\u001b[0m in \u001b[0;36mpandas._libs.index.IndexEngine.get_loc\u001b[0;34m()\u001b[0m\n",
      "\u001b[0;32mpandas/_libs/index.pyx\u001b[0m in \u001b[0;36mpandas._libs.index.IndexEngine.get_loc\u001b[0;34m()\u001b[0m\n",
      "\u001b[0;32mpandas/_libs/hashtable_class_helper.pxi\u001b[0m in \u001b[0;36mpandas._libs.hashtable.PyObjectHashTable.get_item\u001b[0;34m()\u001b[0m\n",
      "\u001b[0;32mpandas/_libs/hashtable_class_helper.pxi\u001b[0m in \u001b[0;36mpandas._libs.hashtable.PyObjectHashTable.get_item\u001b[0;34m()\u001b[0m\n",
      "\u001b[0;31mKeyError\u001b[0m: 'protocol_type'"
     ]
    }
   ],
   "source": [
    "# one-hot cooding of categorical columns\n",
    "\n",
    "def encode_text_dummy(df, name):\n",
    "    dummies = pd.get_dummies(df[name]).astype(np.float32)\n",
    "    for x in dummies.columns:\n",
    "        dummy_name = \"{}-{}\".format(name, x)\n",
    "        df[dummy_name] = dummies[x]\n",
    "    df.drop(name, axis=1, inplace=True)\n",
    "\n",
    "encode_text_dummy(features_df,\"protocol_type\") \n",
    "encode_text_dummy(features_df,\"service\") \n",
    "encode_text_dummy(features_df,\"flag\") \n",
    "encode_text_dummy(features_df,\"land\") \n",
    "\n",
    "encode_text_dummy(features_df,\"logged_in\") \n",
    "encode_text_dummy(features_df,\"root_shell\") \n",
    "encode_text_dummy(features_df,\"su_attempted\") \n",
    "encode_text_dummy(features_df,\"is_host_login\") \n",
    "encode_text_dummy(features_df,\"is_guest_login\") "
   ]
  },
  {
   "cell_type": "code",
   "execution_count": 9,
   "metadata": {},
   "outputs": [],
   "source": [
    "features_df = features_df[0:10000]"
   ]
  },
  {
   "cell_type": "code",
   "execution_count": 10,
   "metadata": {},
   "outputs": [],
   "source": [
    "label_df = label_df[0:10000]"
   ]
  },
  {
   "cell_type": "code",
   "execution_count": 11,
   "metadata": {},
   "outputs": [],
   "source": [
    "# create a function called encodeLabelBinarizer\n",
    "\n",
    "encodeLabelBinary = lambda x: 0 if x == 'normal.' else 1\n"
   ]
  },
  {
   "cell_type": "code",
   "execution_count": 12,
   "metadata": {},
   "outputs": [],
   "source": [
    "# converting problem to binary classification\n",
    "\n",
    "label_df['outcome'] = label_df['outcome'].apply(encodeLabelBinary)"
   ]
  },
  {
   "cell_type": "markdown",
   "metadata": {
    "heading_collapsed": true
   },
   "source": [
    "# SKLEARN models - Classification - Training and Prediction"
   ]
  },
  {
   "cell_type": "code",
   "execution_count": 13,
   "metadata": {
    "hidden": true
   },
   "outputs": [],
   "source": [
    "x_train, x_test, y_train, y_test = train_test_split(features_df, label_df['outcome'] , test_size=0.2, random_state=42)"
   ]
  },
  {
   "cell_type": "markdown",
   "metadata": {
    "hidden": true
   },
   "source": [
    "** Logistic Regression **"
   ]
  },
  {
   "cell_type": "code",
   "execution_count": 14,
   "metadata": {
    "hidden": true
   },
   "outputs": [],
   "source": [
    "# Logistic regression\n",
    "from sklearn.linear_model import LogisticRegression\n",
    "\n",
    "Log_reg_model = LogisticRegression()\n",
    "\n",
    "Log_reg_model.fit(x_train, y_train)\n",
    "\n",
    "y_pred_logistic = Log_reg_model.predict(x_test)"
   ]
  },
  {
   "cell_type": "code",
   "execution_count": 15,
   "metadata": {
    "hidden": true
   },
   "outputs": [
    {
     "name": "stdout",
     "output_type": "stream",
     "text": [
      "Root Mean Squared Error: 0.04\n",
      "R2 score: 0.99\n"
     ]
    }
   ],
   "source": [
    "# RMS value\n",
    "\n",
    "score_logistic = np.sqrt(mean_squared_error(y_test, y_pred_logistic))\n",
    "print(\"Root Mean Squared Error: %.2f\" % score_logistic)\n",
    "print('R2 score: %.2f' % r2_score(y_test, y_pred_logistic))"
   ]
  },
  {
   "cell_type": "markdown",
   "metadata": {
    "hidden": true
   },
   "source": [
    "** KNN **"
   ]
  },
  {
   "cell_type": "code",
   "execution_count": 16,
   "metadata": {
    "hidden": true
   },
   "outputs": [],
   "source": [
    "#implementing Nearest Neighbor\n",
    "\n",
    "from sklearn.neighbors import KNeighborsClassifier\n",
    "\n",
    "knn = KNeighborsClassifier(n_neighbors=2)\n",
    "\n",
    "knn.fit(x_train, y_train) \n",
    "\n",
    "y_pred_knn = knn.predict(x_test)"
   ]
  },
  {
   "cell_type": "code",
   "execution_count": 17,
   "metadata": {
    "hidden": true
   },
   "outputs": [
    {
     "name": "stdout",
     "output_type": "stream",
     "text": [
      "Accuracy score: 0.998\n",
      "Precision score: 0.9980051085568328\n",
      "Recall score: 0.998\n",
      "F1 score: 0.9979966916164151\n"
     ]
    }
   ],
   "source": [
    "# Metrics\n",
    "from sklearn import metrics\n",
    "\n",
    "score_knn_acc = metrics.accuracy_score(y_test, y_pred_knn)\n",
    "print(\"Accuracy score: {}\".format(score_knn_acc))\n",
    "\n",
    "score_knn_precision = metrics.precision_score(y_test, y_pred_knn, average= \"weighted\")\n",
    "print(\"Precision score: {}\".format(score_knn_precision))\n",
    "\n",
    "score_knn_recall = metrics.recall_score(y_test, y_pred_knn, average= \"weighted\")\n",
    "print(\"Recall score: {}\".format(score_knn_recall))\n",
    "\n",
    "score_knn_f1 = metrics.f1_score(y_test, y_pred_knn, average= \"weighted\")\n",
    "print(\"F1 score: {}\".format(score_knn_f1))"
   ]
  },
  {
   "cell_type": "markdown",
   "metadata": {
    "hidden": true
   },
   "source": [
    "** SVM **"
   ]
  },
  {
   "cell_type": "code",
   "execution_count": 18,
   "metadata": {
    "hidden": true
   },
   "outputs": [],
   "source": [
    "# SVM\n",
    "from sklearn.svm import SVC\n",
    "\n",
    "svm_model = SVC(kernel=\"linear\")\n",
    "\n",
    "svm_model.fit(x_train, y_train)\n",
    "\n",
    "y_pred_svm = svm_model.predict(x_test)"
   ]
  },
  {
   "cell_type": "code",
   "execution_count": 19,
   "metadata": {
    "hidden": true
   },
   "outputs": [
    {
     "name": "stdout",
     "output_type": "stream",
     "text": [
      "Accuracy score: 0.9985\n",
      "Precision score: 0.998502875399361\n",
      "Recall score: 0.9985\n",
      "F1 score: 0.9984981422199071\n"
     ]
    }
   ],
   "source": [
    "# Metrics\n",
    "\n",
    "score_svm_acc = metrics.accuracy_score(y_test, y_pred_svm)\n",
    "print(\"Accuracy score: {}\".format(score_svm_acc))\n",
    "\n",
    "score_svm_precision = metrics.precision_score(y_test, y_pred_svm, average= \"weighted\")\n",
    "print(\"Precision score: {}\".format(score_svm_precision))\n",
    "\n",
    "score_svm_recall = metrics.recall_score(y_test, y_pred_svm, average= \"weighted\")\n",
    "print(\"Recall score: {}\".format(score_svm_recall))\n",
    "\n",
    "score_svm_f1 = metrics.f1_score(y_test, y_pred_svm, average= \"weighted\")\n",
    "print(\"F1 score: {}\".format(score_svm_f1))"
   ]
  },
  {
   "cell_type": "markdown",
   "metadata": {
    "hidden": true
   },
   "source": [
    "** Gaussian Naive Bayes **"
   ]
  },
  {
   "cell_type": "code",
   "execution_count": 20,
   "metadata": {
    "hidden": true
   },
   "outputs": [],
   "source": [
    "#GNB\n",
    "from sklearn.naive_bayes import GaussianNB\n",
    "mnb_model = GaussianNB()\n",
    "\n",
    "mnb_model.fit(x_train, y_train)\n",
    "\n",
    "y_pred_gnb = mnb_model.predict(x_test)"
   ]
  },
  {
   "cell_type": "code",
   "execution_count": 21,
   "metadata": {
    "hidden": true
   },
   "outputs": [
    {
     "name": "stdout",
     "output_type": "stream",
     "text": [
      "Accuracy score: 0.996\n",
      "Precision score: 0.9960094405594406\n",
      "Recall score: 0.996\n",
      "F1 score: 0.9960032745786752\n"
     ]
    }
   ],
   "source": [
    "# Metrics\n",
    "\n",
    "score_gnb_acc = metrics.accuracy_score(y_test, y_pred_gnb)\n",
    "print(\"Accuracy score: {}\".format(score_gnb_acc))\n",
    "\n",
    "score_gnb_precision = metrics.precision_score(y_test, y_pred_gnb, average= \"weighted\")\n",
    "print(\"Precision score: {}\".format(score_gnb_precision))\n",
    "\n",
    "score_gnb_recall = metrics.recall_score(y_test, y_pred_gnb, average= \"weighted\")\n",
    "print(\"Recall score: {}\".format(score_gnb_recall))\n",
    "\n",
    "score_gnb_f1 = metrics.f1_score(y_test, y_pred_gnb, average= \"weighted\")\n",
    "print(\"F1 score: {}\".format(score_gnb_f1))"
   ]
  },
  {
   "cell_type": "markdown",
   "metadata": {
    "heading_collapsed": true
   },
   "source": [
    "# Training and Prediction using Fully Connected Neural Network"
   ]
  },
  {
   "cell_type": "code",
   "execution_count": 22,
   "metadata": {
    "hidden": true
   },
   "outputs": [],
   "source": [
    "normalize_numeric_minmax(network_df,\"duration\")\n",
    "encode_text_dummy(network_df,\"protocol_type\") \n",
    "encode_text_dummy(network_df,\"service\") \n",
    "encode_text_dummy(network_df,\"flag\")\n",
    "normalize_numeric_minmax(network_df,\"src_bytes\") \n",
    "normalize_numeric_minmax(network_df,\"dst_bytes\")\n",
    "encode_text_dummy(network_df,\"land\")\n",
    "normalize_numeric_minmax(network_df,\"wrong_fragment\") \n",
    "normalize_numeric_minmax(network_df,\"urgent\")\n",
    "normalize_numeric_minmax(network_df,\"hot\")\n",
    "normalize_numeric_minmax(network_df,\"num_failed_logins\")\n",
    "encode_text_dummy(network_df,\"logged_in\")\n",
    "normalize_numeric_minmax(network_df,\"num_compromised\")\n",
    "normalize_numeric_minmax(network_df,\"root_shell\")\n",
    "normalize_numeric_minmax(network_df,\"su_attempted\")\n",
    "normalize_numeric_minmax(network_df,\"num_root\")\n",
    "normalize_numeric_minmax(network_df,\"num_file_creations\")\n",
    "normalize_numeric_minmax(network_df,\"num_shells\")\n",
    "normalize_numeric_minmax(network_df,\"num_access_files\")\n",
    "normalize_numeric_minmax(network_df,\"num_outbound_cmds\")\n",
    "encode_text_dummy(network_df,\"is_host_login\")\n",
    "encode_text_dummy(network_df,\"is_guest_login\")\n",
    "normalize_numeric_minmax(network_df,\"count\") \n",
    "normalize_numeric_minmax(network_df,\"srv_count\") \n",
    "normalize_numeric_minmax(network_df,\"serror_rate\") \n",
    "normalize_numeric_minmax(network_df,\"srv_serror_rate\") \n",
    "normalize_numeric_minmax(network_df,\"rerror_rate\") \n",
    "normalize_numeric_minmax(network_df,\"srv_rerror_rate\") \n",
    "normalize_numeric_minmax(network_df,\"same_srv_rate\") \n",
    "normalize_numeric_minmax(network_df,\"diff_srv_rate\") \n",
    "normalize_numeric_minmax(network_df,\"srv_diff_host_rate\") \n",
    "normalize_numeric_minmax(network_df,\"dst_host_count\") \n",
    "normalize_numeric_minmax(network_df,\"dst_host_srv_count\") \n",
    "normalize_numeric_minmax(network_df,\"dst_host_same_srv_rate\") \n",
    "normalize_numeric_minmax(network_df,\"dst_host_diff_srv_rate\") \n",
    "normalize_numeric_minmax(network_df,\"dst_host_same_src_port_rate\") \n",
    "normalize_numeric_minmax(network_df,\"dst_host_srv_diff_host_rate\") \n",
    "normalize_numeric_minmax(network_df,\"dst_host_serror_rate\") \n",
    "normalize_numeric_minmax(network_df,\"dst_host_srv_serror_rate\") \n",
    "normalize_numeric_minmax(network_df,\"dst_host_rerror_rate\") \n",
    "normalize_numeric_minmax(network_df,\"dst_host_srv_rerror_rate\") "
   ]
  },
  {
   "cell_type": "code",
   "execution_count": 24,
   "metadata": {
    "hidden": true
   },
   "outputs": [],
   "source": [
    "network_df['outcome'] = network_df['outcome'].apply(encodeLabelBinary)"
   ]
  },
  {
   "cell_type": "code",
   "execution_count": 17,
   "metadata": {
    "code_folding": [],
    "hidden": true
   },
   "outputs": [],
   "source": [
    "# Convert a Pandas dataframe to the x,y inputs that TensorFlow needs\n",
    "import collections\n",
    "def to_xy(df, target):\n",
    "    result = []\n",
    "    for x in df.columns:\n",
    "        if x != target:\n",
    "            result.append(x)\n",
    "    # find out the type of the target column. \n",
    "    target_type = df[target].dtypes\n",
    "    target_type = target_type[0] if isinstance(target_type, collections.Sequence) else target_type\n",
    "    # Encode to int for classification, float otherwise. TensorFlow likes 32 bits.\n",
    "    if target_type in (np.int64, np.int32):\n",
    "        # Classification\n",
    "        dummies = pd.get_dummies(df[target])\n",
    "        return df[result].values.astype(np.float32), dummies.values.astype(np.float32)\n",
    "    else:\n",
    "        # Regression\n",
    "        return df[result].values.astype(np.float32), df[target].values.astype(np.float32)"
   ]
  },
  {
   "cell_type": "code",
   "execution_count": 25,
   "metadata": {
    "hidden": true
   },
   "outputs": [],
   "source": [
    "x,y=to_xy(network_df,'outcome')"
   ]
  },
  {
   "cell_type": "code",
   "execution_count": 26,
   "metadata": {
    "hidden": true
   },
   "outputs": [],
   "source": [
    "x_train_tf, x_test_tf, y_train_tf, y_test_tf = train_test_split(x,y, test_size=0.2, random_state=42)"
   ]
  },
  {
   "cell_type": "code",
   "execution_count": 27,
   "metadata": {
    "hidden": true
   },
   "outputs": [
    {
     "data": {
      "text/plain": [
       "(395216, 121)"
      ]
     },
     "execution_count": 27,
     "metadata": {},
     "output_type": "execute_result"
    }
   ],
   "source": [
    "x_train_tf.shape"
   ]
  },
  {
   "cell_type": "code",
   "execution_count": 28,
   "metadata": {
    "hidden": true
   },
   "outputs": [
    {
     "data": {
      "text/plain": [
       "(395216, 2)"
      ]
     },
     "execution_count": 28,
     "metadata": {},
     "output_type": "execute_result"
    }
   ],
   "source": [
    "y_train_tf.shape"
   ]
  },
  {
   "cell_type": "markdown",
   "metadata": {
    "hidden": true
   },
   "source": [
    "** ReLU, adam, 4 hidden layers **\n"
   ]
  },
  {
   "cell_type": "code",
   "execution_count": 27,
   "metadata": {
    "hidden": true
   },
   "outputs": [],
   "source": [
    "# set up checkpointer and complete this\n",
    "from keras.layers.core import Dense, Activation\n",
    "from keras.callbacks import EarlyStopping, ModelCheckpoint\n",
    "from keras.models import Sequential\n",
    "\n",
    "checkpointer_relu = ModelCheckpoint(filepath=\"./best_weights_relu_4l.hdf5\", verbose=1, save_best_only=True)"
   ]
  },
  {
   "cell_type": "markdown",
   "metadata": {},
   "source": [
    "# Training and Prediction using CNN"
   ]
  },
  {
   "cell_type": "code",
   "execution_count": 29,
   "metadata": {},
   "outputs": [],
   "source": [
    "# we now reshape the x_train and x_test to image form used in CNN 2D\n",
    "x_train_tf = x_train_tf.reshape(x_train_tf.shape[0], 1, 121, 1)\n",
    "x_test_tf = x_test_tf.reshape(x_test_tf.shape[0], 1, 121, 1)"
   ]
  },
  {
   "cell_type": "code",
   "execution_count": 30,
   "metadata": {},
   "outputs": [
    {
     "data": {
      "text/plain": [
       "(395216, 1, 121, 1)"
      ]
     },
     "execution_count": 30,
     "metadata": {},
     "output_type": "execute_result"
    }
   ],
   "source": [
    "x_train_tf.shape"
   ]
  },
  {
   "cell_type": "code",
   "execution_count": 31,
   "metadata": {},
   "outputs": [
    {
     "data": {
      "text/plain": [
       "(98804, 1, 121, 1)"
      ]
     },
     "execution_count": 31,
     "metadata": {},
     "output_type": "execute_result"
    }
   ],
   "source": [
    "x_test_tf.shape"
   ]
  },
  {
   "cell_type": "code",
   "execution_count": 32,
   "metadata": {},
   "outputs": [],
   "source": [
    "#CNN 2D\n",
    "\n",
    "cnn = Sequential()\n",
    "\n",
    "# Conv2D layer 1\n",
    "cnn.add(Conv2D(41, kernel_size=(1, 3), strides=(1, 1), padding='valid',\n",
    "                 activation='relu',\n",
    "                 input_shape=(1,121,1)))"
   ]
  },
  {
   "cell_type": "code",
   "execution_count": 34,
   "metadata": {},
   "outputs": [],
   "source": [
    "cnn.add(Conv2D(64, (1, 3), activation='relu'))\n",
    "\n",
    "cnn.add(MaxPooling2D(pool_size=(1, 2), strides=None))\n",
    "\n",
    "cnn.add(Dropout(0.25))\n",
    "\n",
    "cnn.add(Flatten())"
   ]
  },
  {
   "cell_type": "code",
   "execution_count": 35,
   "metadata": {},
   "outputs": [
    {
     "name": "stdout",
     "output_type": "stream",
     "text": [
      "_________________________________________________________________\n",
      "Layer (type)                 Output Shape              Param #   \n",
      "=================================================================\n",
      "conv2d_1 (Conv2D)            (None, 1, 119, 41)        164       \n",
      "_________________________________________________________________\n",
      "conv2d_2 (Conv2D)            (None, 1, 117, 64)        7936      \n",
      "_________________________________________________________________\n",
      "max_pooling2d_1 (MaxPooling2 (None, 1, 58, 64)         0         \n",
      "_________________________________________________________________\n",
      "dropout_1 (Dropout)          (None, 1, 58, 64)         0         \n",
      "_________________________________________________________________\n",
      "conv2d_3 (Conv2D)            (None, 1, 56, 64)         12352     \n",
      "_________________________________________________________________\n",
      "max_pooling2d_2 (MaxPooling2 (None, 1, 28, 64)         0         \n",
      "_________________________________________________________________\n",
      "dropout_2 (Dropout)          (None, 1, 28, 64)         0         \n",
      "_________________________________________________________________\n",
      "flatten_1 (Flatten)          (None, 1792)              0         \n",
      "=================================================================\n",
      "Total params: 20,452\n",
      "Trainable params: 20,452\n",
      "Non-trainable params: 0\n",
      "_________________________________________________________________\n"
     ]
    }
   ],
   "source": [
    "cnn.summary()"
   ]
  },
  {
   "cell_type": "code",
   "execution_count": 36,
   "metadata": {},
   "outputs": [],
   "source": [
    "cnn.add(Dense(128, activation='relu'))\n",
    "\n",
    "cnn.add(Dropout(0.5))\n",
    "\n",
    "cnn.add(Dense(2, activation='softmax'))"
   ]
  },
  {
   "cell_type": "code",
   "execution_count": 37,
   "metadata": {},
   "outputs": [
    {
     "name": "stdout",
     "output_type": "stream",
     "text": [
      "_________________________________________________________________\n",
      "Layer (type)                 Output Shape              Param #   \n",
      "=================================================================\n",
      "conv2d_1 (Conv2D)            (None, 1, 119, 41)        164       \n",
      "_________________________________________________________________\n",
      "conv2d_2 (Conv2D)            (None, 1, 117, 64)        7936      \n",
      "_________________________________________________________________\n",
      "max_pooling2d_1 (MaxPooling2 (None, 1, 58, 64)         0         \n",
      "_________________________________________________________________\n",
      "dropout_1 (Dropout)          (None, 1, 58, 64)         0         \n",
      "_________________________________________________________________\n",
      "conv2d_3 (Conv2D)            (None, 1, 56, 64)         12352     \n",
      "_________________________________________________________________\n",
      "max_pooling2d_2 (MaxPooling2 (None, 1, 28, 64)         0         \n",
      "_________________________________________________________________\n",
      "dropout_2 (Dropout)          (None, 1, 28, 64)         0         \n",
      "_________________________________________________________________\n",
      "flatten_1 (Flatten)          (None, 1792)              0         \n",
      "_________________________________________________________________\n",
      "dense_1 (Dense)              (None, 128)               229504    \n",
      "_________________________________________________________________\n",
      "dropout_3 (Dropout)          (None, 128)               0         \n",
      "_________________________________________________________________\n",
      "dense_2 (Dense)              (None, 2)                 258       \n",
      "=================================================================\n",
      "Total params: 250,214\n",
      "Trainable params: 250,214\n",
      "Non-trainable params: 0\n",
      "_________________________________________________________________\n"
     ]
    }
   ],
   "source": [
    "cnn.summary()"
   ]
  },
  {
   "cell_type": "code",
   "execution_count": 38,
   "metadata": {},
   "outputs": [],
   "source": [
    "cnn.compile(loss='categorical_crossentropy', optimizer='adam', metrics=['accuracy'])\n"
   ]
  },
  {
   "cell_type": "code",
   "execution_count": 41,
   "metadata": {},
   "outputs": [
    {
     "name": "stdout",
     "output_type": "stream",
     "text": [
      "Train on 395216 samples, validate on 98804 samples\n",
      "Epoch 1/10\n",
      " - 107s - loss: 0.0136 - acc: 0.9956 - val_loss: 0.0035 - val_acc: 0.9991\n",
      "Epoch 2/10\n",
      " - 106s - loss: 0.0042 - acc: 0.9988 - val_loss: 0.0031 - val_acc: 0.9992\n",
      "Epoch 3/10\n",
      " - 105s - loss: 0.0035 - acc: 0.9989 - val_loss: 0.0026 - val_acc: 0.9993\n",
      "Epoch 4/10\n",
      " - 105s - loss: 0.0030 - acc: 0.9991 - val_loss: 0.0023 - val_acc: 0.9993\n",
      "Epoch 5/10\n",
      " - 108s - loss: 0.0029 - acc: 0.9991 - val_loss: 0.0023 - val_acc: 0.9993\n",
      "Epoch 6/10\n",
      " - 107s - loss: 0.0026 - acc: 0.9993 - val_loss: 0.0022 - val_acc: 0.9994\n",
      "Epoch 7/10\n",
      " - 105s - loss: 0.0026 - acc: 0.9993 - val_loss: 0.0019 - val_acc: 0.9994\n",
      "Epoch 8/10\n",
      " - 106s - loss: 0.0025 - acc: 0.9994 - val_loss: 0.0020 - val_acc: 0.9994\n",
      "Epoch 9/10\n",
      " - 105s - loss: 0.0024 - acc: 0.9994 - val_loss: 0.0020 - val_acc: 0.9995\n",
      "Epoch 10/10\n",
      " - 104s - loss: 0.0022 - acc: 0.9994 - val_loss: 0.0020 - val_acc: 0.9994\n"
     ]
    },
    {
     "data": {
      "text/plain": [
       "<keras.callbacks.History at 0x111c03c88>"
      ]
     },
     "execution_count": 41,
     "metadata": {},
     "output_type": "execute_result"
    }
   ],
   "source": [
    "cnn.fit(x_train_tf, y_train_tf,     \n",
    "          batch_size=128,\n",
    "          epochs=10,\n",
    "          verbose=2,\n",
    "          validation_data=(x_test_tf, y_test_tf))"
   ]
  },
  {
   "cell_type": "code",
   "execution_count": 43,
   "metadata": {},
   "outputs": [
    {
     "data": {
      "text/plain": [
       "[0.0019513580828121894, 0.9994129792316101]"
      ]
     },
     "execution_count": 43,
     "metadata": {},
     "output_type": "execute_result"
    }
   ],
   "source": [
    "# Evaluate Accuracy in Keras\n",
    "score = cnn.evaluate(x_test_tf, y_test_tf, verbose=0)\n",
    "score"
   ]
  },
  {
   "cell_type": "code",
   "execution_count": 44,
   "metadata": {},
   "outputs": [
    {
     "name": "stdout",
     "output_type": "stream",
     "text": [
      "Test loss: 0.0019513580828121894\n",
      "Test accuracy: 0.9994129792316101\n"
     ]
    }
   ],
   "source": [
    "print('Test loss: {}'.format(score[0]))\n",
    "print('Test accuracy: {}'.format(score[1]))"
   ]
  },
  {
   "cell_type": "markdown",
   "metadata": {
    "heading_collapsed": true
   },
   "source": [
    "# Additional Features"
   ]
  },
  {
   "cell_type": "markdown",
   "metadata": {
    "hidden": true
   },
   "source": [
    " # Remove Redundant Records"
   ]
  },
  {
   "cell_type": "code",
   "execution_count": null,
   "metadata": {
    "hidden": true
   },
   "outputs": [],
   "source": [
    "network_df.drop_duplicates(keep='first', inplace=True)"
   ]
  },
  {
   "cell_type": "code",
   "execution_count": null,
   "metadata": {
    "hidden": true
   },
   "outputs": [],
   "source": [
    "network_df"
   ]
  },
  {
   "cell_type": "code",
   "execution_count": null,
   "metadata": {
    "hidden": true
   },
   "outputs": [],
   "source": [
    "#Select only relevant columns for processing\n",
    "features_ad_df = network_df[['duration',\n",
    "'protocol_type',\n",
    "'service',\n",
    "'flag',\n",
    "'src_bytes',\n",
    "'dst_bytes',\n",
    "'land',\n",
    "'wrong_fragment',\n",
    "'urgent',\n",
    "                          \n",
    "'hot',\n",
    "'num_failed_logins',\n",
    "'logged_in',\n",
    "'num_compromised',\n",
    "'root_shell',\n",
    "'su_attempted',\n",
    "'num_root',\n",
    "'num_file_creations',\n",
    "'num_shells',\n",
    "'num_access_files',\n",
    "'num_outbound_cmds',\n",
    "'is_host_login',\n",
    "'is_guest_login',\n",
    "                          \n",
    "'count',\n",
    "'srv_count',\n",
    "'serror_rate',\n",
    "'srv_serror_rate',\n",
    "'rerror_rate',\n",
    "'srv_rerror_rate',\n",
    "'same_srv_rate',\n",
    "'diff_srv_rate',\n",
    "'srv_diff_host_rate',\n",
    "'dst_host_count',\n",
    "'dst_host_srv_count',\n",
    "'dst_host_same_srv_rate',\n",
    "'dst_host_diff_srv_rate',\n",
    "'dst_host_same_src_port_rate',\n",
    "'dst_host_srv_diff_host_rate',\n",
    "'dst_host_serror_rate',\n",
    "'dst_host_srv_serror_rate',\n",
    "'dst_host_rerror_rate',\n",
    "'dst_host_srv_rerror_rate']]"
   ]
  },
  {
   "cell_type": "code",
   "execution_count": null,
   "metadata": {
    "hidden": true
   },
   "outputs": [],
   "source": [
    "label_ad_df = network_df[['outcome']]"
   ]
  },
  {
   "cell_type": "code",
   "execution_count": null,
   "metadata": {
    "hidden": true
   },
   "outputs": [],
   "source": [
    "#Normalize numeric features\n",
    "\n",
    "\n",
    "def normalize_numeric_minmax(df, name):\n",
    "    if(df[name].max() > 0):\n",
    "        df[name] = ((df[name] - df[name].min()) / (df[name].max() - df[name].min())).astype(np.float32)\n",
    "    else:\n",
    "        df[name] = df[name].astype(np.float32)\n",
    "    \n",
    "normalize_numeric_minmax(features_ad_df,\"duration\") \n",
    "normalize_numeric_minmax(features_ad_df,\"src_bytes\") \n",
    "normalize_numeric_minmax(features_ad_df,\"dst_bytes\") \n",
    "normalize_numeric_minmax(features_ad_df,\"wrong_fragment\") \n",
    "normalize_numeric_minmax(features_ad_df,\"urgent\") \n",
    "\n",
    "normalize_numeric_minmax(features_ad_df,\"hot\") \n",
    "normalize_numeric_minmax(features_ad_df,\"num_failed_logins\") \n",
    "normalize_numeric_minmax(features_ad_df,\"num_compromised\") \n",
    "normalize_numeric_minmax(features_ad_df,\"num_root\") \n",
    "normalize_numeric_minmax(features_ad_df,\"num_file_creations\") \n",
    "normalize_numeric_minmax(features_ad_df,\"num_shells\") \n",
    "normalize_numeric_minmax(features_ad_df,\"num_access_files\") \n",
    "normalize_numeric_minmax(features_ad_df,\"num_outbound_cmds\") \n",
    "\n",
    "normalize_numeric_minmax(features_ad_df,\"count\") \n",
    "normalize_numeric_minmax(features_ad_df,\"srv_count\") \n",
    "normalize_numeric_minmax(features_ad_df,\"serror_rate\") \n",
    "normalize_numeric_minmax(features_ad_df,\"srv_serror_rate\") \n",
    "normalize_numeric_minmax(features_ad_df,\"rerror_rate\") \n",
    "normalize_numeric_minmax(features_ad_df,\"srv_rerror_rate\") \n",
    "normalize_numeric_minmax(features_ad_df,\"same_srv_rate\") \n",
    "normalize_numeric_minmax(features_ad_df,\"diff_srv_rate\") \n",
    "normalize_numeric_minmax(features_ad_df,\"srv_diff_host_rate\") \n",
    "normalize_numeric_minmax(features_ad_df,\"dst_host_count\") \n",
    "normalize_numeric_minmax(features_ad_df,\"dst_host_srv_count\") \n",
    "normalize_numeric_minmax(features_ad_df,\"dst_host_same_srv_rate\") \n",
    "normalize_numeric_minmax(features_ad_df,\"dst_host_diff_srv_rate\") \n",
    "normalize_numeric_minmax(features_ad_df,\"dst_host_same_src_port_rate\") \n",
    "normalize_numeric_minmax(features_ad_df,\"dst_host_srv_diff_host_rate\") \n",
    "normalize_numeric_minmax(features_ad_df,\"dst_host_serror_rate\") \n",
    "normalize_numeric_minmax(features_ad_df,\"dst_host_srv_serror_rate\") \n",
    "normalize_numeric_minmax(features_ad_df,\"dst_host_rerror_rate\") \n",
    "normalize_numeric_minmax(features_ad_df,\"dst_host_srv_rerror_rate\") \n",
    "\n"
   ]
  },
  {
   "cell_type": "code",
   "execution_count": null,
   "metadata": {
    "hidden": true
   },
   "outputs": [],
   "source": [
    "# one-hot cooding of categorical columns\n",
    "\n",
    "def encode_text_dummy(df, name):\n",
    "    dummies = pd.get_dummies(df[name]).astype(np.float32)\n",
    "    for x in dummies.columns:\n",
    "        dummy_name = \"{}-{}\".format(name, x)\n",
    "        df[dummy_name] = dummies[x]\n",
    "    df.drop(name, axis=1, inplace=True)\n",
    "\n",
    "encode_text_dummy(features_ad_df,\"protocol_type\") \n",
    "encode_text_dummy(features_ad_df,\"service\") \n",
    "encode_text_dummy(features_ad_df,\"flag\") \n",
    "encode_text_dummy(features_ad_df,\"land\") \n",
    "\n",
    "encode_text_dummy(features_ad_df,\"logged_in\") \n",
    "encode_text_dummy(features_ad_df,\"root_shell\") \n",
    "encode_text_dummy(features_ad_df,\"su_attempted\") \n",
    "encode_text_dummy(features_ad_df,\"is_host_login\") \n",
    "encode_text_dummy(features_ad_df,\"is_guest_login\") "
   ]
  },
  {
   "cell_type": "code",
   "execution_count": null,
   "metadata": {
    "hidden": true
   },
   "outputs": [],
   "source": [
    "#Reduce the dataset size\n",
    "features_ad_df = features_ad_df[0:40000]\n",
    "label_ad_df = label_ad_df[0:40000]"
   ]
  },
  {
   "cell_type": "code",
   "execution_count": null,
   "metadata": {
    "hidden": true
   },
   "outputs": [],
   "source": [
    "# create a function called encodeLabelBinarizer\n",
    "\n",
    "encodeLabelBinary = lambda x: 0 if x == 'normal.' else 1\n"
   ]
  },
  {
   "cell_type": "code",
   "execution_count": null,
   "metadata": {
    "hidden": true
   },
   "outputs": [],
   "source": [
    "label_ad_df['outcome'] = label_ad_df['outcome'].apply(encodeLabelBinary)"
   ]
  },
  {
   "cell_type": "code",
   "execution_count": null,
   "metadata": {
    "hidden": true
   },
   "outputs": [],
   "source": [
    "x_ad_train, x_ad_test, y_ad_train, y_ad_test = train_test_split(features_ad_df, label_ad_df['outcome'] , test_size=0.2, random_state=42)"
   ]
  },
  {
   "cell_type": "code",
   "execution_count": null,
   "metadata": {
    "hidden": true
   },
   "outputs": [],
   "source": [
    "features_ad_df.shape"
   ]
  },
  {
   "cell_type": "markdown",
   "metadata": {
    "hidden": true
   },
   "source": [
    "**Logistic Regression **"
   ]
  },
  {
   "cell_type": "code",
   "execution_count": null,
   "metadata": {
    "hidden": true
   },
   "outputs": [],
   "source": [
    "# Logistic regression\n",
    "from sklearn.linear_model import LogisticRegression\n",
    "\n",
    "Log_reg_model = LogisticRegression()\n",
    "\n",
    "Log_reg_model.fit(x_ad_train, y_ad_train)\n",
    "\n",
    "y_ad_pred_logistic = Log_reg_model.predict(x_ad_test)"
   ]
  },
  {
   "cell_type": "code",
   "execution_count": null,
   "metadata": {
    "hidden": true
   },
   "outputs": [],
   "source": [
    "# RMS value\n",
    "\n",
    "score_logistic = np.sqrt(mean_squared_error(y_ad_test, y_ad_pred_logistic))\n",
    "print(\"Root Mean Squared Error: %.2f\" % score_logistic)\n",
    "print('R2 score: %.2f' % r2_score(y_ad_test, y_ad_pred_logistic))"
   ]
  },
  {
   "cell_type": "markdown",
   "metadata": {
    "hidden": true
   },
   "source": [
    "** KNN **"
   ]
  },
  {
   "cell_type": "code",
   "execution_count": null,
   "metadata": {
    "hidden": true
   },
   "outputs": [],
   "source": [
    "#implementing Nearest Neighbor\n",
    "\n",
    "from sklearn.neighbors import KNeighborsClassifier\n",
    "\n",
    "knn = KNeighborsClassifier(n_neighbors=2)\n",
    "\n",
    "knn.fit(x_ad_train, y_ad_train) \n",
    "\n",
    "y_ad_pred_knn = knn.predict(x_ad_test)"
   ]
  },
  {
   "cell_type": "code",
   "execution_count": null,
   "metadata": {
    "hidden": true
   },
   "outputs": [],
   "source": [
    "# Metrics\n",
    "from sklearn import metrics\n",
    "\n",
    "score_ad_knn_acc = metrics.accuracy_score(y_ad_test, y_ad_pred_knn)\n",
    "print(\"Accuracy score: {}\".format(score_ad_knn_acc))\n",
    "\n",
    "score_ad_knn_precision = metrics.precision_score(y_ad_test, y_ad_pred_knn, average= \"weighted\")\n",
    "print(\"Precision score: {}\".format(score_ad_knn_precision))\n",
    "\n",
    "score_ad_knn_recall = metrics.recall_score(y_ad_test, y_ad_pred_knn, average= \"weighted\")\n",
    "print(\"Recall score: {}\".format(score_ad_knn_recall))\n",
    "\n",
    "score_ad_knn_f1 = metrics.f1_score(y_ad_test, y_ad_pred_knn, average= \"weighted\")\n",
    "print(\"F1 score: {}\".format(score_ad_knn_f1))"
   ]
  },
  {
   "cell_type": "markdown",
   "metadata": {
    "hidden": true
   },
   "source": [
    "** SVM **"
   ]
  },
  {
   "cell_type": "code",
   "execution_count": null,
   "metadata": {
    "hidden": true
   },
   "outputs": [],
   "source": [
    "# SVM\n",
    "from sklearn.svm import SVC\n",
    "\n",
    "svm_model = SVC(kernel=\"linear\")\n",
    "\n",
    "svm_model.fit(x_ad_train, y_ad_train)\n",
    "\n",
    "y_ad_pred_svm = svm_model.predict(x_ad_test)"
   ]
  },
  {
   "cell_type": "code",
   "execution_count": null,
   "metadata": {
    "hidden": true
   },
   "outputs": [],
   "source": [
    "# Metrics\n",
    "\n",
    "score_ad_svm_acc = metrics.accuracy_score(y_ad_test, y_ad_pred_svm)\n",
    "print(\"Accuracy score: {}\".format(score_ad_svm_acc))\n",
    "\n",
    "score_ad_svm_precision = metrics.precision_score(y_ad_test, y_ad_pred_svm, average= \"weighted\")\n",
    "print(\"Precision score: {}\".format(score_ad_svm_precision))\n",
    "\n",
    "score_ad_svm_recall = metrics.recall_score(y_ad_test, y_ad_pred_svm, average= \"weighted\")\n",
    "print(\"Recall score: {}\".format(score_ad_svm_recall))\n",
    "\n",
    "score_ad_svm_f1 = metrics.f1_score(y_ad_test, y_ad_pred_svm, average= \"weighted\")\n",
    "print(\"F1 score: {}\".format(score_ad_svm_f1))"
   ]
  },
  {
   "cell_type": "markdown",
   "metadata": {
    "hidden": true
   },
   "source": [
    "** Gaussian Naive Bayes **"
   ]
  },
  {
   "cell_type": "code",
   "execution_count": null,
   "metadata": {
    "hidden": true
   },
   "outputs": [],
   "source": [
    "#GNB\n",
    "from sklearn.naive_bayes import GaussianNB\n",
    "mnb_model = GaussianNB()\n",
    "\n",
    "mnb_model.fit(x_ad_train, y_ad_train)\n",
    "\n",
    "y_ad_pred_gnb = mnb_model.predict(x_ad_test)"
   ]
  },
  {
   "cell_type": "code",
   "execution_count": null,
   "metadata": {
    "hidden": true
   },
   "outputs": [],
   "source": [
    "# Metrics\n",
    "\n",
    "score_ad_gnb_acc = metrics.accuracy_score(y_ad_test, y_ad_pred_gnb)\n",
    "print(\"Accuracy score: {}\".format(score_ad_gnb_acc))\n",
    "\n",
    "score_ad_gnb_precision = metrics.precision_score(y_ad_test, y_ad_pred_gnb, average= \"weighted\")\n",
    "print(\"Precision score: {}\".format(score_ad_gnb_precision))\n",
    "\n",
    "score_ad_gnb_recall = metrics.recall_score(y_ad_test, y_ad_pred_gnb, average= \"weighted\")\n",
    "print(\"Recall score: {}\".format(score_ad_gnb_recall))\n",
    "\n",
    "score_ad_gnb_f1 = metrics.f1_score(y_ad_test, y_ad_pred_gnb, average= \"weighted\")\n",
    "print(\"F1 score: {}\".format(score_ad_gnb_f1))"
   ]
  },
  {
   "cell_type": "markdown",
   "metadata": {},
   "source": [
    "# Feature Importance Analysis"
   ]
  },
  {
   "cell_type": "code",
   "execution_count": 96,
   "metadata": {},
   "outputs": [],
   "source": [
    "#Read network_intrusion_data.csv file and load data into network_df dataframe \n",
    "network_ad_df= pd.read_csv('network_intrusion_data.csv')"
   ]
  },
  {
   "cell_type": "code",
   "execution_count": 97,
   "metadata": {},
   "outputs": [],
   "source": [
    "#Drop any row with missing values\n",
    "network_ad_df = network_ad_df.dropna()"
   ]
  },
  {
   "cell_type": "code",
   "execution_count": 98,
   "metadata": {},
   "outputs": [],
   "source": [
    "#Add column headers to the data in the dataframe\n",
    "network_ad_df.columns = [\n",
    "'duration',\n",
    "'protocol_type',\n",
    "'service',\n",
    "'flag',\n",
    "'src_bytes',\n",
    "'dst_bytes',\n",
    "'land',\n",
    "'wrong_fragment',\n",
    "'urgent',\n",
    "'hot',\n",
    "'num_failed_logins',\n",
    "'logged_in',\n",
    "'num_compromised',\n",
    "'root_shell',\n",
    "'su_attempted',\n",
    "'num_root',\n",
    "'num_file_creations',\n",
    "'num_shells',\n",
    "'num_access_files',\n",
    "'num_outbound_cmds',\n",
    "'is_host_login',\n",
    "'is_guest_login',\n",
    "'count',\n",
    "'srv_count',\n",
    "'serror_rate',\n",
    "'srv_serror_rate',\n",
    "'rerror_rate',\n",
    "'srv_rerror_rate',\n",
    "'same_srv_rate',\n",
    "'diff_srv_rate',\n",
    "'srv_diff_host_rate',\n",
    "'dst_host_count',\n",
    "'dst_host_srv_count',\n",
    "'dst_host_same_srv_rate',\n",
    "'dst_host_diff_srv_rate',\n",
    "'dst_host_same_src_port_rate',\n",
    "'dst_host_srv_diff_host_rate',\n",
    "'dst_host_serror_rate',\n",
    "'dst_host_srv_serror_rate',\n",
    "'dst_host_rerror_rate',\n",
    "'dst_host_srv_rerror_rate',\n",
    "'outcome'\n",
    "]"
   ]
  },
  {
   "cell_type": "code",
   "execution_count": 99,
   "metadata": {},
   "outputs": [],
   "source": [
    "#Select input columns\n",
    "features_ad_df = network_ad_df[['duration',\n",
    "'protocol_type',\n",
    "'service',\n",
    "'flag',\n",
    "'src_bytes',\n",
    "'dst_bytes',\n",
    "'land',\n",
    "'wrong_fragment',\n",
    "'urgent',\n",
    "                          \n",
    "'hot',\n",
    "'num_failed_logins',\n",
    "'logged_in',\n",
    "'num_compromised',\n",
    "'root_shell',\n",
    "'su_attempted',\n",
    "'num_root',\n",
    "'num_file_creations',\n",
    "'num_shells',\n",
    "'num_access_files',\n",
    "'num_outbound_cmds',\n",
    "'is_host_login',\n",
    "'is_guest_login',\n",
    "                          \n",
    "'count',\n",
    "'srv_count',\n",
    "'serror_rate',\n",
    "'srv_serror_rate',\n",
    "'rerror_rate',\n",
    "'srv_rerror_rate',\n",
    "'same_srv_rate',\n",
    "'diff_srv_rate',\n",
    "'srv_diff_host_rate',\n",
    "'dst_host_count',\n",
    "'dst_host_srv_count',\n",
    "'dst_host_same_srv_rate',\n",
    "'dst_host_diff_srv_rate',\n",
    "'dst_host_same_src_port_rate',\n",
    "'dst_host_srv_diff_host_rate',\n",
    "'dst_host_serror_rate',\n",
    "'dst_host_srv_serror_rate',\n",
    "'dst_host_rerror_rate',\n",
    "'dst_host_srv_rerror_rate']]"
   ]
  },
  {
   "cell_type": "code",
   "execution_count": 100,
   "metadata": {},
   "outputs": [],
   "source": [
    "label_ad_df = network_ad_df[['outcome']]"
   ]
  },
  {
   "cell_type": "code",
   "execution_count": 101,
   "metadata": {},
   "outputs": [
    {
     "name": "stderr",
     "output_type": "stream",
     "text": [
      "/anaconda3/lib/python3.6/site-packages/ipykernel_launcher.py:5: SettingWithCopyWarning: \n",
      "A value is trying to be set on a copy of a slice from a DataFrame.\n",
      "Try using .loc[row_indexer,col_indexer] = value instead\n",
      "\n",
      "See the caveats in the documentation: http://pandas.pydata.org/pandas-docs/stable/indexing.html#indexing-view-versus-copy\n",
      "  \"\"\"\n",
      "/anaconda3/lib/python3.6/site-packages/ipykernel_launcher.py:7: SettingWithCopyWarning: \n",
      "A value is trying to be set on a copy of a slice from a DataFrame.\n",
      "Try using .loc[row_indexer,col_indexer] = value instead\n",
      "\n",
      "See the caveats in the documentation: http://pandas.pydata.org/pandas-docs/stable/indexing.html#indexing-view-versus-copy\n",
      "  import sys\n"
     ]
    }
   ],
   "source": [
    "#Normalize numeric features\n",
    "\n",
    "def normalize_numeric_minmax(df, name):\n",
    "    if(df[name].max() > 0):\n",
    "        df[name] = ((df[name] - df[name].min()) / (df[name].max() - df[name].min())).astype(np.float32)\n",
    "    else:\n",
    "        df[name] = df[name].astype(np.float32)\n",
    "    \n",
    "normalize_numeric_minmax(features_ad_df,\"duration\") \n",
    "normalize_numeric_minmax(features_ad_df,\"src_bytes\") \n",
    "normalize_numeric_minmax(features_ad_df,\"dst_bytes\") \n",
    "normalize_numeric_minmax(features_ad_df,\"wrong_fragment\") \n",
    "normalize_numeric_minmax(features_ad_df,\"urgent\") \n",
    "\n",
    "normalize_numeric_minmax(features_ad_df,\"hot\") \n",
    "normalize_numeric_minmax(features_ad_df,\"num_failed_logins\") \n",
    "normalize_numeric_minmax(features_ad_df,\"num_compromised\") \n",
    "normalize_numeric_minmax(features_ad_df,\"num_root\") \n",
    "normalize_numeric_minmax(features_ad_df,\"num_file_creations\") \n",
    "normalize_numeric_minmax(features_ad_df,\"num_shells\") \n",
    "normalize_numeric_minmax(features_ad_df,\"num_access_files\") \n",
    "normalize_numeric_minmax(features_ad_df,\"num_outbound_cmds\") \n",
    "\n",
    "normalize_numeric_minmax(features_ad_df,\"count\") \n",
    "normalize_numeric_minmax(features_ad_df,\"srv_count\") \n",
    "normalize_numeric_minmax(features_ad_df,\"serror_rate\") \n",
    "normalize_numeric_minmax(features_ad_df,\"srv_serror_rate\") \n",
    "normalize_numeric_minmax(features_ad_df,\"rerror_rate\") \n",
    "normalize_numeric_minmax(features_ad_df,\"srv_rerror_rate\") \n",
    "normalize_numeric_minmax(features_ad_df,\"same_srv_rate\") \n",
    "normalize_numeric_minmax(features_ad_df,\"diff_srv_rate\") \n",
    "normalize_numeric_minmax(features_ad_df,\"srv_diff_host_rate\") \n",
    "normalize_numeric_minmax(features_ad_df,\"dst_host_count\") \n",
    "normalize_numeric_minmax(features_ad_df,\"dst_host_srv_count\") \n",
    "normalize_numeric_minmax(features_ad_df,\"dst_host_same_srv_rate\") \n",
    "normalize_numeric_minmax(features_ad_df,\"dst_host_diff_srv_rate\") \n",
    "normalize_numeric_minmax(features_ad_df,\"dst_host_same_src_port_rate\") \n",
    "normalize_numeric_minmax(features_ad_df,\"dst_host_srv_diff_host_rate\") \n",
    "normalize_numeric_minmax(features_ad_df,\"dst_host_serror_rate\") \n",
    "normalize_numeric_minmax(features_ad_df,\"dst_host_srv_serror_rate\") \n",
    "normalize_numeric_minmax(features_ad_df,\"dst_host_rerror_rate\") \n",
    "normalize_numeric_minmax(features_ad_df,\"dst_host_srv_rerror_rate\") \n",
    "\n"
   ]
  },
  {
   "cell_type": "code",
   "execution_count": 102,
   "metadata": {},
   "outputs": [],
   "source": [
    "# one-hot cooding of categorical columns\n",
    "\n",
    "def encode_text_dummy(df, name):\n",
    "    dummies = pd.get_dummies(df[name]).astype(np.float32)\n",
    "    for x in dummies.columns:\n",
    "        dummy_name = \"{}-{}\".format(name, x)\n",
    "        df[dummy_name] = dummies[x]\n",
    "    df.drop(name, axis=1, inplace=True)\n",
    "\n",
    "encode_text_dummy(features_ad_df,\"protocol_type\") \n",
    "encode_text_dummy(features_ad_df,\"service\") \n",
    "encode_text_dummy(features_ad_df,\"flag\") \n",
    "encode_text_dummy(features_ad_df,\"land\") \n",
    "\n",
    "encode_text_dummy(features_ad_df,\"logged_in\") \n",
    "encode_text_dummy(features_ad_df,\"root_shell\") \n",
    "encode_text_dummy(features_ad_df,\"su_attempted\") \n",
    "encode_text_dummy(features_ad_df,\"is_host_login\") \n",
    "encode_text_dummy(features_ad_df,\"is_guest_login\") "
   ]
  },
  {
   "cell_type": "code",
   "execution_count": 103,
   "metadata": {},
   "outputs": [],
   "source": [
    "#Reduce the dataset size\n",
    "features_ad_df = features_ad_df[0:40000]\n",
    "label_ad_df = label_ad_df[0:40000]"
   ]
  },
  {
   "cell_type": "code",
   "execution_count": 104,
   "metadata": {},
   "outputs": [],
   "source": [
    "# create a function called encodeLabelBinarizer\n",
    "\n",
    "encodeLabelBinary = lambda x: 0 if x == 'normal.' else 1\n"
   ]
  },
  {
   "cell_type": "code",
   "execution_count": 105,
   "metadata": {},
   "outputs": [],
   "source": [
    "label_ad_df['outcome'] = label_ad_df['outcome'].apply(encodeLabelBinary)"
   ]
  },
  {
   "cell_type": "code",
   "execution_count": 106,
   "metadata": {},
   "outputs": [
    {
     "data": {
      "text/plain": [
       "<bound method NDFrame.head of        outcome\n",
       "0            0\n",
       "1            0\n",
       "2            0\n",
       "3            0\n",
       "4            0\n",
       "5            0\n",
       "6            0\n",
       "7            0\n",
       "8            0\n",
       "9            0\n",
       "10           0\n",
       "11           0\n",
       "12           0\n",
       "13           0\n",
       "14           0\n",
       "15           0\n",
       "16           0\n",
       "17           0\n",
       "18           0\n",
       "19           0\n",
       "20           0\n",
       "21           0\n",
       "22           0\n",
       "23           0\n",
       "24           0\n",
       "25           0\n",
       "26           0\n",
       "27           0\n",
       "28           0\n",
       "29           0\n",
       "...        ...\n",
       "39970        1\n",
       "39971        1\n",
       "39972        1\n",
       "39973        1\n",
       "39974        1\n",
       "39975        1\n",
       "39976        1\n",
       "39977        1\n",
       "39978        1\n",
       "39979        1\n",
       "39980        1\n",
       "39981        1\n",
       "39982        1\n",
       "39983        1\n",
       "39984        1\n",
       "39985        1\n",
       "39986        1\n",
       "39987        1\n",
       "39988        1\n",
       "39989        1\n",
       "39990        1\n",
       "39991        1\n",
       "39992        1\n",
       "39993        1\n",
       "39994        1\n",
       "39995        1\n",
       "39996        1\n",
       "39997        1\n",
       "39998        1\n",
       "39999        1\n",
       "\n",
       "[40000 rows x 1 columns]>"
      ]
     },
     "execution_count": 106,
     "metadata": {},
     "output_type": "execute_result"
    }
   ],
   "source": [
    "label_ad_df.head"
   ]
  },
  {
   "cell_type": "code",
   "execution_count": 107,
   "metadata": {},
   "outputs": [
    {
     "name": "stdout",
     "output_type": "stream",
     "text": [
      "[1.36660239e-04 4.40802091e-02 2.53000699e-03 9.17174013e-03\n",
      " 2.44257720e-05 1.14005882e-02 1.35966720e-03 1.94034989e-02\n",
      " 1.67870289e-04 7.53586884e-05 1.16707140e-04 5.58583575e-05\n",
      " 0.00000000e+00 7.89496802e-03 1.10039018e-01 5.25608351e-05\n",
      " 4.16993681e-06 6.42254462e-03 1.09493497e-02 2.13293593e-04\n",
      " 1.57666276e-04 3.31947741e-04 2.33379662e-03 6.68623764e-03\n",
      " 1.37079898e-03 6.10653738e-03 1.33700781e-01 1.40231594e-03\n",
      " 3.68037571e-04 3.30974130e-04 3.74150198e-03 1.08032948e-02\n",
      " 1.64028955e-01 1.27652812e-01 1.56604642e-02 0.00000000e+00\n",
      " 0.00000000e+00 0.00000000e+00 1.26275947e-07 0.00000000e+00\n",
      " 0.00000000e+00 0.00000000e+00 0.00000000e+00 0.00000000e+00\n",
      " 0.00000000e+00 5.90421629e-05 2.17560006e-03 0.00000000e+00\n",
      " 8.59193076e-07 2.65550557e-01 0.00000000e+00 0.00000000e+00\n",
      " 1.05132966e-04 3.18910897e-05 1.89153319e-03 1.55058168e-04\n",
      " 0.00000000e+00 2.55904927e-03 0.00000000e+00 0.00000000e+00\n",
      " 0.00000000e+00 0.00000000e+00 0.00000000e+00 0.00000000e+00\n",
      " 0.00000000e+00 3.00872124e-05 0.00000000e+00 0.00000000e+00\n",
      " 0.00000000e+00 0.00000000e+00 0.00000000e+00 0.00000000e+00\n",
      " 0.00000000e+00 0.00000000e+00 2.14536019e-03 3.50558445e-04\n",
      " 0.00000000e+00 0.00000000e+00 1.74966905e-05 0.00000000e+00\n",
      " 1.37058665e-02 0.00000000e+00 9.54364938e-07 1.06070682e-04\n",
      " 0.00000000e+00 1.67707261e-04 0.00000000e+00 0.00000000e+00\n",
      " 0.00000000e+00 0.00000000e+00 0.00000000e+00 4.13088384e-04\n",
      " 0.00000000e+00 0.00000000e+00 1.45872788e-04 0.00000000e+00\n",
      " 0.00000000e+00 0.00000000e+00 0.00000000e+00 0.00000000e+00\n",
      " 1.54046949e-05 0.00000000e+00 1.19244013e-03 3.85757162e-03\n",
      " 2.57945624e-05 1.04691923e-03 1.32125176e-04 1.06683826e-05\n",
      " 0.00000000e+00 1.25555757e-04 3.07091604e-03 0.00000000e+00\n",
      " 2.58008401e-05 5.19649429e-05 1.33232655e-03 4.03636925e-04\n",
      " 9.93882299e-05 1.59382249e-04 0.00000000e+00 0.00000000e+00\n",
      " 0.00000000e+00 0.00000000e+00 3.74461923e-06 5.98313783e-05]\n"
     ]
    }
   ],
   "source": [
    "# Feature Importance\n",
    "from sklearn import datasets\n",
    "from sklearn import metrics\n",
    "from sklearn.ensemble import ExtraTreesClassifier\n",
    "\n",
    "extraTreeClassifier = ExtraTreesClassifier()\n",
    "extraTreeClassifier.fit(features_ad_df, label_ad_df['outcome'])\n",
    "\n",
    "# display the relative importance of each attribute\n",
    "\n",
    "print(extraTreeClassifier.feature_importances_)"
   ]
  },
  {
   "cell_type": "code",
   "execution_count": 108,
   "metadata": {},
   "outputs": [
    {
     "data": {
      "image/png": "[encoded data removed]",
      "text/plain": [
       "<Figure size 1152x432 with 1 Axes>"
      ]
     },
     "metadata": {},
     "output_type": "display_data"
    }
   ],
   "source": [
    "feature_importance = extraTreeClassifier.feature_importances_\n",
    "plt.figure(figsize=(16, 6))\n",
    "plt.yscale('log', nonposy='clip')\n",
    "plt.bar(range(len(feature_importance)), feature_importance, align='center')\n",
    "plt.xticks(range(len(feature_importance)), features_ad_df, rotation='vertical')\n",
    "plt.title('Feature importance')\n",
    "plt.ylabel('Importance')\n",
    "plt.xlabel('Features')\n",
    "plt.show()"
   ]
  },
  {
   "cell_type": "code",
   "execution_count": 109,
   "metadata": {},
   "outputs": [],
   "source": [
    "##Choose only relevant features\n",
    "\n",
    "from sklearn.feature_selection import SelectFromModel\n",
    "model = SelectFromModel(extraTreeClassifier, prefit=True)\n",
    "X_new = model.transform(features_ad_df)\n",
    "feature_idx = model.get_support()\n",
    "feature_name = features_ad_df.columns[feature_idx]"
   ]
  },
  {
   "cell_type": "code",
   "execution_count": 110,
   "metadata": {},
   "outputs": [
    {
     "data": {
      "text/plain": [
       "Index(['src_bytes', 'wrong_fragment', 'hot', 'num_compromised', 'srv_count',\n",
       "       'srv_rerror_rate', 'dst_host_same_src_port_rate',\n",
       "       'dst_host_srv_rerror_rate', 'protocol_type-icmp', 'protocol_type-tcp',\n",
       "       'protocol_type-udp', 'service-ecr_i', 'service-private'],\n",
       "      dtype='object')"
      ]
     },
     "execution_count": 110,
     "metadata": {},
     "output_type": "execute_result"
    }
   ],
   "source": [
    "feature_name"
   ]
  },
  {
   "cell_type": "code",
   "execution_count": 111,
   "metadata": {},
   "outputs": [
    {
     "data": {
      "text/plain": [
       "(40000, 13)"
      ]
     },
     "execution_count": 111,
     "metadata": {},
     "output_type": "execute_result"
    }
   ],
   "source": [
    "X_new.shape"
   ]
  },
  {
   "cell_type": "code",
   "execution_count": 112,
   "metadata": {},
   "outputs": [],
   "source": [
    "x_adf_train, x_adf_test, y_adf_train, y_adf_test = train_test_split(X_new, label_ad_df['outcome'] , test_size=0.2, random_state=42)"
   ]
  },
  {
   "cell_type": "code",
   "execution_count": 113,
   "metadata": {},
   "outputs": [
    {
     "data": {
      "text/plain": [
       "(8000,)"
      ]
     },
     "execution_count": 113,
     "metadata": {},
     "output_type": "execute_result"
    }
   ],
   "source": [
    "y_adf_test.shape"
   ]
  },
  {
   "cell_type": "markdown",
   "metadata": {},
   "source": [
    "**Logistic Regression**"
   ]
  },
  {
   "cell_type": "code",
   "execution_count": 63,
   "metadata": {},
   "outputs": [],
   "source": [
    "# Logistic regression\n",
    "from sklearn.linear_model import LogisticRegression\n",
    "\n",
    "Log_reg_model = LogisticRegression()\n",
    "\n",
    "Log_reg_model.fit(x_adf_train, y_adf_train)\n",
    "\n",
    "y_adf_pred_logistic = Log_reg_model.predict(x_adf_test)"
   ]
  },
  {
   "cell_type": "code",
   "execution_count": 67,
   "metadata": {},
   "outputs": [
    {
     "name": "stdout",
     "output_type": "stream",
     "text": [
      "Accuracy: 0.99\n"
     ]
    }
   ],
   "source": [
    "\n",
    "print('Accuracy: %.2f' % accuracy_score(y_adf_test, y_adf_pred_logistic))"
   ]
  },
  {
   "cell_type": "markdown",
   "metadata": {},
   "source": [
    "** KNN ** "
   ]
  },
  {
   "cell_type": "code",
   "execution_count": null,
   "metadata": {},
   "outputs": [],
   "source": [
    "#implementing Nearest Neighbor\n",
    "\n",
    "from sklearn.neighbors import KNeighborsClassifier\n",
    "\n",
    "knn = KNeighborsClassifier(n_neighbors=2)\n",
    "\n",
    "knn.fit(x_adf_train, y_adf_train) \n",
    "\n",
    "y_adf_pred_knn = knn.predict(x_adf_test)"
   ]
  },
  {
   "cell_type": "code",
   "execution_count": null,
   "metadata": {},
   "outputs": [],
   "source": [
    "# Metrics\n",
    "from sklearn import metrics\n",
    "\n",
    "score_adf_knn_acc = metrics.accuracy_score(y_adf_test, y_adf_pred_knn)\n",
    "print(\"Accuracy score: {}\".format(score_adf_knn_acc))\n",
    "\n",
    "score_adf_knn_precision = metrics.precision_score(y_adf_test, y_adf_pred_knn, average= \"weighted\")\n",
    "print(\"Precision score: {}\".format(score_ad_knn_precision))\n",
    "\n",
    "score_adf_knn_recall = metrics.recall_score(y_adf_test, y_adf_pred_knn, average= \"weighted\")\n",
    "print(\"Recall score: {}\".format(score_ad_knn_recall))\n",
    "\n",
    "score_adf_knn_f1 = metrics.f1_score(y_adf_test, y_adf_pred_knn, average= \"weighted\")\n",
    "print(\"F1 score: {}\".format(score_adf_knn_f1))"
   ]
  },
  {
   "cell_type": "markdown",
   "metadata": {},
   "source": [
    "** SVM ** "
   ]
  },
  {
   "cell_type": "code",
   "execution_count": null,
   "metadata": {},
   "outputs": [],
   "source": [
    "# SVM\n",
    "from sklearn.svm import SVC\n",
    "\n",
    "svm_model = SVC(kernel=\"linear\")\n",
    "\n",
    "svm_model.fit(x_adf_train, y_adf_train)\n",
    "\n",
    "y_adf_pred_svm = svm_model.predict(x_adf_test)"
   ]
  },
  {
   "cell_type": "code",
   "execution_count": null,
   "metadata": {},
   "outputs": [],
   "source": [
    "# Metrics\n",
    "\n",
    "score_adf_svm_acc = metrics.accuracy_score(y_adf_test, y_adf_pred_svm)\n",
    "print(\"Accuracy score: {}\".format(score_adf_svm_acc))\n",
    "\n",
    "score_adf_svm_precision = metrics.precision_score(y_adf_test, y_adf_pred_svm, average= \"weighted\")\n",
    "print(\"Precision score: {}\".format(score_adf_svm_precision))\n",
    "\n",
    "score_adf_svm_recall = metrics.recall_score(y_adf_test, y_adf_pred_svm, average= \"weighted\")\n",
    "print(\"Recall score: {}\".format(score_ad_svm_recall))\n",
    "\n",
    "score_adf_svm_f1 = metrics.f1_score(y_adf_test, y_adf_pred_svm, average= \"weighted\")\n",
    "print(\"F1 score: {}\".format(score_ad_svm_f1))"
   ]
  },
  {
   "cell_type": "markdown",
   "metadata": {},
   "source": [
    "** Gaussian Naive Bayes **"
   ]
  },
  {
   "cell_type": "code",
   "execution_count": null,
   "metadata": {},
   "outputs": [],
   "source": [
    "#GNB\n",
    "from sklearn.naive_bayes import GaussianNB\n",
    "mnb_model = GaussianNB()\n",
    "\n",
    "mnb_model.fit(x_adf_train, y_adf_train)\n",
    "\n",
    "y_adf_pred_gnb = mnb_model.predict(x_adf_test)"
   ]
  },
  {
   "cell_type": "code",
   "execution_count": null,
   "metadata": {},
   "outputs": [],
   "source": [
    "# Metrics\n",
    "\n",
    "score_adf_gnb_acc = metrics.accuracy_score(y_adf_test, y_adf_pred_gnb)\n",
    "print(\"Accuracy score: {}\".format(score_ad_gnb_acc))\n",
    "\n",
    "score_adf_gnb_precision = metrics.precision_score(y_adf_test, y_adf_pred_gnb, average= \"weighted\")\n",
    "print(\"Precision score: {}\".format(score_ad_gnb_precision))\n",
    "\n",
    "score_adf_gnb_recall = metrics.recall_score(y_adf_test, y_adf_pred_gnb, average= \"weighted\")\n",
    "print(\"Recall score: {}\".format(score_ad_gnb_recall))\n",
    "\n",
    "score_adf_gnb_f1 = metrics.f1_score(y_adf_test, y_adf_pred_gnb, average= \"weighted\")\n",
    "print(\"F1 score: {}\".format(score_ad_gnb_f1))"
   ]
  },
  {
   "cell_type": "markdown",
   "metadata": {},
   "source": [
    "** CNN **"
   ]
  },
  {
   "cell_type": "code",
   "execution_count": 89,
   "metadata": {},
   "outputs": [
    {
     "data": {
      "text/plain": [
       "<bound method NDFrame.head of        outcome-0  outcome-1\n",
       "0            1.0        0.0\n",
       "1            1.0        0.0\n",
       "2            1.0        0.0\n",
       "3            1.0        0.0\n",
       "4            1.0        0.0\n",
       "5            1.0        0.0\n",
       "6            1.0        0.0\n",
       "7            1.0        0.0\n",
       "8            1.0        0.0\n",
       "9            1.0        0.0\n",
       "10           1.0        0.0\n",
       "11           1.0        0.0\n",
       "12           1.0        0.0\n",
       "13           1.0        0.0\n",
       "14           1.0        0.0\n",
       "15           1.0        0.0\n",
       "16           1.0        0.0\n",
       "17           1.0        0.0\n",
       "18           1.0        0.0\n",
       "19           1.0        0.0\n",
       "20           1.0        0.0\n",
       "21           1.0        0.0\n",
       "22           1.0        0.0\n",
       "23           1.0        0.0\n",
       "24           1.0        0.0\n",
       "25           1.0        0.0\n",
       "26           1.0        0.0\n",
       "27           1.0        0.0\n",
       "28           1.0        0.0\n",
       "29           1.0        0.0\n",
       "...          ...        ...\n",
       "39970        0.0        1.0\n",
       "39971        0.0        1.0\n",
       "39972        0.0        1.0\n",
       "39973        0.0        1.0\n",
       "39974        0.0        1.0\n",
       "39975        0.0        1.0\n",
       "39976        0.0        1.0\n",
       "39977        0.0        1.0\n",
       "39978        0.0        1.0\n",
       "39979        0.0        1.0\n",
       "39980        0.0        1.0\n",
       "39981        0.0        1.0\n",
       "39982        0.0        1.0\n",
       "39983        0.0        1.0\n",
       "39984        0.0        1.0\n",
       "39985        0.0        1.0\n",
       "39986        0.0        1.0\n",
       "39987        0.0        1.0\n",
       "39988        0.0        1.0\n",
       "39989        0.0        1.0\n",
       "39990        0.0        1.0\n",
       "39991        0.0        1.0\n",
       "39992        0.0        1.0\n",
       "39993        0.0        1.0\n",
       "39994        0.0        1.0\n",
       "39995        0.0        1.0\n",
       "39996        0.0        1.0\n",
       "39997        0.0        1.0\n",
       "39998        0.0        1.0\n",
       "39999        0.0        1.0\n",
       "\n",
       "[40000 rows x 2 columns]>"
      ]
     },
     "execution_count": 89,
     "metadata": {},
     "output_type": "execute_result"
    }
   ],
   "source": []
  },
  {
   "cell_type": "code",
   "execution_count": 143,
   "metadata": {},
   "outputs": [],
   "source": [
    "x_adf_train1, x_adf_test1, y_adf_train1, y_adf_test1 = train_test_split(X_new, pd.get_dummies(label_ad_df['outcome']).values.astype(np.float32) , test_size=0.2, random_state=42)\n",
    "\n"
   ]
  },
  {
   "cell_type": "code",
   "execution_count": 144,
   "metadata": {},
   "outputs": [
    {
     "data": {
      "text/plain": [
       "(32000, 13)"
      ]
     },
     "execution_count": 144,
     "metadata": {},
     "output_type": "execute_result"
    }
   ],
   "source": [
    "x_adf_train1.shape"
   ]
  },
  {
   "cell_type": "code",
   "execution_count": 145,
   "metadata": {},
   "outputs": [],
   "source": [
    "x_adf_train1 = x_adf_train1.reshape(x_adf_train1.shape[0], 1, 13, 1)\n",
    "x_adf_test1 = x_adf_test1.reshape(x_adf_test1.shape[0], 1, 13, 1)"
   ]
  },
  {
   "cell_type": "code",
   "execution_count": 146,
   "metadata": {
    "scrolled": true
   },
   "outputs": [
    {
     "data": {
      "text/plain": [
       "(32000, 1, 13, 1)"
      ]
     },
     "execution_count": 146,
     "metadata": {},
     "output_type": "execute_result"
    }
   ],
   "source": [
    "x_adf_train1.shape"
   ]
  },
  {
   "cell_type": "code",
   "execution_count": 147,
   "metadata": {},
   "outputs": [
    {
     "data": {
      "text/plain": [
       "(8000, 2)"
      ]
     },
     "execution_count": 147,
     "metadata": {},
     "output_type": "execute_result"
    }
   ],
   "source": [
    "y_adf_test1.shape"
   ]
  },
  {
   "cell_type": "code",
   "execution_count": 148,
   "metadata": {},
   "outputs": [],
   "source": [
    "cnn = Sequential()\n",
    "\n",
    "# Conv2D layer 1\n",
    "cnn.add(Conv2D(41, kernel_size=(1, 3), strides=(1, 1), padding='valid',\n",
    "                 activation='relu',\n",
    "                 input_shape=(1,13,1)))\n",
    "cnn.add(Conv2D(64, (1, 3), activation='relu'))\n",
    "\n",
    "cnn.add(MaxPooling2D(pool_size=(1, 2), strides=None))\n",
    "\n",
    "cnn.add(Dropout(0.25))\n",
    "\n",
    "cnn.add(Flatten())\n",
    "cnn.add(Dense(128, activation='relu'))\n",
    "\n",
    "cnn.add(Dropout(0.5))\n",
    "\n",
    "cnn.add(Dense(2, activation='softmax'))"
   ]
  },
  {
   "cell_type": "code",
   "execution_count": 149,
   "metadata": {},
   "outputs": [
    {
     "name": "stdout",
     "output_type": "stream",
     "text": [
      "_________________________________________________________________\n",
      "Layer (type)                 Output Shape              Param #   \n",
      "=================================================================\n",
      "conv2d_8 (Conv2D)            (None, 1, 11, 41)         164       \n",
      "_________________________________________________________________\n",
      "conv2d_9 (Conv2D)            (None, 1, 9, 64)          7936      \n",
      "_________________________________________________________________\n",
      "max_pooling2d_5 (MaxPooling2 (None, 1, 4, 64)          0         \n",
      "_________________________________________________________________\n",
      "dropout_8 (Dropout)          (None, 1, 4, 64)          0         \n",
      "_________________________________________________________________\n",
      "flatten_4 (Flatten)          (None, 256)               0         \n",
      "_________________________________________________________________\n",
      "dense_7 (Dense)              (None, 128)               32896     \n",
      "_________________________________________________________________\n",
      "dropout_9 (Dropout)          (None, 128)               0         \n",
      "_________________________________________________________________\n",
      "dense_8 (Dense)              (None, 2)                 258       \n",
      "=================================================================\n",
      "Total params: 41,254\n",
      "Trainable params: 41,254\n",
      "Non-trainable params: 0\n",
      "_________________________________________________________________\n"
     ]
    }
   ],
   "source": [
    "cnn.summary()"
   ]
  },
  {
   "cell_type": "code",
   "execution_count": 150,
   "metadata": {},
   "outputs": [],
   "source": [
    "cnn.compile(loss='categorical_crossentropy', optimizer='adam', metrics=['accuracy'])"
   ]
  },
  {
   "cell_type": "code",
   "execution_count": 151,
   "metadata": {},
   "outputs": [
    {
     "name": "stdout",
     "output_type": "stream",
     "text": [
      "Train on 32000 samples, validate on 8000 samples\n",
      "Epoch 1/10\n",
      " - 1s - loss: 0.0846 - acc: 0.9802 - val_loss: 0.0346 - val_acc: 0.9914\n",
      "Epoch 2/10\n",
      " - 1s - loss: 0.0311 - acc: 0.9909 - val_loss: 0.0131 - val_acc: 0.9948\n",
      "Epoch 3/10\n",
      " - 1s - loss: 0.0128 - acc: 0.9961 - val_loss: 0.0087 - val_acc: 0.9971\n",
      "Epoch 4/10\n",
      " - 1s - loss: 0.0102 - acc: 0.9970 - val_loss: 0.0082 - val_acc: 0.9972\n",
      "Epoch 5/10\n",
      " - 1s - loss: 0.0095 - acc: 0.9969 - val_loss: 0.0081 - val_acc: 0.9971\n",
      "Epoch 6/10\n",
      " - 1s - loss: 0.0080 - acc: 0.9977 - val_loss: 0.0078 - val_acc: 0.9969\n",
      "Epoch 7/10\n",
      " - 1s - loss: 0.0081 - acc: 0.9973 - val_loss: 0.0080 - val_acc: 0.9972\n",
      "Epoch 8/10\n",
      " - 1s - loss: 0.0074 - acc: 0.9978 - val_loss: 0.0081 - val_acc: 0.9978\n",
      "Epoch 9/10\n",
      " - 1s - loss: 0.0078 - acc: 0.9978 - val_loss: 0.0075 - val_acc: 0.9975\n",
      "Epoch 10/10\n",
      " - 1s - loss: 0.0072 - acc: 0.9978 - val_loss: 0.0075 - val_acc: 0.9974\n"
     ]
    },
    {
     "data": {
      "text/plain": [
       "<keras.callbacks.History at 0x1a20f872e8>"
      ]
     },
     "execution_count": 151,
     "metadata": {},
     "output_type": "execute_result"
    }
   ],
   "source": [
    "cnn.fit(x_adf_train1, y_adf_train1,     \n",
    "          batch_size=128,\n",
    "          epochs=10,\n",
    "          verbose=2,\n",
    "          validation_data=(x_adf_test1, y_adf_test1))"
   ]
  },
  {
   "cell_type": "code",
   "execution_count": 152,
   "metadata": {},
   "outputs": [
    {
     "data": {
      "text/plain": [
       "[0.007466521507449215, 0.997375]"
      ]
     },
     "execution_count": 152,
     "metadata": {},
     "output_type": "execute_result"
    }
   ],
   "source": [
    "# Evaluate Accuracy in Keras\n",
    "score = cnn.evaluate(x_adf_test1, y_adf_test1, verbose=0)\n",
    "score"
   ]
  },
  {
   "cell_type": "code",
   "execution_count": 153,
   "metadata": {},
   "outputs": [
    {
     "name": "stdout",
     "output_type": "stream",
     "text": [
      "Test loss: 0.007466521507449215\n",
      "Test accuracy: 0.997375\n"
     ]
    }
   ],
   "source": [
    "print('Test loss: {}'.format(score[0]))\n",
    "print('Test accuracy: {}'.format(score[1]))"
   ]
  },
  {
   "cell_type": "code",
   "execution_count": 154,
   "metadata": {},
   "outputs": [],
   "source": [
    "pred = cnn.predict(x_adf_test1)\n",
    "pred = np.argmax(pred,axis=1)"
   ]
  },
  {
   "cell_type": "code",
   "execution_count": 155,
   "metadata": {},
   "outputs": [
    {
     "data": {
      "text/plain": [
       "array([0, 0, 0, ..., 0, 0, 0])"
      ]
     },
     "execution_count": 155,
     "metadata": {},
     "output_type": "execute_result"
    }
   ],
   "source": [
    "pred"
   ]
  },
  {
   "cell_type": "code",
   "execution_count": 156,
   "metadata": {},
   "outputs": [
    {
     "data": {
      "text/plain": [
       "array([0, 0, 0, ..., 0, 0, 0])"
      ]
     },
     "execution_count": 156,
     "metadata": {},
     "output_type": "execute_result"
    }
   ],
   "source": [
    "y_true = np.argmax(y_adf_test1,axis=1)\n",
    "y_true"
   ]
  },
  {
   "cell_type": "code",
   "execution_count": 159,
   "metadata": {},
   "outputs": [
    {
     "name": "stdout",
     "output_type": "stream",
     "text": [
      "[[7174    9]\n",
      " [  12  805]]\n"
     ]
    }
   ],
   "source": [
    "cm_cnn = confusion_matrix(y_true, pred)\n",
    "print(cm_cnn)"
   ]
  },
  {
   "cell_type": "code",
   "execution_count": 161,
   "metadata": {},
   "outputs": [],
   "source": [
    "# Encode text values to indexes(i.e. [1],[2],[3] for red,green,blue).\n",
    "def encode_text_index(df, name):\n",
    "    le = preprocessing.LabelEncoder()\n",
    "    df[name] = le.fit_transform(df[name])\n",
    "    return le.classes_\n",
    "\n",
    "\n",
    "\n",
    "outcome = encode_text_index(label_ad_df,'outcome')"
   ]
  },
  {
   "cell_type": "code",
   "execution_count": 163,
   "metadata": {},
   "outputs": [
    {
     "name": "stdout",
     "output_type": "stream",
     "text": [
      "Plotting confusion matrix\n"
     ]
    },
    {
     "data": {
      "image/png": "[encoded data removed]",
      "text/plain": [
       "<Figure size 432x288 with 2 Axes>"
      ]
     },
     "metadata": {},
     "output_type": "display_data"
    }
   ],
   "source": [
    "# Plot a confusion matrix.\n",
    "# cm is the confusion matrix, names are the names of the classes.\n",
    "def plot_confusion_matrix(cm, names, title='Confusion matrix', cmap=plt.cm.Blues):\n",
    "    plt.imshow(cm, interpolation='nearest', cmap=cmap)\n",
    "    plt.title(title)\n",
    "    plt.colorbar()\n",
    "    tick_marks = np.arange(len(names))\n",
    "    plt.xticks(tick_marks, names, rotation=45)\n",
    "    plt.yticks(tick_marks, names)\n",
    "    plt.tight_layout()\n",
    "    plt.ylabel('True label')\n",
    "    plt.xlabel('Predicted label')\n",
    "\n",
    "\n",
    "\n",
    "print('Plotting confusion matrix')\n",
    "\n",
    "plt.figure()\n",
    "plot_confusion_matrix(cm_cnn, outcome)\n",
    "plt.show()"
   ]
  },
  {
   "cell_type": "code",
   "execution_count": 164,
   "metadata": {},
   "outputs": [
    {
     "name": "stdout",
     "output_type": "stream",
     "text": [
      "             precision    recall  f1-score   support\n",
      "\n",
      "          0       1.00      1.00      1.00      7183\n",
      "          1       0.99      0.99      0.99       817\n",
      "\n",
      "avg / total       1.00      1.00      1.00      8000\n",
      "\n"
     ]
    }
   ],
   "source": [
    "print(classification_report(y_true, pred))"
   ]
  },
  {
   "cell_type": "code",
   "execution_count": 167,
   "metadata": {},
   "outputs": [
    {
     "data": {
      "image/png": "[encoded data removed]",
      "text/plain": [
       "<Figure size 432x288 with 1 Axes>"
      ]
     },
     "metadata": {},
     "output_type": "display_data"
    }
   ],
   "source": [
    "# Plot an ROC. pred - the predictions, y - the expected output.\n",
    "def plot_roc(pred,y):\n",
    "    fpr, tpr, thresholds = roc_curve(y, pred)\n",
    "    roc_auc = auc(fpr, tpr)\n",
    "\n",
    "    plt.figure()\n",
    "    plt.plot(fpr, tpr, label='ROC curve (area = %0.2f)' % roc_auc)\n",
    "    plt.plot([0, 1], [0, 1], 'k--')\n",
    "    plt.xlim([0.0, 1.0])\n",
    "    plt.ylim([0.0, 1.05])\n",
    "    plt.xlabel('False Positive Rate')\n",
    "    plt.ylabel('True Positive Rate')\n",
    "    plt.title('Receiver Operating Characteristic (ROC)')\n",
    "    plt.legend(loc=\"lower right\")\n",
    "    plt.show()\n",
    "    \n",
    "    \n",
    "pred = cnn.predict(x_adf_test1)\n",
    "pred = pred[:,1]\n",
    "plot_roc(pred,y_true)"
   ]
  },
  {
   "cell_type": "code",
   "execution_count": null,
   "metadata": {},
   "outputs": [],
   "source": []
  }
 ],
 "metadata": {
  "kernelspec": {
   "display_name": "Python 3",
   "language": "python",
   "name": "python3"
  },
  "language_info": {
   "codemirror_mode": {
    "name": "ipython",
    "version": 3
   },
   "file_extension": ".py",
   "mimetype": "text/x-python",
   "name": "python",
   "nbconvert_exporter": "python",
   "pygments_lexer": "ipython3",
   "version": "3.6.5"
  }
 },
 "nbformat": 4,
 "nbformat_minor": 2
}
