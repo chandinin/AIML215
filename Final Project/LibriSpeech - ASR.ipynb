{
 "cells": [
  {
   "cell_type": "code",
   "execution_count": 1,
   "metadata": {
    "scrolled": true
   },
   "outputs": [
    {
     "name": "stdout",
     "output_type": "stream",
     "text": [
      "found and restoring...\n",
      "found and restoring...\n",
      "found and restoring...\n",
      "found and restoring...\n",
      "found and restoring...\n",
      "found and restoring...\n",
      "found and restoring...\n",
      "found and restoring...\n",
      "found and restoring...\n",
      "found and restoring...\n",
      "found and restoring...\n",
      "found and restoring...\n",
      "found and restoring...\n",
      "found and restoring...\n"
     ]
    },
    {
     "name": "stderr",
     "output_type": "stream",
     "text": [
      "/anaconda3/lib/python3.6/site-packages/h5py/__init__.py:36: FutureWarning: Conversion of the second argument of issubdtype from `float` to `np.floating` is deprecated. In future, it will be treated as `np.float64 == np.dtype(float).type`.\n",
      "  from ._conv import register_converters as _register_converters\n",
      "Using TensorFlow backend.\n",
      "/anaconda3/lib/python3.6/importlib/_bootstrap.py:219: RuntimeWarning: compiletime version 3.5 of module 'tensorflow.python.framework.fast_tensor_util' does not match runtime version 3.6\n",
      "  return f(*args, **kwds)\n"
     ]
    }
   ],
   "source": [
    "# Common, File Based, and Math Imports\n",
    "import pandas as pd\n",
    "import numpy as np\n",
    "np.fft.restore_all()\n",
    "import collections\n",
    "import os\n",
    "from os.path import isdir, join\n",
    "from pathlib import Path\n",
    "from subprocess import check_output\n",
    "import sys\n",
    "import math\n",
    "import pickle\n",
    "from glob import glob\n",
    "import random\n",
    "from random import sample\n",
    "import json\n",
    "from mpl_toolkits.axes_grid1 import make_axes_locatable\n",
    "from numpy.lib.stride_tricks import as_strided\n",
    "from tqdm import tqdm\n",
    "\n",
    "# Audio processing\n",
    "from scipy import signal\n",
    "from scipy.fftpack import dct\n",
    "import soundfile\n",
    "import json\n",
    "from python_speech_features import mfcc\n",
    "import scipy.io.wavfile as wav\n",
    "from scipy.fftpack import fft\n",
    "\n",
    "# Neural Network\n",
    "import keras\n",
    "from keras.utils.generic_utils import get_custom_objects\n",
    "from keras import backend as K\n",
    "from keras import regularizers, callbacks\n",
    "from keras.constraints import max_norm\n",
    "from keras.models import Model, Sequential, load_model\n",
    "from keras.layers import Input, Lambda, Dense, Dropout, Flatten, Embedding, merge, Activation, GRUCell, LSTMCell,SimpleRNNCell\n",
    "from keras.layers import Convolution2D, MaxPooling2D, Convolution1D, Conv1D, SimpleRNN, GRU, LSTM, CuDNNLSTM, CuDNNGRU, Conv2D\n",
    "from keras.layers.advanced_activations import LeakyReLU, PReLU, ThresholdedReLU, ELU\n",
    "from keras.layers import LeakyReLU, PReLU, ThresholdedReLU, ELU\n",
    "from keras.layers import BatchNormalization, TimeDistributed, Bidirectional\n",
    "from keras.layers import activations, Wrapper\n",
    "from keras.regularizers import l2\n",
    "from keras.optimizers import Adam, SGD, RMSprop, Adagrad, Adadelta, Adamax, Nadam\n",
    "from keras.callbacks import ModelCheckpoint \n",
    "from keras.utils import np_utils\n",
    "from keras import constraints, initializers, regularizers\n",
    "from keras.engine.topology import Layer\n",
    "import keras.losses\n",
    "from keras.backend.tensorflow_backend import set_session\n",
    "from keras.engine import InputSpec\n",
    "import tensorflow as tf \n",
    "from tensorflow.python.framework import graph_io\n",
    "from tensorflow.python.tools import freeze_graph\n",
    "from tensorflow.core.protobuf import saver_pb2\n",
    "from tensorflow.python.training import saver as saver_lib\n",
    "\n",
    "# Model metrics\n",
    "from sklearn.feature_extraction.text import CountVectorizer, TfidfVectorizer\n",
    "from sklearn.metrics.pairwise import cosine_similarity\n",
    "\n",
    "# Visualization\n",
    "import IPython.display as ipd\n",
    "from IPython.display import Markdown, display, Audio\n",
    "import matplotlib.pyplot as plt\n",
    "import seaborn as sns\n",
    "import plotly.offline as py\n",
    "import plotly.graph_objs as go\n",
    "import plotly.tools as tls"
   ]
  },
  {
   "cell_type": "markdown",
   "metadata": {},
   "source": [
    "# DATA PROCESSING FUNCTION"
   ]
  },
  {
   "cell_type": "code",
   "execution_count": 2,
   "metadata": {},
   "outputs": [
    {
     "name": "stdout",
     "output_type": "stream",
     "text": [
      "Train Set Duration Mean: 12.781847165282612\n",
      "Valid Set Duration Mean: 7.840140538290793\n",
      "Test Set Duration Mean: 8.214013597328261\n"
     ]
    }
   ],
   "source": [
    "train_corpus = pd.read_json('train_corpus.json', lines=True)\n",
    "valid_corpus = pd.read_json('valid_corpus.json', lines=True)\n",
    "test_corpus = pd.read_json('test_corpus.json', lines=True)\n",
    "train_duration_mean = train_corpus.duration.mean()\n",
    "valid_duration_mean = valid_corpus.duration.mean()\n",
    "test_duration_mean = test_corpus.duration.mean()\n",
    "print('Train Set Duration Mean:', train_duration_mean)\n",
    "print('Valid Set Duration Mean:', valid_duration_mean)\n",
    "print('Test Set Duration Mean:', test_duration_mean)"
   ]
  },
  {
   "cell_type": "code",
   "execution_count": 3,
   "metadata": {},
   "outputs": [
    {
     "name": "stdout",
     "output_type": "stream",
     "text": [
      "Train Set Duration Median: 14.025\n",
      "Valid Set Duration Median: 6.425\n",
      "Test Set Duration Median: 6.3575\n"
     ]
    }
   ],
   "source": [
    "train_duration_median = train_corpus.duration.median()\n",
    "valid_duration_median = valid_corpus.duration.median()\n",
    "test_duration_median = test_corpus.duration.median()\n",
    "print('Train Set Duration Median:', train_duration_median)\n",
    "print('Valid Set Duration Median:', valid_duration_median)\n",
    "print('Test Set Duration Median:', test_duration_median)"
   ]
  },
  {
   "cell_type": "code",
   "execution_count": 4,
   "metadata": {},
   "outputs": [],
   "source": [
    "def plot_raw_audio(sample_rate, samples):\n",
    "    # Plot the raw audio signal\n",
    "    time = np.arange(0, float(samples.shape[0]), 1) / sample_rate\n",
    "    fig = plt.figure(figsize=(12,5))\n",
    "    ax = fig.add_subplot(111)\n",
    "    ax.plot(time, samples, linewidth=1, alpha=0.7, color='#76b900')\n",
    "    plt.title('Raw Audio Signal')\n",
    "    plt.xlabel('Time')\n",
    "    plt.ylabel('Amplitude')\n",
    "    plt.show()\n",
    "    \n",
    "def plot_mfcc_feature(mfcc_feature):\n",
    "    # Plot a normalized MFCC feature\n",
    "    fig = plt.figure(figsize=(12,5))\n",
    "    ax = fig.add_subplot(111)\n",
    "    im = ax.imshow(mfcc_feature, cmap=plt.cm.viridis, aspect='auto')\n",
    "    plt.title('Normalized MFCC')\n",
    "    plt.ylabel('Time')\n",
    "    plt.xlabel('MFCC Coefficient')\n",
    "    divider = make_axes_locatable(ax)\n",
    "    cax = divider.append_axes(\"right\", size=\"5%\", pad=0.05)\n",
    "    plt.colorbar(im, cax=cax)\n",
    "    ax.set_xticks(np.arange(0, 13, 2), minor=False);\n",
    "    plt.show()"
   ]
  },
  {
   "cell_type": "code",
   "execution_count": 5,
   "metadata": {},
   "outputs": [],
   "source": [
    "# Mapping each character that could be spoken at each time step\n",
    "char_map_str = \"\"\"\n",
    "' 0\n",
    "<SPACE> 1\n",
    "a 2\n",
    "b 3\n",
    "c 4\n",
    "d 5\n",
    "e 6\n",
    "f 7\n",
    "g 8\n",
    "h 9\n",
    "i 10\n",
    "j 11\n",
    "k 12\n",
    "l 13\n",
    "m 14\n",
    "n 15\n",
    "o 16\n",
    "p 17\n",
    "q 18\n",
    "r 19\n",
    "s 20\n",
    "t 21\n",
    "u 22\n",
    "v 23\n",
    "w 24\n",
    "x 25\n",
    "y 26\n",
    "z 27\n",
    "\"\"\"\n",
    "# This leaves \"blank\" character mapped to number 28\n",
    "\n",
    "char_map = {}\n",
    "index_map = {}\n",
    "for line in char_map_str.strip().split('\\n'):\n",
    "    ch, index = line.split()\n",
    "    char_map[ch] = int(index)\n",
    "    index_map[int(index)+1] = ch\n",
    "index_map[2] = ' '\n",
    "\n",
    "# Function for converting text to an integer sequence\n",
    "def text_to_int_seq(text):\n",
    "    int_sequence = []\n",
    "    for c in text:\n",
    "        if c == ' ':\n",
    "            ch = char_map['<SPACE>']\n",
    "        else:\n",
    "            ch = char_map[c]\n",
    "        int_sequence.append(ch)\n",
    "    return int_sequence\n",
    "\n",
    "# Function for converting an integer sequence to text\n",
    "def int_seq_to_text(int_sequence):\n",
    "    text = []\n",
    "    for c in int_sequence:\n",
    "        ch = index_map[c]\n",
    "        text.append(ch)\n",
    "    return text\n",
    "        "
   ]
  },
  {
   "cell_type": "code",
   "execution_count": 6,
   "metadata": {},
   "outputs": [],
   "source": [
    "max_duration=10.0\n",
    "mfcc_dim=13\n",
    "minibatch_size=16\n",
    "rng= random.Random(95)\n",
    "feats_mean = np.zeros((13,))\n",
    "feats_std = np.ones((13,))\n",
    "cur_train_index = 0\n",
    "cur_valid_index=0\n",
    "cur_test_index =0"
   ]
  },
  {
   "cell_type": "code",
   "execution_count": 7,
   "metadata": {},
   "outputs": [],
   "source": [
    "def load_data_from_file(desc_file, partition):\n",
    "    # Get metadata from json corpus\n",
    "        audio_paths, durations, texts = [], [], []\n",
    "        with open(desc_file) as json_line_file:\n",
    "            for line_num, json_line in enumerate(json_line_file):\n",
    "                    spec = json.loads(json_line)\n",
    "                    if float(spec['duration']) > max_duration:\n",
    "                        continue\n",
    "                    audio_paths.append(spec['key'])\n",
    "                    durations.append(float(spec['duration']))\n",
    "                    texts.append(spec['text'])\n",
    "                \n",
    "        if partition == 'train':\n",
    "            train_audio_paths = audio_paths\n",
    "            train_durations = durations\n",
    "            train_texts = texts\n",
    "            return train_audio_paths,train_durations,train_texts\n",
    "        elif partition == 'validation':\n",
    "            valid_audio_paths = audio_paths\n",
    "            valid_durations = durations\n",
    "            valid_texts = texts\n",
    "            return valid_audio_paths,valid_durations,valid_texts\n",
    "        elif partition == 'test':\n",
    "            test_audio_paths = audio_paths\n",
    "            test_durations = durations\n",
    "            test_texts = texts\n",
    "            return test_audio_paths,test_durations,test_texts"
   ]
  },
  {
   "cell_type": "code",
   "execution_count": 8,
   "metadata": {},
   "outputs": [],
   "source": [
    "def featurize(audio_clip):\n",
    "    # Create features from data - mfcc\n",
    "        (rate, sig) = wav.read(audio_clip)\n",
    "        return mfcc(sig, rate, numcep = mfcc_dim)\n",
    "\n",
    "def normalize(feature, eps=1e-14):\n",
    "    # Scale the data to improve neural network performance and reduce the size of the gradients\n",
    "    return (feature - feats_mean) / (feats_std + eps)"
   ]
  },
  {
   "cell_type": "code",
   "execution_count": 9,
   "metadata": {},
   "outputs": [
    {
     "name": "stdout",
     "output_type": "stream",
     "text": [
      "[15.70873169 -6.56353668 -6.08320134  4.53778827 -9.10611142 -6.11329055\n",
      " -9.35815996 -4.17870807 -0.94557164 -2.1991181  -2.39670999 -3.86390968\n",
      " -2.76450215]\n",
      "[ 4.17292603 17.24005284 15.48734509 16.6599952  16.35737414 17.0542625\n",
      " 17.04751052 15.20767253 14.39424324 13.56772844 12.9005077  11.99311185\n",
      " 10.85321116]\n"
     ]
    }
   ],
   "source": [
    "def fit_train(k_samples=100):\n",
    "    # Estimate descriptive stats for training set based on sample of 100 instances\n",
    "    k_samples = min(k_samples, len(train_audio_paths))\n",
    "    samples = rng.sample(train_audio_paths, k_samples)\n",
    "    feats = [featurize(s) for s in samples]\n",
    "    feats = np.vstack(feats)\n",
    "    global feats_mean\n",
    "    global feats_std\n",
    "    feats_mean = np.mean(feats, axis=0)\n",
    "    print(feats_mean)\n",
    "    feats_std = np.std(feats, axis=0)\n",
    "    print(feats_std)\n",
    "    \n",
    "def load_train_data(desc_file='train_corpus.json'):\n",
    "    train_audio_paths,train_duration,train_texts = load_data_from_file(desc_file, 'train')\n",
    "    return train_audio_paths,train_duration,train_texts\n",
    "\n",
    "def load_validation_data(desc_file='valid_corpus.json'):\n",
    "    valid_audio_paths,valid_durations,valid_texts = load_data_from_file(desc_file, 'validation')\n",
    "    return valid_audio_paths,valid_durations,valid_texts\n",
    "\n",
    "def load_test_data(desc_file='test_corpus.json'):\n",
    "    test_audio_paths,test_durations,test_texts = load_data_from_file(desc_file, 'test')\n",
    "    return test_audio_paths,test_durations,test_texts\n",
    "\n",
    "train_audio_paths,train_duration,train_texts = load_train_data()\n",
    "valid_audio_paths,valid_durations,valid_texts = load_validation_data()\n",
    "test_audio_paths,test_durations,test_texts = load_test_data()\n",
    "\n",
    "fit_train()"
   ]
  },
  {
   "cell_type": "code",
   "execution_count": 10,
   "metadata": {},
   "outputs": [
    {
     "data": {
      "image/png": "[encoded data removed]",
      "text/plain": [
       "<Figure size 864x360 with 1 Axes>"
      ]
     },
     "metadata": {},
     "output_type": "display_data"
    },
    {
     "data": {
      "text/markdown": [
       "**Audio File Transcription** : she'd keep people off very well i think"
      ],
      "text/plain": [
       "<IPython.core.display.Markdown object>"
      ]
     },
     "metadata": {},
     "output_type": "display_data"
    },
    {
     "name": "stdout",
     "output_type": "stream",
     "text": [
      "[[ 8.43939539  3.29477285  5.94168371 ...  0.3002601   2.11430121\n",
      "   8.55897817]\n",
      " [ 7.79075849 11.72670345  5.22931234 ...  2.38007151  2.69360331\n",
      "   6.06955986]\n",
      " [ 8.13375684 12.78524324  7.10212295 ... -1.2226872   6.684121\n",
      "   8.19885821]\n",
      " ...\n",
      " [ 7.24061299 10.80692997  8.00980089 ... 13.38264928  1.56279715\n",
      "   1.12364386]\n",
      " [ 7.17779086 10.71739879  8.50266164 ... 12.91816245  1.45730168\n",
      "   2.72655448]\n",
      " [ 7.49584486 10.44133942  5.76460723 ... 13.49619806  8.50918883\n",
      "   1.60267167]]\n"
     ]
    },
    {
     "data": {
      "image/png": "[encoded data removed]",
      "text/plain": [
       "<Figure size 864x360 with 2 Axes>"
      ]
     },
     "metadata": {},
     "output_type": "display_data"
    },
    {
     "name": "stdout",
     "output_type": "stream",
     "text": [
      "[[-1.74202376  0.57182595  0.77643295 ...  0.20905922  0.49847037\n",
      "   1.04332996]\n",
      " [-1.89746311  1.06091555  0.73043595 ...  0.37027857  0.54677327\n",
      "   0.81395836]\n",
      " [-1.81526698  1.12231558  0.85136117 ...  0.09100594  0.87950741\n",
      "   1.010149  ]\n",
      " ...\n",
      " [-2.02929998  1.00756458  0.90996889 ...  1.22315801  0.4524853\n",
      "   0.35824844]\n",
      " [-2.04435467  1.00237138  0.94179234 ...  1.18715269  0.44368896\n",
      "   0.50593843]\n",
      " [-1.96813621  0.9863587   0.76499933 ...  1.23195989  1.03168374\n",
      "   0.40238541]]\n"
     ]
    },
    {
     "data": {
      "image/png": "[encoded data removed]",
      "text/plain": [
       "<Figure size 864x360 with 2 Axes>"
      ]
     },
     "metadata": {},
     "output_type": "display_data"
    }
   ],
   "source": [
    "mfcc_1 = featurize(train_audio_paths[0])\n",
    "sample_rate, samples = wav.read(train_audio_paths[0])\n",
    "plot_raw_audio(sample_rate, samples)\n",
    "display(Markdown('**Audio File Transcription** : ' + str(train_texts[0])))\n",
    "Audio(train_audio_paths[0])\n",
    "print(mfcc_1)\n",
    "plot_mfcc_feature(mfcc_1)\n",
    "mfcc_1_norm = normalize(mfcc_1)\n",
    "print(mfcc_1_norm)\n",
    "plot_mfcc_feature(mfcc_1_norm)"
   ]
  },
  {
   "cell_type": "code",
   "execution_count": 11,
   "metadata": {},
   "outputs": [],
   "source": [
    "def get_batch(partition):\n",
    "    # Obtain a batch of audio files\n",
    "        if partition == 'train':\n",
    "            audio_paths = train_audio_paths\n",
    "            cur_index = cur_train_index\n",
    "            texts = train_texts\n",
    "        elif partition == 'valid':\n",
    "            audio_paths = valid_audio_paths\n",
    "            cur_index = cur_valid_index\n",
    "            texts = valid_texts\n",
    "        elif partition == 'test':\n",
    "            audio_paths = test_audio_paths\n",
    "            cur_index = test_valid_index\n",
    "            texts = test_texts\n",
    "        \n",
    "        features = [normalize(featurize(a)) for a in \n",
    "            audio_paths[cur_index:cur_index+minibatch_size]]\n",
    "\n",
    "        # Calculate size\n",
    "        max_length = max([features[i].shape[0] \n",
    "            for i in range(0, minibatch_size)])\n",
    "        max_string_length = max([len(texts[cur_index+i]) \n",
    "            for i in range(0, minibatch_size)])\n",
    "        \n",
    "        # Initialize arrays\n",
    "        X_data = np.zeros([minibatch_size, max_length, mfcc_dim])\n",
    "        #print(X_data.shape)\n",
    "        labels = np.ones([minibatch_size, max_string_length]) * 28\n",
    "        input_length = np.zeros([minibatch_size, 1])\n",
    "        label_length = np.zeros([minibatch_size, 1])\n",
    "        \n",
    "        for i in range(0, minibatch_size):\n",
    "            # Calculate input_length\n",
    "            feat = features[i]\n",
    "            input_length[i] = feat.shape[0]\n",
    "            X_data[i, :feat.shape[0], :] = feat\n",
    "\n",
    "            # Calculate label_length\n",
    "            label = np.array(text_to_int_seq(texts[cur_index+i])) \n",
    "            labels[i, :len(label)] = label\n",
    "            label_length[i] = len(label)\n",
    "\n",
    "        # Output arrays\n",
    "        outputs = {'ctc': np.zeros([minibatch_size])}\n",
    "        inputs = {'the_input': X_data, \n",
    "                  'the_labels': labels, \n",
    "                  'input_length': input_length, \n",
    "                  'label_length': label_length \n",
    "                 }\n",
    "        return (inputs, outputs)\n",
    "\n",
    "def next_train():\n",
    "    # Get a batch of training data\n",
    "    while True:\n",
    "        ret = get_batch('train')\n",
    "        global cur_train_index \n",
    "        cur_train_index += minibatch_size\n",
    "        if cur_train_index >= len(train_texts) - minibatch_size:\n",
    "            cur_train_index = 0\n",
    "        #print(ret)\n",
    "        yield ret    \n",
    "\n",
    "def next_valid():\n",
    "    # Get a batch of validation data\n",
    "    while True:\n",
    "        ret = get_batch('valid')\n",
    "        global cur_valid_index\n",
    "        cur_valid_index += minibatch_size\n",
    "        if cur_valid_index >= len(valid_texts) - minibatch_size:\n",
    "            cur_valid_index = 0\n",
    "        yield ret\n",
    "\n",
    "def next_test():\n",
    "    # Get a batch of testing data\n",
    "    while True:\n",
    "        ret = get_batch('test')\n",
    "        global cur_test_index\n",
    "        cur_test_index += minibatch_size\n",
    "        if cur_test_index >= len(test_texts) - minibatch_size:\n",
    "            cur_test_index = 0\n",
    "        yield ret\n",
    "        \n",
    "    "
   ]
  },
  {
   "cell_type": "code",
   "execution_count": 12,
   "metadata": {},
   "outputs": [],
   "source": [
    "if not os.path.exists('results'):\n",
    "        os.makedirs('results')"
   ]
  },
  {
   "cell_type": "code",
   "execution_count": 13,
   "metadata": {},
   "outputs": [],
   "source": [
    "# Custom CTC loss function (discussed below)\n",
    "def ctc_lambda_func(args):\n",
    "    y_pred, labels, input_length, label_length = args\n",
    "    return K.ctc_batch_cost(labels, y_pred, input_length, label_length)\n",
    "\n",
    "def add_ctc_loss(input_to_softmax):\n",
    "    the_labels = Input(name='the_labels', shape=(None,), dtype='float32')\n",
    "    input_lengths = Input(name='input_length', shape=(1,), dtype='int64')\n",
    "    label_lengths = Input(name='label_length', shape=(1,), dtype='int64')\n",
    "    output_lengths = Lambda(input_to_softmax.output_length)(input_lengths)\n",
    "    # CTC loss is implemented in a lambda layer\n",
    "    loss_out = Lambda(ctc_lambda_func, output_shape=(1,), name='ctc')(\n",
    "        [input_to_softmax.output, the_labels, output_lengths, label_lengths])\n",
    "    model = Model(\n",
    "        inputs=[input_to_softmax.input, the_labels, input_lengths, label_lengths], \n",
    "        outputs=loss_out)\n",
    "    return model\n",
    "\n",
    "def cnn_output_length(input_length, filter_size, border_mode, stride,\n",
    "                       dilation=1):\n",
    "# Compute the length of cnn output seq after 1D convolution across time\n",
    "    if input_length is None:\n",
    "        return None\n",
    "    assert border_mode in {'same', 'valid', 'causal'}\n",
    "    dilated_filter_size = filter_size + (filter_size - 1) * (dilation - 1)\n",
    "    if border_mode == 'same':\n",
    "        output_length = input_length\n",
    "    elif border_mode == 'valid':\n",
    "        output_length = input_length - dilated_filter_size + 1\n",
    "    elif border_mode == 'causal':\n",
    "        output_length = input_length\n",
    "    return (output_length + stride - 1) // stride"
   ]
  },
  {
   "cell_type": "code",
   "execution_count": 14,
   "metadata": {},
   "outputs": [],
   "source": [
    "# Word Error Rate\n",
    "def wer_calc(ref, pred):\n",
    "    # Calcualte word error rate\n",
    "    d = np.zeros((len(ref) + 1) * (len(pred) + 1), dtype=np.uint16)\n",
    "    d = d.reshape((len(ref) + 1, len(pred) + 1))\n",
    "    for i in range(len(ref) + 1):\n",
    "        for j in range(len(pred) + 1):\n",
    "            if i == 0:\n",
    "                d[0][j] = j\n",
    "            elif j == 0:\n",
    "                d[i][0] = i\n",
    "\n",
    "    for i in range(1, len(ref) + 1):\n",
    "        for j in range(1, len(pred) + 1):\n",
    "            if ref[i - 1] == pred[j - 1]:\n",
    "                d[i][j] = d[i - 1][j - 1]\n",
    "            else:\n",
    "                substitution = d[i - 1][j - 1] + 1\n",
    "                insertion = d[i][j - 1] + 1\n",
    "                deletion = d[i - 1][j] + 1\n",
    "                d[i][j] = min(substitution, insertion, deletion)\n",
    "    result = float(d[len(ref)][len(pred)]) / len(ref) * 100\n",
    "    return result"
   ]
  },
  {
   "cell_type": "code",
   "execution_count": 15,
   "metadata": {},
   "outputs": [],
   "source": [
    "num_train_examples=len(train_audio_paths)\n",
    "steps_per_epoch = num_train_examples/16"
   ]
  },
  {
   "cell_type": "code",
   "execution_count": 16,
   "metadata": {},
   "outputs": [],
   "source": [
    "num_valid_samples = len(valid_audio_paths) \n",
    "validation_steps = num_valid_samples//16"
   ]
  },
  {
   "cell_type": "markdown",
   "metadata": {
    "heading_collapsed": true
   },
   "source": [
    "# RNN GRU 1 layer"
   ]
  },
  {
   "cell_type": "markdown",
   "metadata": {
    "heading_collapsed": true,
    "hidden": true
   },
   "source": [
    "## Adding Layers and Training Model"
   ]
  },
  {
   "cell_type": "code",
   "execution_count": null,
   "metadata": {
    "hidden": true
   },
   "outputs": [],
   "source": [
    "for i in range(1):\n",
    "    input_data = Input(name='the_input', shape=(None, 13))\n",
    "    \n",
    "    simp_rnn = GRU(29, return_sequences=True, \n",
    "                 implementation=2, name='rnn')(input_data)\n",
    "    \n",
    "    y_pred = Activation('softmax', name='softmax')(simp_rnn)\n",
    "    \n",
    "    model_rnn_simple = Model(inputs=input_data, outputs=y_pred)\n",
    "    \n",
    "    model_rnn_simple.output_length = lambda x: x\n",
    "    \n",
    "    model_rnn_simple.summary()\n",
    "    \n",
    "    optimizer=Adam(lr=0.0001, beta_1=0.9, beta_2=0.999, epsilon=None, decay=0.0, amsgrad=False, clipnorm=1, clipvalue=.5)\n",
    "    # Add custom CTC loss function to the nn\n",
    "    \n",
    "    model_1 = add_ctc_loss(model_rnn_simple)\n",
    "    # Dummy lambda function for loss since CTC loss is implemented above\n",
    "    \n",
    "    model_1.compile(loss={'ctc': lambda y_true, y_pred: y_pred}, optimizer=optimizer)\n",
    "# Callbacks\n",
    "    \n",
    "    checkpointer = ModelCheckpoint(filepath='results/model_rnn_simple.h5', verbose=0)\n",
    "    \n",
    "    stopper = callbacks.EarlyStopping(monitor='val_loss', patience=2, verbose=1, mode='auto')\n",
    "    \n",
    "    terminator = callbacks.TerminateOnNaN()\n",
    "# training     \n",
    "    mod_1 = model_1.fit_generator(generator=next_train(), steps_per_epoch=steps_per_epoch,\n",
    "        epochs=10, validation_data=next_valid(), validation_steps=validation_steps,\n",
    "        callbacks=[checkpointer,terminator, stopper], verbose=1)"
   ]
  },
  {
   "cell_type": "markdown",
   "metadata": {
    "heading_collapsed": true,
    "hidden": true
   },
   "source": [
    "## Getting Predictions"
   ]
  },
  {
   "cell_type": "code",
   "execution_count": null,
   "metadata": {
    "hidden": true,
    "scrolled": true
   },
   "outputs": [],
   "source": [
    "transcription = test_texts[10]\n",
    "audio_path = test_audio_paths[10]\n",
    "data_point = featurize(audio_path)\n",
    "print(data_point.shape)\n",
    "model_rnn_simple.load_weights('./results/model_rnn_simple.h5')\n",
    "\n",
    "        \n",
    "prediction = model_rnn_simple.predict(np.expand_dims(data_point,axis=0),)\n",
    "output_length = [model_rnn_simple.output_length(data_point.shape[0])]\n",
    "pred_ints = (K.eval(K.ctc_decode(\n",
    "                prediction, output_length)[0][0])+1).flatten().tolist()\n",
    "\n",
    "print(prediction.shape)\n",
    "print(prediction)\n",
    "print(output_length)\n",
    "\n",
    "print(pred_ints)\n",
    "pred = ''.join(int_seq_to_text(pred_ints))\n",
    "    # Display ground truth transcription and predicted transcripted.\n",
    "%time\n",
    "print('True transcription:\\n' + '\\n' + transcription)\n",
    "print('Predicted transcription:\\n' + '\\n' + pred)"
   ]
  },
  {
   "cell_type": "markdown",
   "metadata": {
    "hidden": true
   },
   "source": [
    "## Performane"
   ]
  },
  {
   "cell_type": "code",
   "execution_count": null,
   "metadata": {
    "hidden": true
   },
   "outputs": [],
   "source": [
    "# Error rate\n",
    "error_rate_gru_1 = wer_calc(transcription,pred)\n",
    "print(error_rate_gru_1)\n",
    "accuracy_gru_1 = 100 - error_rate_gru_1\n",
    "print(accuracy_gru_1)"
   ]
  },
  {
   "cell_type": "markdown",
   "metadata": {
    "heading_collapsed": true
   },
   "source": [
    "# RNN GRU 2 layers"
   ]
  },
  {
   "cell_type": "markdown",
   "metadata": {
    "hidden": true
   },
   "source": [
    "## Adding Layers and Training Model"
   ]
  },
  {
   "cell_type": "code",
   "execution_count": null,
   "metadata": {
    "hidden": true
   },
   "outputs": [],
   "source": [
    "for i in range(5):\n",
    "    input_data = Input(name='the_input', shape=(None, 13))\n",
    "    \n",
    "    simp_rnn = GRU(256, return_sequences=True, \n",
    "                 implementation=2, name='rnn')(input_data)\n",
    "    simp_rnn = GRU(128, return_sequences=True, \n",
    "                 implementation=2, name='rnn_1')(simp_rnn)\n",
    "    dense = Dense(29)(simp_rnn)\n",
    "    y_pred = Activation('softmax', name='softmax')(dense)\n",
    "    \n",
    "    model_rnn_simple_2l = Model(inputs=input_data, outputs=y_pred)\n",
    "    \n",
    "    model_rnn_simple_2l.output_length = lambda x: x\n",
    "    \n",
    "    model_rnn_simple_2l.summary()\n",
    "    \n",
    "    optimizer=Adam(lr=0.0001, beta_1=0.9, beta_2=0.999, epsilon=None, decay=0.0, amsgrad=False, clipnorm=1, clipvalue=.5)\n",
    "    # Add custom CTC loss function to the nn\n",
    "    \n",
    "    model_2 = add_ctc_loss(model_rnn_simple_2l)\n",
    "    # Dummy lambda function for loss since CTC loss is implemented above\n",
    "    \n",
    "    model_2.compile(loss={'ctc': lambda y_true, y_pred: y_pred}, optimizer=optimizer)\n",
    "# Callbacks\n",
    "    \n",
    "    checkpointer = ModelCheckpoint(filepath='results/model_rnn_simple_2l.h5', verbose=0)\n",
    "    \n",
    "    stopper = callbacks.EarlyStopping(monitor='val_loss', patience=2, verbose=1, mode='auto')\n",
    "    \n",
    "    terminator = callbacks.TerminateOnNaN()\n",
    "# training     \n",
    "    mod_2 = model_2.fit_generator(generator=next_train(), steps_per_epoch=steps_per_epoch,\n",
    "        epochs=10, validation_data=next_valid(), validation_steps=validation_steps,\n",
    "        callbacks=[checkpointer,terminator, stopper], verbose=1)"
   ]
  },
  {
   "cell_type": "markdown",
   "metadata": {
    "heading_collapsed": true,
    "hidden": true
   },
   "source": [
    "## Getting Predictions"
   ]
  },
  {
   "cell_type": "code",
   "execution_count": null,
   "metadata": {
    "hidden": true
   },
   "outputs": [],
   "source": [
    "transcription = test_texts[10]\n",
    "audio_path = test_audio_paths[10]\n",
    "data_point = featurize(audio_path)\n",
    "print(data_point.shape)\n",
    "model_rnn_simple.load_weights('./results/model_rnn_simple_2l.h5')\n",
    "\n",
    "        \n",
    "prediction = model_rnn_simple.predict(np.expand_dims(data_point,axis=0),)\n",
    "output_length = [model_rnn_simple.output_length(data_point.shape[0])]\n",
    "pred_ints = (K.eval(K.ctc_decode(\n",
    "                prediction, output_length)[0][0])+1).flatten().tolist()\n",
    "print(prediction.shape)\n",
    "print(prediction)\n",
    "print(output_length)\n",
    "\n",
    "print(pred_ints)\n",
    "pred = ''.join(int_seq_to_text(pred_ints))\n",
    "    # Display ground truth transcription and predicted transcripted.\n",
    "%time\n",
    "print('True transcription:\\n' + '\\n' + transcription)\n",
    "print('Predicted transcription:\\n' + '\\n' + pred)"
   ]
  },
  {
   "cell_type": "markdown",
   "metadata": {
    "hidden": true
   },
   "source": [
    "## Performane"
   ]
  },
  {
   "cell_type": "code",
   "execution_count": null,
   "metadata": {
    "hidden": true
   },
   "outputs": [],
   "source": [
    "# Error rate\n",
    "error_rate_gru_2 = wer_calc(transcription,pred)\n",
    "print(error_rate_gru_2)\n",
    "accuracy_gru_2 = 100 - error_rate_gru_2\n",
    "print(accuracy_gru_2)"
   ]
  },
  {
   "cell_type": "markdown",
   "metadata": {
    "heading_collapsed": true
   },
   "source": [
    "# LSTM 1 layer"
   ]
  },
  {
   "cell_type": "markdown",
   "metadata": {
    "heading_collapsed": true,
    "hidden": true
   },
   "source": [
    "## Adding layers and Training Model "
   ]
  },
  {
   "cell_type": "code",
   "execution_count": null,
   "metadata": {
    "hidden": true,
    "scrolled": false
   },
   "outputs": [],
   "source": [
    "for i in range(1):\n",
    "    input_data = Input(name='the_input', shape=(None, 13))\n",
    "    \n",
    "    simp_rnn = LSTM(1000, activation='relu', \n",
    "                return_sequences=True,dropout=0.1, recurrent_dropout=0.1, implementation=2, name='rnn')(input_data)\n",
    "    \n",
    "    bn_rnn = BatchNormalization()(simp_rnn)\n",
    "    \n",
    "    time_dense = TimeDistributed(Dense(29))(bn_rnn)\n",
    "    \n",
    "    y_pred = Activation('softmax', name='softmax')(time_dense)\n",
    "    \n",
    "    model_rnn_lstm = Model(inputs=input_data, outputs=y_pred)\n",
    "    \n",
    "    model_rnn_lstm.output_length = lambda x: x\n",
    "    \n",
    "    print(model_rnn_lstm.summary())\n",
    "    \n",
    "    optimizer=Adam(lr=0.0001, beta_1=0.9, beta_2=0.999,epsilon=0.001, decay=0.0001, amsgrad=False)\n",
    "    \n",
    "    # Add custom CTC loss function to the nn\n",
    "    model_3 = add_ctc_loss(model_rnn_lstm)\n",
    "    \n",
    "    # Dummy lambda function for loss since CTC loss is implemented above\n",
    "    model_3.compile(loss={'ctc': lambda y_true, y_pred: y_pred}, optimizer=optimizer)\n",
    "    \n",
    "    # Callbacks\n",
    "    checkpointer = ModelCheckpoint(filepath='results/model_rnn_lstm.h5', verbose=0)\n",
    "    \n",
    "    stopper = callbacks.EarlyStopping(monitor='val_loss', patience=2, verbose=1, mode='auto')\n",
    "    \n",
    "    terminator = callbacks.TerminateOnNaN()\n",
    "    \n",
    "    #training\n",
    "    \n",
    "    mod_3 = model_3.fit_generator(generator=next_train(), steps_per_epoch=10,\n",
    "        epochs=1, validation_data=next_valid(), validation_steps=10,\n",
    "        callbacks=[checkpointer,terminator, stopper], verbose=1)"
   ]
  },
  {
   "cell_type": "markdown",
   "metadata": {
    "heading_collapsed": true,
    "hidden": true
   },
   "source": [
    "## Getting Predictions"
   ]
  },
  {
   "cell_type": "code",
   "execution_count": null,
   "metadata": {
    "hidden": true
   },
   "outputs": [],
   "source": [
    "transcription = test_texts[10]\n",
    "audio_path = test_audio_paths[10]\n",
    "data_point = featurize(audio_path)\n",
    "print(data_point.shape)\n",
    "model_rnn_lstm.load_weights('./results/model_rnn_lstm.h5')\n",
    "\n",
    "        \n",
    "prediction = model_rnn_lstm.predict(np.expand_dims(data_point,axis=0),)\n",
    "output_length = [model_rnn_lstm.output_length(data_point.shape[0])]\n",
    "pred_ints = (K.eval(K.ctc_decode(\n",
    "                prediction, output_length)[0][0])+1).flatten().tolist()\n",
    "print(prediction.shape)\n",
    "print(prediction)\n",
    "print(output_length)\n",
    "\n",
    "print(pred_ints)\n",
    "pred = ''.join(int_seq_to_text(pred_ints))\n",
    "    # Display ground truth transcription and predicted transcripted.\n",
    "%time\n",
    "print('True transcription:\\n' + '\\n' + transcription)\n",
    "print('Predicted transcription:\\n' + '\\n' + pred)"
   ]
  },
  {
   "cell_type": "markdown",
   "metadata": {
    "hidden": true
   },
   "source": [
    "## Performane"
   ]
  },
  {
   "cell_type": "code",
   "execution_count": null,
   "metadata": {
    "hidden": true
   },
   "outputs": [],
   "source": [
    "# Error rate\n",
    "error_rate_lstm_1 = wer_calc(transcription,pred)\n",
    "print(error_rate_lstm_1)\n",
    "accuracy_lstm_1 = 100 - error_rate_lstm_1\n",
    "print(accuracy_lstm_1)"
   ]
  },
  {
   "cell_type": "markdown",
   "metadata": {
    "heading_collapsed": true
   },
   "source": [
    "# LSTM 2 layer"
   ]
  },
  {
   "cell_type": "markdown",
   "metadata": {
    "heading_collapsed": true,
    "hidden": true
   },
   "source": [
    "## Adding layers and Training Model "
   ]
  },
  {
   "cell_type": "code",
   "execution_count": null,
   "metadata": {
    "hidden": true
   },
   "outputs": [],
   "source": [
    "for i in range(1):\n",
    "    input_data = Input(name='the_input', shape=(None, 13))\n",
    "    \n",
    "    simp_rnn = LSTM(2000, activation='relu', \n",
    "                return_sequences=True, implementation=2, name='rnn')(input_data)\n",
    "    \n",
    "    simp_rnn = LSTM(1000, activation='relu', \n",
    "                return_sequences=True, implementation=2, name='rnn_1')(simp_rnn)\n",
    "    \n",
    "    bn_rnn = BatchNormalization()(simp_rnn)\n",
    "    \n",
    "    time_dense = TimeDistributed(Dense(29))(bn_rnn)\n",
    "    \n",
    "    y_pred = Activation('softmax', name='softmax')(time_dense)\n",
    "    \n",
    "    model_rnn_lstm_2l = Model(inputs=input_data, outputs=y_pred)\n",
    "    \n",
    "    model_rnn_lstm_2l.output_length = lambda x: x\n",
    "    \n",
    "    print(model_rnn_lstm_2l.summary())\n",
    "    \n",
    "    optimizer=Adam(lr=0.0001, beta_1=0.9, beta_2=0.999, epsilon=None, decay=0.0, amsgrad=False, clipnorm=1, clipvalue=.5)\n",
    "    \n",
    "    # Add custom CTC loss function to the nn\n",
    "    model_4 = add_ctc_loss(model_rnn_lstm_2l)\n",
    "    \n",
    "    # Dummy lambda function for loss since CTC loss is implemented above\n",
    "    model_4.compile(loss={'ctc': lambda y_true, y_pred: y_pred}, optimizer=optimizer)\n",
    "    \n",
    "    # Callbacks\n",
    "    checkpointer = ModelCheckpoint(filepath='results/model_rnn_lstm_2l.h5', verbose=0)\n",
    "    \n",
    "    stopper = callbacks.EarlyStopping(monitor='val_loss', patience=2, verbose=1, mode='auto')\n",
    "    \n",
    "    terminator = callbacks.TerminateOnNaN()\n",
    "    \n",
    "    #training\n",
    "    \n",
    "    mod_4 = model_4.fit_generator(generator=next_train(), steps_per_epoch=10,\n",
    "        epochs=1, validation_data=next_valid(), validation_steps=10,\n",
    "        callbacks=[checkpointer,terminator, stopper], verbose=1)"
   ]
  },
  {
   "cell_type": "markdown",
   "metadata": {
    "heading_collapsed": true,
    "hidden": true
   },
   "source": [
    "## Getting Predictions"
   ]
  },
  {
   "cell_type": "code",
   "execution_count": null,
   "metadata": {
    "hidden": true,
    "scrolled": true
   },
   "outputs": [],
   "source": [
    "transcription = test_texts[10]\n",
    "audio_path = test_audio_paths[10]\n",
    "data_point = featurize(audio_path)\n",
    "print(data_point.shape)\n",
    "model_rnn_lstm_2l.load_weights('./results/model_rnn_lstm_2l.h5')\n",
    "\n",
    "        \n",
    "prediction = model_rnn_lstm_2l.predict(np.expand_dims(data_point,axis=0),)\n",
    "output_length = [model_rnn_lstm_2l.output_length(data_point.shape[0])]\n",
    "pred_ints = (K.eval(K.ctc_decode(\n",
    "                prediction, output_length)[0][0])+1).flatten().tolist()\n",
    "print(prediction.shape)\n",
    "print(prediction)\n",
    "print(output_length)\n",
    "\n",
    "print(pred_ints)\n",
    "pred = ''.join(int_seq_to_text(pred_ints))\n",
    "    # Display ground truth transcription and predicted transcripted.\n",
    "%time\n",
    "print('True transcription:\\n' + '\\n' + transcription)\n",
    "print('Predicted transcription:\\n' + '\\n' + pred)"
   ]
  },
  {
   "cell_type": "markdown",
   "metadata": {
    "hidden": true
   },
   "source": [
    "## Performane"
   ]
  },
  {
   "cell_type": "code",
   "execution_count": null,
   "metadata": {
    "hidden": true
   },
   "outputs": [],
   "source": [
    "# Error rate\n",
    "error_rate_lstm_2 = wer_calc(transcription,pred)\n",
    "print(error_rate_lstm_2)\n",
    "accuracy_lstm_2 = 100 - error_rate_lstm_2\n",
    "print(accuracy_lstm_2)"
   ]
  },
  {
   "cell_type": "markdown",
   "metadata": {
    "heading_collapsed": true
   },
   "source": [
    "# Bidirectional RNN-LSTM"
   ]
  },
  {
   "cell_type": "markdown",
   "metadata": {
    "hidden": true
   },
   "source": [
    "## Adding layers and Training"
   ]
  },
  {
   "cell_type": "code",
   "execution_count": null,
   "metadata": {
    "hidden": true
   },
   "outputs": [],
   "source": [
    "for i in range(1):\n",
    "    input_data = Input(name='the_input', shape=(None, 13))\n",
    "    \n",
    "    brnn = Bidirectional(LSTM(1000, activation='relu', \n",
    "        return_sequences=True, implementation=2, name='brnn'))(input_data)\n",
    "    \n",
    "    time_dense = TimeDistributed(Dense(29))(brnn)\n",
    "    \n",
    "    y_pred = Activation('softmax', name='softmax')(time_dense)\n",
    "    \n",
    "    model_rnn_bi_simple = Model(inputs=input_data, outputs=y_pred)\n",
    "    \n",
    "    model_rnn_bi_simple.output_length = lambda x: x\n",
    "    \n",
    "    print(model_rnn_bi_simple.summary())\n",
    "    \n",
    "    optimizer=Adam(lr=0.0001, beta_1=0.9, beta_2=0.999, epsilon=None, decay=0.0, amsgrad=False, clipnorm=1, clipvalue=.5)\n",
    "    \n",
    "    # Add custom CTC loss function to the nn\n",
    "    model_5 = add_ctc_loss(model_rnn_bi_simple)\n",
    "    \n",
    "    # Dummy lambda function for loss since CTC loss is implemented above\n",
    "    model_5.compile(loss={'ctc': lambda y_true, y_pred: y_pred}, optimizer=optimizer)\n",
    "    \n",
    "    # Callbacks\n",
    "    checkpointer = ModelCheckpoint(filepath='results/model_rnn_bi_simple.h5', verbose=0)\n",
    "    \n",
    "    stopper = callbacks.EarlyStopping(monitor='val_loss', patience=2, verbose=1, mode='auto')\n",
    "    \n",
    "    terminator = callbacks.TerminateOnNaN()\n",
    "    \n",
    "    #training\n",
    "    \n",
    "    mod_5 = model_5.fit_generator(generator=next_train(), steps_per_epoch=10,\n",
    "        epochs=1, validation_data=next_valid(), validation_steps=10,\n",
    "        callbacks=[checkpointer,terminator, stopper], verbose=1)"
   ]
  },
  {
   "cell_type": "markdown",
   "metadata": {
    "heading_collapsed": true,
    "hidden": true
   },
   "source": [
    "## Getting Predictions"
   ]
  },
  {
   "cell_type": "code",
   "execution_count": null,
   "metadata": {
    "hidden": true
   },
   "outputs": [],
   "source": [
    "transcription = test_texts[10]\n",
    "audio_path = test_audio_paths[10]\n",
    "data_point = featurize(audio_path)\n",
    "print(data_point)\n",
    "model_rnn_bi_simple.load_weights('./results/model_rnn_bi_simple.h5')\n",
    "\n",
    "        \n",
    "prediction = model_rnn_bi_simple.predict(np.expand_dims(data_point,axis=0),)\n",
    "output_length = [model_rnn_bi_simple.output_length(data_point.shape[0])]\n",
    "pred_ints = (K.eval(K.ctc_decode(\n",
    "                prediction, output_length)[0][0])+1).flatten().tolist()\n",
    "print(prediction.shape)\n",
    "print(prediction)\n",
    "print(output_length)\n",
    "\n",
    "print(pred_ints)\n",
    "pred = ''.join(int_seq_to_text(pred_ints))\n",
    "    # Display ground truth transcription and predicted transcripted.\n",
    "%time\n",
    "print('True transcription:\\n' + '\\n' + transcription)\n",
    "print('Predicted transcription:\\n' + '\\n' + pred)"
   ]
  },
  {
   "cell_type": "markdown",
   "metadata": {
    "hidden": true
   },
   "source": [
    "## Performane"
   ]
  },
  {
   "cell_type": "code",
   "execution_count": null,
   "metadata": {
    "hidden": true
   },
   "outputs": [],
   "source": [
    "# Error rate\n",
    "error_rate_bi_lstm = wer_calc(transcription,pred)\n",
    "print(error_rate_bi_lstm)\n",
    "accuracy_bi_lstm = 100 - error_rate_bi_lstm\n",
    "print(accuracy_bi_lstm)"
   ]
  },
  {
   "cell_type": "markdown",
   "metadata": {},
   "source": [
    "# CNN 1 layer"
   ]
  },
  {
   "cell_type": "code",
   "execution_count": 17,
   "metadata": {},
   "outputs": [],
   "source": [
    "input_dim=13\n",
    "filters=256\n",
    "activation='relu'\n",
    "kernel_size=5\n",
    "conv_stride=2\n",
    "recur_layers=7\n",
    "conv_border_mode='causal'\n",
    "conv_layers=3\n",
    "dilation_rate=2\n",
    "units=256\n",
    "output_dim=29"
   ]
  },
  {
   "cell_type": "markdown",
   "metadata": {},
   "source": [
    "## Adding layers and Training Model"
   ]
  },
  {
   "cell_type": "code",
   "execution_count": 18,
   "metadata": {},
   "outputs": [
    {
     "name": "stdout",
     "output_type": "stream",
     "text": [
      "_________________________________________________________________\n",
      "Layer (type)                 Output Shape              Param #   \n",
      "=================================================================\n",
      "the_input (InputLayer)       (None, None, 13)          0         \n",
      "_________________________________________________________________\n",
      "conv1d (Conv1D)              (None, None, 256)         16896     \n",
      "_________________________________________________________________\n",
      "batch_normalization_1 (Batch (None, None, 256)         1024      \n",
      "_________________________________________________________________\n",
      "dense_1 (Dense)              (None, None, 29)          7453      \n",
      "_________________________________________________________________\n",
      "softmax (Activation)         (None, None, 29)          0         \n",
      "=================================================================\n",
      "Total params: 25,373\n",
      "Trainable params: 24,861\n",
      "Non-trainable params: 512\n",
      "_________________________________________________________________\n",
      "None\n",
      "__________________________________________________________________________________________________\n",
      "Layer (type)                    Output Shape         Param #     Connected to                     \n",
      "==================================================================================================\n",
      "the_input (InputLayer)          (None, None, 13)     0                                            \n",
      "__________________________________________________________________________________________________\n",
      "conv1d (Conv1D)                 (None, None, 256)    16896       the_input[0][0]                  \n",
      "__________________________________________________________________________________________________\n",
      "batch_normalization_1 (BatchNor (None, None, 256)    1024        conv1d[0][0]                     \n",
      "__________________________________________________________________________________________________\n",
      "dense_1 (Dense)                 (None, None, 29)     7453        batch_normalization_1[0][0]      \n",
      "__________________________________________________________________________________________________\n",
      "input_length (InputLayer)       (None, 1)            0                                            \n",
      "__________________________________________________________________________________________________\n",
      "softmax (Activation)            (None, None, 29)     0           dense_1[0][0]                    \n",
      "__________________________________________________________________________________________________\n",
      "the_labels (InputLayer)         (None, None)         0                                            \n",
      "__________________________________________________________________________________________________\n",
      "lambda_1 (Lambda)               (None, 1)            0           input_length[0][0]               \n",
      "__________________________________________________________________________________________________\n",
      "label_length (InputLayer)       (None, 1)            0                                            \n",
      "__________________________________________________________________________________________________\n",
      "ctc (Lambda)                    (None, 1)            0           softmax[0][0]                    \n",
      "                                                                 the_labels[0][0]                 \n",
      "                                                                 lambda_1[0][0]                   \n",
      "                                                                 label_length[0][0]               \n",
      "==================================================================================================\n",
      "Total params: 25,373\n",
      "Trainable params: 24,861\n",
      "Non-trainable params: 512\n",
      "__________________________________________________________________________________________________\n",
      "Epoch 1/1\n",
      "326/325 [==============================] - 95s 291ms/step - loss: 420.6113 - val_loss: 282.5709\n",
      "\n",
      "Epoch 00001: val_loss improved from inf to 282.57088, saving model to results/model_cnn_1l.h5\n"
     ]
    }
   ],
   "source": [
    "for i in range(1):\n",
    "    input_data = Input(name='the_input', shape=(None, input_dim))\n",
    "    # Convolutional layer\n",
    "    conv_1d = Conv1D(256, kernel_size, \n",
    "                     strides=conv_stride, \n",
    "                     padding=conv_border_mode,\n",
    "                     activation=activation,\n",
    "                     name='conv1d')(input_data)\n",
    "    # Batch normalization\n",
    "    bn_cnn = BatchNormalization()(conv_1d)\n",
    "    #dense layer\n",
    "    dense_2 = Dense(29)(bn_cnn)\n",
    "    # Softmax activation layer\n",
    "    y_pred = Activation('softmax', name='softmax')(dense_2)\n",
    "    # Specifying the model\n",
    "    model_cnn_1l = Model(inputs=input_data, outputs=y_pred)\n",
    "    model_cnn_1l.output_length = lambda x: cnn_output_length(\n",
    "        x, kernel_size, conv_border_mode, conv_stride)\n",
    "    print(model_cnn_1l.summary())\n",
    "    optimizer=Adam(lr=0.0001, beta_1=0.9, beta_2=0.999, epsilon=None, decay=0.0, amsgrad=False, clipnorm=1, clipvalue=.5)\n",
    "        # Add custom CTC loss function to the nn\n",
    "    model_6 = add_ctc_loss(model_cnn_1l)\n",
    "    # Dummy lambda function for loss since CTC loss is implemented above\n",
    "    model_6.compile(loss={'ctc': lambda y_true, y_pred: y_pred}, optimizer=optimizer)\n",
    "    model_6.summary()\n",
    "    # Callbacks\n",
    "    checkpointer = ModelCheckpoint(filepath='results/model_cnn_1l.h5', verbose=1, save_best_only=True)\n",
    "    stopper = callbacks.EarlyStopping(monitor='val_loss', patience=2, verbose=1, mode='auto')\n",
    "    mod_6= model_6.fit_generator(generator=next_train(), steps_per_epoch=steps_per_epoch,\n",
    "        epochs=1, validation_data=next_valid(), validation_steps=validation_steps,\n",
    "        callbacks=[checkpointer, stopper], verbose=1)"
   ]
  },
  {
   "cell_type": "markdown",
   "metadata": {},
   "source": [
    "## Getting Predictions"
   ]
  },
  {
   "cell_type": "code",
   "execution_count": 19,
   "metadata": {
    "scrolled": true
   },
   "outputs": [
    {
     "name": "stdout",
     "output_type": "stream",
     "text": [
      "[[ 14.22945569 -10.36379516 -25.53674041 ...   4.03503654   1.02759914\n",
      "    3.90698282]\n",
      " [ 14.28675397  -8.52307803 -22.06625914 ...   4.99399187   6.8474299\n",
      "   10.36392209]\n",
      " [ 14.381159   -13.50873648 -25.8991739  ...  11.29181137   9.64108754\n",
      "    9.15668679]\n",
      " ...\n",
      " [ 12.59548018  -8.66789575 -13.01492996 ...  -6.76401589  -2.16975362\n",
      "    1.31440668]\n",
      " [ 12.87011616  -8.635598   -15.79552948 ...  -5.85567602  -5.72240085\n",
      "    6.68360028]\n",
      " [ 12.6793685   -8.18432668 -15.67703405 ...  -7.08669835  -7.56969144\n",
      "   14.94148212]]\n",
      "(1, 217, 29)\n",
      "[[[5.4896466e-11 5.5597484e-01 2.8930328e-04 ... 2.9682328e-06\n",
      "   3.7843737e-09 1.6969119e-01]\n",
      "  [1.4279892e-20 4.5406615e-08 1.0000000e+00 ... 4.8847709e-19\n",
      "   2.9295109e-25 1.9742832e-13]\n",
      "  [4.4033206e-18 3.1795598e-13 4.9386534e-01 ... 2.5154914e-18\n",
      "   2.5810632e-12 4.9871662e-01]\n",
      "  ...\n",
      "  [2.2281721e-31 9.9999261e-01 7.3409647e-06 ... 1.9662488e-17\n",
      "   3.9676033e-31 0.0000000e+00]\n",
      "  [6.7812148e-24 9.6111256e-04 9.9903834e-01 ... 4.5055523e-20\n",
      "   7.5899818e-20 7.5268700e-19]\n",
      "  [6.7679587e-25 2.9193212e-09 9.9995410e-01 ... 9.0664177e-17\n",
      "   1.3846934e-20 2.9584962e-10]]]\n",
      "[217]\n",
      "[2, 3, 3, 2, 7, 2, 22, 3, 2, 22, 3, 7, 2, 7, 2, 22, 7, 2, 7, 17, 7, 3, 17, 2, 3, 2, 3, 2, 3]\n",
      "CPU times: user 30 µs, sys: 1e+03 ns, total: 31 µs\n",
      "Wall time: 6.91 µs\n",
      "True transcription:\n",
      "\n",
      "there was no chance to alter his sleeping room to one nearer to gamewell's chamber\n",
      "Predicted transcription:\n",
      "\n",
      " aa e ta tae e te eoeao a a a\n"
     ]
    }
   ],
   "source": [
    "transcription = test_texts[10]\n",
    "audio_path = test_audio_paths[10]\n",
    "data_point = featurize(audio_path)\n",
    "print(data_point)\n",
    "model_cnn_1l.load_weights('./results/model_cnn_1l.h5')\n",
    "\n",
    "        \n",
    "prediction = model_cnn_1l.predict(np.expand_dims(data_point,axis=0),)\n",
    "output_length = [model_cnn_1l.output_length(data_point.shape[0])]\n",
    "pred_ints = (K.eval(K.ctc_decode(\n",
    "                prediction, output_length)[0][0])+1).flatten().tolist()\n",
    "print(prediction.shape)\n",
    "print(prediction)\n",
    "print(output_length)\n",
    "\n",
    "print(pred_ints)\n",
    "pred = ''.join(int_seq_to_text(pred_ints))\n",
    "    # Display ground truth transcription and predicted transcripted.\n",
    "%time\n",
    "print('True transcription:\\n' + '\\n' + transcription)\n",
    "print('Predicted transcription:\\n' + '\\n' + pred)"
   ]
  },
  {
   "cell_type": "markdown",
   "metadata": {},
   "source": [
    "## Performane"
   ]
  },
  {
   "cell_type": "code",
   "execution_count": 20,
   "metadata": {},
   "outputs": [
    {
     "name": "stdout",
     "output_type": "stream",
     "text": [
      "73.17073170731707\n",
      "26.829268292682926\n"
     ]
    }
   ],
   "source": [
    "# Error rate\n",
    "error_rate_cnn_1 = wer_calc(transcription,pred)\n",
    "print(error_rate_cnn_1)\n",
    "accuracy_cnn_1 = 100 - error_rate_cnn_1\n",
    "print(accuracy_cnn_1)"
   ]
  },
  {
   "cell_type": "markdown",
   "metadata": {
    "heading_collapsed": true
   },
   "source": [
    "# CNN 2 layer"
   ]
  },
  {
   "cell_type": "code",
   "execution_count": null,
   "metadata": {
    "hidden": true
   },
   "outputs": [],
   "source": [
    "input_dim=13\n",
    "activation='relu'\n",
    "kernel_size=5\n",
    "conv_stride=2\n",
    "recur_layers=3\n",
    "conv_border_mode='causal'\n",
    "conv_layers=2\n",
    "dense_layers = 4\n",
    "dilation_rate=2\n",
    "output_dim=29"
   ]
  },
  {
   "cell_type": "markdown",
   "metadata": {
    "hidden": true
   },
   "source": [
    "## Adding layers and Training Model"
   ]
  },
  {
   "cell_type": "code",
   "execution_count": null,
   "metadata": {
    "hidden": true
   },
   "outputs": [],
   "source": [
    "for i in range(1):\n",
    "    input_data = Input(name='the_input', shape=(None, input_dim))\n",
    "    # Convolutional layer\n",
    "    conv_1d = Conv1D(256, kernel_size, \n",
    "                     strides=conv_stride, \n",
    "                     padding=conv_border_mode,\n",
    "                     activation=activation,\n",
    "                     name='conv1d')(input_data)\n",
    "    # Batch normalization\n",
    "    bn_cnn = BatchNormalization()(conv_1d)\n",
    "    for i in range(conv_layers - 1):\n",
    "        conv_1d = Conv1D(256, kernel_size,\n",
    "                         padding=conv_border_mode,\n",
    "                         activation=activation,\n",
    "                         dilation_rate=2**i,\n",
    "                         name=\"conv_1d_\"+str(i))(bn_cnn)\n",
    "        bn_cnn = BatchNormalization()(conv_1d)\n",
    "    #dense layer\n",
    "    dense = Dense(output_dim)(bn_cnn)\n",
    "    # Softmax activation layer\n",
    "    y_pred = Activation('softmax', name='softmax')(dense)\n",
    "    # Specifying the model\n",
    "    model_cnn_2l = Model(inputs=input_data, outputs=y_pred)\n",
    "    model_cnn_2l.output_length = lambda x: cnn_output_length(x, kernel_size, conv_border_mode, conv_stride)\n",
    "    print(model_cnn_2l.summary())\n",
    "    optimizer=Adam(lr=0.0001, beta_1=0.9, beta_2=0.999, epsilon=None, decay=0.0, amsgrad=False, clipnorm=1, clipvalue=.5)\n",
    "        # Add custom CTC loss function to the nn\n",
    "    model_7 = add_ctc_loss(model_cnn_2l)\n",
    "    # Dummy lambda function for loss since CTC loss is implemented above\n",
    "    model_7.compile(loss={'ctc': lambda y_true, y_pred: y_pred}, optimizer=optimizer)\n",
    "    model_7.summary()\n",
    "    # Callbacks\n",
    "    checkpointer = ModelCheckpoint(filepath='results/model_cnn_2l.h5', verbose=1, save_best_only=True)\n",
    "    stopper = callbacks.EarlyStopping(monitor='val_loss', patience=2, verbose=1, mode='auto')\n",
    "    mod_7 = model_7.fit_generator(generator=next_train(), steps_per_epoch=steps_per_epoch,\n",
    "        epochs=1, validation_data=next_valid(), validation_steps=validation_steps,\n",
    "        callbacks=[checkpointer, stopper], verbose=1)"
   ]
  },
  {
   "cell_type": "markdown",
   "metadata": {
    "hidden": true
   },
   "source": [
    "## Getting Predictions"
   ]
  },
  {
   "cell_type": "code",
   "execution_count": null,
   "metadata": {
    "hidden": true,
    "scrolled": true
   },
   "outputs": [],
   "source": [
    "transcription = test_texts[10]\n",
    "audio_path = test_audio_paths[10]\n",
    "data_point = featurize(audio_path)\n",
    "print(data_point)\n",
    "model_cnn_2l.load_weights('./results/model_cnn_2l.h5')\n",
    "\n",
    "        \n",
    "prediction = model_cnn_2l.predict(np.expand_dims(data_point,axis=0),)\n",
    "output_length = [model_cnn_2l.output_length(data_point.shape[0])]\n",
    "pred_ints = (K.eval(K.ctc_decode(\n",
    "                prediction, output_length)[0][0])+1).flatten().tolist()\n",
    "print(prediction.shape)\n",
    "print(prediction)\n",
    "print(output_length)\n",
    "\n",
    "print(pred_ints)\n",
    "pred = ''.join(int_seq_to_text(pred_ints))\n",
    "    # Display ground truth transcription and predicted transcripted.\n",
    "%time\n",
    "print('True transcription:\\n' + '\\n' + transcription)\n",
    "print('Predicted transcription:\\n' + '\\n' + pred)"
   ]
  },
  {
   "cell_type": "markdown",
   "metadata": {
    "hidden": true
   },
   "source": [
    "## Performane"
   ]
  },
  {
   "cell_type": "code",
   "execution_count": null,
   "metadata": {
    "hidden": true
   },
   "outputs": [],
   "source": [
    "# Error rate\n",
    "error_rate_cnn_2 = wer_calc(transcription,pred)\n",
    "print(error_rate_cnn_2)\n",
    "accuracy_cnn_2 = 100 - error_rate_cnn_2\n",
    "print(accuracy_cnn_2)"
   ]
  },
  {
   "cell_type": "markdown",
   "metadata": {},
   "source": [
    "# Proven Architectures"
   ]
  },
  {
   "cell_type": "markdown",
   "metadata": {},
   "source": [
    "## 3 CNN layers  + 7 Bidirectional GRU layers + Time dense layers + Batch Normalization "
   ]
  },
  {
   "cell_type": "code",
   "execution_count": 17,
   "metadata": {},
   "outputs": [],
   "source": [
    "input_dim=13\n",
    "filters=256\n",
    "activation='relu'\n",
    "kernel_size=5\n",
    "conv_stride=2\n",
    "recur_layers=7\n",
    "conv_border_mode='causal'\n",
    "conv_layers=3\n",
    "dilation_rate=2\n",
    "units=256\n",
    "output_dim=29"
   ]
  },
  {
   "cell_type": "markdown",
   "metadata": {},
   "source": [
    "### Adding Layers and Training Model"
   ]
  },
  {
   "cell_type": "code",
   "execution_count": null,
   "metadata": {
    "scrolled": false
   },
   "outputs": [
    {
     "name": "stdout",
     "output_type": "stream",
     "text": [
      "_________________________________________________________________\n",
      "Layer (type)                 Output Shape              Param #   \n",
      "=================================================================\n",
      "the_input (InputLayer)       (None, None, 13)          0         \n",
      "_________________________________________________________________\n",
      "conv1d (Conv1D)              (None, None, 256)         16896     \n",
      "_________________________________________________________________\n",
      "batch_normalization_1 (Batch (None, None, 256)         1024      \n",
      "_________________________________________________________________\n",
      "conv_1d_0 (Conv1D)           (None, None, 256)         327936    \n",
      "_________________________________________________________________\n",
      "batch_normalization_2 (Batch (None, None, 256)         1024      \n",
      "_________________________________________________________________\n",
      "conv_1d_1 (Conv1D)           (None, None, 256)         327936    \n",
      "_________________________________________________________________\n",
      "batch_normalization_3 (Batch (None, None, 256)         1024      \n",
      "_________________________________________________________________\n",
      "bidirectional_1 (Bidirection (None, None, 512)         787968    \n",
      "_________________________________________________________________\n",
      "batch_normalization_4 (Batch (None, None, 512)         2048      \n",
      "_________________________________________________________________\n",
      "bidirectional_2 (Bidirection (None, None, 512)         1181184   \n",
      "_________________________________________________________________\n",
      "batch_normalization_5 (Batch (None, None, 512)         2048      \n",
      "_________________________________________________________________\n",
      "bidirectional_3 (Bidirection (None, None, 512)         1181184   \n",
      "_________________________________________________________________\n",
      "batch_normalization_6 (Batch (None, None, 512)         2048      \n",
      "_________________________________________________________________\n",
      "bidirectional_4 (Bidirection (None, None, 512)         1181184   \n",
      "_________________________________________________________________\n",
      "batch_normalization_7 (Batch (None, None, 512)         2048      \n",
      "_________________________________________________________________\n",
      "bidirectional_5 (Bidirection (None, None, 512)         1181184   \n",
      "_________________________________________________________________\n",
      "batch_normalization_8 (Batch (None, None, 512)         2048      \n",
      "_________________________________________________________________\n",
      "bidirectional_6 (Bidirection (None, None, 512)         1181184   \n",
      "_________________________________________________________________\n",
      "batch_normalization_9 (Batch (None, None, 512)         2048      \n",
      "_________________________________________________________________\n",
      "bidirectional_7 (Bidirection (None, None, 512)         1181184   \n",
      "_________________________________________________________________\n",
      "batch_normalization_10 (Batc (None, None, 512)         2048      \n",
      "_________________________________________________________________\n",
      "time_distributed_1 (TimeDist (None, None, 1024)        525312    \n",
      "_________________________________________________________________\n",
      "time_distributed_2 (TimeDist (None, None, 29)          29725     \n",
      "_________________________________________________________________\n",
      "softmax (Activation)         (None, None, 29)          0         \n",
      "=================================================================\n",
      "Total params: 9,120,285\n",
      "Trainable params: 9,111,581\n",
      "Non-trainable params: 8,704\n",
      "_________________________________________________________________\n",
      "None\n",
      "__________________________________________________________________________________________________\n",
      "Layer (type)                    Output Shape         Param #     Connected to                     \n",
      "==================================================================================================\n",
      "the_input (InputLayer)          (None, None, 13)     0                                            \n",
      "__________________________________________________________________________________________________\n",
      "conv1d (Conv1D)                 (None, None, 256)    16896       the_input[0][0]                  \n",
      "__________________________________________________________________________________________________\n",
      "batch_normalization_1 (BatchNor (None, None, 256)    1024        conv1d[0][0]                     \n",
      "__________________________________________________________________________________________________\n",
      "conv_1d_0 (Conv1D)              (None, None, 256)    327936      batch_normalization_1[0][0]      \n",
      "__________________________________________________________________________________________________\n",
      "batch_normalization_2 (BatchNor (None, None, 256)    1024        conv_1d_0[0][0]                  \n",
      "__________________________________________________________________________________________________\n",
      "conv_1d_1 (Conv1D)              (None, None, 256)    327936      batch_normalization_2[0][0]      \n",
      "__________________________________________________________________________________________________\n",
      "batch_normalization_3 (BatchNor (None, None, 256)    1024        conv_1d_1[0][0]                  \n",
      "__________________________________________________________________________________________________\n",
      "bidirectional_1 (Bidirectional) (None, None, 512)    787968      batch_normalization_3[0][0]      \n",
      "__________________________________________________________________________________________________\n",
      "batch_normalization_4 (BatchNor (None, None, 512)    2048        bidirectional_1[0][0]            \n",
      "__________________________________________________________________________________________________\n",
      "bidirectional_2 (Bidirectional) (None, None, 512)    1181184     batch_normalization_4[0][0]      \n",
      "__________________________________________________________________________________________________\n",
      "batch_normalization_5 (BatchNor (None, None, 512)    2048        bidirectional_2[0][0]            \n",
      "__________________________________________________________________________________________________\n",
      "bidirectional_3 (Bidirectional) (None, None, 512)    1181184     batch_normalization_5[0][0]      \n",
      "__________________________________________________________________________________________________\n",
      "batch_normalization_6 (BatchNor (None, None, 512)    2048        bidirectional_3[0][0]            \n",
      "__________________________________________________________________________________________________\n",
      "bidirectional_4 (Bidirectional) (None, None, 512)    1181184     batch_normalization_6[0][0]      \n",
      "__________________________________________________________________________________________________\n",
      "batch_normalization_7 (BatchNor (None, None, 512)    2048        bidirectional_4[0][0]            \n",
      "__________________________________________________________________________________________________\n",
      "bidirectional_5 (Bidirectional) (None, None, 512)    1181184     batch_normalization_7[0][0]      \n",
      "__________________________________________________________________________________________________\n",
      "batch_normalization_8 (BatchNor (None, None, 512)    2048        bidirectional_5[0][0]            \n",
      "__________________________________________________________________________________________________\n",
      "bidirectional_6 (Bidirectional) (None, None, 512)    1181184     batch_normalization_8[0][0]      \n",
      "__________________________________________________________________________________________________\n",
      "batch_normalization_9 (BatchNor (None, None, 512)    2048        bidirectional_6[0][0]            \n",
      "__________________________________________________________________________________________________\n",
      "bidirectional_7 (Bidirectional) (None, None, 512)    1181184     batch_normalization_9[0][0]      \n",
      "__________________________________________________________________________________________________\n",
      "batch_normalization_10 (BatchNo (None, None, 512)    2048        bidirectional_7[0][0]            \n",
      "__________________________________________________________________________________________________\n",
      "time_distributed_1 (TimeDistrib (None, None, 1024)   525312      batch_normalization_10[0][0]     \n",
      "__________________________________________________________________________________________________\n",
      "time_distributed_2 (TimeDistrib (None, None, 29)     29725       time_distributed_1[0][0]         \n",
      "__________________________________________________________________________________________________\n",
      "input_length (InputLayer)       (None, 1)            0                                            \n",
      "__________________________________________________________________________________________________\n",
      "softmax (Activation)            (None, None, 29)     0           time_distributed_2[0][0]         \n",
      "__________________________________________________________________________________________________\n",
      "the_labels (InputLayer)         (None, None)         0                                            \n",
      "__________________________________________________________________________________________________\n",
      "lambda_1 (Lambda)               (None, 1)            0           input_length[0][0]               \n",
      "__________________________________________________________________________________________________\n",
      "label_length (InputLayer)       (None, 1)            0                                            \n",
      "__________________________________________________________________________________________________\n",
      "ctc (Lambda)                    (None, 1)            0           softmax[0][0]                    \n",
      "                                                                 the_labels[0][0]                 \n",
      "                                                                 lambda_1[0][0]                   \n",
      "                                                                 label_length[0][0]               \n",
      "==================================================================================================\n",
      "Total params: 9,120,285\n",
      "Trainable params: 9,111,581\n",
      "Non-trainable params: 8,704\n",
      "__________________________________________________________________________________________________\n"
     ]
    },
    {
     "name": "stdout",
     "output_type": "stream",
     "text": [
      "Epoch 1/30\n",
      "326/325 [==============================] - 4704s 14s/step - loss: 269.3734 - val_loss: 207.7369\n",
      "\n",
      "Epoch 00001: val_loss improved from inf to 207.73687, saving model to results/model_proven_1.h5\n",
      "Epoch 2/30\n",
      "326/325 [==============================] - 4668s 14s/step - loss: 185.7265 - val_loss: 153.4689\n",
      "\n",
      "Epoch 00002: val_loss improved from 207.73687 to 153.46890, saving model to results/model_proven_1.h5\n",
      "Epoch 3/30\n",
      "326/325 [==============================] - 4657s 14s/step - loss: 143.7031 - val_loss: 133.0176\n",
      "\n",
      "Epoch 00003: val_loss improved from 153.46890 to 133.01756, saving model to results/model_proven_1.h5\n",
      "Epoch 4/30\n",
      "326/325 [==============================] - 4656s 14s/step - loss: 121.9530 - val_loss: 121.8658\n",
      "\n",
      "Epoch 00004: val_loss improved from 133.01756 to 121.86579, saving model to results/model_proven_1.h5\n",
      "Epoch 5/30\n",
      "326/325 [==============================] - 4658s 14s/step - loss: 106.6013 - val_loss: 118.2890\n",
      "\n",
      "Epoch 00005: val_loss improved from 121.86579 to 118.28895, saving model to results/model_proven_1.h5\n",
      "Epoch 6/30\n",
      "326/325 [==============================] - 4653s 14s/step - loss: 93.3691 - val_loss: 116.9691\n",
      "\n",
      "Epoch 00006: val_loss improved from 118.28895 to 116.96911, saving model to results/model_proven_1.h5\n",
      "Epoch 7/30\n",
      "326/325 [==============================] - 4659s 14s/step - loss: 81.9361 - val_loss: 118.1534\n",
      "\n",
      "Epoch 00007: val_loss did not improve from 116.96911\n",
      "Epoch 8/30\n",
      "326/325 [==============================] - 4764s 15s/step - loss: 72.1263 - val_loss: 122.0530\n",
      "\n",
      "Epoch 00008: val_loss did not improve from 116.96911\n",
      "Epoch 00008: early stopping\n",
      "_________________________________________________________________\n",
      "Layer (type)                 Output Shape              Param #   \n",
      "=================================================================\n",
      "the_input (InputLayer)       (None, None, 13)          0         \n",
      "_________________________________________________________________\n",
      "conv1d (Conv1D)              (None, None, 256)         16896     \n",
      "_________________________________________________________________\n",
      "batch_normalization_11 (Batc (None, None, 256)         1024      \n",
      "_________________________________________________________________\n",
      "conv_1d_0 (Conv1D)           (None, None, 256)         327936    \n",
      "_________________________________________________________________\n",
      "batch_normalization_12 (Batc (None, None, 256)         1024      \n",
      "_________________________________________________________________\n",
      "conv_1d_1 (Conv1D)           (None, None, 256)         327936    \n",
      "_________________________________________________________________\n",
      "batch_normalization_13 (Batc (None, None, 256)         1024      \n",
      "_________________________________________________________________\n",
      "bidirectional_8 (Bidirection (None, None, 512)         787968    \n",
      "_________________________________________________________________\n",
      "batch_normalization_14 (Batc (None, None, 512)         2048      \n",
      "_________________________________________________________________\n",
      "bidirectional_9 (Bidirection (None, None, 512)         1181184   \n",
      "_________________________________________________________________\n",
      "batch_normalization_15 (Batc (None, None, 512)         2048      \n",
      "_________________________________________________________________\n",
      "bidirectional_10 (Bidirectio (None, None, 512)         1181184   \n",
      "_________________________________________________________________\n",
      "batch_normalization_16 (Batc (None, None, 512)         2048      \n",
      "_________________________________________________________________\n",
      "bidirectional_11 (Bidirectio (None, None, 512)         1181184   \n",
      "_________________________________________________________________\n",
      "batch_normalization_17 (Batc (None, None, 512)         2048      \n",
      "_________________________________________________________________\n",
      "bidirectional_12 (Bidirectio (None, None, 512)         1181184   \n",
      "_________________________________________________________________\n",
      "batch_normalization_18 (Batc (None, None, 512)         2048      \n",
      "_________________________________________________________________\n",
      "bidirectional_13 (Bidirectio (None, None, 512)         1181184   \n",
      "_________________________________________________________________\n",
      "batch_normalization_19 (Batc (None, None, 512)         2048      \n",
      "_________________________________________________________________\n",
      "bidirectional_14 (Bidirectio (None, None, 512)         1181184   \n",
      "_________________________________________________________________\n",
      "batch_normalization_20 (Batc (None, None, 512)         2048      \n",
      "_________________________________________________________________\n",
      "time_distributed_3 (TimeDist (None, None, 1024)        525312    \n",
      "_________________________________________________________________\n",
      "time_distributed_4 (TimeDist (None, None, 29)          29725     \n",
      "_________________________________________________________________\n",
      "softmax (Activation)         (None, None, 29)          0         \n",
      "=================================================================\n",
      "Total params: 9,120,285\n",
      "Trainable params: 9,111,581\n",
      "Non-trainable params: 8,704\n",
      "_________________________________________________________________\n",
      "None\n",
      "__________________________________________________________________________________________________\n",
      "Layer (type)                    Output Shape         Param #     Connected to                     \n",
      "==================================================================================================\n",
      "the_input (InputLayer)          (None, None, 13)     0                                            \n",
      "__________________________________________________________________________________________________\n",
      "conv1d (Conv1D)                 (None, None, 256)    16896       the_input[0][0]                  \n",
      "__________________________________________________________________________________________________\n",
      "batch_normalization_11 (BatchNo (None, None, 256)    1024        conv1d[0][0]                     \n",
      "__________________________________________________________________________________________________\n",
      "conv_1d_0 (Conv1D)              (None, None, 256)    327936      batch_normalization_11[0][0]     \n",
      "__________________________________________________________________________________________________\n",
      "batch_normalization_12 (BatchNo (None, None, 256)    1024        conv_1d_0[0][0]                  \n",
      "__________________________________________________________________________________________________\n",
      "conv_1d_1 (Conv1D)              (None, None, 256)    327936      batch_normalization_12[0][0]     \n",
      "__________________________________________________________________________________________________\n",
      "batch_normalization_13 (BatchNo (None, None, 256)    1024        conv_1d_1[0][0]                  \n",
      "__________________________________________________________________________________________________\n",
      "bidirectional_8 (Bidirectional) (None, None, 512)    787968      batch_normalization_13[0][0]     \n",
      "__________________________________________________________________________________________________\n",
      "batch_normalization_14 (BatchNo (None, None, 512)    2048        bidirectional_8[0][0]            \n",
      "__________________________________________________________________________________________________\n",
      "bidirectional_9 (Bidirectional) (None, None, 512)    1181184     batch_normalization_14[0][0]     \n",
      "__________________________________________________________________________________________________\n",
      "batch_normalization_15 (BatchNo (None, None, 512)    2048        bidirectional_9[0][0]            \n",
      "__________________________________________________________________________________________________\n",
      "bidirectional_10 (Bidirectional (None, None, 512)    1181184     batch_normalization_15[0][0]     \n",
      "__________________________________________________________________________________________________\n",
      "batch_normalization_16 (BatchNo (None, None, 512)    2048        bidirectional_10[0][0]           \n",
      "__________________________________________________________________________________________________\n",
      "bidirectional_11 (Bidirectional (None, None, 512)    1181184     batch_normalization_16[0][0]     \n",
      "__________________________________________________________________________________________________\n",
      "batch_normalization_17 (BatchNo (None, None, 512)    2048        bidirectional_11[0][0]           \n",
      "__________________________________________________________________________________________________\n",
      "bidirectional_12 (Bidirectional (None, None, 512)    1181184     batch_normalization_17[0][0]     \n",
      "__________________________________________________________________________________________________\n",
      "batch_normalization_18 (BatchNo (None, None, 512)    2048        bidirectional_12[0][0]           \n",
      "__________________________________________________________________________________________________\n",
      "bidirectional_13 (Bidirectional (None, None, 512)    1181184     batch_normalization_18[0][0]     \n",
      "__________________________________________________________________________________________________\n",
      "batch_normalization_19 (BatchNo (None, None, 512)    2048        bidirectional_13[0][0]           \n",
      "__________________________________________________________________________________________________\n",
      "bidirectional_14 (Bidirectional (None, None, 512)    1181184     batch_normalization_19[0][0]     \n",
      "__________________________________________________________________________________________________\n",
      "batch_normalization_20 (BatchNo (None, None, 512)    2048        bidirectional_14[0][0]           \n",
      "__________________________________________________________________________________________________\n",
      "time_distributed_3 (TimeDistrib (None, None, 1024)   525312      batch_normalization_20[0][0]     \n",
      "__________________________________________________________________________________________________\n",
      "time_distributed_4 (TimeDistrib (None, None, 29)     29725       time_distributed_3[0][0]         \n",
      "__________________________________________________________________________________________________\n",
      "input_length (InputLayer)       (None, 1)            0                                            \n",
      "__________________________________________________________________________________________________\n",
      "softmax (Activation)            (None, None, 29)     0           time_distributed_4[0][0]         \n",
      "__________________________________________________________________________________________________\n",
      "the_labels (InputLayer)         (None, None)         0                                            \n",
      "__________________________________________________________________________________________________\n",
      "lambda_2 (Lambda)               (None, 1)            0           input_length[0][0]               \n",
      "__________________________________________________________________________________________________\n",
      "label_length (InputLayer)       (None, 1)            0                                            \n",
      "__________________________________________________________________________________________________\n",
      "ctc (Lambda)                    (None, 1)            0           softmax[0][0]                    \n",
      "                                                                 the_labels[0][0]                 \n",
      "                                                                 lambda_2[0][0]                   \n",
      "                                                                 label_length[0][0]               \n",
      "==================================================================================================\n",
      "Total params: 9,120,285\n",
      "Trainable params: 9,111,581\n",
      "Non-trainable params: 8,704\n",
      "__________________________________________________________________________________________________\n"
     ]
    },
    {
     "name": "stdout",
     "output_type": "stream",
     "text": [
      "Epoch 1/30\n",
      "326/325 [==============================] - 4724s 14s/step - loss: 265.4193 - val_loss: 205.5791\n",
      "\n",
      "Epoch 00001: val_loss improved from inf to 205.57906, saving model to results/model_proven_1.h5\n",
      "Epoch 2/30\n",
      " 24/325 [=>............................] - ETA: 1:17:38 - loss: 201.8796"
     ]
    }
   ],
   "source": [
    "for i in range(5):\n",
    "    input_data = Input(name='the_input', shape=(None, input_dim))\n",
    "    # Convolutional layer\n",
    "    conv_1d = Conv1D(filters, kernel_size, \n",
    "                     strides=conv_stride, \n",
    "                     padding=conv_border_mode,\n",
    "                     activation=activation,\n",
    "                     name='conv1d')(input_data)\n",
    "    # Batch normalization\n",
    "    bn_cnn = BatchNormalization()(conv_1d)\n",
    "    for i in range(conv_layers - 1):\n",
    "        conv_1d = Conv1D(filters, kernel_size,\n",
    "                         padding=conv_border_mode,\n",
    "                         activation=activation,\n",
    "                         dilation_rate=2**i,\n",
    "                         name=\"conv_1d_\"+str(i))(bn_cnn)\n",
    "        bn_cnn = BatchNormalization()(conv_1d)\n",
    "    # Bidirectional recurrent layer\n",
    "    brnn = Bidirectional(GRU(units, activation=activation, \n",
    "        return_sequences=True, implementation=2, recurrent_dropout=0.01, name='brnn'))(bn_cnn)\n",
    "    # Batch normalization \n",
    "    bn_rnn = BatchNormalization()(brnn)\n",
    "    # Loop for additional layers\n",
    "    for i in range(recur_layers - 1):\n",
    "        name = 'brnn_' + str(i + 1)\n",
    "        brnn = Bidirectional(GRU(units, activation=activation, \n",
    "        return_sequences=True, implementation=2, name=name))(bn_rnn)\n",
    "        bn_rnn = BatchNormalization()(brnn)\n",
    "    # TimeDistributed Dense layer\n",
    "    time_distributed_dense = TimeDistributed(Dense(1024))(bn_rnn)\n",
    "    time_dense = TimeDistributed(Dense(output_dim))(time_distributed_dense)\n",
    "    # Softmax activation layer\n",
    "    y_pred = Activation('softmax', name='softmax')(time_dense)\n",
    "    # Specifying the model\n",
    "    model_proven_1 = Model(inputs=input_data, outputs=y_pred)\n",
    "    model_proven_1.output_length = lambda x: cnn_output_length(\n",
    "        x, kernel_size, conv_border_mode, conv_stride)\n",
    "    print(model_proven_1.summary())\n",
    "    optimizer=Adam(lr=0.0001, beta_1=0.9, beta_2=0.999, epsilon=None, decay=0.0, amsgrad=False, clipnorm=1, clipvalue=.5)\n",
    "        # Add custom CTC loss function to the nn\n",
    "    model_8 = add_ctc_loss(model_proven_1)\n",
    "    # Dummy lambda function for loss since CTC loss is implemented above\n",
    "    model_8.compile(loss={'ctc': lambda y_true, y_pred: y_pred}, optimizer=optimizer)\n",
    "    model_8.summary()\n",
    "    # Callbacks\n",
    "    checkpointer = ModelCheckpoint(filepath='results/model_proven_1.h5', verbose=1, save_best_only=True)\n",
    "    stopper = callbacks.EarlyStopping(monitor='val_loss', patience=2, verbose=1, mode='auto')\n",
    "    mod_8 = model_8.fit_generator(generator=next_train(), steps_per_epoch=steps_per_epoch,\n",
    "        epochs=30, validation_data=next_valid(), validation_steps=validation_steps,\n",
    "        callbacks=[checkpointer, stopper], verbose=1)"
   ]
  },
  {
   "cell_type": "markdown",
   "metadata": {},
   "source": [
    "### Getting Predictions"
   ]
  },
  {
   "cell_type": "code",
   "execution_count": null,
   "metadata": {},
   "outputs": [],
   "source": [
    "transcription = test_texts[10]\n",
    "audio_path = test_audio_paths[10]\n",
    "data_point = featurize(audio_path)\n",
    "print(data_point)\n",
    "model_proven_1.load_weights('./results/model_proven_1.h5')\n",
    "\n",
    "        \n",
    "prediction = model_proven_1.predict(np.expand_dims(data_point,axis=0),)\n",
    "output_length = [model_proven_1.output_length(data_point.shape[0])]\n",
    "pred_ints = (K.eval(K.ctc_decode(\n",
    "                prediction, output_length)[0][0])+1).flatten().tolist()\n",
    "print(prediction.shape)\n",
    "print(prediction)\n",
    "print(output_length)\n",
    "\n",
    "print(pred_ints)\n",
    "pred = ''.join(int_seq_to_text(pred_ints))\n",
    "    # Display ground truth transcription and predicted transcripted.\n",
    "%time\n",
    "print('True transcription:\\n' + '\\n' + transcription)\n",
    "print('Predicted transcription:\\n' + '\\n' + pred)"
   ]
  },
  {
   "cell_type": "markdown",
   "metadata": {},
   "source": [
    "### Performane"
   ]
  },
  {
   "cell_type": "code",
   "execution_count": null,
   "metadata": {},
   "outputs": [],
   "source": [
    "# Error rate\n",
    "error_rate_model_1 = wer_calc(transcription,pred)\n",
    "print(error_rate_model_1)\n",
    "accuracy_model_1 = 100 - error_rate_model_1\n",
    "print(accuracy_model_1)"
   ]
  },
  {
   "cell_type": "markdown",
   "metadata": {},
   "source": [
    "## 1 CNN layer and 2 Dense layers"
   ]
  },
  {
   "cell_type": "code",
   "execution_count": null,
   "metadata": {},
   "outputs": [],
   "source": [
    "input_dim=13\n",
    "filters=84\n",
    "activation='relu'\n",
    "kernel_size=5\n",
    "conv_stride=2\n",
    "#pooling_side = \n",
    "recur_layers=7\n",
    "conv_border_mode='causal'\n",
    "conv_layers=3\n",
    "dilation_rate=2\n",
    "units=256\n",
    "output_dim=29"
   ]
  },
  {
   "cell_type": "markdown",
   "metadata": {},
   "source": [
    "### Adding Layers and Training Model"
   ]
  },
  {
   "cell_type": "code",
   "execution_count": null,
   "metadata": {},
   "outputs": [],
   "source": [
    "for i in range(5):\n",
    "    input_data = Input(name='the_input', shape=(None, input_dim))\n",
    "    # Convolutional layer\n",
    "    conv_1d = Conv1D(filters, kernel_size, \n",
    "                     strides=conv_stride, \n",
    "                     padding=conv_border_mode,\n",
    "                     activation=activation,\n",
    "                     name='conv1d')(input_data)\n",
    "    # Batch normalization\n",
    "    bn_cnn = BatchNormalization()(conv_1d)\n",
    "    dense_1 = Dense(1000)(bn_cnn)\n",
    "    dense_2 = Dense(1000)(dense_1)\n",
    "    dense_out = Dense(output_dim)(dense_2)\n",
    "    # Softmax activation layer\n",
    "    y_pred = Activation('softmax', name='softmax')(dense_out)\n",
    "    # Specifying the model\n",
    "    model_proven_2 = Model(inputs=input_data, outputs=y_pred)\n",
    "    model_proven_2.output_length = lambda x: cnn_output_length(\n",
    "        x, kernel_size, conv_border_mode, conv_stride)\n",
    "    print(model_proven_2.summary())\n",
    "    optimizer=Adam(lr=0.0001, beta_1=0.9, beta_2=0.999, epsilon=None, decay=0.0, amsgrad=False, clipnorm=1, clipvalue=.5)\n",
    "        # Add custom CTC loss function to the nn\n",
    "    model_9 = add_ctc_loss(model_proven_2)\n",
    "    # Dummy lambda function for loss since CTC loss is implemented above\n",
    "    model_9.compile(loss={'ctc': lambda y_true, y_pred: y_pred}, optimizer=optimizer)\n",
    "    model_9.summary()\n",
    "    # Callbacks\n",
    "    checkpointer = ModelCheckpoint(filepath='results/model_proven_2.h5', verbose=1, save_best_only=True)\n",
    "    stopper = callbacks.EarlyStopping(monitor='val_loss', patience=2, verbose=1, mode='auto')\n",
    "    mod_9 = model_9.fit_generator(generator=next_train(), steps_per_epoch=steps_per_epoch,\n",
    "        epochs=30, validation_data=next_valid(), validation_steps=validation_steps,\n",
    "        callbacks=[checkpointer, stopper], verbose=1)"
   ]
  },
  {
   "cell_type": "markdown",
   "metadata": {},
   "source": [
    "### Getting Predictions"
   ]
  },
  {
   "cell_type": "code",
   "execution_count": null,
   "metadata": {},
   "outputs": [],
   "source": [
    "transcription = test_texts[10]\n",
    "audio_path = test_audio_paths[10]\n",
    "data_point = featurize(audio_path)\n",
    "print(data_point)\n",
    "model_proven_2.load_weights('./results/model_proven_2.h5')\n",
    "\n",
    "prediction = model_proven_2.predict(np.expand_dims(data_point,axis=0),)\n",
    "output_length = [model_proven_2.output_length(data_point.shape[0])]\n",
    "pred_ints = (K.eval(K.ctc_decode(\n",
    "                prediction, output_length)[0][0])+1).flatten().tolist()\n",
    "print(prediction.shape)\n",
    "print(prediction)\n",
    "print(output_length)\n",
    "\n",
    "print(pred_ints)\n",
    "pred = ''.join(int_seq_to_text(pred_ints))\n",
    "    # Display ground truth transcription and predicted transcripted.\n",
    "%time\n",
    "print('True transcription:\\n' + '\\n' + transcription)\n",
    "print('Predicted transcription:\\n' + '\\n' + pred)"
   ]
  },
  {
   "cell_type": "markdown",
   "metadata": {},
   "source": [
    "### Performane"
   ]
  },
  {
   "cell_type": "code",
   "execution_count": null,
   "metadata": {},
   "outputs": [],
   "source": [
    "# Error rate\n",
    "error_rate_model_2 = wer_calc(transcription,pred)\n",
    "print(error_rate_model_2)\n",
    "accuracy_model_2 = 100 - error_rate_model_2\n",
    "print(accuracy_model_2)"
   ]
  },
  {
   "cell_type": "markdown",
   "metadata": {},
   "source": [
    "#  Expreimental Models"
   ]
  },
  {
   "cell_type": "markdown",
   "metadata": {},
   "source": [
    "## 3 CNN + 3 Bidirectional RNN(GRU) + 4 Deep NN + time dense"
   ]
  },
  {
   "cell_type": "code",
   "execution_count": null,
   "metadata": {},
   "outputs": [],
   "source": [
    "input_dim=13\n",
    "activation='relu'\n",
    "kernel_size=5\n",
    "conv_stride=2\n",
    "recur_layers=3\n",
    "conv_border_mode='causal'\n",
    "conv_layers=3\n",
    "dense_layers = 4\n",
    "dilation_rate=2\n",
    "output_dim=29"
   ]
  },
  {
   "cell_type": "markdown",
   "metadata": {},
   "source": [
    "### Adding Layers and Training Model"
   ]
  },
  {
   "cell_type": "code",
   "execution_count": null,
   "metadata": {
    "scrolled": true
   },
   "outputs": [],
   "source": [
    "for i in range(5):\n",
    "    input_data = Input(name='the_input', shape=(None, input_dim))\n",
    "    # Convolutional layer\n",
    "    conv_1d = Conv1D(256, kernel_size, \n",
    "                     strides=conv_stride, \n",
    "                     padding=conv_border_mode,\n",
    "                     activation=activation,\n",
    "                     name='conv1d')(input_data)\n",
    "    # Batch normalization\n",
    "    bn_cnn = BatchNormalization()(conv_1d)\n",
    "    for i in range(conv_layers - 1):\n",
    "        conv_1d = Conv1D(256, kernel_size,\n",
    "                         padding=conv_border_mode,\n",
    "                         activation=activation,\n",
    "                         dilation_rate=2**i,\n",
    "                         name=\"conv_1d_\"+str(i))(bn_cnn)\n",
    "        bn_cnn = BatchNormalization()(conv_1d)\n",
    "   \n",
    "    # Bidirectional recurrent layer\n",
    "    brnn = Bidirectional(GRU(256, activation=activation, \n",
    "        return_sequences=True, implementation=2, recurrent_dropout=0.01, name='brnn'))(bn_cnn)\n",
    "    # Batch normalization \n",
    "    bn_rnn = BatchNormalization()(brnn)\n",
    "    # Loop for additional layers\n",
    "    for i in range(recur_layers - 1):\n",
    "        name = 'brnn_' + str(i + 1)\n",
    "        brnn = Bidirectional(GRU(256, activation=activation, \n",
    "        return_sequences=True, implementation=2, name=name))(bn_rnn)\n",
    "        bn_rnn = BatchNormalization()(brnn)\n",
    "    \n",
    "    #Deep Network\n",
    "    dense = Dense(512)(bn_rnn)\n",
    "    for i in range(dense_layers - 1):\n",
    "        dense = Dense(512)(dense)\n",
    "    # TimeDistributed Dense layer\n",
    "    time_distributed_dense = TimeDistributed(Dense(1024))(dense)\n",
    "    time_dense = TimeDistributed(Dense(output_dim))(time_distributed_dense)\n",
    "    # Softmax activation layer\n",
    "    y_pred = Activation('softmax', name='softmax')(time_dense)\n",
    "    # Specifying the model\n",
    "    model_exp_1 = Model(inputs=input_data, outputs=y_pred)\n",
    "    model_exp_1.output_length = lambda x: cnn_output_length(\n",
    "        x, kernel_size, conv_border_mode, conv_stride)\n",
    "    print(model_exp_1.summary())\n",
    "    optimizer=Adam(lr=0.0001, beta_1=0.9, beta_2=0.999, epsilon=None, decay=0.0, amsgrad=False, clipnorm=1, clipvalue=.5)\n",
    "        # Add custom CTC loss function to the nn\n",
    "    model_9 = add_ctc_loss(model_exp_1)\n",
    "    # Dummy lambda function for loss since CTC loss is implemented above\n",
    "    model_9.compile(loss={'ctc': lambda y_true, y_pred: y_pred}, optimizer=optimizer)\n",
    "    model_9.summary()\n",
    "    # Callbacks\n",
    "    checkpointer = ModelCheckpoint(filepath='results/model_exp_1.h5', verbose=1, save_best_only=True)\n",
    "    stopper = callbacks.EarlyStopping(monitor='val_loss', patience=2, verbose=1, mode='auto')\n",
    "    mod_9 = model_9.fit_generator(generator=next_train(), steps_per_epoch=steps_per_epoch,\n",
    "        epochs=30, validation_data=next_valid(), validation_steps=validation_steps,\n",
    "        callbacks=[checkpointer, stopper], verbose=1)"
   ]
  },
  {
   "cell_type": "markdown",
   "metadata": {},
   "source": [
    "### Getting Predictions"
   ]
  },
  {
   "cell_type": "code",
   "execution_count": null,
   "metadata": {
    "scrolled": true
   },
   "outputs": [],
   "source": [
    "transcription = test_texts[10]\n",
    "audio_path = test_audio_paths[10]\n",
    "data_point = featurize(audio_path)\n",
    "print(data_point)\n",
    "model_exp_1.load_weights('./results/model_exp_1.h5')\n",
    "\n",
    "        \n",
    "prediction = model_exp_1.predict(np.expand_dims(data_point,axis=0),)\n",
    "output_length = [model_exp_1.output_length(data_point.shape[0])]\n",
    "pred_ints = (K.eval(K.ctc_decode(\n",
    "                prediction, output_length)[0][0])+1).flatten().tolist()\n",
    "print(prediction.shape)\n",
    "print(prediction)\n",
    "print(output_length)\n",
    "\n",
    "print(pred_ints)\n",
    "pred = ''.join(int_seq_to_text(pred_ints))\n",
    "    # Display ground truth transcription and predicted transcripted.\n",
    "%time\n",
    "print('True transcription:\\n' + '\\n' + transcription)\n",
    "print('Predicted transcription:\\n' + '\\n' + pred)"
   ]
  },
  {
   "cell_type": "markdown",
   "metadata": {},
   "source": [
    "### Performane"
   ]
  },
  {
   "cell_type": "code",
   "execution_count": null,
   "metadata": {},
   "outputs": [],
   "source": [
    "# Error rate\n",
    "error_rate_exp_1 = wer_calc(transcription,pred)\n",
    "print(error_rate_exp_1)\n",
    "accuracy_exp_1 = 100 - error_rate_exp_1\n",
    "print(accuracy_exp_1)"
   ]
  },
  {
   "cell_type": "markdown",
   "metadata": {},
   "source": [
    "## 4 RNN + 2  TimeDistributed dense layers"
   ]
  },
  {
   "cell_type": "markdown",
   "metadata": {},
   "source": [
    "### Adding layers and Training Model"
   ]
  },
  {
   "cell_type": "code",
   "execution_count": null,
   "metadata": {},
   "outputs": [],
   "source": [
    "input_dim=13\n",
    "activation='relu'\n",
    "recur_layers=4\n",
    "output_dim=29"
   ]
  },
  {
   "cell_type": "code",
   "execution_count": null,
   "metadata": {
    "scrolled": true
   },
   "outputs": [],
   "source": [
    "for i in range(5):\n",
    "    input_data = Input(name='the_input', shape=(None, 13))\n",
    "    #  1st Recurrent layer\n",
    "    simp_rnn = GRU(units, activation=activation, \n",
    "        return_sequences=True, implementation=2, name='rnn_0')(input_data)\n",
    "    # Batch normalization \n",
    "    bn_rnn = BatchNormalization()(simp_rnn)\n",
    "    # Loop for additional layers\n",
    "    for i in range(recur_layers - 1):\n",
    "        name = 'rnn_' + str(i + 1)\n",
    "        simp_rnn = GRU(units, activation=activation, \n",
    "        return_sequences=True, implementation=2, name=name)(bn_rnn)\n",
    "        bn_rnn = BatchNormalization()(simp_rnn)\n",
    "    # TimeDistributed Dense layer\n",
    "    time_dense = TimeDistributed(Dense(512))(bn_rnn)\n",
    "    time_dense = TimeDistributed(Dense(output_dim))(time_dense)\n",
    "    # Softmax activation layer\n",
    "    y_pred = Activation('softmax', name='softmax')(time_dense)\n",
    "    # Specifying the model\n",
    "    model_exp_2 = Model(inputs=input_data, outputs=y_pred)\n",
    "    model_exp_2.output_length = lambda x: x\n",
    "    print(model_exp_2.summary())\n",
    "    optimizer=Adam(lr=0.0001, beta_1=0.9, beta_2=0.999, epsilon=None, decay=0.0, amsgrad=False, clipnorm=1, clipvalue=.5)\n",
    "        # Add custom CTC loss function to the nn\n",
    "    model_10 = add_ctc_loss(model_exp_2)\n",
    "    # Dummy lambda function for loss since CTC loss is implemented above\n",
    "    model_10.compile(loss={'ctc': lambda y_true, y_pred: y_pred}, optimizer=optimizer)\n",
    "    model_10.summary()\n",
    "    # Callbacks\n",
    "    checkpointer = ModelCheckpoint(filepath='results/model_exp_2.h5', verbose=1, save_best_only=True)\n",
    "    stopper = callbacks.EarlyStopping(monitor='val_loss', patience=2, verbose=1, mode='auto')\n",
    "    mod_10 = model_10.fit_generator(generator=next_train(), steps_per_epoch=steps_per_epoch,\n",
    "        epochs=30, validation_data=next_valid(), validation_steps=validation_steps,\n",
    "        callbacks=[checkpointer, stopper], verbose=1)"
   ]
  },
  {
   "cell_type": "markdown",
   "metadata": {},
   "source": [
    "### Getting Predictions"
   ]
  },
  {
   "cell_type": "code",
   "execution_count": null,
   "metadata": {},
   "outputs": [],
   "source": [
    "transcription = test_texts[10]\n",
    "audio_path = test_audio_paths[10]\n",
    "data_point = featurize(audio_path)\n",
    "print(data_point)\n",
    "model_exp_2.load_weights('./results/model_exp_2.h5')\n",
    "\n",
    "        \n",
    "prediction = model_exp_2.predict(np.expand_dims(data_point,axis=0),)\n",
    "output_length = [model_exp_2.output_length(data_point.shape[0])]\n",
    "pred_ints = (K.eval(K.ctc_decode(\n",
    "                prediction, output_length)[0][0])+1).flatten().tolist()\n",
    "print(prediction.shape)\n",
    "print(prediction)\n",
    "print(output_length)\n",
    "\n",
    "print(pred_ints)\n",
    "pred = ''.join(int_seq_to_text(pred_ints))\n",
    "    # Display ground truth transcription and predicted transcripted.\n",
    "%time\n",
    "print('True transcription:\\n' + '\\n' + transcription)\n",
    "print('Predicted transcription:\\n' + '\\n' + pred)"
   ]
  },
  {
   "cell_type": "markdown",
   "metadata": {},
   "source": [
    "### Performane"
   ]
  },
  {
   "cell_type": "code",
   "execution_count": null,
   "metadata": {},
   "outputs": [],
   "source": [
    "# Error rate\n",
    "error_rate_exp_1 = wer_calc(transcription,pred)\n",
    "print(error_rate_exp_1)\n",
    "accuracy_exp_1 = 100 - error_rate_exp_1\n",
    "print(accuracy_exp_1)"
   ]
  },
  {
   "cell_type": "code",
   "execution_count": null,
   "metadata": {},
   "outputs": [],
   "source": []
  }
 ],
 "metadata": {
  "kernelspec": {
   "display_name": "Python 3",
   "language": "python",
   "name": "python3"
  },
  "language_info": {
   "codemirror_mode": {
    "name": "ipython",
    "version": 3
   },
   "file_extension": ".py",
   "mimetype": "text/x-python",
   "name": "python",
   "nbconvert_exporter": "python",
   "pygments_lexer": "ipython3",
   "version": "3.6.5"
  }
 },
 "nbformat": 4,
 "nbformat_minor": 2
}
